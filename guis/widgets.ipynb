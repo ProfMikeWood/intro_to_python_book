{
 "cells": [
  {
   "cell_type": "markdown",
   "id": "73ef0815",
   "metadata": {},
   "source": [
    "# Widgets"
   ]
  },
  {
   "cell_type": "markdown",
   "id": "9c7c86bd-3fdf-4a44-9a4e-1ca9e83966db",
   "metadata": {},
   "source": [
    "Author: Mike Wood\n",
    "\n",
    "Learning Objectives: By the end of this notebook, you should be able to:\n",
    "1. List common widgets available in Tkinter\n",
    "2. Add widgets to a GUI using the grid framework"
   ]
  },
  {
   "cell_type": "markdown",
   "id": "9178e470-cf3b-408c-b367-c8d9c7162889",
   "metadata": {},
   "source": [
    "## Tkinter Widgets\n",
    "\"Widgets\" are added to a GUI to give it functionality. The `tkinter` package has access to a variety of `Tk` widgets that allow you to build in functionality to your\n",
    "programs. The following table lists many of the common widgets used in GUIs:\n",
    "\n",
    "| Widget | Description |\n",
    "|--------|-------------|\n",
    "| Frame | a “bin” to organize different sections of your application window |\n",
    "| Label | a text or image shown on the screen |\n",
    "| Button | a clickable feature typically designed to call a function |\n",
    "| Combobox | a “dropdown menu” to choose from a list of options |\n",
    "| Entry | a space for the user to type text |\n",
    "| Checkbutton | a stand-alone button that has states for on and off| \n",
    "| MenuButton  | a button associated with a text label with states for on and off | \n",
    "| RadioButton  | similar to a MenuButton but in a slightly different style | \n",
    "| Scale  | a scroll-bar like feature| \n",
    "| Canvas  | a widget to draw graphs and plots | \n",
    "| ListBox | a box showing a list of selectable options | \n",
    "| TreeView | a hierarchical display of items (e.g. files in a file system) | \n",
    "| Progressbar | a bar showing the progress of a (long-running) application |\n",
    "\n",
    "A list of the themed widget is described at https://docs.python.org/3/library/tkinter.ttk.html#widget. "
   ]
  },
  {
   "cell_type": "markdown",
   "id": "e8162303-8d4c-4042-a449-e9f03507336b",
   "metadata": {},
   "source": [
    "## A Widget Example\n",
    "The `widget_display.py` example script provides a showcase of some of the widgets available in tkinter as shown in the following screenshot:"
   ]
  },
  {
   "cell_type": "markdown",
   "id": "9d293185-72f6-4d40-b3a3-c4914c768272",
   "metadata": {},
   "source": [
    "The above widget is generated with the following code:"
   ]
  },
  {
   "cell_type": "markdown",
   "id": "1d47ae07-034e-4af0-a2fe-660631dc29ca",
   "metadata": {},
   "source": [
    "```\n",
    "# this is a GUI to showcase a few of the widgets in tkinter\n",
    "\n",
    "# import tkinter\n",
    "from tkinter import *\n",
    "from tkinter import ttk\n",
    "\n",
    "# define a class called WidgetDisplay\n",
    "class WidgetDisplay:\n",
    "\n",
    "    # define an __init__ method with root as an argument\n",
    "    def __init__(self, root):\n",
    "\n",
    "        # add a title for the GUI\n",
    "        root.title(\"Widget Showcase\")\n",
    "\n",
    "        # add a frame to the GUI\n",
    "        first_frame = ttk.Frame(root)\n",
    "        first_frame.grid(column=0, row=0)\n",
    "\n",
    "        # add a label to the first frame and add it to the GUI\n",
    "        label = ttk.Label(first_frame, text=\"Choose an option\")\n",
    "        label.grid(column=0, row=0)\n",
    "\n",
    "        # add a ComboBox to the first frame and add it to the GUI\n",
    "        label = ttk.Combobox(first_frame, values=['Option 1','Option 2','Option 3'])\n",
    "        label.grid(column=0, row=1)\n",
    "\n",
    "        # add a second frame to the GUI\n",
    "        second_frame = ttk.Frame(root)\n",
    "        second_frame.grid(column=1, row=0)\n",
    "\n",
    "        # add a label to the second frame and add it to the GUI\n",
    "        label = ttk.Label(second_frame, text=\"Enter your name\")\n",
    "        label.grid(column=0, row=0)\n",
    "\n",
    "        # add an Entry to the second frame and add it to the GUI\n",
    "        label = ttk.Entry(second_frame)\n",
    "        label.grid(column=0, row=1)\n",
    "\n",
    "        # add a Button to the second frame and add it to the GUI\n",
    "        label = ttk.Button(second_frame, text=\"Enter\")\n",
    "        label.grid(column=0, row=2)\n",
    "        \n",
    "\n",
    "# create a root Tk object\n",
    "root = Tk()\n",
    "\n",
    "# create a WidgetDisplay object with the Tk root object as an argument\n",
    "WidgetDisplay(root)\n",
    "\n",
    "# call the mainloop method on the Tk root object\n",
    "root.mainloop()\n",
    "```"
   ]
  },
  {
   "cell_type": "raw",
   "id": "2e30fcb4-fb14-442a-9b5c-3ed027b62d25",
   "metadata": {},
   "source": [
    "<img src=\"../images/widget_display.png\" alt=\"Screenshot of a GUI with example widgets\" width=\"200\"/>"
   ]
  },
  {
   "cell_type": "markdown",
   "id": "4a3025d1-f477-454d-9275-1b5b892c8574",
   "metadata": {},
   "source": [
    "```{image} ../images/widget_display.png\n",
    ":alt: Screenshot of a GUI with example widgets\n",
    ":align: center\n",
    "```"
   ]
  },
  {
   "cell_type": "markdown",
   "id": "423b731f-916f-4989-aef8-7323277b4290",
   "metadata": {},
   "source": [
    "## Placing Widgets in the GUI"
   ]
  },
  {
   "cell_type": "markdown",
   "id": "50d4dd91-673d-46e8-abff-b0162cd29627",
   "metadata": {},
   "source": [
    "As you may have seen in the previous examples, the window will shrink to the size of the widgets. By default, the widgets will be “packed” into the upper left of the window and remain there, even if the window is resized. To control the sizes and placements of widgets when the window is resized, the collection of commands including the “stickiness” of the widgets needs to be defined."
   ]
  },
  {
   "cell_type": "raw",
   "id": "746e1dc5-c2af-4bb0-bb3f-69928da1b83f",
   "metadata": {},
   "source": [
    "<img src=\"../images/sticky_widgets.png\" alt=\"Screenshot of a GUI with example widgets\" width=\"200\"/>"
   ]
  },
  {
   "cell_type": "markdown",
   "id": "8640463d-cb4b-49c3-a006-28105816ac88",
   "metadata": {},
   "source": [
    "```{image} ../images/sticky_widgets.png\n",
    ":alt: Screenshot of a GUI with example widgets\n",
    ":align: center\n",
    "```"
   ]
  },
  {
   "cell_type": "raw",
   "id": "2262e23c-bb45-4d0e-8e5f-4f2221c22394",
   "metadata": {},
   "source": [
    "<img src=\"../images/sticky_widgets_resized.png\" alt=\"Screenshot of a GUI with example widgets\" width=\"431\"/>"
   ]
  },
  {
   "cell_type": "markdown",
   "id": "7ff7700a-d03e-44d8-aef1-7ee5870d9c4c",
   "metadata": {},
   "source": [
    "```{image} ../images/sticky_widgets_resized.png\n",
    ":alt: Screenshot of a GUI with example widgets\n",
    ":align: center\n",
    "```"
   ]
  },
  {
   "cell_type": "markdown",
   "id": "36f2bd17-8316-4fa5-bb41-59646df6e78c",
   "metadata": {},
   "source": [
    "```\n",
    "# this is a GUI to test widget \"stickiness\"\n",
    "\n",
    "# import the tkinter module\n",
    "from tkinter import *\n",
    "from tkinter import ttk\n",
    "\n",
    "# create a StickyWidgets class\n",
    "class StickyWidgets:\n",
    "\n",
    "    # define the init function\n",
    "    def __init__(self, root):\n",
    "\n",
    "        # add a title to the GUI\n",
    "        root.title(\"Sticky Widgets\")\n",
    "\n",
    "        # change the style of the root to one of the following:\n",
    "        #   all platforms: alt, clam, classic, default\n",
    "        #   Windows: vista, winnative, xpnative\n",
    "        #   Mac: aqua\n",
    "        style = ttk.Style(root)\n",
    "        style.theme_use('clam')\n",
    "\n",
    "        # configure the root so that it stretches in all directions\n",
    "        root.columnconfigure(0, weight=1)\n",
    "        root.rowconfigure(0, weight=1)\n",
    "\n",
    "        # add a main frame and add it to the window\n",
    "        # add padding on the main frame\n",
    "        # make the mainframe sticky in all directions\n",
    "        # and add it to row 1 and column 2 of the main frame\n",
    "        mainframe = ttk.Frame(root, padding = \"3 3 12 12\")\n",
    "        mainframe.grid(column=0, row=0, sticky=(N, W, E, S))\n",
    "\n",
    "        # configure the mainframe so that it stretches in all directions\n",
    "        # for rows 0-3 and columns 0-3\n",
    "        for i in range(4):\n",
    "            mainframe.columnconfigure(i, weight=1)\n",
    "            mainframe.rowconfigure(i, weight=1)\n",
    "\n",
    "        # make an entry widget which is sticky in the W/E directions\n",
    "        feet_entry = ttk.Entry(mainframe)\n",
    "        feet_entry.grid(column=0, row=0, sticky = \"we\",columnspan=4)\n",
    "\n",
    "        # make labels widgets which are sticky in the W direction\n",
    "        ttk.Label(mainframe, text='Label 1').grid(column=0, row=1, sticky=W)\n",
    "        ttk.Label(mainframe,text=\"Label 2\").grid(column=0, row=1, sticky=W)\n",
    "\n",
    "        # make labels widgets which are sticky in the E direction\n",
    "        ttk.Label(mainframe, text=\"Label 3\").grid(column=1, row=2, sticky=E)\n",
    "        ttk.Label(mainframe, text=\"Label 4\").grid(column=3, row=2, sticky=E)\n",
    "\n",
    "        # make a Button widget which is sticky in the S directions\n",
    "        # and centered in row 3\n",
    "        ttk.Button(mainframe, text=\"Button\").grid(column=0, row=3, sticky=S, columnspan=4)\n",
    "\n",
    "        # pad each of the widgets with a pixel size of 5 in both\n",
    "        # the x and the y directions\n",
    "        for child in mainframe.winfo_children():\n",
    "            child.grid_configure(padx=5, pady=5)\n",
    "\n",
    "# create a root Tk object\n",
    "root = Tk()\n",
    "\n",
    "# create a StickyWidgets object with the Tk root object as an argument\n",
    "StickyWidgets(root)\n",
    "\n",
    "# call the mainloop method on the Tk root object\n",
    "root.mainloop()\n",
    "```"
   ]
  },
  {
   "cell_type": "code",
   "execution_count": null,
   "id": "28cf0cd9-8a26-41dd-8f14-e765546d18d2",
   "metadata": {},
   "outputs": [],
   "source": []
  }
 ],
 "metadata": {
  "kernelspec": {
   "display_name": "teaching",
   "language": "python",
   "name": "teaching"
  },
  "language_info": {
   "codemirror_mode": {
    "name": "ipython",
    "version": 3
   },
   "file_extension": ".py",
   "mimetype": "text/x-python",
   "name": "python",
   "nbconvert_exporter": "python",
   "pygments_lexer": "ipython3",
   "version": "3.11.3"
  }
 },
 "nbformat": 4,
 "nbformat_minor": 5
}
