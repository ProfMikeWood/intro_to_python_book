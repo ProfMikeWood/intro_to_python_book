{
 "cells": [
  {
   "cell_type": "markdown",
   "id": "49e61e1c",
   "metadata": {},
   "source": [
    "# Loops"
   ]
  },
  {
   "cell_type": "markdown",
   "id": "0c3a7daa-0a0a-481c-974f-6acd970606db",
   "metadata": {},
   "source": [
    "Author: Mike Wood\n",
    "\n",
    "Learning objectives: By the end of this notebook, you should be able to:\n",
    "1. Utilize a `for` loop to iterate through a series of objects\n",
    "2. Implement a `while` loop to continue excuting code as long as a condition is met"
   ]
  },
  {
   "cell_type": "markdown",
   "id": "b55f32f1-1522-4466-8c09-c7ddeb3235fe",
   "metadata": {},
   "source": [
    "## For Loops\n",
    "A `for` loop is a convienent piece of code that allows us to run a particular code block on a series of objects. Python provides several ways that `for` loops can be implemented. For example, a `for` loop can be used to iterate over a list:"
   ]
  },
  {
   "cell_type": "code",
   "execution_count": 1,
   "id": "75e3b4b9-5e05-4be6-86da-52d77b1a8e92",
   "metadata": {},
   "outputs": [
    {
     "name": "stdout",
     "output_type": "stream",
     "text": [
      "A\n",
      "B\n",
      "C\n",
      "D\n",
      "E\n"
     ]
    }
   ],
   "source": [
    "# print the letters from the list\n",
    "letters = ['A','B','C','D','E']\n",
    "for letter in letters:\n",
    "    print(letter)"
   ]
  },
  {
   "cell_type": "markdown",
   "id": "eef490e4-1dea-4674-866c-8d280b9e0d19",
   "metadata": {},
   "source": [
    "A `for` loop can also iterate over a range of numbers"
   ]
  },
  {
   "cell_type": "code",
   "execution_count": 2,
   "id": "1478e29b-d8b5-4305-b507-efa6fc382a01",
   "metadata": {},
   "outputs": [
    {
     "name": "stdout",
     "output_type": "stream",
     "text": [
      "0\n",
      "1\n",
      "2\n",
      "3\n",
      "4\n",
      "5\n",
      "6\n",
      "7\n",
      "8\n",
      "9\n"
     ]
    }
   ],
   "source": [
    "# print all numbers up to 10\n",
    "for number in range(10):\n",
    "    print(number)"
   ]
  },
  {
   "cell_type": "markdown",
   "id": "da0349f8-2252-4645-8ee2-4f452a95386d",
   "metadata": {},
   "source": [
    "In addition, `for` loops can be combined with `if` statements to achieve the power of both types of code blocks. To implement an `if` statement inside a `for` loop, provide another layer of indentation:"
   ]
  },
  {
   "cell_type": "code",
   "execution_count": 3,
   "id": "3a007eaf-3687-4214-bc72-6686cb4e057b",
   "metadata": {},
   "outputs": [
    {
     "name": "stdout",
     "output_type": "stream",
     "text": [
      "0\n",
      "2\n",
      "4\n",
      "6\n",
      "8\n"
     ]
    }
   ],
   "source": [
    "# print all of the even numbers up to 10\n",
    "for number in range(10):\n",
    "    if number%2 == 0:\n",
    "        print(number)"
   ]
  },
  {
   "cell_type": "markdown",
   "id": "aba9ba5f",
   "metadata": {},
   "source": [
    "### &#x1F914; Mini-Exercise\n",
    "Goal: Make a list all prime numbers between 2 and 100. A prime number is one which is not divisible by any other number. For example, 5 is prime because all numbers lower than 5 (not including 1) have a non-zero remainder:"
   ]
  },
  {
   "cell_type": "code",
   "execution_count": 4,
   "id": "bc89c26e-5ebf-46f1-956d-051883e43c27",
   "metadata": {},
   "outputs": [
    {
     "name": "stdout",
     "output_type": "stream",
     "text": [
      "1\n",
      "2\n",
      "1\n"
     ]
    }
   ],
   "source": [
    "print(5%4)\n",
    "print(5%3)\n",
    "print(5%2)"
   ]
  },
  {
   "cell_type": "markdown",
   "id": "b59602bb-9c8b-4d26-a8ea-8feec16645ab",
   "metadata": {},
   "source": [
    "On the other hand, 6 is not prime because it has a zero-divisor:"
   ]
  },
  {
   "cell_type": "code",
   "execution_count": 5,
   "id": "0ec03801-4428-4797-a132-f122afdda6cf",
   "metadata": {},
   "outputs": [
    {
     "name": "stdout",
     "output_type": "stream",
     "text": [
      "1\n",
      "2\n",
      "0\n",
      "0\n"
     ]
    }
   ],
   "source": [
    "print(6%5)\n",
    "print(6%4)\n",
    "print(6%3)\n",
    "print(6%2)"
   ]
  },
  {
   "cell_type": "markdown",
   "id": "fa93b81d-be16-405d-a972-983c6e86b8ad",
   "metadata": {},
   "source": [
    "For this exercise, use `for` loops and `if` statements to test whether each number between 2 and 100 is prime. If it's prime, then add it to a list called `prime_numbers`. At the end of your code, print out the list."
   ]
  },
  {
   "cell_type": "markdown",
   "id": "24a91b8e",
   "metadata": {},
   "source": [
    "#### &#x1F4A1; Solution"
   ]
  },
  {
   "cell_type": "code",
   "execution_count": 6,
   "id": "c7cdae49-11f4-4dbd-8ce5-ae7c15d365a9",
   "metadata": {},
   "outputs": [
    {
     "name": "stdout",
     "output_type": "stream",
     "text": [
      "[2, 3, 5, 7, 11, 13, 17, 19, 23, 29, 31, 37, 41, 43, 47, 53, 59, 61, 67, 71, 73, 79, 83, 89, 97]\n"
     ]
    }
   ],
   "source": [
    "# write code to make a list of prime numbers between 2 and 100\n",
    "prime_numbers = []\n",
    "\n",
    "# loop through all the numbers\n",
    "for number in range(2,101):\n",
    "    \n",
    "    # assume the number is prime until we have evidence otherwise\n",
    "    number_is_prime = True\n",
    "    \n",
    "    # check each divisor up to the number\n",
    "    for divisor in range(2,number):\n",
    "        \n",
    "        # if the number is divisble by the divisor,\n",
    "        # then the number is not prime\n",
    "        if number%divisor==0:\n",
    "            number_is_prime = False\n",
    "    \n",
    "    # if the number is prime, then add it to the list\n",
    "    if number_is_prime:\n",
    "        prime_numbers.append(number)\n",
    "\n",
    "#print out the numbers\n",
    "print(prime_numbers)"
   ]
  },
  {
   "cell_type": "markdown",
   "id": "7f966cba",
   "metadata": {},
   "source": [
    "## While Loops\n",
    "\n",
    "While loops in Python are the same as in other languages -- the loop will continue to run until a particular condition is met. The condition must be a Boolean expression that returns either `True` or `False`.\n",
    "\n",
    "### Boolean Operators\n",
    "\n",
    "The following table lists a common set of Boolean operators that yeild `True` or `False` conditions.\n",
    "\n",
    "| operator | symbol |\n",
    "| -------- | ------ |\n",
    "| less than | `<`   |\n",
    "| less than or equal | `<=`   |\n",
    "| is equal | `==`   |\n",
    "| greater than or equal | `>=`   |\n",
    "| greater than | `>`   |\n",
    "| not equal | `!=` |"
   ]
  },
  {
   "cell_type": "code",
   "execution_count": 7,
   "id": "e0dad444-7483-4239-9f4e-97210ae55f52",
   "metadata": {},
   "outputs": [
    {
     "name": "stdout",
     "output_type": "stream",
     "text": [
      "5\n",
      "6\n",
      "7\n",
      "8\n",
      "9\n",
      "10\n",
      "11\n",
      "12\n",
      "13\n",
      "14\n",
      "15\n",
      "16\n",
      "17\n",
      "18\n",
      "19\n",
      "20\n"
     ]
    }
   ],
   "source": [
    "# write a while loop to print all numbers between 5 and 20 (inclusive)\n",
    "number = 5\n",
    "while number<=20:\n",
    "    print(number)\n",
    "    number += 1"
   ]
  },
  {
   "cell_type": "markdown",
   "id": "b8fd00cc-8e66-4093-b892-bbfba49c3475",
   "metadata": {},
   "source": [
    "### Combining Boolean Operators\n",
    "In Python, combining boolean operators is simple -- just use the key words `or` or `and`!"
   ]
  },
  {
   "cell_type": "code",
   "execution_count": 8,
   "id": "a5f96010-5bb4-4c04-b81e-5a29755de6d6",
   "metadata": {},
   "outputs": [
    {
     "name": "stdout",
     "output_type": "stream",
     "text": [
      "5\n",
      "6\n",
      "7\n",
      "8\n",
      "9\n"
     ]
    }
   ],
   "source": [
    "# write a loop to print numbers between 5 and 20, but don't print more than 5 values\n",
    "number = 5\n",
    "count = 0\n",
    "while number<=20 and count<5:\n",
    "    print(number)\n",
    "    number += 1\n",
    "    count += 1"
   ]
  },
  {
   "cell_type": "markdown",
   "id": "6485af7f-cae6-4ba2-a4ee-83f83d759f20",
   "metadata": {},
   "source": [
    "### &#x2757; Infinite Loops\n",
    "When using a `while` loop, it is incredibly easy to write an infinite loop. It's always a good idea to know how to escape an infinite loop. When running from the command line, you can use the standard `CTRL-C` to stop code that is running. In a Jupyter Notebook, use the Stop button."
   ]
  },
  {
   "cell_type": "code",
   "execution_count": 9,
   "id": "f50f7518-bf38-46c1-b35d-041f62ec13c2",
   "metadata": {
    "scrolled": true
   },
   "outputs": [],
   "source": [
    "# this is an infinite loop\n",
    "# uncomment to test out this code\n",
    "# run it and practice killing it so you known how to stop an infinite loop\n",
    "# i=0\n",
    "# j=0\n",
    "# while i==0:\n",
    "#     j+=1"
   ]
  }
 ],
 "metadata": {
  "kernelspec": {
   "display_name": "teaching",
   "language": "python",
   "name": "teaching"
  },
  "language_info": {
   "codemirror_mode": {
    "name": "ipython",
    "version": 3
   },
   "file_extension": ".py",
   "mimetype": "text/x-python",
   "name": "python",
   "nbconvert_exporter": "python",
   "pygments_lexer": "ipython3",
   "version": "3.11.3"
  }
 },
 "nbformat": 4,
 "nbformat_minor": 5
}
