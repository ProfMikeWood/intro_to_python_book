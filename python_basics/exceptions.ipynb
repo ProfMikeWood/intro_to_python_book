{
 "cells": [
  {
   "cell_type": "markdown",
   "id": "49e61e1c",
   "metadata": {},
   "source": [
    "# Exceptions"
   ]
  },
  {
   "cell_type": "markdown",
   "id": "0c3a7daa-0a0a-481c-974f-6acd970606db",
   "metadata": {},
   "source": [
    "Learning Objectives: By the end of this notebook, you should be able to:\n",
    "1. Explain how to diagnose the source of an Exception through a Traceback\n",
    "2. Use the try and except clause to handle Exceptions in your code\n",
    "3. Raise Exceptions and define custom Exceptions"
   ]
  },
  {
   "cell_type": "markdown",
   "id": "0d4b0f71",
   "metadata": {},
   "source": [
    "## Diagnosing Exceptions"
   ]
  },
  {
   "cell_type": "markdown",
   "id": "acf1e5a8",
   "metadata": {},
   "source": [
    "In Python, \"errors\" are referred to as \"Exceptions\". You can design your code to handle Exceptions that you may expect to occur when your code is written.\n",
    "\n",
    "The most common exception is the `SyntaxError`:"
   ]
  },
  {
   "cell_type": "code",
   "execution_count": 1,
   "id": "792f93bd-72e6-43bf-bdb0-47005ba271a7",
   "metadata": {},
   "outputs": [
    {
     "ename": "SyntaxError",
     "evalue": "incomplete input (2574576971.py, line 2)",
     "output_type": "error",
     "traceback": [
      "\u001b[0;36m  Cell \u001b[0;32mIn[1], line 2\u001b[0;36m\u001b[0m\n\u001b[0;31m    print('There is a problem'\u001b[0m\n\u001b[0m                              ^\u001b[0m\n\u001b[0;31mSyntaxError\u001b[0m\u001b[0;31m:\u001b[0m incomplete input\n"
     ]
    }
   ],
   "source": [
    "# try a print statment without close a set of parentheses\n",
    "print('There is a problem'"
   ]
  },
  {
   "cell_type": "markdown",
   "id": "d5c5b153-5e84-41d0-bb73-30585932e2bf",
   "metadata": {},
   "source": [
    "As you can see, the Exception message will print the type of error that has occurred. \n",
    "\n",
    "Other common errors include the `TypeError`:"
   ]
  },
  {
   "cell_type": "code",
   "execution_count": 2,
   "id": "de65933b-3c83-46c0-9c40-6746f3c2d7d1",
   "metadata": {},
   "outputs": [
    {
     "ename": "TypeError",
     "evalue": "can only concatenate str (not \"int\") to str",
     "output_type": "error",
     "traceback": [
      "\u001b[0;31m---------------------------------------------------------------------------\u001b[0m",
      "\u001b[0;31mTypeError\u001b[0m                                 Traceback (most recent call last)",
      "Cell \u001b[0;32mIn[2], line 2\u001b[0m\n\u001b[1;32m      1\u001b[0m \u001b[38;5;66;03m# try to print a statement that concatenates a string and an integer\u001b[39;00m\n\u001b[0;32m----> 2\u001b[0m \u001b[38;5;28mprint\u001b[39m(\u001b[38;5;124;43m'\u001b[39;49m\u001b[38;5;124;43mMy favorite number is \u001b[39;49m\u001b[38;5;124;43m'\u001b[39;49m\u001b[38;5;241;43m+\u001b[39;49m\u001b[38;5;241;43m17\u001b[39;49m)\n",
      "\u001b[0;31mTypeError\u001b[0m: can only concatenate str (not \"int\") to str"
     ]
    }
   ],
   "source": [
    "# try to print a statement that concatenates a string and an integer\n",
    "print('My favorite number is '+17)"
   ]
  },
  {
   "cell_type": "markdown",
   "id": "5948509b-bca7-4c07-8887-b3e15b727b54",
   "metadata": {},
   "source": [
    "And the `NameError`:"
   ]
  },
  {
   "cell_type": "code",
   "execution_count": 3,
   "id": "04f79558-ad70-4d41-ba12-83b04e0c3c04",
   "metadata": {},
   "outputs": [
    {
     "ename": "NameError",
     "evalue": "name 'hello' is not defined",
     "output_type": "error",
     "traceback": [
      "\u001b[0;31m---------------------------------------------------------------------------\u001b[0m",
      "\u001b[0;31mNameError\u001b[0m                                 Traceback (most recent call last)",
      "Cell \u001b[0;32mIn[3], line 2\u001b[0m\n\u001b[1;32m      1\u001b[0m \u001b[38;5;66;03m# try to print the variable hello\u001b[39;00m\n\u001b[0;32m----> 2\u001b[0m \u001b[38;5;28mprint\u001b[39m(\u001b[43mhello\u001b[49m)\n",
      "\u001b[0;31mNameError\u001b[0m: name 'hello' is not defined"
     ]
    }
   ],
   "source": [
    "# try to print the variable hello\n",
    "print(hello)"
   ]
  },
  {
   "cell_type": "markdown",
   "id": "fccb5054-e9e5-455d-83ae-0adf2d8ddd34",
   "metadata": {},
   "source": [
    "And the `AttributeError`:"
   ]
  },
  {
   "cell_type": "code",
   "execution_count": 4,
   "id": "6aa368c1-f34f-43cd-a28e-8d69d0f1ce50",
   "metadata": {},
   "outputs": [
    {
     "ename": "AttributeError",
     "evalue": "'list' object has no attribute 'add'",
     "output_type": "error",
     "traceback": [
      "\u001b[0;31m---------------------------------------------------------------------------\u001b[0m",
      "\u001b[0;31mAttributeError\u001b[0m                            Traceback (most recent call last)",
      "Cell \u001b[0;32mIn[4], line 5\u001b[0m\n\u001b[1;32m      2\u001b[0m my_list \u001b[38;5;241m=\u001b[39m [\u001b[38;5;241m1\u001b[39m,\u001b[38;5;241m2\u001b[39m,\u001b[38;5;241m3\u001b[39m]\n\u001b[1;32m      4\u001b[0m \u001b[38;5;66;03m# try to add a number to the list using a method called add\u001b[39;00m\n\u001b[0;32m----> 5\u001b[0m \u001b[43mmy_list\u001b[49m\u001b[38;5;241;43m.\u001b[39;49m\u001b[43madd\u001b[49m(\u001b[38;5;241m4\u001b[39m)\n",
      "\u001b[0;31mAttributeError\u001b[0m: 'list' object has no attribute 'add'"
     ]
    }
   ],
   "source": [
    "# define a list\n",
    "my_list = [1,2,3]\n",
    "\n",
    "# try to add a number to the list using a method called add\n",
    "my_list.add(4)"
   ]
  },
  {
   "cell_type": "markdown",
   "id": "264b2bb4-174b-424a-8ab8-3a70f033bff9",
   "metadata": {},
   "source": [
    "In each of the above examples, the error report provides a `Traceback` that allows you to find where in your code your error has occurred. When using a single cell or block of code, the `Traceback` is usually not very interesting - you can see where the error occurred. However, what if you have functions that rely on other functions?"
   ]
  },
  {
   "cell_type": "code",
   "execution_count": 5,
   "id": "0eea05c7-1003-45b9-a73c-a80617a7378d",
   "metadata": {},
   "outputs": [
    {
     "ename": "ZeroDivisionError",
     "evalue": "division by zero",
     "output_type": "error",
     "traceback": [
      "\u001b[0;31m---------------------------------------------------------------------------\u001b[0m",
      "\u001b[0;31mZeroDivisionError\u001b[0m                         Traceback (most recent call last)",
      "Cell \u001b[0;32mIn[5], line 25\u001b[0m\n\u001b[1;32m     23\u001b[0m ds_2 \u001b[38;5;241m=\u001b[39m [\u001b[38;5;241m1\u001b[39m,\u001b[38;5;241m2\u001b[39m,\u001b[38;5;241m3\u001b[39m]\n\u001b[1;32m     24\u001b[0m rs_2 \u001b[38;5;241m=\u001b[39m [\u001b[38;5;241m4\u001b[39m,\u001b[38;5;241m5\u001b[39m,\u001b[38;5;241m0\u001b[39m]\n\u001b[0;32m---> 25\u001b[0m \u001b[43mtravel_times\u001b[49m\u001b[43m(\u001b[49m\u001b[43mds_2\u001b[49m\u001b[43m,\u001b[49m\u001b[43m \u001b[49m\u001b[43mrs_2\u001b[49m\u001b[43m)\u001b[49m\n",
      "Cell \u001b[0;32mIn[5], line 14\u001b[0m, in \u001b[0;36mtravel_times\u001b[0;34m(ds, rs)\u001b[0m\n\u001b[1;32m     12\u001b[0m times \u001b[38;5;241m=\u001b[39m []\n\u001b[1;32m     13\u001b[0m \u001b[38;5;28;01mfor\u001b[39;00m d, r \u001b[38;5;129;01min\u001b[39;00m \u001b[38;5;28mzip\u001b[39m(ds,rs):\n\u001b[0;32m---> 14\u001b[0m     times\u001b[38;5;241m.\u001b[39mappend(\u001b[43mtravel_time\u001b[49m\u001b[43m(\u001b[49m\u001b[43md\u001b[49m\u001b[43m,\u001b[49m\u001b[43mr\u001b[49m\u001b[43m)\u001b[49m)\n\u001b[1;32m     15\u001b[0m \u001b[38;5;28;01mreturn\u001b[39;00m(times)\n",
      "Cell \u001b[0;32mIn[5], line 4\u001b[0m, in \u001b[0;36mtravel_time\u001b[0;34m(d, r)\u001b[0m\n\u001b[1;32m      3\u001b[0m \u001b[38;5;28;01mdef\u001b[39;00m \u001b[38;5;21mtravel_time\u001b[39m(d, r):\n\u001b[0;32m----> 4\u001b[0m     time \u001b[38;5;241m=\u001b[39m \u001b[43md\u001b[49m\u001b[38;5;241;43m/\u001b[39;49m\u001b[43mr\u001b[49m\n\u001b[1;32m      5\u001b[0m     \u001b[38;5;28;01mreturn\u001b[39;00m(time)\n",
      "\u001b[0;31mZeroDivisionError\u001b[0m: division by zero"
     ]
    }
   ],
   "source": [
    "# define a function called travel time that calculates the time\n",
    "# it takes to travel a distance d when traveling at a rate r\n",
    "def travel_time(d, r):\n",
    "    time = d/r\n",
    "    return(time)\n",
    "\n",
    "# define a function called travel_times that will compute the\n",
    "# travel times given a list of distances ds and a list of\n",
    "# rates rs. Use the travel_time function above to compute\n",
    "# each individual time as you loop through ds and rs\n",
    "def travel_times(ds, rs):\n",
    "    times = []\n",
    "    for d, r in zip(ds,rs):\n",
    "        times.append(travel_time(d,r))\n",
    "    return(times)\n",
    "\n",
    "# test 1 - should not generate an Exception\n",
    "ds_1 = [1,2,3]\n",
    "rs_1 = [4,5,6]\n",
    "travel_times(ds_1, rs_1)\n",
    "\n",
    "# test 2 - should generate an Exception\n",
    "ds_2 = [1,2,3]\n",
    "rs_2 = [4,5,0]\n",
    "travel_times(ds_2, rs_2)"
   ]
  },
  {
   "cell_type": "markdown",
   "id": "315a1ffc-b7e2-4bc7-9425-0011fd867abc",
   "metadata": {},
   "source": [
    "In the above codeblock, we see lots of details about the error in our code that allows us to find where and why our error occurred. The lowest message on the list described the actual part of the code that generated our error - in this case, we find an error in the `d/r` statement because one of our `r` values was set to 0.\n",
    "\n",
    "However, we also get a lot more information. Reading from the top down, we can *traceback* the series of functions and commands that led to the Exception. We get information that our error originated with our second call to the `travel_times` function. Then inside `travel_times`, we see that we received an error from the `travel_time` function. And finally, we have an error in the statement `d/r` - and that error is the `ZeroDivisionError`, telling us we tried to divide something by 0.\n",
    "\n",
    "Using this series of tracebacks, Python allows us to work sequentially through a series of functions to determine where our error may have occurred."
   ]
  },
  {
   "cell_type": "markdown",
   "id": "de66a7c7-974b-4d79-875c-d5225dae0a71",
   "metadata": {},
   "source": [
    "### &#x1F914; Mini-Exercise\n",
    "Goal: Import the `matrix_multiplication` module and diagnose where the error occurs when running the code block below.\n",
    "\n",
    "One of the cornerstones of linear algebra is matrix multipliation. Test out the following code and then answer the questions following the code block for the second test."
   ]
  },
  {
   "cell_type": "code",
   "execution_count": 6,
   "id": "3f1a2140-6296-4403-8b96-af7f9748f7b6",
   "metadata": {},
   "outputs": [
    {
     "name": "stdout",
     "output_type": "stream",
     "text": [
      "Test 1 results: AB =  [[1, 2], [3, 4]]\n"
     ]
    },
    {
     "ename": "IndexError",
     "evalue": "list index out of range",
     "output_type": "error",
     "traceback": [
      "\u001b[0;31m---------------------------------------------------------------------------\u001b[0m",
      "\u001b[0;31mIndexError\u001b[0m                                Traceback (most recent call last)",
      "Cell \u001b[0;32mIn[6], line 13\u001b[0m\n\u001b[1;32m     11\u001b[0m A \u001b[38;5;241m=\u001b[39m [[\u001b[38;5;241m1\u001b[39m, \u001b[38;5;241m2\u001b[39m, \u001b[38;5;241m3\u001b[39m], [\u001b[38;5;241m4\u001b[39m, \u001b[38;5;241m5\u001b[39m, \u001b[38;5;241m6\u001b[39m]]\n\u001b[1;32m     12\u001b[0m B \u001b[38;5;241m=\u001b[39m [[\u001b[38;5;241m1\u001b[39m, \u001b[38;5;241m0\u001b[39m], [\u001b[38;5;241m0\u001b[39m, \u001b[38;5;241m1\u001b[39m]]\n\u001b[0;32m---> 13\u001b[0m AB \u001b[38;5;241m=\u001b[39m \u001b[43mmm\u001b[49m\u001b[38;5;241;43m.\u001b[39;49m\u001b[43mmatrix_multiplication_2d\u001b[49m\u001b[43m(\u001b[49m\u001b[43mA\u001b[49m\u001b[43m,\u001b[49m\u001b[43m \u001b[49m\u001b[43mB\u001b[49m\u001b[43m)\u001b[49m\n\u001b[1;32m     14\u001b[0m \u001b[38;5;28mprint\u001b[39m(\u001b[38;5;124m'\u001b[39m\u001b[38;5;124mTest 2 results: AB = \u001b[39m\u001b[38;5;124m'\u001b[39m,AB)\n",
      "File \u001b[0;32m~/Documents/Teaching/Github/intro_to_python_book/python_basics/matrix_multiplication.py:27\u001b[0m, in \u001b[0;36mmatrix_multiplication_2d\u001b[0;34m(A, B)\u001b[0m\n\u001b[1;32m     25\u001b[0m \u001b[38;5;66;03m# define the result matrix\u001b[39;00m\n\u001b[1;32m     26\u001b[0m AB \u001b[38;5;241m=\u001b[39m [[], []]\n\u001b[0;32m---> 27\u001b[0m AB[\u001b[38;5;241m0\u001b[39m]\u001b[38;5;241m.\u001b[39mappend(\u001b[43mdot_product\u001b[49m\u001b[43m(\u001b[49m\u001b[43mrow_A1\u001b[49m\u001b[43m,\u001b[49m\u001b[43m \u001b[49m\u001b[43mcol_B1\u001b[49m\u001b[43m)\u001b[49m)\n\u001b[1;32m     28\u001b[0m AB[\u001b[38;5;241m0\u001b[39m]\u001b[38;5;241m.\u001b[39mappend(dot_product(row_A1, col_B2))\n\u001b[1;32m     29\u001b[0m AB[\u001b[38;5;241m1\u001b[39m]\u001b[38;5;241m.\u001b[39mappend(dot_product(row_A2, col_B1))\n",
      "File \u001b[0;32m~/Documents/Teaching/Github/intro_to_python_book/python_basics/matrix_multiplication.py:5\u001b[0m, in \u001b[0;36mdot_product\u001b[0;34m(row, col)\u001b[0m\n\u001b[1;32m      3\u001b[0m dot_sum \u001b[38;5;241m=\u001b[39m \u001b[38;5;241m0\u001b[39m\n\u001b[1;32m      4\u001b[0m \u001b[38;5;28;01mfor\u001b[39;00m r \u001b[38;5;129;01min\u001b[39;00m \u001b[38;5;28mrange\u001b[39m(\u001b[38;5;28mlen\u001b[39m(row)):\n\u001b[0;32m----> 5\u001b[0m     dot_sum \u001b[38;5;241m+\u001b[39m\u001b[38;5;241m=\u001b[39m row[r]\u001b[38;5;241m*\u001b[39m\u001b[43mcol\u001b[49m\u001b[43m[\u001b[49m\u001b[43mr\u001b[49m\u001b[43m]\u001b[49m\n\u001b[1;32m      6\u001b[0m \u001b[38;5;28;01mreturn\u001b[39;00m(dot_sum)\n",
      "\u001b[0;31mIndexError\u001b[0m: list index out of range"
     ]
    }
   ],
   "source": [
    "# import the matrix_multiplication module\n",
    "import matrix_multiplication as mm\n",
    "\n",
    "# test 1\n",
    "A = [[1, 2], [3, 4]]\n",
    "B = [[1, 0], [0, 1]]\n",
    "AB = mm.matrix_multiplication_2d(A, B)\n",
    "print('Test 1 results: AB = ',AB)\n",
    "\n",
    "# # test 2\n",
    "A = [[1, 2, 3], [4, 5, 6]]\n",
    "B = [[1, 0], [0, 1]]\n",
    "AB = mm.matrix_multiplication_2d(A, B)\n",
    "print('Test 2 results: AB = ',AB)"
   ]
  },
  {
   "cell_type": "markdown",
   "id": "6544e3a4",
   "metadata": {},
   "source": [
    "#### Questions for test 2:\n",
    "1. What kind of exception occurs?\n",
    "2. Where does the exception occur?\n",
    "3. What leads to this exception?"
   ]
  },
  {
   "cell_type": "markdown",
   "id": "d3c725da",
   "metadata": {},
   "source": [
    "#### &#x1F4A1; Solution"
   ]
  },
  {
   "cell_type": "markdown",
   "id": "72422eca",
   "metadata": {},
   "source": [
    "```{toggle} Click to reveal solution\n",
    "1. An `IndexError` exception occurs.\n",
    "2. The exception occurs in the `dot_product` function.\n",
    "3. The `dot_product` function assumes that the given `row` and `col` arguments have the same length. Since the matrix `A` has more columns that the rows of `B` (which were passed to the `matrix_multiplication_2d` function), this leads to an `IndexError`. \n",
    "```"
   ]
  },
  {
   "cell_type": "markdown",
   "id": "600fe472-e0ae-402c-89a7-9391553192de",
   "metadata": {},
   "source": [
    "## The `try` and `except` clause\n",
    "In many cases, we might expect that there will be some errors that arise in our code. Suppose, for example, we have a set of 5 files that we would like to access information from. We could write a loop to access all of these files as follows:"
   ]
  },
  {
   "cell_type": "code",
   "execution_count": 7,
   "id": "307477a8-cbbc-40c9-9641-bae3d3387d30",
   "metadata": {},
   "outputs": [
    {
     "name": "stdout",
     "output_type": "stream",
     "text": [
      "Data from first file\n",
      "Data from second file\n"
     ]
    },
    {
     "ename": "UnicodeDecodeError",
     "evalue": "'utf-8' codec can't decode byte 0x80 in position 1: invalid start byte",
     "output_type": "error",
     "traceback": [
      "\u001b[0;31m---------------------------------------------------------------------------\u001b[0m",
      "\u001b[0;31mUnicodeDecodeError\u001b[0m                        Traceback (most recent call last)",
      "Cell \u001b[0;32mIn[7], line 4\u001b[0m\n\u001b[1;32m      2\u001b[0m \u001b[38;5;28;01mfor\u001b[39;00m file_number \u001b[38;5;129;01min\u001b[39;00m \u001b[38;5;28mrange\u001b[39m(\u001b[38;5;241m1\u001b[39m,\u001b[38;5;241m6\u001b[39m):\n\u001b[1;32m      3\u001b[0m     f \u001b[38;5;241m=\u001b[39m \u001b[38;5;28mopen\u001b[39m(\u001b[38;5;124m'\u001b[39m\u001b[38;5;124mdata/file_\u001b[39m\u001b[38;5;124m'\u001b[39m\u001b[38;5;241m+\u001b[39m\u001b[38;5;28mstr\u001b[39m(file_number)\u001b[38;5;241m+\u001b[39m\u001b[38;5;124m'\u001b[39m\u001b[38;5;124m.txt\u001b[39m\u001b[38;5;124m'\u001b[39m,\u001b[38;5;124m'\u001b[39m\u001b[38;5;124mr\u001b[39m\u001b[38;5;124m'\u001b[39m)\n\u001b[0;32m----> 4\u001b[0m     line \u001b[38;5;241m=\u001b[39m \u001b[43mf\u001b[49m\u001b[38;5;241;43m.\u001b[39;49m\u001b[43mread\u001b[49m\u001b[43m(\u001b[49m\u001b[43m)\u001b[49m\n\u001b[1;32m      5\u001b[0m     f\u001b[38;5;241m.\u001b[39mclose()\n\u001b[1;32m      6\u001b[0m     \u001b[38;5;28mprint\u001b[39m(line)\n",
      "File \u001b[0;32m<frozen codecs>:322\u001b[0m, in \u001b[0;36mdecode\u001b[0;34m(self, input, final)\u001b[0m\n",
      "\u001b[0;31mUnicodeDecodeError\u001b[0m: 'utf-8' codec can't decode byte 0x80 in position 1: invalid start byte"
     ]
    }
   ],
   "source": [
    "# write a loop to read the data from all 5 files in the data directory\n",
    "for file_number in range(1,6):\n",
    "    f = open('data/file_'+str(file_number)+'.txt','r')\n",
    "    line = f.read()\n",
    "    f.close()\n",
    "    print(line)"
   ]
  },
  {
   "cell_type": "markdown",
   "id": "0904670a",
   "metadata": {},
   "source": [
    "Shoot! Looks like there is some issue with our file!"
   ]
  },
  {
   "cell_type": "markdown",
   "id": "ffb0508a-1706-45e9-8fa1-b48ba8541ef8",
   "metadata": {},
   "source": [
    "### Try and Except\n",
    "If you suspect that some of your files might be corrupted, then you could write some code that will skip those files in your processing"
   ]
  },
  {
   "cell_type": "code",
   "execution_count": 8,
   "id": "a6c493de-ece9-4237-904a-87e7b9b19459",
   "metadata": {},
   "outputs": [
    {
     "name": "stdout",
     "output_type": "stream",
     "text": [
      "Data from first file\n",
      "Data from second file\n",
      "Could not open file_3.txt\n",
      "Data from fourth file\n",
      "Data from fifth file\n"
     ]
    }
   ],
   "source": [
    "# use the try statement to attempt opening each of the files\n",
    "# use the except statement to provide a message if the opening did not work\n",
    "for file_number in range(1,6):\n",
    "    try:\n",
    "        f = open('data/file_'+str(file_number)+'.txt','r')\n",
    "        line = f.read()\n",
    "        f.close()\n",
    "        print(line)\n",
    "    except:\n",
    "        print('Could not open file_'+str(file_number)+'.txt')\n"
   ]
  },
  {
   "cell_type": "markdown",
   "id": "cd3c52a4-bc1c-429e-8742-d3491cc42091",
   "metadata": {},
   "source": [
    "As we can see above, the `except` statement provides a way to catch errors as they arise. The `except` statement can also be used to check for different errors and write code to address each one. Let's see an example:"
   ]
  },
  {
   "cell_type": "code",
   "execution_count": 9,
   "id": "9b46a2d5-504b-457c-b920-2c5ae776fc6e",
   "metadata": {},
   "outputs": [
    {
     "name": "stdout",
     "output_type": "stream",
     "text": [
      "Data from first file\n",
      "Data from second file\n",
      "Could not open file_3.txt due to a UnicodeDecodeError\n",
      "Data from fourth file\n",
      "Data from fifth file\n",
      "Could not open file_6.txt due to a FileNotFoundError\n"
     ]
    }
   ],
   "source": [
    "# use the try statement to attempt opening each of the files\n",
    "# use the except statement to provide a message if the opening did not work\n",
    "for file_number in range(1,7):\n",
    "    try:\n",
    "        f = open('data/file_'+str(file_number)+'.txt','r')\n",
    "        line = f.read()\n",
    "        f.close()\n",
    "        print(line)\n",
    "    except FileNotFoundError:\n",
    "        print('Could not open file_'+str(file_number)+'.txt due to a FileNotFoundError')\n",
    "    except UnicodeDecodeError:\n",
    "        print('Could not open file_'+str(file_number)+'.txt due to a UnicodeDecodeError')\n",
    "    except:\n",
    "        print('Could not open file_'+str(file_number)+'.txt due to some other error')"
   ]
  },
  {
   "cell_type": "markdown",
   "id": "5f6b598e-2133-489e-80e5-0a705256fd91",
   "metadata": {},
   "source": [
    "### &#x1F914; Mini-Exercise\n",
    "Goal: Update the lines from the previous mini-exercise to handle an error from the `matrix_multiplication` function. If you get a solution with one `except` clause, try adding another option or two in the case that there are different errors."
   ]
  },
  {
   "cell_type": "markdown",
   "id": "193e7804",
   "metadata": {},
   "source": [
    "#### &#x1F4A1; Solution"
   ]
  },
  {
   "cell_type": "code",
   "execution_count": 10,
   "id": "f1d12c0f-a1b8-45cf-aa40-d1739bcc4c0d",
   "metadata": {
    "tags": [
     "hide-cell"
    ]
   },
   "outputs": [
    {
     "name": "stdout",
     "output_type": "stream",
     "text": [
      "Test 1 results: AB =  [[1, 2], [3, 4]]\n",
      "Found an IndexError - matrices might be the wrong shape\n"
     ]
    }
   ],
   "source": [
    "# test 1\n",
    "try:\n",
    "    A = [[1, 2], [3, 4]]\n",
    "    B = [[1, 0], [0, 1]]\n",
    "    AB = mm.matrix_multiplication_2d(A, B)\n",
    "    print('Test 1 results: AB = ',AB)\n",
    "except:\n",
    "    print('Found an error in test 1')\n",
    "\n",
    "# test 2\n",
    "try:\n",
    "    A = [[1, 2, 3], [4, 5, 6]]\n",
    "    B = [[1, 0], [0, 1]]\n",
    "    AB = mm.matrix_multiplication_2d(A, B)\n",
    "    print('Test 2 results: AB = ',AB)\n",
    "except IndexError as var:\n",
    "    print('Found an IndexError - matrices might be the wrong shape')\n",
    "except:\n",
    "    print('Found an error in Test 2')"
   ]
  },
  {
   "cell_type": "markdown",
   "id": "9137110a-0918-45dd-8609-bda44856ff7b",
   "metadata": {},
   "source": [
    "## Raising Exceptions and Defining Custom Exceptions"
   ]
  },
  {
   "cell_type": "markdown",
   "id": "9f2e3c01-69b5-40e6-b3b5-b759004db56f",
   "metadata": {},
   "source": [
    "As you develop your own modules, you will likely be very aware of the different possible errors that a user might run into. In this case, it is beneficial to raise exceptions in your code or even generate your own types of exceptions that could be caught using `except` statements in your users' codes. "
   ]
  },
  {
   "cell_type": "markdown",
   "id": "42a82aea-bfbf-472a-be68-16dc303e7c18",
   "metadata": {},
   "source": [
    "### Raising Exceptions\n",
    "When designing code, you can raise an Exception using the `raise` keyword"
   ]
  },
  {
   "cell_type": "code",
   "execution_count": 11,
   "id": "f62b9cee-1cb5-4b0a-a2f0-a9cfc50345c5",
   "metadata": {},
   "outputs": [
    {
     "ename": "ValueError",
     "evalue": "Your value is not correct",
     "output_type": "error",
     "traceback": [
      "\u001b[0;31m---------------------------------------------------------------------------\u001b[0m",
      "\u001b[0;31mValueError\u001b[0m                                Traceback (most recent call last)",
      "Cell \u001b[0;32mIn[11], line 3\u001b[0m\n\u001b[1;32m      1\u001b[0m \u001b[38;5;66;03m# raise a ValueError Exception\u001b[39;00m\n\u001b[1;32m      2\u001b[0m \u001b[38;5;66;03m# print a message that the value is not valid\u001b[39;00m\n\u001b[0;32m----> 3\u001b[0m \u001b[38;5;28;01mraise\u001b[39;00m \u001b[38;5;167;01mValueError\u001b[39;00m(\u001b[38;5;124m'\u001b[39m\u001b[38;5;124mYour value is not correct\u001b[39m\u001b[38;5;124m'\u001b[39m)\n",
      "\u001b[0;31mValueError\u001b[0m: Your value is not correct"
     ]
    }
   ],
   "source": [
    "# raise a ValueError Exception\n",
    "# print a message that the value is not valid\n",
    "raise ValueError('Your value is not correct')"
   ]
  },
  {
   "cell_type": "markdown",
   "id": "1a2acf75-bf8c-4faf-9ba9-cc8c644ae703",
   "metadata": {},
   "source": [
    "This can be helpful when writing your own function. For example, implement a `ValueError` in the matrix multiplication module in the scenario that the the columns of B are not equal to the rows of A"
   ]
  },
  {
   "cell_type": "code",
   "execution_count": 12,
   "id": "9f6cf18c-2fdd-49a2-bbef-07ddd9a120ff",
   "metadata": {},
   "outputs": [
    {
     "ename": "ValueError",
     "evalue": "The row length of A must equal the column length of B",
     "output_type": "error",
     "traceback": [
      "\u001b[0;31m---------------------------------------------------------------------------\u001b[0m",
      "\u001b[0;31mValueError\u001b[0m                                Traceback (most recent call last)",
      "Cell \u001b[0;32mIn[12], line 11\u001b[0m\n\u001b[1;32m      9\u001b[0m A \u001b[38;5;241m=\u001b[39m [[\u001b[38;5;241m1\u001b[39m, \u001b[38;5;241m2\u001b[39m, \u001b[38;5;241m3\u001b[39m], [\u001b[38;5;241m4\u001b[39m, \u001b[38;5;241m5\u001b[39m, \u001b[38;5;241m6\u001b[39m]]\n\u001b[1;32m     10\u001b[0m B \u001b[38;5;241m=\u001b[39m [[\u001b[38;5;241m1\u001b[39m, \u001b[38;5;241m0\u001b[39m], [\u001b[38;5;241m0\u001b[39m, \u001b[38;5;241m1\u001b[39m]]\n\u001b[0;32m---> 11\u001b[0m AB \u001b[38;5;241m=\u001b[39m \u001b[43mmm\u001b[49m\u001b[38;5;241;43m.\u001b[39;49m\u001b[43mmatrix_multiplication_2d\u001b[49m\u001b[43m(\u001b[49m\u001b[43mA\u001b[49m\u001b[43m,\u001b[49m\u001b[43m \u001b[49m\u001b[43mB\u001b[49m\u001b[43m)\u001b[49m\n\u001b[1;32m     12\u001b[0m \u001b[38;5;28mprint\u001b[39m(\u001b[38;5;124m'\u001b[39m\u001b[38;5;124mTest 2 results: AB = \u001b[39m\u001b[38;5;124m'\u001b[39m,AB)\n",
      "File \u001b[0;32m~/Documents/Teaching/Github/intro_to_python_book/python_basics/matrix_multiplication_valueerror.py:15\u001b[0m, in \u001b[0;36mmatrix_multiplication_2d\u001b[0;34m(A, B)\u001b[0m\n\u001b[1;32m      8\u001b[0m \u001b[38;5;28;01mdef\u001b[39;00m \u001b[38;5;21mmatrix_multiplication_2d\u001b[39m(A, B):\n\u001b[1;32m      9\u001b[0m \n\u001b[1;32m     10\u001b[0m     \u001b[38;5;66;03m# in matrix multiplication, we define the product\u001b[39;00m\n\u001b[1;32m     11\u001b[0m     \u001b[38;5;66;03m# AB as the dot product of\u001b[39;00m\n\u001b[1;32m     12\u001b[0m     \u001b[38;5;66;03m# each row of A with each column of B\u001b[39;00m\n\u001b[1;32m     14\u001b[0m     \u001b[38;5;28;01mif\u001b[39;00m \u001b[38;5;28mlen\u001b[39m(A[\u001b[38;5;241m0\u001b[39m]) \u001b[38;5;241m!=\u001b[39m \u001b[38;5;28mlen\u001b[39m(B):\n\u001b[0;32m---> 15\u001b[0m         \u001b[38;5;28;01mraise\u001b[39;00m \u001b[38;5;167;01mValueError\u001b[39;00m(\u001b[38;5;124m'\u001b[39m\u001b[38;5;124mThe row length of A must equal the column length of B\u001b[39m\u001b[38;5;124m'\u001b[39m)\n\u001b[1;32m     17\u001b[0m     \u001b[38;5;66;03m# get the rows of A\u001b[39;00m\n\u001b[1;32m     18\u001b[0m     row_A1 \u001b[38;5;241m=\u001b[39m A[\u001b[38;5;241m0\u001b[39m]\n",
      "\u001b[0;31mValueError\u001b[0m: The row length of A must equal the column length of B"
     ]
    }
   ],
   "source": [
    "# edit the matrix_multiplication_2d to raise a ValueError if the columns of A\n",
    "# are not equal to the rows of B\n",
    "# be sure to restart your kernel before running this cell in Jupyter\n",
    "\n",
    "# import the matrix_multiplication module\n",
    "import matrix_multiplication_valueerror as mm\n",
    "\n",
    "# # test 2\n",
    "A = [[1, 2, 3], [4, 5, 6]]\n",
    "B = [[1, 0], [0, 1]]\n",
    "AB = mm.matrix_multiplication_2d(A, B)\n",
    "print('Test 2 results: AB = ',AB)"
   ]
  },
  {
   "cell_type": "markdown",
   "id": "a75c0edd-9bb5-4a70-98b1-43613f35473c",
   "metadata": {},
   "source": [
    "There are many Exceptions in Python which you can access. For example, check out the following list:"
   ]
  },
  {
   "cell_type": "code",
   "execution_count": 13,
   "id": "2bc4873c",
   "metadata": {
    "tags": [
     "hide-output"
    ]
   },
   "outputs": [
    {
     "name": "stdout",
     "output_type": "stream",
     "text": [
      "ArithmeticError\n",
      "AssertionError\n",
      "AttributeError\n",
      "BufferError\n",
      "EOFError\n",
      "ImportError\n",
      "LookupError\n",
      "MemoryError\n",
      "NameError\n",
      "OSError\n",
      "ReferenceError\n",
      "RuntimeError\n",
      "StopAsyncIteration\n",
      "StopIteration\n",
      "SyntaxError\n",
      "SystemError\n",
      "TypeError\n",
      "ValueError\n",
      "Warning\n",
      "ExceptionGroup\n",
      "_OptionError\n",
      "_Error\n",
      "error\n",
      "Error\n",
      "SubprocessError\n",
      "ArgumentError\n",
      "error\n",
      "ZMQBaseError\n",
      "Error\n",
      "PickleError\n",
      "_Stop\n",
      "TokenError\n",
      "StopTokenizing\n",
      "Error\n",
      "_GiveupOnSendfile\n",
      "Incomplete\n",
      "ClassFoundException\n",
      "EndOfBlock\n",
      "InvalidStateError\n",
      "LimitOverrunError\n",
      "QueueEmpty\n",
      "QueueFull\n",
      "TraitError\n",
      "Empty\n",
      "Full\n",
      "error\n",
      "error\n",
      "ReturnValueIgnoredError\n",
      "ArgumentError\n",
      "ArgumentTypeError\n",
      "ConfigError\n",
      "ConfigurableError\n",
      "ApplicationError\n",
      "InvalidPortNumber\n",
      "error\n",
      "LZMAError\n",
      "RegistryError\n",
      "_GiveupOnFastCopy\n",
      "NoIPAddresses\n",
      "Error\n",
      "BadZipFile\n",
      "LargeZipFile\n",
      "MessageError\n",
      "DuplicateKernelError\n",
      "ErrorDuringImport\n",
      "NotOneValueFound\n",
      "KnownIssue\n",
      "VerifierFailure\n",
      "CannotEval\n",
      "OptionError\n",
      "BdbQuit\n",
      "Restart\n",
      "ExceptionPexpect\n",
      "PtyProcessError\n",
      "FindCmdError\n",
      "HomeDirError\n",
      "ProfileDirError\n",
      "IPythonCoreError\n",
      "InputRejected\n",
      "GetoptError\n",
      "ErrorToken\n",
      "PrefilterError\n",
      "AliasError\n",
      "Error\n",
      "Warning\n",
      "SpaceInInput\n",
      "DOMException\n",
      "ValidationError\n",
      "EditReadOnlyBuffer\n",
      "_Retry\n",
      "InvalidLayoutError\n",
      "HeightIsUnknownError\n",
      "GuardRejection\n",
      "ParserSyntaxError\n",
      "InternalParseError\n",
      "_PositionUpdatingFinished\n",
      "SimpleGetItemNotFound\n",
      "UncaughtAttributeError\n",
      "HasNoContext\n",
      "ParamIssue\n",
      "_JediError\n",
      "OnErrorLeaf\n",
      "InvalidPythonEnvironment\n",
      "HTTPException\n",
      "InteractivelyDefined\n",
      "KillEmbedded\n",
      "Error\n",
      "ZombieProcessError\n",
      "KeyReuseError\n",
      "UnknownKeyError\n",
      "LeakedCallbackError\n",
      "BadYieldError\n",
      "ReturnValueIgnoredError\n",
      "Return\n",
      "QueueEmpty\n",
      "QueueFull\n",
      "DebuggerInitializationError\n",
      "ExpatError\n",
      "Error\n",
      "ParserSyntaxError\n",
      "ResolutionError\n",
      "_Error\n",
      "UnableToResolveVariableException\n",
      "InvalidTypeInArgsException\n"
     ]
    }
   ],
   "source": [
    "for class_name in Exception.__subclasses__():\n",
    "    print(class_name.__name__)"
   ]
  },
  {
   "cell_type": "markdown",
   "id": "4c9ae758-4b0f-4fc8-921c-701a3f58fc8d",
   "metadata": {},
   "source": [
    "However, you may want also to defined your own exception. We can do this in Python by leveraging the idea that Exceptions are classes - more on this in the [classes](https://profmikewood.github.io/intro_to_python_book/object_oriented_programming/classes.html) section - and we can make a subclass as follows:"
   ]
  },
  {
   "cell_type": "code",
   "execution_count": 14,
   "id": "e2240cea-0afd-4810-9685-a2b0fb8aa94e",
   "metadata": {},
   "outputs": [],
   "source": [
    "# define a class exception called CustomException122\n",
    "class CustomException122(Exception):\n",
    "    pass"
   ]
  },
  {
   "cell_type": "markdown",
   "id": "79dc792f-821a-4fa1-832c-ab0fd0f4a169",
   "metadata": {},
   "source": [
    "Once you've defined your Exception, you can raise it within your code"
   ]
  },
  {
   "cell_type": "code",
   "execution_count": 15,
   "id": "c07f9f4f-9300-445f-96e0-52d3598d01dc",
   "metadata": {},
   "outputs": [
    {
     "ename": "CustomException122",
     "evalue": "We encountered the error I was expecting",
     "output_type": "error",
     "traceback": [
      "\u001b[0;31m---------------------------------------------------------------------------\u001b[0m",
      "\u001b[0;31mCustomException122\u001b[0m                        Traceback (most recent call last)",
      "Cell \u001b[0;32mIn[15], line 2\u001b[0m\n\u001b[1;32m      1\u001b[0m \u001b[38;5;66;03m# raise your custom exception\u001b[39;00m\n\u001b[0;32m----> 2\u001b[0m \u001b[38;5;28;01mraise\u001b[39;00m CustomException122(\u001b[38;5;124m'\u001b[39m\u001b[38;5;124mWe encountered the error I was expecting\u001b[39m\u001b[38;5;124m'\u001b[39m)\n",
      "\u001b[0;31mCustomException122\u001b[0m: We encountered the error I was expecting"
     ]
    }
   ],
   "source": [
    "# raise your custom exception\n",
    "raise CustomException122('We encountered the error I was expecting')"
   ]
  },
  {
   "cell_type": "markdown",
   "id": "e199e506-9e5e-4b43-9b1a-3addc0bf402c",
   "metadata": {},
   "source": [
    "### &#x1F914; Mini-Exercise\n",
    "Goal: Update the `matrix_multiplication` module to provide a custom error called `MatrixSizeError`. Use this error in your check that the columns of A must be equal to the rows of B. Then, implement this custome error in the an except block."
   ]
  },
  {
   "cell_type": "code",
   "execution_count": 16,
   "id": "42242fb3-60da-46b7-9f47-344e3e26168e",
   "metadata": {},
   "outputs": [
    {
     "name": "stdout",
     "output_type": "stream",
     "text": [
      "The matrices A and B are the wrong size\n"
     ]
    }
   ],
   "source": [
    "# define a new error called MatrixSizeError in the matrix_multiplication module\n",
    "# then, edit the matrix_multiplication_2d to raise a MatrixSizeError if the columns of A\n",
    "# are not equal to the rows of B\n",
    "# be sure to restart your kernel before running this cell\n",
    "\n",
    "# import the matrix_multiplication module\n",
    "import matrix_multiplication_sizeerror as mm\n",
    "\n",
    "# # test 2\n",
    "A = [[1, 2, 3], [4, 5, 6]]\n",
    "B = [[1, 0], [0, 1]]\n",
    "\n",
    "try:\n",
    "    AB = mm.matrix_multiplication_2d(A, B)\n",
    "    print('Test 2 results: AB = ',AB)\n",
    "except mm.MatrixSizeError:\n",
    "    print('The matrices A and B are the wrong size')\n",
    "except:\n",
    "    print('We ran into another error')"
   ]
  },
  {
   "cell_type": "markdown",
   "id": "76233520",
   "metadata": {},
   "source": [
    "#### &#x1F4A1; Solution"
   ]
  },
  {
   "cell_type": "markdown",
   "id": "7e97c629",
   "metadata": {},
   "source": [
    "In your `matrix_multiplication` script, you should have a new class defined as\n",
    "\n",
    "```\n",
    "class MatrixSizeError(Exception):\n",
    "    pass\n",
    "```\n",
    "\n",
    "and this exception should be called as \n",
    "\n",
    "```\n",
    "raise MatrixSizeError(...)\n",
    "```"
   ]
  }
 ],
 "metadata": {
  "kernelspec": {
   "display_name": "teaching",
   "language": "python",
   "name": "teaching"
  },
  "language_info": {
   "codemirror_mode": {
    "name": "ipython",
    "version": 3
   },
   "file_extension": ".py",
   "mimetype": "text/x-python",
   "name": "python",
   "nbconvert_exporter": "python",
   "pygments_lexer": "ipython3",
   "version": "3.11.3"
  }
 },
 "nbformat": 4,
 "nbformat_minor": 5
}
