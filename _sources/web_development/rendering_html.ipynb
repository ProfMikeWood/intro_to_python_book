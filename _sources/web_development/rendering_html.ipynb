{
 "cells": [
  {
   "cell_type": "markdown",
   "id": "73ef0815",
   "metadata": {},
   "source": [
    "# Rendering HTML"
   ]
  },
  {
   "cell_type": "markdown",
   "id": "9c7c86bd-3fdf-4a44-9a4e-1ca9e83966db",
   "metadata": {},
   "source": [
    "Author: Mike Wood\n",
    "\n",
    "Learning Objectives: By the end of this notebook, you should be able to:\n",
    "1. Render HTML templates using local pages\n",
    "2. Render HTML templates with external JavaScript resources."
   ]
  },
  {
   "attachments": {},
   "cell_type": "markdown",
   "id": "9a17b761-4e84-495e-a2a0-078566ca0671",
   "metadata": {},
   "source": [
    "In the previous example, we generated a page with some simple text. However, web pages have far more in their appearance that just text. The appearance of a webpage is controlled using HTML. Using flask, we can render HTML templates directly using the `render_template` function. HTML pages need to be stored in a directory called “templates”. Similarly, files to be used for the web page, such as images, need to be stored in a “static” directory"
   ]
  },
  {
   "cell_type": "markdown",
   "id": "737842a2-2424-470d-9353-530ffaa0312d",
   "metadata": {},
   "source": [
    "## Rendering HTML Templates\n",
    "\n",
    "In this first example, we'll see how to implement a simple page with text and an image as described in an HTML template. Let's look at a simple example:\n",
    "\n",
    "```\n",
    "# import the Flask class from the flask module\n",
    "from flask import Flask\n",
    "\n",
    "# import the render_template function\n",
    "from flask import render_template\n",
    "\n",
    "# create a Flask object called app\n",
    "app = Flask(__name__)\n",
    "\n",
    "# define a route to the home page\n",
    "# create a template_display function\n",
    "@app.route(\"/\")\n",
    "@app.route(\"/home\")\n",
    "def template_display():\n",
    "    # render the template_example.html script\n",
    "    return render_template('template_example.html')\n",
    "```\n",
    "\n",
    "As we can see, the `render_template` function is called to show the page as described in the `template_example.html` file. It's important to note that the this script is organized with subdirectories for `static` and `template` in a directory structure as follows:\n",
    "\n",
    "```\n",
    "template_display\n",
    "|-static\n",
    "    |-cool_python_image.png\n",
    "|-template_display.py\n",
    "|-templates\n",
    "    |-template_example.html\n",
    "```"
   ]
  },
  {
   "cell_type": "markdown",
   "id": "f64f2097-6715-4cb8-9f05-0c793499b0c8",
   "metadata": {},
   "source": [
    "To run this app, we be sure to update your environment variables and then run the application:\n",
    "\n",
    "```\n",
    "export FLASK_APP=hey_there.py\n",
    "set FLASK_APP=hey_there.py\n",
    "flask run\n",
    "```"
   ]
  },
  {
   "cell_type": "markdown",
   "id": "bf9375b9-de70-4224-8854-7ff2da163cf2",
   "metadata": {},
   "source": [
    "If successful, your page should show the `cool_python_image.png` image with a header according to the `template_example.html` as shown here:\n",
    "\n",
    "```\n",
    "<!doctype html>\n",
    "<html>\n",
    "\n",
    "<!--This is the header of the html script-->\n",
    "<head>\n",
    "\n",
    "<!--Add a title to this html script-->\n",
    "<title>Template Example</title>\n",
    "\n",
    "<!--Add a description to this html script-->\n",
    "<meta name=\"description\" content=\"A page to display an HTML template\">\n",
    "\n",
    "</head>\n",
    "\n",
    "\n",
    "<!--This is the body of the html script-->\n",
    "<body>\n",
    "\n",
    "<!--Add text for a title on the image-->\n",
    "Here is a cool Python logo:<br>\n",
    "\n",
    "<!--Add an image-->\n",
    "<img src=\"/static/cool_python_logo.png\" alt=\"A Cool Python Logo\">\n",
    "</body>\n",
    "\n",
    "\n",
    "</html>\n",
    "```"
   ]
  },
  {
   "cell_type": "markdown",
   "id": "4850f53e-be0c-4641-890f-6f516240f873",
   "metadata": {},
   "source": [
    "An example output of this page is shown [HERE](https://profmikewood.github.io/intro_to_python_book/web_development/html_examples/template_example.html)"
   ]
  },
  {
   "cell_type": "markdown",
   "id": "02f9cad2-2e77-435f-95c2-54397cd34ea6",
   "metadata": {},
   "source": [
    "## Using JavaScript in HTML\n",
    "\n",
    "As an example of implementing JavaScript into HTML pages, we'll take a look at some external tools. Often, companies will provide tools so you can implement their features into your web pages. As an example, we'll take a look at the [Environmental Systems Research Institute (ESRI) Software Development Kit (SDK)](https://developers.arcgis.com/javascript/latest/). ESRI is a big name in mapping and these tools provide a convenient way to add beautiful maps to your web pages. "
   ]
  },
  {
   "cell_type": "markdown",
   "id": "b76e0dda-3461-4ceb-9a5a-27b5c4b84ea4",
   "metadata": {},
   "source": [
    "As an example, we'll make a page with a map of the world that has a marker on the United States with its population. Checkout the example [HERE](https://profmikewood.github.io/intro_to_python_book/web_development/html_examples/map_esri.html)"
   ]
  },
  {
   "cell_type": "markdown",
   "id": "5e984d7a-3cdc-4e79-b0b1-7425fe718478",
   "metadata": {},
   "source": [
    "This page is made with the following HTML template:\n",
    "\n",
    "```\n",
    "<html>\n",
    "<head>\n",
    "  <meta charset=\"utf-8\">\n",
    "  <meta name=\"viewport\" content=\"initial-scale=1, maximum-scale=1, user-scalable=no\">\n",
    "  <title>ESRI Map Example</title>\n",
    "  <style>\n",
    "    html, body, #viewDiv {\n",
    "      padding: 0;\n",
    "      margin: 0;\n",
    "      height: 100%;\n",
    "      width: 100%;\n",
    "    }\n",
    "  </style>\n",
    "  <link rel=\"stylesheet\" href=\"https://js.arcgis.com/4.28/esri/themes/light/main.css\">\n",
    "  <script src=\"https://js.arcgis.com/4.28/\"></script>\n",
    "  <script>\n",
    "\n",
    "  require([\n",
    "    \"esri/config\",\n",
    "    \"esri/Map\",\n",
    "    \"esri/views/MapView\",\n",
    "    \"esri/Graphic\",\n",
    "    \"esri/layers/GraphicsLayer\"\n",
    "    ], function(esriConfig,Map, MapView, Graphic, GraphicsLayer) {\n",
    "\n",
    "  const map = new Map({\n",
    "    basemap: \"satellite\" // basemap styles service\n",
    "  });\n",
    "\n",
    "  const view = new MapView({\n",
    "    map: map,\n",
    "    center: [0,0], //Longitude, latitude\n",
    "    zoom: 2,\n",
    "    container: \"viewDiv\"\n",
    " });\n",
    "\n",
    " const graphicsLayer = new GraphicsLayer();\n",
    " map.add(graphicsLayer);\n",
    "\n",
    " const point = { //Create a point\n",
    "    type: \"point\",\n",
    "    longitude: -95.712891,\n",
    "    latitude: 37.09024\n",
    " };\n",
    "\n",
    " const simpleMarkerSymbol = {\n",
    "    type: \"simple-marker\",\n",
    "    color: [226, 119, 40],  // Orange\n",
    "    outline: {\n",
    "        color: [255, 255, 255], // White\n",
    "        width: 1\n",
    "    }\n",
    " };\n",
    "\n",
    " const pointGraphic = new Graphic({\n",
    "    geometry: point,\n",
    "    symbol: simpleMarkerSymbol\n",
    " });\n",
    " graphicsLayer.add(pointGraphic);\n",
    "\n",
    " view.openPopup({\n",
    "            location: point,\n",
    "            title: 'United States',\n",
    "            content: '<b>Population:</b> 331,900,900'\n",
    "          });\n",
    "\n",
    " });\n",
    "</script>\n",
    "</head>\n",
    "<body>\n",
    "  <div id=\"viewDiv\"></div>\n",
    "</body>\n",
    "</html>\n",
    "```"
   ]
  },
  {
   "cell_type": "markdown",
   "id": "ef11b3d1-7caf-4dbd-b2d0-427f3431b6aa",
   "metadata": {},
   "source": [
    "As we can see in the above code, the ESRI tools for `Map`, `MapView`, `Graphic`, and `GraphicsLayer` are all used to add the features to the map. More information about this map can be found in the SDK documentation linked above."
   ]
  }
 ],
 "metadata": {
  "kernelspec": {
   "display_name": "teaching",
   "language": "python",
   "name": "teaching"
  },
  "language_info": {
   "codemirror_mode": {
    "name": "ipython",
    "version": 3
   },
   "file_extension": ".py",
   "mimetype": "text/x-python",
   "name": "python",
   "nbconvert_exporter": "python",
   "pygments_lexer": "ipython3",
   "version": "3.11.3"
  }
 },
 "nbformat": 4,
 "nbformat_minor": 5
}
