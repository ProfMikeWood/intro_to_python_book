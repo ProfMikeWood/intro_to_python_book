{
 "cells": [
  {
   "cell_type": "markdown",
   "id": "73ef0815",
   "metadata": {},
   "source": [
    "# Introduction to Flask"
   ]
  },
  {
   "cell_type": "markdown",
   "id": "9c7c86bd-3fdf-4a44-9a4e-1ca9e83966db",
   "metadata": {},
   "source": [
    "Author: Mike Wood\n",
    "\n",
    "Learning Objectives: By the end of this notebook, you should be able to:\n",
    "1. Add "
   ]
  },
  {
   "cell_type": "markdown",
   "id": "9178e470-cf3b-408c-b367-c8d9c7162889",
   "metadata": {},
   "source": [
    "Description"
   ]
  },
  {
   "cell_type": "markdown",
   "id": "024fce44-7a59-4e85-b2ba-fca2a135d02e",
   "metadata": {},
   "source": [
    "## A first example\n",
    "\n",
    "Code"
   ]
  },
  {
   "cell_type": "markdown",
   "id": "7176bd82-8200-4d39-98a6-7374ec6802e0",
   "metadata": {},
   "source": [
    "This page should link [HERE](https://profmikewood.github.io/intro_to_python_book/web_development/html_examples/hey_there.html)"
   ]
  }
 ],
 "metadata": {
  "kernelspec": {
   "display_name": "teaching",
   "language": "python",
   "name": "teaching"
  },
  "language_info": {
   "codemirror_mode": {
    "name": "ipython",
    "version": 3
   },
   "file_extension": ".py",
   "mimetype": "text/x-python",
   "name": "python",
   "nbconvert_exporter": "python",
   "pygments_lexer": "ipython3",
   "version": "3.11.3"
  }
 },
 "nbformat": 4,
 "nbformat_minor": 5
}
