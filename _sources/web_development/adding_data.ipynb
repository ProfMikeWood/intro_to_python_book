{
 "cells": [
  {
   "cell_type": "markdown",
   "id": "73ef0815",
   "metadata": {},
   "source": [
    "# Implementing Data"
   ]
  },
  {
   "cell_type": "markdown",
   "id": "9c7c86bd-3fdf-4a44-9a4e-1ca9e83966db",
   "metadata": {},
   "source": [
    "Author: Mike Wood\n",
    "\n",
    "Learning Objectives: By the end of this notebook, you should be able to:\n",
    "1. Add"
   ]
  },
  {
   "cell_type": "markdown",
   "id": "44e24507-19c4-4a3b-8113-08e32aa6a156",
   "metadata": {},
   "source": [
    "## Local Data\n",
    "\n",
    "In this example, we will take a look at linking local data to a page. Specificaly, we'll make a page to toggle through different images in a database. Let's see an example script:\n",
    "\n",
    "```\n",
    "# import the Flask class from the flask module\n",
    "from flask import Flask\n",
    "\n",
    "# import the render_template function\n",
    "from flask import render_template\n",
    "\n",
    "# import the request function\n",
    "from flask import request\n",
    "\n",
    "# create a Flask object called app\n",
    "app = Flask(__name__)\n",
    "\n",
    "# define a route to the home page\n",
    "# create a monthly_maps function\n",
    "@app.route(\"/\")\n",
    "@app.route(\"/home\")\n",
    "def monthly_maps():\n",
    "    return render_template('month_page.html', month='default')\n",
    "\n",
    "# define a route to the person page\n",
    "# add 'GET' to the methods\n",
    "# create a month function\n",
    "@app.route(\"/month\", methods=['GET'])\n",
    "def month():\n",
    "\n",
    "    # retrieve the month from the requests\n",
    "    month = request.args['month']\n",
    "\n",
    "    # pass the month arg to the render template\n",
    "    # for the month_page.html scriopt\n",
    "    return render_template('month_page.html', month=month)\n",
    "\n",
    "# add a main method to run the app\n",
    "# as a typical Python script\n",
    "if __name__ == '__main__':\n",
    "    app.run()\n",
    "```"
   ]
  },
  {
   "cell_type": "markdown",
   "id": "b2a01b44-f4fd-4a86-8739-feea49d0e73e",
   "metadata": {},
   "source": [
    "In this example, we have created two \"pages\" yet both of them use the same `month_page.html` template. "
   ]
  },
  {
   "cell_type": "markdown",
   "id": "0b45ec6e-affa-41de-971e-d0e31ffbf12a",
   "metadata": {},
   "source": [
    "```\n",
    "<!doctype html>\n",
    "<html>\n",
    "\n",
    "<head>\n",
    "<title>Month Map</title>\n",
    "<meta name=\"description\" content=\"A page to show a map for each month\">\n",
    "\n",
    "</head>\n",
    "\n",
    "<body>\n",
    "    <h2>Monthly Maps</h2>\n",
    "\n",
    "    <!--Make a form with month action and get method-->\n",
    "    <form action=\"/month\" method=\"get\">\n",
    "\n",
    "        <!--Make a select feature to choose the months-->\n",
    "        <select name=\"month\" id=\"months\">\n",
    "\n",
    "            <!--Add an option on start-up for when months are not selected -->\n",
    "            <!--Use jinja to implement a Python if statement-->\n",
    "            {% if month=='default'%}\n",
    "            <option value=\"default\" selected disabled>Choose a month:</option>\n",
    "            {% else %}\n",
    "            <option selected>{{month}}</option>\n",
    "            {% endif %}\n",
    "\n",
    "            <!--Add options for each month-->\n",
    "            <option value=\"Jan\">Jan</option>\n",
    "            <option value=\"Feb\">Feb</option>\n",
    "            <option value=\"Mar\">Ma</option>\n",
    "            <option value=\"Apr\">Apr</option>\n",
    "            <option value=\"May\">May</option>\n",
    "            <option value=\"Jun\">Jun</option>\n",
    "            <option value=\"Jul\">Jul</option>\n",
    "            <option value=\"Aug\">Aug</option>\n",
    "            <option value=\"Sep\">Sep</option>\n",
    "            <option value=\"Oct\">Oct</option>\n",
    "            <option value=\"Nov\">Nov</option>\n",
    "            <option value=\"Dec\">Dec</option>\n",
    "        </select>\n",
    "        <input type=\"submit\" value=\"Update\">\n",
    "\n",
    "    </form> <br>\n",
    "\n",
    "    <!--Add an image for the month indicated by the month variable-->\n",
    "    <!--Use jinja to implement a Python if statement-->\n",
    "    {% if month!='default'%}\n",
    "        <img src=\"static/{{month}}_map.png\">\n",
    "    {% endif %}\n",
    "</body>\n",
    "\n",
    "</html>\n",
    "```"
   ]
  },
  {
   "cell_type": "markdown",
   "id": "c0bd7323-3489-409f-8cd3-2b6c2ea05698",
   "metadata": {},
   "source": [
    "These files should yield the following pages: [HERE](https://profmikewood.github.io/intro_to_python_book/web_development/html_examples/month_page.html)"
   ]
  },
  {
   "cell_type": "markdown",
   "id": "eba4e154-5b6d-407f-ad34-94038d91610f",
   "metadata": {},
   "source": [
    "## Remote Data\n",
    "\n",
    "Try Checkout an example [HERE](https://profmikewood.github.io/intro_to_python_book/web_development/html_examples/wave_page.html)"
   ]
  },
  {
   "cell_type": "code",
   "execution_count": null,
   "id": "727a8a35-2020-4655-b0f6-6aa41de77568",
   "metadata": {},
   "outputs": [],
   "source": []
  }
 ],
 "metadata": {
  "kernelspec": {
   "display_name": "teaching",
   "language": "python",
   "name": "teaching"
  },
  "language_info": {
   "codemirror_mode": {
    "name": "ipython",
    "version": 3
   },
   "file_extension": ".py",
   "mimetype": "text/x-python",
   "name": "python",
   "nbconvert_exporter": "python",
   "pygments_lexer": "ipython3",
   "version": "3.11.3"
  }
 },
 "nbformat": 4,
 "nbformat_minor": 5
}
