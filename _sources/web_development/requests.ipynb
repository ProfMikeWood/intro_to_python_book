{
 "cells": [
  {
   "cell_type": "markdown",
   "id": "73ef0815",
   "metadata": {},
   "source": [
    "# Requests"
   ]
  },
  {
   "cell_type": "markdown",
   "id": "9c7c86bd-3fdf-4a44-9a4e-1ca9e83966db",
   "metadata": {},
   "source": [
    "Author: Mike Wood\n",
    "\n",
    "Learning Objectives: By the end of this notebook, you should be able to:\n",
    "1. Implement a GET request to retrieve public data\n",
    "2. Implement a POST request to implement a hidden request"
   ]
  },
  {
   "cell_type": "markdown",
   "id": "37779e13-01b4-4d5b-ace1-da82bb2b6a6a",
   "metadata": {},
   "source": [
    "## Get Requests\n",
    "In this first example, let's consider a typical example of a user enters some information - say, their name into a registration form, as shown on the page [HERE](https://profmikewood.github.io/intro_to_python_book/web_development/html_examples/simple_form.html) - and then this information is reflected in a subsequent page."
   ]
  },
  {
   "cell_type": "markdown",
   "id": "d3cdb459-4e08-45fa-b6f2-559cecb1f9dd",
   "metadata": {},
   "source": [
    "```\n",
    "# import the Flask class from the flask module\n",
    "from flask import Flask\n",
    "\n",
    "# import the render_template function\n",
    "from flask import render_template\n",
    "\n",
    "# import the request function\n",
    "from flask import request\n",
    "\n",
    "# create a Flask object called app\n",
    "app = Flask(__name__)\n",
    "\n",
    "# define a route to the home page\n",
    "# create a fillable_get_form function\n",
    "@app.route(\"/\")\n",
    "@app.route(\"/home\")\n",
    "def fillable_get_form():\n",
    "    return render_template('simple_form.html')\n",
    "\n",
    "# define a route to the person page\n",
    "# add 'GET' to the methods\n",
    "# create a person function\n",
    "@app.route(\"/person\", methods=['GET'])\n",
    "def person():\n",
    "    # retrieve the fname and lname from the requests\n",
    "    fname = request.args['fname']\n",
    "    lname = request.args['lname']\n",
    "\n",
    "    # pass the fname and lname args to the render template\n",
    "    # for the person_form.html script\n",
    "    return render_template('person_form.html', fname = fname, lname=lname)\n",
    "```"
   ]
  },
  {
   "cell_type": "markdown",
   "id": "d5e90098-74a1-495b-868e-1d1038b0d527",
   "metadata": {},
   "source": [
    "This page generates a submittable form which is created with the `simple_form.html` template:\n",
    "\n",
    "```\n",
    "<!doctype html>\n",
    "<html>\n",
    "\n",
    "<head>\n",
    "<title>Submit Form</title>\n",
    "<meta name=\"description\" content=\"A page to demo submitting a form\">\n",
    "</head>\n",
    "\n",
    "<body>\n",
    "    <!--Add a header for the registration form-->\n",
    "    <h2>Registration Form</h2>\n",
    "\n",
    "    <!--Make a form with person action and get method-->\n",
    "    <form action=\"/person\" method=\"get\">\n",
    "\n",
    "        <!--Add a a label and input for first name\n",
    "            Be sure to link the name to the fname variable-->\n",
    "        <label for=\"fname\">First name:</label><br>\n",
    "        <input type=\"text\" id=\"fname\" name=\"fname\"><br>\n",
    "\n",
    "        <!--Add a a label and input for last name\n",
    "            Be sure to link the name to the lname variable-->\n",
    "        <label for=\"lname\">Last name:</label><br>\n",
    "        <input type=\"text\" id=\"lname\" name=\"lname\"><br><br>\n",
    "\n",
    "        <!--Make a submit button with the text Register-->\n",
    "        <input type=\"submit\" value=\"Register\">\n",
    "    </form> \n",
    "</body>\n",
    "\n",
    "</html>\n",
    "```\n",
    "\n",
    "As you can see, the input fields are provided with keys for `name=fname` and `name=lname` in these lines:\n",
    "\n",
    "```\n",
    "<input type=\"text\" id=\"fname\" name=\"fname\"><br>\n",
    "<input type=\"text\" id=\"lname\" name=\"lname\"><br>\n",
    "```\n",
    "\n",
    "Note that these are passed to the `person_page.html` template via a get request in the following lines:\n",
    "\n",
    "```\n",
    "fname = request.args['fname']\n",
    "lname = request.args['lname']\n",
    "return render_template('person_form.html', fname = fname, lname=lname)\n",
    "```\n",
    "\n",
    "In the `person_page.html` template, these are then implemented as variables `{{fname}}` and `{{lname}}` as shown below:\n",
    "\n",
    "```\n",
    "<!doctype html>\n",
    "<html>\n",
    "\n",
    "<head>\n",
    "<title>Person Form</title>\n",
    "<meta name=\"description\" content=\"A page to describe a person\">\n",
    "</head>\n",
    "\n",
    "<body>\n",
    "    <h2>Person Details</h2>\n",
    "    <form>\n",
    "        <!--Add a labels for the first name and lat name-->\n",
    "        <label for=\"fname\">First name: {{fname}}</label><br>\n",
    "        <label for=\"lname\">Last name: {{lname}}</label><br>\n",
    "     </form> \n",
    "</body>\n",
    "\n",
    "</html>\n",
    "```\n",
    "\n",
    "You can try it for yourself on your machine. When entering a name on your page, you should get a page similar to the one shown\n",
    "[HERE](https://profmikewood.github.io/intro_to_python_book/web_development/html_examples/person_form.html).\n",
    "\n",
    "Note that the Get requests displays the requested information directly in the URL. In effect, this type of information should not be used for sensitive data."
   ]
  },
  {
   "cell_type": "markdown",
   "id": "62406837-24fe-4f3a-ab64-6e5f62d25249",
   "metadata": {},
   "source": [
    "## Post Requests\n",
    "\n",
    "In contrast to Get requests, Post request are hidden."
   ]
  },
  {
   "cell_type": "code",
   "execution_count": null,
   "id": "d67b0f75-6df6-4cc6-b11d-9330adbf14b0",
   "metadata": {},
   "outputs": [],
   "source": []
  }
 ],
 "metadata": {
  "kernelspec": {
   "display_name": "teaching",
   "language": "python",
   "name": "teaching"
  },
  "language_info": {
   "codemirror_mode": {
    "name": "ipython",
    "version": 3
   },
   "file_extension": ".py",
   "mimetype": "text/x-python",
   "name": "python",
   "nbconvert_exporter": "python",
   "pygments_lexer": "ipython3",
   "version": "3.11.3"
  }
 },
 "nbformat": 4,
 "nbformat_minor": 5
}
