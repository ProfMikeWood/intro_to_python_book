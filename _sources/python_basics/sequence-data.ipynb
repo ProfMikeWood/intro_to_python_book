{
 "cells": [
  {
   "cell_type": "markdown",
   "id": "49e61e1c",
   "metadata": {},
   "source": [
    "# Sequential Data Types\n",
    "\n",
    "Author: Mike Wood\n",
    "\n",
    "Learning Outcomes:\n",
    "By the end of this lesson, you should be able to:\n",
    "1. Create and access data within sequential data types (lists, tuples, and sets)\n",
    "2. Explain the differences between Python's sequential data types\n",
    "3. Call built-in methods on sequential data types and change from one sequential type to another"
   ]
  },
  {
   "cell_type": "markdown",
   "id": "04e2c288",
   "metadata": {},
   "source": [
    "## Lists\n",
    "\n",
    "One of the most common sequential data types used in Python is the list. Lists are used to carry groups of objects - primitive data types, objects, or even other lists.\n",
    "\n",
    "Lists typically hold homogenous data, such as integers or strings, and are delineated by square brackets:"
   ]
  },
  {
   "cell_type": "code",
   "execution_count": 2,
   "id": "38f5e3b6",
   "metadata": {},
   "outputs": [
    {
     "name": "stdout",
     "output_type": "stream",
     "text": [
      "[1, 2, 3, 4, 5]\n"
     ]
    }
   ],
   "source": [
    "# create a list of integers called my_numbers\n",
    "my_numbers = [1,2,3,4,5]\n",
    "\n",
    "# print the list\n",
    "print(my_numbers)"
   ]
  },
  {
   "cell_type": "code",
   "execution_count": 3,
   "id": "6ed7cb54",
   "metadata": {},
   "outputs": [
    {
     "name": "stdout",
     "output_type": "stream",
     "text": [
      "['This', 'is', 'a', 'list', 'of', 'words']\n"
     ]
    }
   ],
   "source": [
    "# create a list of strings called my_words\n",
    "my_words = [\"This\", \"is\", \"a\", \"list\", \"of\", \"words\"]\n",
    "\n",
    "# print the list\n",
    "print(my_words)"
   ]
  },
  {
   "cell_type": "markdown",
   "id": "777f574d",
   "metadata": {},
   "source": [
    "However, lists can mix and match data types, storing a variety of objects:"
   ]
  },
  {
   "cell_type": "code",
   "execution_count": 4,
   "id": "28029001",
   "metadata": {},
   "outputs": [
    {
     "name": "stdout",
     "output_type": "stream",
     "text": [
      "[1, 'a', ['Another', 'list']]\n"
     ]
    }
   ],
   "source": [
    "# create a list called mixed_list which has an integer, a string, and another list\n",
    "mixed_list = [1,\"a\",[\"Another\",\"list\"]]\n",
    "\n",
    "# print the list\n",
    "print(mixed_list)"
   ]
  },
  {
   "cell_type": "markdown",
   "id": "36577245-cd0f-43c3-be23-982b692d87e7",
   "metadata": {},
   "source": [
    "As we can see, lists are extremely flexible objects!\n",
    "\n",
    "To check how many objects are in a list, we can use the `len` method (short for length):"
   ]
  },
  {
   "cell_type": "code",
   "execution_count": 9,
   "id": "c7d4419d-c233-461e-9df1-58aad1c2374a",
   "metadata": {},
   "outputs": [
    {
     "name": "stdout",
     "output_type": "stream",
     "text": [
      "3\n"
     ]
    }
   ],
   "source": [
    "print(len(mixed_list))"
   ]
  },
  {
   "cell_type": "markdown",
   "id": "1d91993c-f1b2-41aa-97b9-00f1cd4da871",
   "metadata": {},
   "source": [
    "To access an object within a list, use the index of the item you are interested in:"
   ]
  },
  {
   "cell_type": "code",
   "execution_count": 5,
   "id": "ed6fde6a",
   "metadata": {},
   "outputs": [
    {
     "name": "stdout",
     "output_type": "stream",
     "text": [
      "a\n"
     ]
    }
   ],
   "source": [
    "# get the 3rd word in the my_words list and store it to a variable\n",
    "third_word = my_words[2]\n",
    "\n",
    "# print the variable\n",
    "print(third_word)"
   ]
  },
  {
   "cell_type": "markdown",
   "id": "72b0053c",
   "metadata": {},
   "source": [
    "If you're interested in more than one element, you can use a range of value with the start index up to the last index, for example:"
   ]
  },
  {
   "cell_type": "code",
   "execution_count": 16,
   "id": "b391015a",
   "metadata": {},
   "outputs": [
    {
     "name": "stdout",
     "output_type": "stream",
     "text": [
      "['is', 'a', 'list']\n"
     ]
    }
   ],
   "source": [
    "# print the words \"is\" \"a\" and \"list\" from the my_words list\n",
    "print(my_words[1:4])"
   ]
  },
  {
   "cell_type": "markdown",
   "id": "19a6e6d3-6b09-41a0-b48f-56b907ecb08a",
   "metadata": {},
   "source": [
    "To determine the index of a given object in a list, use the list's `.index` method"
   ]
  },
  {
   "cell_type": "code",
   "execution_count": 6,
   "id": "5b4c4489-15c6-467d-a013-6ae2be55db7e",
   "metadata": {},
   "outputs": [
    {
     "name": "stdout",
     "output_type": "stream",
     "text": [
      "3\n"
     ]
    }
   ],
   "source": [
    "# get the index of the word 'list' in the my_words list\n",
    "list_index = my_words.index('list')\n",
    "\n",
    "# print the index\n",
    "print(list_index)"
   ]
  },
  {
   "cell_type": "markdown",
   "id": "fb1433b4-a9e4-4dce-b1c5-157c770831fe",
   "metadata": {},
   "source": [
    "### &#x1F914; Mini-Exercise\n",
    "Goal: Print the string representation of a given integer.\n",
    "\n",
    "Method: Use the `.index` method to get the location of the given number in the integer list and use the index to retrieve the string representation from the string list. Be sure to print out your string."
   ]
  },
  {
   "cell_type": "code",
   "execution_count": 1,
   "id": "fa3fec92-3ef4-4535-9ab6-0ccd8b2203ed",
   "metadata": {},
   "outputs": [
    {
     "name": "stdout",
     "output_type": "stream",
     "text": [
      "three\n"
     ]
    }
   ],
   "source": [
    "# integers in the Fibonacci sequence\n",
    "int_list = [1, 2, 3, 5, 8, 13, 21, 34, 55]\n",
    "\n",
    "# string representation of integers in the Fibonacci sequence\n",
    "str_list = ['one', 'two', 'three', 'five', 'eight', 'thirteen',\n",
    "            'twenty-one', 'thirty-four', 'fifty-five']\n",
    "\n",
    "# get the string repesentation of this integer\n",
    "given_integer = 3"
   ]
  },
  {
   "cell_type": "markdown",
   "id": "599bbc3f",
   "metadata": {},
   "source": [
    "#### &#x1F4A1; Solution"
   ]
  },
  {
   "cell_type": "code",
   "execution_count": null,
   "id": "a05424f2",
   "metadata": {},
   "outputs": [],
   "source": [
    "# enter solution here\n",
    "string_representation = str_list[int_list.index(given_integer)]\n",
    "print(string_representation)"
   ]
  },
  {
   "cell_type": "markdown",
   "id": "1e067f77-c4ae-436f-96f5-011ead0a7e78",
   "metadata": {},
   "source": [
    "### Common List Methods:"
   ]
  },
  {
   "cell_type": "markdown",
   "id": "edd44caf-9cbe-4462-a419-12b76f2ce4a9",
   "metadata": {},
   "source": [
    "The following table summarizes some common list methods:"
   ]
  },
  {
   "cell_type": "markdown",
   "id": "8ea2d12a-c6ec-4154-8762-c6ebaba4baa4",
   "metadata": {},
   "source": [
    "| Method\t| Description                                                     |\n",
    "| --------- | --------------------------------------------------------------- |\n",
    "| append()  | Adds an element at the end of the list                          |\n",
    "| clear()   | Removes all the elements from the list                          |\n",
    "| copy()\t| Returns a copy of the list                                      |\n",
    "| count()   | Returns the number of elements with the given value             |\n",
    "| extend()  | Add the elements of a list, to the end of the current list      |\n",
    "| index()   | Returns the index of the first element with the specified value |\n",
    "| insert()  | Adds an element at the given position                           |\n",
    "| pop()     | Removes the element at the given position                       |\n",
    "| remove()  | Removes the first item with the given value                     |\n",
    "| reverse() | Reverses the order of the list                                  |\n",
    "| sort()\t| Sorts the list                                                  |"
   ]
  },
  {
   "cell_type": "markdown",
   "id": "07cd0ff3-ee1e-4a40-a5a8-49faf2cd4b22",
   "metadata": {},
   "source": [
    "## Tuples"
   ]
  },
  {
   "cell_type": "markdown",
   "id": "8297df48-1d49-47e3-b5ce-337cd4891263",
   "metadata": {},
   "source": [
    "Tuples are very similar to lists - they are groups of objects that can be of any size. Tuples are delineated by round parentheses:"
   ]
  },
  {
   "cell_type": "code",
   "execution_count": 7,
   "id": "728169d9-278c-45d1-a9a7-b670d2820f09",
   "metadata": {},
   "outputs": [
    {
     "name": "stdout",
     "output_type": "stream",
     "text": [
      "(1, 2, 3, 4, 5)\n"
     ]
    }
   ],
   "source": [
    "# create a tuple called my_numbers_tuple which has the integers 1-5\n",
    "my_numbers_tuple = (1, 2, 3, 4, 5)\n",
    "\n",
    "# print the tuple\n",
    "print(my_numbers_tuple)"
   ]
  },
  {
   "cell_type": "markdown",
   "id": "350f8b30-1221-4a49-af32-f46ec7285d5f",
   "metadata": {},
   "source": [
    "Similar to lists, tuples can mix and match data types:"
   ]
  },
  {
   "cell_type": "code",
   "execution_count": 8,
   "id": "41e76627-d92b-4984-9afa-45f5f83586a1",
   "metadata": {},
   "outputs": [
    {
     "name": "stdout",
     "output_type": "stream",
     "text": [
      "(1, 'a', ['Another', 'list'])\n"
     ]
    }
   ],
   "source": [
    "# create a tuple which has an integer, a string, and a list\n",
    "my_mixed_tuple = (1,\"a\",[\"Another\",\"list\"])\n",
    "\n",
    "# print the tuple\n",
    "print(my_mixed_tuple)"
   ]
  },
  {
   "cell_type": "markdown",
   "id": "2bb592c9-cb23-4b17-b238-ed7f42d888ff",
   "metadata": {},
   "source": [
    "Tuples have many of the same methods as lists:"
   ]
  },
  {
   "cell_type": "code",
   "execution_count": 30,
   "id": "f9f6bb34-785d-4ebd-8e50-774af099cf55",
   "metadata": {},
   "outputs": [
    {
     "name": "stdout",
     "output_type": "stream",
     "text": [
      "1\n",
      "5\n"
     ]
    }
   ],
   "source": [
    "# print the first entry in my_numbers_tuple\n",
    "print(my_numbers_tuple[0])\n",
    "\n",
    "# get the number of elements in my_numbers_tuple\n",
    "print(len(my_numbers_tuple))"
   ]
  },
  {
   "cell_type": "markdown",
   "id": "e49aab5d-1982-4705-8b60-37877a3001e6",
   "metadata": {},
   "source": [
    "The main difference between tuples and lists are that tuples are **immutable** - that is, they cannot be changed once they are created. Try this for yourself:"
   ]
  },
  {
   "cell_type": "code",
   "execution_count": 1,
   "id": "f8dba7ce-788e-4c54-9169-177125e1420e",
   "metadata": {},
   "outputs": [],
   "source": [
    "# try to change the last element in my_numbers_tuple to the integer 6\n",
    "# by uncommenting the line below\n",
    "\n",
    "# my_numbers_tuple[-1] = 6\n",
    "\n",
    "# what happens?"
   ]
  },
  {
   "cell_type": "markdown",
   "id": "2f5ea998",
   "metadata": {},
   "source": [
    "Lists and tuples can be converted to one another by wrapping them in the desired sequence type."
   ]
  },
  {
   "cell_type": "code",
   "execution_count": 3,
   "id": "8bb251f2",
   "metadata": {},
   "outputs": [
    {
     "name": "stdout",
     "output_type": "stream",
     "text": [
      "[1, 2, 3, 4]\n",
      "<class 'list'>\n",
      " \n",
      "(1, 2, 3, 4)\n",
      "<class 'tuple'>\n",
      " \n",
      "[1, 2, 3, 4]\n",
      "<class 'list'>\n"
     ]
    }
   ],
   "source": [
    "# create a list of objects\n",
    "my_list = [1,2,3,4]\n",
    "print(my_list)\n",
    "print(type(my_list))\n",
    "print(' ')\n",
    "\n",
    "# convert the list to a tuple and print its type\n",
    "my_list = tuple(my_list)\n",
    "print(my_list)\n",
    "print(type(my_list))\n",
    "print(' ')\n",
    "\n",
    "# convert the tuple back to a list and print its type\n",
    "my_list = list(my_list)\n",
    "print(my_list)\n",
    "print(type(my_list))"
   ]
  },
  {
   "cell_type": "markdown",
   "id": "bde75bb1-8dc5-4f54-b408-58d65b5067f3",
   "metadata": {},
   "source": [
    "## Sets"
   ]
  },
  {
   "cell_type": "markdown",
   "id": "ab535f21",
   "metadata": {},
   "source": [
    "Sets are similar to lists and tuples except that they only store unique values. They are initialized with curly brackets `{}`"
   ]
  },
  {
   "cell_type": "code",
   "execution_count": 10,
   "id": "f7961c95",
   "metadata": {},
   "outputs": [
    {
     "name": "stdout",
     "output_type": "stream",
     "text": [
      "{1, 2, 3, 4}\n",
      "{1, 2, 3, 4}\n"
     ]
    }
   ],
   "source": [
    "# initialize a set of numbers\n",
    "my_set_1 = {1,2,3,4}\n",
    "print(my_set_1)\n",
    "\n",
    "# initialize a set of number with duplicates - what happens?\n",
    "my_set_2 = {1,2,3,4,4,4}\n",
    "print(my_set_2)"
   ]
  },
  {
   "cell_type": "markdown",
   "id": "072f8c17",
   "metadata": {},
   "source": [
    "Just like tuples, sets can be converted to lists ands vice verse. However, the uniqueness feature of sets means that duplicates will be removed. Try this for yourself:"
   ]
  },
  {
   "cell_type": "code",
   "execution_count": 9,
   "id": "06bd9e0d",
   "metadata": {},
   "outputs": [
    {
     "name": "stdout",
     "output_type": "stream",
     "text": [
      "[1, 2, 2, 3, 3, 4, 4]\n",
      "{1, 2, 3, 4}\n"
     ]
    }
   ],
   "source": [
    "# make a list with duplicates\n",
    "my_duplicate_list = [1,2,2,3,3,4,4]\n",
    "print(my_duplicate_list)\n",
    "\n",
    "# convert the list to a set\n",
    "my_duplicate_list = set(my_duplicate_list)\n",
    "print(my_duplicate_list)"
   ]
  },
  {
   "cell_type": "markdown",
   "id": "d1f95969",
   "metadata": {},
   "source": [
    "### &#x1F914; Mini-Exercise\n",
    "Goal: Get a list of unqiue values in a list with duplicates.\n"
   ]
  },
  {
   "cell_type": "code",
   "execution_count": 17,
   "id": "19e1feae",
   "metadata": {},
   "outputs": [
    {
     "name": "stdout",
     "output_type": "stream",
     "text": [
      "['Arora', 'Chen', 'Ho', 'Jones', 'Koh', 'Mamidi', 'Nguyen', 'Phan', 'Wood']\n"
     ]
    }
   ],
   "source": [
    "# list of student surnames with duplicates\n",
    "student_surnames = ['Wood', 'Chen', 'Nguyen', 'Ho', 'Koh', 'Jones', 'Nguyen', 'Jones',\n",
    "                    'Nguyen', 'Arora', 'Mamidi', 'Nguyen', 'Phan', 'Wood']"
   ]
  },
  {
   "cell_type": "markdown",
   "id": "07204256",
   "metadata": {},
   "source": [
    "#### &#x1F4A1; Solution"
   ]
  },
  {
   "cell_type": "code",
   "execution_count": null,
   "id": "ee7cf2a2",
   "metadata": {},
   "outputs": [],
   "source": [
    "# make a list of unique student surnames\n",
    "# print the surnames in alphabetical order\n",
    "unique_student_surnames = sorted(list(set(student_surnames)))\n",
    "print(unique_student_surnames)"
   ]
  }
 ],
 "metadata": {
  "kernelspec": {
   "display_name": "teaching",
   "language": "python",
   "name": "teaching"
  },
  "language_info": {
   "codemirror_mode": {
    "name": "ipython",
    "version": 3
   },
   "file_extension": ".py",
   "mimetype": "text/x-python",
   "name": "python",
   "nbconvert_exporter": "python",
   "pygments_lexer": "ipython3",
   "version": "3.11.3"
  }
 },
 "nbformat": 4,
 "nbformat_minor": 5
}
