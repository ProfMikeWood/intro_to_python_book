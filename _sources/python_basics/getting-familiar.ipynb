{
 "cells": [
  {
   "cell_type": "markdown",
   "id": "31d0689d-ef9b-4826-80b9-6b3369e81c0c",
   "metadata": {},
   "source": [
    "# Getting Familiar with Python\n",
    "\n",
    "Author: Mike Wood\n",
    "\n",
    "Learning objectives: By the end of this notebook, you should be able to:\n",
    "1. Identify differences between Python and other computing languages\n",
    "2. Describe common syntax and stylistic conventions of the Python language\n",
    "3. Assess how data is stored in coding cells in Jupyter Notebooks"
   ]
  },
  {
   "cell_type": "markdown",
   "id": "3237cd5f-e74b-4f9f-81fe-b0bc169bb305",
   "metadata": {},
   "source": [
    "## Differences between Python and other common languages\n",
    "\n",
    "This guide is aimed at people who have some prior knowledge of another programming language. For example, computer science students likely have some experience with Java or C while data or marine science students may have some experience with MATLAB or R. To get us on the same page, we'll begin by examining four differences between Python and other common language paradigms."
   ]
  },
  {
   "cell_type": "markdown",
   "id": "670d437d-697b-4a6e-9252-61322879c130",
   "metadata": {},
   "source": [
    "### Difference 1: Implicit Variable Assignment\n",
    "Once facet of the Python programming language is that variable types are assigned implicitly -- that is, they are assigned based on the on the type of data stored in them upon declaration.\n",
    "\n",
    "Let's look at a couple examples:"
   ]
  },
  {
   "cell_type": "code",
   "execution_count": 1,
   "id": "96f9667c-ba7e-4937-a5ed-6698cf8ee25e",
   "metadata": {},
   "outputs": [
    {
     "name": "stdout",
     "output_type": "stream",
     "text": [
      "<class 'int'>\n"
     ]
    }
   ],
   "source": [
    "# define a variable and store an integer in it\n",
    "x = 5\n",
    "\n",
    "# print the type of the variable\n",
    "print(type(x))"
   ]
  },
  {
   "cell_type": "code",
   "execution_count": 2,
   "id": "bf053cc9-8adb-44ff-9103-d596b15cd5d7",
   "metadata": {},
   "outputs": [
    {
     "name": "stdout",
     "output_type": "stream",
     "text": [
      "<class 'str'>\n"
     ]
    }
   ],
   "source": [
    "# define another variable and store a string in it\n",
    "y = 'five'\n",
    "\n",
    "# print the type of the second variable\n",
    "print(type(y))"
   ]
  },
  {
   "cell_type": "markdown",
   "id": "69965d29",
   "metadata": {},
   "source": [
    "As we can see, the variable `x` has an `int` type because it was assigned 5 while `y` has type `str` because it was assigned `'five'`. Notice that neither of these types were declared prior to assignment. For this reason, it is important to keep in mind the type of each variable and to check types when looking for possible bugs in your code."
   ]
  },
  {
   "cell_type": "markdown",
   "id": "df64ec9d-ea3b-4df9-b58b-fe12f5631da1",
   "metadata": {},
   "source": [
    "### Difference 2: Variable Type Re-Assignment\n",
    "In many languages, a variable type cannot be implicitly changed after it is declared. For example, in the example above, the variable `x` could not be reassigned to `'five'` because it is already in integer. These restriction are relaxed in Python, so that variable types can be changed by reassignment. \n",
    "\n",
    "Let's take a look at an example:"
   ]
  },
  {
   "cell_type": "code",
   "execution_count": 3,
   "id": "b4b7ae32-ffbd-4dfb-ad08-8d650a16ed0e",
   "metadata": {},
   "outputs": [
    {
     "name": "stdout",
     "output_type": "stream",
     "text": [
      "5 <class 'int'>\n"
     ]
    }
   ],
   "source": [
    "# reassign an integer to the second variable\n",
    "y = 5\n",
    "\n",
    "# print the second variable and its type\n",
    "print(y, type(y))"
   ]
  },
  {
   "cell_type": "markdown",
   "id": "a74cc4f9",
   "metadata": {},
   "source": [
    "As we can see above, the variable `y` is now an integer, rather than a string. This feature of Python can be very convenient but beware - it is quite easy to reuse the same variable names in long pieces of code without realizing it."
   ]
  },
  {
   "cell_type": "markdown",
   "id": "59a71fe3-5075-4364-85a5-59e263e2773b",
   "metadata": {},
   "source": [
    "### Difference 3: Integer Divisions\n",
    "In many program languages, conducting mathematical operations with numbers will retain the initial variable types. For example, consider computing the sum of two integers:"
   ]
  },
  {
   "cell_type": "code",
   "execution_count": 4,
   "id": "b0f6a27d-bb3e-4781-8c34-c13d56352939",
   "metadata": {},
   "outputs": [],
   "source": [
    "# define three integers x, y, and z\n",
    "x = 6\n",
    "y = 5\n",
    "z = 2"
   ]
  },
  {
   "cell_type": "code",
   "execution_count": 5,
   "id": "5e193cb7-7d81-48ad-8c42-16f425ae0a93",
   "metadata": {},
   "outputs": [],
   "source": [
    "# compute the sum of pairs of variables and store into new variables sum_1 and sum_2\n",
    "sum_1 = x+z\n",
    "sum_2 = y+z"
   ]
  },
  {
   "cell_type": "markdown",
   "id": "c937479e",
   "metadata": {},
   "source": [
    "Then, let's check their types:"
   ]
  },
  {
   "cell_type": "code",
   "execution_count": 6,
   "id": "6b786e3a-49b6-477c-b936-6ba02284610f",
   "metadata": {},
   "outputs": [
    {
     "name": "stdout",
     "output_type": "stream",
     "text": [
      "8 <class 'int'>\n",
      "7 <class 'int'>\n"
     ]
    }
   ],
   "source": [
    "# print sum_1 and sum_2 along with their types\n",
    "print(sum_1, type(sum_1))\n",
    "print(sum_2, type(sum_2))"
   ]
  },
  {
   "cell_type": "markdown",
   "id": "3846dd28",
   "metadata": {},
   "source": [
    "As we can see, the sume of two integers gives you an interger - so far so good. What about division? As of Python 3, integer division will generate a float, if necessary!"
   ]
  },
  {
   "cell_type": "code",
   "execution_count": 7,
   "id": "b8ec7fb0-e041-4253-8f24-df8ac6c9615a",
   "metadata": {},
   "outputs": [
    {
     "name": "stdout",
     "output_type": "stream",
     "text": [
      "3.0 <class 'float'>\n",
      "2.5 <class 'float'>\n"
     ]
    }
   ],
   "source": [
    "# compute the division of two sets of variables and store them in\n",
    "# variables divisor_1 and divisor_2\n",
    "divisor_1 = x/z\n",
    "divisor_2 = y/z\n",
    "\n",
    "# print divisor_1 and divisor_2\n",
    "print(divisor_1, type(divisor_1))\n",
    "print(divisor_2, type(divisor_2))"
   ]
  },
  {
   "cell_type": "markdown",
   "id": "d0345a17",
   "metadata": {},
   "source": [
    "As we can see, division will always result in a float - even if the result is a whole number. This is a big change from Python 2 and many other programming languages."
   ]
  },
  {
   "cell_type": "markdown",
   "id": "07afb227-f9fc-4ae0-ac1c-c1d62ef728bd",
   "metadata": {},
   "source": [
    "### Difference 4: Blocks (a.k.a. spaces matter)\n",
    "In other programming languages, coding \"blocks\" (e.g. conditional execution statements, loops, etc) are delineated by curly bracers or other annotations. In Python, code blocks are delineated by spaces. Typically, 4 spaces are used to indicated an indented code block. For example, in an `if` statement, all code inside the statement should be indented by 4 spaces:"
   ]
  },
  {
   "cell_type": "code",
   "execution_count": 8,
   "id": "cea52033-3315-4dca-80d0-509fedc740c8",
   "metadata": {},
   "outputs": [
    {
     "name": "stdout",
     "output_type": "stream",
     "text": [
      "Yep, a = 1\n"
     ]
    }
   ],
   "source": [
    "# write a simple if block to showcase Python's indentation\n",
    "a=1\n",
    "if a==1:\n",
    "    print('Yep, a = 1')"
   ]
  },
  {
   "cell_type": "markdown",
   "id": "dbf2126d",
   "metadata": {},
   "source": [
    "Similarly, for a `for` loop, all statements in the loop should be indented by 4 spaces."
   ]
  },
  {
   "cell_type": "code",
   "execution_count": 9,
   "id": "ac01cb05-5ccc-4e62-b6fe-563487dd2d80",
   "metadata": {},
   "outputs": [
    {
     "name": "stdout",
     "output_type": "stream",
     "text": [
      "0\n",
      "1\n",
      "2\n",
      "3\n",
      "4\n"
     ]
    }
   ],
   "source": [
    "# write a simple for block to showcase Python's indentation\n",
    "for i in range(5):\n",
    "    print(i)"
   ]
  },
  {
   "cell_type": "markdown",
   "id": "2c6b9a02-046c-4850-a79e-3eb245355785",
   "metadata": {},
   "source": [
    "## Python syntax and stylistic conventions\n",
    "\n",
    "As with all programming languages, Python users have developed a unique set of syntax rules and stylistic conventions for writing and organizing code. Here are 6 notes on syntax and style:"
   ]
  },
  {
   "cell_type": "markdown",
   "id": "6740eee9-ebb5-4437-9b2d-7e815fa6fbd3",
   "metadata": {},
   "source": [
    "### Note 1: Comments\n",
    "As in all of programming, extensive comments in the code are essential for code comprehension and collaboration. In Python, comments are written with \"hashtags\" (or \"pound signs\", depending on your generation). In general, the more descriptive the comment, the better! For example:"
   ]
  },
  {
   "cell_type": "code",
   "execution_count": 10,
   "id": "c939d2c3-bfd2-4200-8cb7-a9e9d22c8d6a",
   "metadata": {},
   "outputs": [
    {
     "name": "stdout",
     "output_type": "stream",
     "text": [
      "17\n"
     ]
    }
   ],
   "source": [
    "# here I define the variable x\n",
    "x = 17\n",
    "\n",
    "# now I will print x\n",
    "print(x)"
   ]
  },
  {
   "cell_type": "markdown",
   "id": "4dbded22-4fee-46d9-8346-bc9dace100ab",
   "metadata": {},
   "source": [
    "### Note 2: Variable Names\n",
    "In Python, the following conventions are used for variables, functions, classes, variable types, and constants. (Respectively, these styles are refered to as \"snake case\", \"Camel Case\", and \"Screaming Snake Case\".)"
   ]
  },
  {
   "cell_type": "markdown",
   "id": "d0529342-fc8b-4c68-bf8d-84ba9f3b5833",
   "metadata": {},
   "source": [
    "| Type | Example |\n",
    "| -- | -- |\n",
    "| variable or function name | a_variable_name | \n",
    "| class or type name | aClassName | \n",
    "| constant name | name of a constant value  | A_CONSTANT |"
   ]
  },
  {
   "cell_type": "markdown",
   "id": "8cf2c693-ceb4-43c0-a34f-077feb9dd7ba",
   "metadata": {},
   "source": [
    "### Note #3: Splitting strings across lines\n",
    "In Python, strings must be kept on the same line. However, we may want long strings in our code that extend too far. In this case, you will want to split a string across one or more lines. To split strings across a line, you have two options.\n",
    "\n",
    "First, you can wrap your string components in parentheses:"
   ]
  },
  {
   "cell_type": "code",
   "execution_count": 11,
   "id": "af8ebf2f-3b4c-4f21-ac03-f697575ca95d",
   "metadata": {},
   "outputs": [
    {
     "name": "stdout",
     "output_type": "stream",
     "text": [
      "The quick brown fox jumped over the lazy brown dog.\n"
     ]
    }
   ],
   "source": [
    "# make a string called sentence and split it across\n",
    "# two lines with parentheses - then print it\n",
    "sentence = (\"The quick brown fox jumped over \"\n",
    "\"the lazy brown dog.\")\n",
    "\n",
    "# print the string\n",
    "print(sentence)"
   ]
  },
  {
   "cell_type": "markdown",
   "id": "fee9f9e2-7f54-48b0-9c62-ca2b1ff90ddc",
   "metadata": {},
   "source": [
    "Alternatively, you can use the concatenation symbol (`+`) and the continuation character (`\\`):"
   ]
  },
  {
   "cell_type": "code",
   "execution_count": 12,
   "id": "dfb59987-9a0f-42d8-b3ed-1d3770058587",
   "metadata": {},
   "outputs": [
    {
     "name": "stdout",
     "output_type": "stream",
     "text": [
      "The quick brown fox jumped over the lazy brown dog.\n"
     ]
    }
   ],
   "source": [
    "# make a string called sentence and split it across\n",
    "# two lines with a concatentation symbol - then print it\n",
    "sentence = 'The quick brown fox jumped over ' \\\n",
    " + 'the lazy brown dog.'\n",
    "\n",
    "# print the string\n",
    "print(sentence)"
   ]
  },
  {
   "cell_type": "markdown",
   "id": "4e29d499-2c0a-42b1-a246-75f4a133f694",
   "metadata": {},
   "source": [
    "### Note #4: String Quotes\n",
    "Speaking of string, you may have noticed in the previous coding blocks that one example used double quotes while another used single quotes. In Python, it turns out that it doesn't matter whether you use single or double quotes! However, it is good practice to remain consistent throughout your code.\n",
    "\n",
    "While sticking with single and double quotes is good practice, it is also OK to use both together since they are equivalent:"
   ]
  },
  {
   "cell_type": "code",
   "execution_count": 13,
   "id": "a6ee7bd9-4ac4-4dd2-9c05-2ca113787816",
   "metadata": {},
   "outputs": [
    {
     "name": "stdout",
     "output_type": "stream",
     "text": [
      "Mike Wood\n"
     ]
    }
   ],
   "source": [
    "# showcase two strings defined with both single and double quotes\n",
    "string_1 = \"Mike \"\n",
    "string_2 = 'Wood'\n",
    "\n",
    "# print the strings\n",
    "print(string_1 + string_2)"
   ]
  },
  {
   "cell_type": "markdown",
   "id": "7d3b2518-47f3-4fda-b197-b26b0715f14f",
   "metadata": {},
   "source": [
    "In fact, it can be advantageous to use one or the other if you also need quotes within your string:"
   ]
  },
  {
   "cell_type": "code",
   "execution_count": 14,
   "id": "9b916d74-9bf4-448d-8204-49c984888615",
   "metadata": {},
   "outputs": [
    {
     "name": "stdout",
     "output_type": "stream",
     "text": [
      "Mike's last name is \"Wood\"\n"
     ]
    }
   ],
   "source": [
    "# show two examples of one type of quote used inside a string defined with the other\n",
    "string_1 = \"Mike's last name is \"\n",
    "string_2 = '\"Wood\"'\n",
    "\n",
    "# print the strings\n",
    "print(string_1 + string_2)"
   ]
  },
  {
   "cell_type": "markdown",
   "id": "3bfa542f-5b47-4cf9-845b-b947823e368a",
   "metadata": {},
   "source": [
    "### Note #5: Reserved Names\n",
    "Similar to Python's flexibility in allowing a user to redefine a variable type by reassignment, Python also allows you to overwrite built-in methods. Be careful with this functionality as it could cause some issues.\n",
    "\n",
    "For example, we have been using the built-in `print` method to print out strings and variables, e.g.:"
   ]
  },
  {
   "cell_type": "code",
   "execution_count": 15,
   "id": "8945240d-8a45-40f9-a7e9-af543602fe52",
   "metadata": {},
   "outputs": [
    {
     "name": "stdout",
     "output_type": "stream",
     "text": [
      "Mike's last name is \n"
     ]
    }
   ],
   "source": [
    "# print one of the strings above\n",
    "print(string_1)"
   ]
  },
  {
   "cell_type": "markdown",
   "id": "0d13df9c-18e8-43b3-b5d2-e00d91469a9e",
   "metadata": {},
   "source": [
    "In Python, there are no rules against using `print` as a variable name:"
   ]
  },
  {
   "cell_type": "code",
   "execution_count": 16,
   "id": "995dece9-c32f-4461-91db-c9566388ef25",
   "metadata": {},
   "outputs": [],
   "source": [
    "# assign an integer to a variable named print\n",
    "print = 10"
   ]
  },
  {
   "cell_type": "markdown",
   "id": "14a2799d-24eb-4d82-bed6-d1ab7be62a98",
   "metadata": {},
   "source": [
    "However, print is no longer our usual print command. What happens if you run the following cell?"
   ]
  },
  {
   "cell_type": "code",
   "execution_count": 17,
   "id": "89e4c9f2-518b-4fd7-b761-0cf50fad61c9",
   "metadata": {},
   "outputs": [],
   "source": [
    "# uncomment and run this cell\n",
    "# print(string_1)"
   ]
  },
  {
   "cell_type": "markdown",
   "id": "a670b1ba-89df-4e03-96de-6e2755db99d7",
   "metadata": {},
   "source": [
    "Arg! We get an error and we can no longer use the print method. If you happen to overwrite a method, then use the `del` command to delete the reference."
   ]
  },
  {
   "cell_type": "code",
   "execution_count": 18,
   "id": "46a9f2a7-404e-4afe-a47c-944e067cf35b",
   "metadata": {},
   "outputs": [],
   "source": [
    "del print"
   ]
  },
  {
   "cell_type": "markdown",
   "id": "9e4eeea9-3c38-4c9c-bb35-232f99aa6158",
   "metadata": {},
   "source": [
    "Now, we can use our print method yet again:"
   ]
  },
  {
   "cell_type": "code",
   "execution_count": 19,
   "id": "6fec131b-b170-4470-a17b-0ca3f1efacb0",
   "metadata": {},
   "outputs": [
    {
     "name": "stdout",
     "output_type": "stream",
     "text": [
      "Mike's last name is \n"
     ]
    }
   ],
   "source": [
    "# print one of the strings above\n",
    "print(string_1)"
   ]
  },
  {
   "cell_type": "markdown",
   "id": "cf350205-21c0-4894-a11f-7061034fdd45",
   "metadata": {},
   "source": [
    "To see all of the names defined in Python, you can use the following command:"
   ]
  },
  {
   "cell_type": "code",
   "execution_count": 20,
   "id": "18bf4b20-897e-4bbe-a027-b9886f916c8e",
   "metadata": {},
   "outputs": [],
   "source": [
    "# uncomment to see all names\n",
    "# dir(__builtins__)"
   ]
  },
  {
   "cell_type": "markdown",
   "id": "a3beb62e-778b-46db-8bc4-e3435fb13581",
   "metadata": {},
   "source": [
    "### Note #6: Python Style and Readablility!\n",
    "In Python, the goal is to make your code as readable as possible. This is helpful for collaboration and for returning to code you have written."
   ]
  },
  {
   "cell_type": "markdown",
   "id": "b6426daf-f5a6-4798-a5eb-4cdeaef9983c",
   "metadata": {},
   "source": [
    "To begin you exploration in Python, here are 4 recommendations for good Python style:\n",
    "#### 4 Preliminary Style Recommendations\n",
    "1. Add comments to your code (or markdown cells in Jupyter)\n",
    "2. Use descriptive variables names\n",
    "3. Avoid extremely long lines (cap at 72 characters)\n",
    "4. Add spacing between lines and between operators\n",
    "\n",
    "There are full list of guidelines available at https://peps.python.org/pep-0008/"
   ]
  },
  {
   "cell_type": "markdown",
   "id": "5631f12c-90e1-42e6-9246-4c864a43fe34",
   "metadata": {},
   "source": [
    "## A Final Note on Jupyter Variables"
   ]
  },
  {
   "cell_type": "markdown",
   "id": "82ad2c83-e606-48f0-8422-81f37968dc5a",
   "metadata": {},
   "source": [
    "As with nearly all resources in this guide, this page is written in a Jupyter notebook. In Jupyter notebooks, variables are stored into memory and can be accessed by subsequent cells. However, cells above the current cell can also use variables define here.\n",
    "\n",
    "This can get you into trouble and is worthy of a warning:\n",
    "\n",
    "```{warning}\n",
    "Variables defined in subsequent cells in a notebook can overwrite those defined previously. Use caution when running cells out of the top-to-bottom order in a Jupyter notebook.\n",
    "```\n",
    "\n",
    "Let's take a look at an example. Consider the following variable definition:"
   ]
  },
  {
   "cell_type": "code",
   "execution_count": 21,
   "id": "09fcc26e-8995-4af7-b57b-90e037272e7e",
   "metadata": {},
   "outputs": [],
   "source": [
    "# assign 'six' to the variable z\n",
    "z = 'six'"
   ]
  },
  {
   "cell_type": "markdown",
   "id": "2ef4de44-6db3-43d2-8884-203e808765ff",
   "metadata": {},
   "source": [
    "Now, return to the cells above on sums and divisors and run one of the calculations. What happens?"
   ]
  }
 ],
 "metadata": {
  "kernelspec": {
   "display_name": "Python 3 (ipykernel)",
   "language": "python",
   "name": "python3"
  },
  "language_info": {
   "codemirror_mode": {
    "name": "ipython",
    "version": 3
   },
   "file_extension": ".py",
   "mimetype": "text/x-python",
   "name": "python",
   "nbconvert_exporter": "python",
   "pygments_lexer": "ipython3",
   "version": "3.11.9"
  }
 },
 "nbformat": 4,
 "nbformat_minor": 5
}
