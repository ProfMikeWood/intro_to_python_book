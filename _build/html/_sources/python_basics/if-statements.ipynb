{
 "cells": [
  {
   "cell_type": "markdown",
   "id": "49e61e1c",
   "metadata": {},
   "source": [
    "# If Statements"
   ]
  },
  {
   "cell_type": "markdown",
   "id": "0c3a7daa-0a0a-481c-974f-6acd970606db",
   "metadata": {},
   "source": [
    "Author: Mike Wood\n",
    "\n",
    "Learning Objectives:\n",
    "\n",
    "By the end of this notebook, you should be able to:\n",
    "1. Write an `if` statement to control decisions within a code block\n",
    "2. Use an `else` statement to provife an alternative to `if` statements\n",
    "3. Implement `elif` statement to provide alternatives to a single `if` statement"
   ]
  },
  {
   "cell_type": "markdown",
   "id": "0d4b0f71",
   "metadata": {},
   "source": [
    "## if-elif-else statements"
   ]
  },
  {
   "cell_type": "markdown",
   "id": "acf1e5a8",
   "metadata": {},
   "source": [
    "An `if` statement is a handy piece of code to control whether a given piece of code is going to run. The `if` keyword is followed by a condition that can be interpreted to be True or False, followed by a colon. Below the if statement, all lines to be run when the condition is true are indented using 4 spaces. To end the code block, the indendation is decreased "
   ]
  },
  {
   "cell_type": "code",
   "execution_count": 1,
   "id": "58d5c54f",
   "metadata": {},
   "outputs": [
    {
     "name": "stdout",
     "output_type": "stream",
     "text": [
      "It is morning\n"
     ]
    }
   ],
   "source": [
    "# write an if statement that will print a statement when a condition is true\n",
    "hour = 11\n",
    "if hour<12:\n",
    "    print('It is morning')"
   ]
  },
  {
   "cell_type": "markdown",
   "id": "d3d65062",
   "metadata": {},
   "source": [
    "Often, we'd like to provide an alternative piece of code if our condition is not met -- this is accomplished with an `else` statement. The `else` keyword is followed by a colon and, similar to the `if` block, the code to be run is indented by 4 spaces."
   ]
  },
  {
   "cell_type": "code",
   "execution_count": 2,
   "id": "dc226d26",
   "metadata": {},
   "outputs": [
    {
     "name": "stdout",
     "output_type": "stream",
     "text": [
      "It is not morning\n"
     ]
    }
   ],
   "source": [
    "# write an if statement that will print a statement when a condition is true\n",
    "# provide an else statement that will run when a statement is false\n",
    "hour = 15\n",
    "if hour<12:\n",
    "    print('It is morning')\n",
    "else:\n",
    "    print('It is not morning')"
   ]
  },
  {
   "cell_type": "markdown",
   "id": "90b4c7ca",
   "metadata": {},
   "source": [
    "Similarly, we may want to provide a cascade of options between the first `if` statement and the final `else` statement. In Python, the syntax for these intermediate statements is `elif`."
   ]
  },
  {
   "cell_type": "code",
   "execution_count": 3,
   "id": "bd5ee53d",
   "metadata": {},
   "outputs": [
    {
     "name": "stdout",
     "output_type": "stream",
     "text": [
      "It is morning\n"
     ]
    }
   ],
   "source": [
    "# write an if statement that will print a statement when a condition is true\n",
    "# provide an altertantive elif statment if there first statement is not true\n",
    "# provide an else statement that will run when none of the statements are true\n",
    "hour = 9\n",
    "if hour<12:\n",
    "    print('It is morning')\n",
    "elif hour>18:\n",
    "    print('It is night')\n",
    "else:\n",
    "    print('It is afternoon')"
   ]
  },
  {
   "cell_type": "markdown",
   "id": "a0e14d68",
   "metadata": {},
   "source": [
    "### &#x1F914; Mini-Exercise\n",
    "Goal: Write a code block that will provide the name of the day of the week when provided with a number 1-7. For example, when `week_day = 1`, the block should return `Monday`, `week_day = 5`, the block should return `Friday`, etc. If the number is not in the range 1-7, print a statement that indicates the number is invalid."
   ]
  },
  {
   "cell_type": "markdown",
   "id": "bde83b2c",
   "metadata": {},
   "source": [
    "#### &#x1F4A1; Solution"
   ]
  },
  {
   "cell_type": "code",
   "execution_count": 4,
   "id": "0240e349-5f01-469b-a277-1f838f95081d",
   "metadata": {},
   "outputs": [
    {
     "name": "stdout",
     "output_type": "stream",
     "text": [
      "Monday\n"
     ]
    }
   ],
   "source": [
    "# define the week day number\n",
    "week_day = 1\n",
    "\n",
    "# write if, elif, and else statements to print the name of the\n",
    "# day of the week as described in the markdown cell above\n",
    "if week_day == 1:\n",
    "    print('Monday')\n",
    "elif week_day == 2:\n",
    "    print('Tuesday') \n",
    "elif week_day == 3:\n",
    "    print('Wednesday')\n",
    "elif week_day == 4:\n",
    "    print('Thursday')\n",
    "elif week_day == 5:\n",
    "    print('Friday')\n",
    "elif week_day == 6:\n",
    "    print('Saturday')\n",
    "elif week_day == 7:\n",
    "    print('Sunday')\n",
    "else:\n",
    "    print(week_day, 'is an invalid day number')\n"
   ]
  }
 ],
 "metadata": {
  "kernelspec": {
   "display_name": "teaching",
   "language": "python",
   "name": "teaching"
  },
  "language_info": {
   "codemirror_mode": {
    "name": "ipython",
    "version": 3
   },
   "file_extension": ".py",
   "mimetype": "text/x-python",
   "name": "python",
   "nbconvert_exporter": "python",
   "pygments_lexer": "ipython3",
   "version": "3.11.3"
  }
 },
 "nbformat": 4,
 "nbformat_minor": 5
}
