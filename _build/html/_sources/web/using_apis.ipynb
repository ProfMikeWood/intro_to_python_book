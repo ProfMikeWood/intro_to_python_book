{
 "cells": [
  {
   "cell_type": "markdown",
   "id": "86545698-b68a-45c8-ad91-5ff49e2ecc11",
   "metadata": {},
   "source": [
    "# Obtaining Data with APIs\n",
    "\n",
    "Author: Mike Wood\n",
    "\n",
    "By the end of this notebook, you should be able to:\n",
    "1. Access the Google API\n",
    "2. Access metadata from a YouTube video\n",
    "3. Obtain information about messages in your Gmail inbox\n",
    "\n",
    "In this lesson, we will explore how to obtain data using APIs with Python. We will use the Google API as an example for getting started with APIs.\n",
    "\n",
    "```{note}\n",
    "The examples in this notebook require credentials specific to my Google account. As I don't want to put this information online, I have output the results of my API requests into a pickle file provided with this notebook. I will pre-load the results of the requests from this pickle file in the following code block.\n",
    "```"
   ]
  },
  {
   "cell_type": "code",
   "execution_count": 1,
   "id": "e3a02c14",
   "metadata": {},
   "outputs": [],
   "source": [
    "# here, I will load the pre-staged API requests\n",
    "import pickle\n",
    "with open('api_requests.pkl','rb') as prestaged_requests:\n",
    "    response1 = pickle.load(prestaged_requests)\n",
    "    response2 = pickle.load(prestaged_requests)\n",
    "    response3 = pickle.load(prestaged_requests)\n",
    "    response4 = pickle.load(prestaged_requests)\n",
    "    response5 = pickle.load(prestaged_requests)"
   ]
  },
  {
   "cell_type": "markdown",
   "id": "b32985e9",
   "metadata": {},
   "source": [
    "**New conda packages**\n",
    "\n",
    "To use this notebook, we will need to install the following conda packages:\n",
    "```\n",
    "conda install google-api-python-client\n",
    "conda install google-auth-oauthlib\n",
    "conda install google-auth-httplib2\n",
    "```\n",
    "After these packages are installed, import them below:"
   ]
  },
  {
   "cell_type": "code",
   "execution_count": 2,
   "id": "f901493b-0939-4910-bfa7-2637984c3960",
   "metadata": {},
   "outputs": [],
   "source": [
    "import google_auth_oauthlib.flow\n",
    "import googleapiclient.discovery\n",
    "import googleapiclient.errors"
   ]
  },
  {
   "cell_type": "markdown",
   "id": "10dbcb34-ec1e-400c-aa9c-1ee3996141e4",
   "metadata": {},
   "source": [
    "## Google APIs\n",
    "Google has a many different APIs that can be used to access data in applications hosted by Google. To begin, we will create a **New Project** in the [Google Cloud Console](https://console.cloud.google.com/).\n",
    "\n",
    "After creating a project, we will navigate to the **Credentials** tab under **APIs and Services**. In this tab, choose **+ Credentials** and create an **API Key**. \n",
    "\n",
    "After you have created your key, enter it below:"
   ]
  },
  {
   "cell_type": "code",
   "execution_count": 3,
   "id": "ae39624a-16f4-4d14-a14c-1ecf9967edef",
   "metadata": {},
   "outputs": [],
   "source": [
    "# define your API key here\n",
    "API_KEY = ''"
   ]
  },
  {
   "cell_type": "markdown",
   "id": "87219ed7-0cdb-4c6c-975f-818560923d56",
   "metadata": {},
   "source": [
    "Now that the API Key is generated and stored here, navigate to the API **Library** and scroll down to the **Youtube Data API v3**. Click on this API and choose to **Enable** the API. With this API enabled, we can now access data from YouTube using Google tools."
   ]
  },
  {
   "cell_type": "markdown",
   "id": "7fd85e5a-4eae-4ab6-9d65-d22a253d2eeb",
   "metadata": {},
   "source": [
    "## The YouTube API\n",
    "The Youtube API has a variety of functions for accessing information about YouTube including videos, channels, and users as well as functionality to post information to YouTube. For reference, all of the available API functions are documented on the following page: https://developers.google.com/youtube/v3/docs/?apix=true\n",
    "\n",
    "We will explore a few of these functions in this notebook.\n",
    "\n",
    "### Accessing data about a single video\n",
    "Files on YouTube are public which means we can access them via the API without providing any credentials. For example, we might want to know what the statistics are for the Khan Academy video that serves as an introduction to Python: https://www.youtube.com/watch?v=husPzLE6sZc&list=PLJR1V_NHIKrCkswPMULzQFHpYa57ZFGbs\n",
    "\n",
    "First, we define the API service and version for the Youtube API:"
   ]
  },
  {
   "cell_type": "code",
   "execution_count": 4,
   "id": "0a05b418-872f-49b0-be34-4a9cd0cf3ef5",
   "metadata": {},
   "outputs": [],
   "source": [
    "# define the api service and version\n",
    "api_service_name = \"youtube\"\n",
    "api_version = \"v3\""
   ]
  },
  {
   "cell_type": "markdown",
   "id": "46cf4d3d-8062-4553-9148-2ac800dc3223",
   "metadata": {},
   "source": [
    "Next, we make a request to the API for information about the video:"
   ]
  },
  {
   "cell_type": "markdown",
   "id": "2a636cc9",
   "metadata": {},
   "source": [
    "```\n",
    "# access the youtube api client\n",
    "youtube = googleapiclient.discovery.build(\n",
    "    api_service_name, api_version, developerKey = API_KEY)\n",
    "\n",
    "# make a request to the api for information about the video above\n",
    "# note: the id of the video is the part after v= ....\n",
    "request = youtube.videos().list(part=\"snippet,statistics\",\n",
    "                                id='husPzLE6sZc')\n",
    "```"
   ]
  },
  {
   "cell_type": "markdown",
   "id": "2b67d414",
   "metadata": {},
   "source": [
    "```\n",
    "# execute the query in the request\n",
    "response1 = request.execute()\n",
    "```"
   ]
  },
  {
   "cell_type": "markdown",
   "id": "77c25278-3498-4b53-ac05-de9b00d9af91",
   "metadata": {},
   "source": [
    "The reponse from the query will return a series of nested dictionaries with several entries for the metadata of the video:"
   ]
  },
  {
   "cell_type": "code",
   "execution_count": 5,
   "id": "17e56d59-3b85-43e4-b249-c73aa2f7c7bc",
   "metadata": {},
   "outputs": [
    {
     "name": "stdout",
     "output_type": "stream",
     "text": [
      "keys:\n",
      "dict_keys(['kind', 'etag', 'items', 'pageInfo'])\n",
      "\n",
      "response['items']\n",
      "[{'kind': 'youtube#video', 'etag': '-m6myrYh-VSpVqRf0PAx_UgDin8', 'id': 'husPzLE6sZc', 'snippet': {'publishedAt': '2011-06-30T15:50:46Z', 'channelId': 'UC4a-Gbdw7vOaccHmFo40b9g', 'title': 'Introduction to Programs Data Types and Variables', 'description': 'Writing a basic program.  Basics of data types, variables and conditional statements', 'thumbnails': {'default': {'url': 'https://i.ytimg.com/vi/husPzLE6sZc/default.jpg', 'width': 120, 'height': 90}, 'medium': {'url': 'https://i.ytimg.com/vi/husPzLE6sZc/mqdefault.jpg', 'width': 320, 'height': 180}, 'high': {'url': 'https://i.ytimg.com/vi/husPzLE6sZc/hqdefault.jpg', 'width': 480, 'height': 360}, 'standard': {'url': 'https://i.ytimg.com/vi/husPzLE6sZc/sddefault.jpg', 'width': 640, 'height': 480}, 'maxres': {'url': 'https://i.ytimg.com/vi/husPzLE6sZc/maxresdefault.jpg', 'width': 1280, 'height': 720}}, 'channelTitle': 'Khan Academy', 'categoryId': '27', 'liveBroadcastContent': 'none', 'defaultLanguage': 'en', 'localized': {'title': 'Introduction to Programs Data Types and Variables', 'description': 'Writing a basic program.  Basics of data types, variables and conditional statements'}, 'defaultAudioLanguage': 'en'}, 'statistics': {'viewCount': '1047491', 'likeCount': '3697', 'favoriteCount': '0', 'commentCount': '283'}}]\n",
      "\n",
      "title:\n",
      "Introduction to Programs Data Types and Variables\n",
      "\n",
      "viewCount:\n",
      "1047491\n"
     ]
    }
   ],
   "source": [
    "# check the keys of the dictionary\n",
    "print('keys:')\n",
    "print(response1.keys())\n",
    "\n",
    "# the items list provides the most pertinent metadata components\n",
    "print(\"\\nresponse['items']\")\n",
    "print(response1['items'])\n",
    "\n",
    "# for example,\n",
    "# the title of the video is in the 'snippet' dictionary\n",
    "print(\"\\ntitle:\")\n",
    "title = response1['items'][0]['snippet']['title']\n",
    "print(title)\n",
    "\n",
    "# the number of views is in the 'statistics' dictionary\n",
    "print(\"\\nviewCount:\")\n",
    "viewCount = response1['items'][0]['statistics']['viewCount']\n",
    "print(viewCount)"
   ]
  },
  {
   "cell_type": "markdown",
   "id": "e44bf1a1-cc0d-4ea0-ae6f-20add91bd6d5",
   "metadata": {},
   "source": [
    "### &#x1F914; Mini-Exercise\n",
    "Goal: Find the number of likes the video linked above."
   ]
  },
  {
   "cell_type": "markdown",
   "id": "2cba4b0b",
   "metadata": {},
   "source": [
    "#### &#x1F4A1; Solution"
   ]
  },
  {
   "cell_type": "code",
   "execution_count": 6,
   "id": "610785c5-e750-45b3-a82a-18924e101c97",
   "metadata": {
    "tags": [
     "hide-cell"
    ]
   },
   "outputs": [
    {
     "name": "stdout",
     "output_type": "stream",
     "text": [
      "Likes: 3697\n"
     ]
    }
   ],
   "source": [
    "# the number of likes is in the 'statistics' dictionary\n",
    "likeCount = response1['items'][0]['statistics']['likeCount']\n",
    "print('Likes:',likeCount)"
   ]
  },
  {
   "cell_type": "markdown",
   "id": "82957cd8-8a7b-40d9-861b-9c1373140f3a",
   "metadata": {},
   "source": [
    "### Accessing data about a Channel\n",
    "As you are likely familiar, a channel typically has a library of different videos. We can also access information about the channel using the API. To search a channel, we need the `channelId`. We can obtain this using a request on an individual video. Equivalently, we can search the html page source on the page itself (search for `channelID` in the page source)."
   ]
  },
  {
   "cell_type": "code",
   "execution_count": 7,
   "id": "9b1d001c-24e5-465f-8287-0faf8fa4b89c",
   "metadata": {},
   "outputs": [],
   "source": [
    "# define the channelID\n",
    "channelId = 'UC4a-Gbdw7vOaccHmFo40b9g'"
   ]
  },
  {
   "cell_type": "markdown",
   "id": "d372e260",
   "metadata": {},
   "source": [
    "```\n",
    "# make a request to the api for information about the channel above\n",
    "request = youtube.channels().list(part=\"snippet,statistics\",\n",
    "                                  id=channelId)\n",
    "\n",
    "# execute the query in the request\n",
    "response2 = request.execute()\n",
    "```"
   ]
  },
  {
   "cell_type": "markdown",
   "id": "c6768182-b37a-4396-b520-842647185f36",
   "metadata": {},
   "source": [
    "Similar to above, the response yields a nested set of dictionaries with metadata about the channel. "
   ]
  },
  {
   "cell_type": "code",
   "execution_count": 8,
   "id": "6d7d3c3e-e469-4137-a034-f87e7b059c1e",
   "metadata": {},
   "outputs": [
    {
     "name": "stdout",
     "output_type": "stream",
     "text": [
      "keys:\n",
      "dict_keys(['kind', 'etag', 'pageInfo', 'items'])\n",
      "\n",
      "description:\n",
      "Khan Academy is a nonprofit providing a free, world-class education for anyone, anywhere. Our interactive practice problems, articles, and videos help students succeed in math, biology, chemistry, physics, history, economics, finance, grammar, and many other topics.\n",
      "\n",
      "Khan Academy provides teachers with data on how their students are doing so they can identify gaps in learning and provide tailored instruction. We  also offer free personalized SAT and LSAT practice in partnership with the College Board and the Law School Admission Council. \n",
      "\n",
      "Our resources have been translated into dozens of languages, and 15 million people around the globe learn on Khan Academy each month.\n",
      "\n",
      "Want to extend your learning beyond YouTube? Practice what you've just discovered for free: www.khanacademy.org\n",
      "\n",
      "\n",
      "viewCount:\n",
      "2155567083\n"
     ]
    }
   ],
   "source": [
    "# check the keys of the dictionary\n",
    "print('keys:')\n",
    "print(response2.keys())\n",
    "\n",
    "# for example,\n",
    "# the description of the channel is in the 'snippet' dictionary\n",
    "print('\\ndescription:')\n",
    "title = response2['items'][0]['snippet']['description']\n",
    "print(title)\n",
    "\n",
    "# the number of views is in the 'statistics' dictionary\n",
    "print('\\nviewCount:')\n",
    "viewCount = response2['items'][0]['statistics']['viewCount']\n",
    "print(viewCount)"
   ]
  },
  {
   "cell_type": "markdown",
   "id": "3d61a33a-2cc0-4707-8b3b-b04a4c8405aa",
   "metadata": {},
   "source": [
    "### &#x1F914; Mini-Exercise\n",
    "Goal: Get the number of subscribers for the Khan Academy Youtube Channel."
   ]
  },
  {
   "cell_type": "markdown",
   "id": "2db285b5",
   "metadata": {},
   "source": [
    "#### &#x1F4A1; Solution"
   ]
  },
  {
   "cell_type": "code",
   "execution_count": 9,
   "id": "698d8752-5e79-42ca-8279-7500776cdce7",
   "metadata": {
    "tags": [
     "hide-cell"
    ]
   },
   "outputs": [
    {
     "name": "stdout",
     "output_type": "stream",
     "text": [
      "subscriberCount: 8830000\n"
     ]
    }
   ],
   "source": [
    "# the number of subscribers is in the 'statistics' dictionary\n",
    "subscriberCount = response2['items'][0]['statistics']['subscriberCount']\n",
    "print('subscriberCount:',subscriberCount)"
   ]
  },
  {
   "cell_type": "markdown",
   "id": "23bc917a-8bed-48b7-8288-ed8c6da64f29",
   "metadata": {},
   "source": [
    "### The Cost of API inquiries\n",
    "Each time your make a request to the Google API, it comes with a \"cost\". The list methods for videos and channels methods both come with a \"cost\" of 1 unit. By contrast, if you'd like to do a generic search of all of YouTube, it comes with a cost of 100 units. Each day, the Youtube API allows you 10000 units for free. If you'd like to do more searches than that, you can pay money to Google for more possibilities. This pay-for-access programmatic model is the underlying business model for almost all APIs on popular sites."
   ]
  },
  {
   "cell_type": "markdown",
   "id": "0a18e087-9f16-49ac-b2d0-beda2eb0cf82",
   "metadata": {},
   "source": [
    "## Obtaining info from Gmail\n",
    "Our Gmail accounts, by constrast with public Youtube videos, require our credentials to access. To obtain information from Gmail, we first need to obtain our OAuth 2.0 Client IDs. \n",
    "\n",
    "### Setting up OAuth 2.0 Client IDs\n",
    "\n",
    "Navigate to the **APIs and Services** dropdown and select the **Libraries** tab (again). Now, select **Gmail** API and choose to Enable it. The top bar will indicate that you may need to authenticate your credentials. Click on **Create Credentials** and use the following options:\n",
    "- select the option for **User Data** in Credential Type and click Next\n",
    "- name your App something like `cs122` and choose your email address in the OAuth Screen\n",
    "- don't add any scopes in the Scopes screen\n",
    "- choose Desktop App in the OAuth client ID screen\n",
    "\n",
    "When you have completed the steps above, you will be able to download a secret key for your credentials. Download the JSON file for your credentials and store it in your current directory (where this notebook is located). You may choose to rename your key as just `client_secret.json`. Now, we are almost ready to access Gmail with our credentials - we just need to make sure our account is recognized as a test user for our App.\n",
    "\n",
    "Under the **APIs and Services** tab, navigate to the **Oauth consent screen** and to the **Audience** tab. Now, add your email under the **Test Users** section. Now, we're ready to go!\n",
    "\n",
    "Begin by defining the api information, similar to what was done for YouTube above, along with information about the client file and the scopes:"
   ]
  },
  {
   "cell_type": "code",
   "execution_count": 10,
   "id": "5547bf66-7af5-47aa-a584-d33e99c58c5d",
   "metadata": {},
   "outputs": [],
   "source": [
    "# define the api service and version\n",
    "api_service_name = \"gmail\"\n",
    "api_version = \"v1\"\n",
    "\n",
    "# define the client file and scopes\n",
    "client_file = 'client_secret.json'\n",
    "scopes = ['https://mail.google.com/']"
   ]
  },
  {
   "cell_type": "markdown",
   "id": "b5dbcf4a-d812-4d11-8d60-7640a3737893",
   "metadata": {},
   "source": [
    "The code block below will set up a service - the first time you run it, it will ask you to trust the application."
   ]
  },
  {
   "cell_type": "markdown",
   "id": "fd9f5ff7",
   "metadata": {},
   "source": [
    "```\n",
    "# authenticate the credentials\n",
    "flow = google_auth_oauthlib.flow.InstalledAppFlow.from_client_secrets_file(client_file, scopes)\n",
    "credentials = flow.run_local_server()\n",
    "```"
   ]
  },
  {
   "cell_type": "markdown",
   "id": "c8ffdd90",
   "metadata": {},
   "source": [
    "```\n",
    "# define the API service\n",
    "service = googleapiclient.discovery.build(api_service_name, api_version, credentials=credentials)\n",
    "```"
   ]
  },
  {
   "cell_type": "markdown",
   "id": "440e9bce-7d99-4ebc-a03c-4832c0014f8c",
   "metadata": {},
   "source": [
    "### Reading Gmail labels from your account\n",
    "\n",
    "Now that the service is constructed with your credentials, you can now access the information in your inbox. Similar to the YouTube API, the Gmail API has lots of good documentation on the underlying methods here: https://developers.google.com/gmail/api/reference/rest\n",
    "\n",
    "For example, what if we would like to get the \"labels\" on the messages our inbox? We can get these using the Gmail API methods:"
   ]
  },
  {
   "cell_type": "markdown",
   "id": "ae0c2ef6",
   "metadata": {},
   "source": [
    "```\n",
    "# access the labels using the users() and labels() methods\n",
    "response3 = service.users().labels().list(userId='me').execute()\n",
    "```"
   ]
  },
  {
   "cell_type": "code",
   "execution_count": 11,
   "id": "7f9eb269",
   "metadata": {},
   "outputs": [],
   "source": [
    "# store the labels in a list\n",
    "labels = response3.get('labels', [])"
   ]
  },
  {
   "cell_type": "markdown",
   "id": "469f2911-d0bb-43b7-bc66-f39f50da4a4a",
   "metadata": {},
   "source": [
    "Now that we have obtained our labels, we can access them here:"
   ]
  },
  {
   "cell_type": "code",
   "execution_count": 12,
   "id": "b77ceb6d-9273-40fd-b182-cc415c0ce3f2",
   "metadata": {},
   "outputs": [
    {
     "name": "stdout",
     "output_type": "stream",
     "text": [
      "CHAT\n",
      "SENT\n",
      "INBOX\n",
      "IMPORTANT\n",
      "TRASH\n",
      "DRAFT\n",
      "SPAM\n",
      "CATEGORY_FORUMS\n",
      "CATEGORY_UPDATES\n",
      "CATEGORY_PERSONAL\n",
      "CATEGORY_PROMOTIONS\n",
      "CATEGORY_SOCIAL\n",
      "STARRED\n",
      "UNREAD\n",
      "300534061046890\n",
      "300534060831190\n",
      "300534064500960\n",
      "300534062573580\n",
      "300534061884700\n",
      "300534060836350\n",
      "300534060832230\n"
     ]
    }
   ],
   "source": [
    "# print the labels of your inbox\n",
    "for label in labels:\n",
    "    print(label['name'])"
   ]
  },
  {
   "cell_type": "markdown",
   "id": "46fe1f7d-2b59-46d1-8423-859e7fe908a0",
   "metadata": {},
   "source": [
    "This is a simple example, but you now have full control over your email with the Gmail API. For example, what if you wanted to access messages from a particular user?\n",
    "\n",
    "### Reading messages from your inbox\n",
    "From our inbox, we could search for messages that come from a common source. For this example, I am using a sample Gmail account used for a data stream that receives many messages from the email `sbdservice@sbd.iridium.com`. Let's grab the first \"page\" of these messages:"
   ]
  },
  {
   "cell_type": "markdown",
   "id": "a2ce8159",
   "metadata": {},
   "source": [
    "```\n",
    "# search for a list of messages from sbdservice@sbd.iridium.com\n",
    "response4 = service.users().messages().list(\n",
    "    userId='me',\n",
    "    q='sbdservice@sbd.iridium.com').execute()\n",
    "\n",
    "# store the response into a messages response object\n",
    "messages = response4.get('messages')\n",
    "```"
   ]
  },
  {
   "cell_type": "code",
   "execution_count": 13,
   "id": "1a67bcfc",
   "metadata": {},
   "outputs": [],
   "source": [
    "# store the response into a messages response object\n",
    "messages = response4.get('messages')"
   ]
  },
  {
   "cell_type": "markdown",
   "id": "0f276bfb-67db-4de4-ae88-ca4cd5d1868a",
   "metadata": {},
   "source": [
    "Now, we have a subset of our messages. Next, we can read in the information about the most recent message:"
   ]
  },
  {
   "cell_type": "code",
   "execution_count": 14,
   "id": "56d8e4a2",
   "metadata": {},
   "outputs": [],
   "source": [
    "# get the first message in the list\n",
    "first_message = messages[0]"
   ]
  },
  {
   "cell_type": "markdown",
   "id": "7809510d",
   "metadata": {},
   "source": [
    "```\n",
    "# get the details of the message\n",
    "response5 = service.users().messages().get(\n",
    "    userId='me',\n",
    "    id=first_message['id']\n",
    ").execute()\n",
    "```"
   ]
  },
  {
   "cell_type": "code",
   "execution_count": 15,
   "id": "1656ed16",
   "metadata": {},
   "outputs": [
    {
     "name": "stdout",
     "output_type": "stream",
     "text": [
      "MOMSN: 6602 MTMSN: 0 Time of Session (UTC): Thu Mar 13 03:16:11 2025 Session Status: 00 - Transfer OK Message Size (bytes): 49 Unit Location: Lat = 69.40212 Long = -55.43375 CEPradius = 134\n"
     ]
    }
   ],
   "source": [
    "# print the body (or \"snippet\") of the message\n",
    "print(response5['snippet'])"
   ]
  },
  {
   "cell_type": "markdown",
   "id": "6eb20fa8-61fa-4aa6-a887-4e4b76e692bf",
   "metadata": {},
   "source": [
    "### &#x1F914; Mini-Exercise\n",
    "Goal: Test this on your own - what is one email address that sends you consistent emails. Does the message you print out match the one you can find in your inbox?"
   ]
  },
  {
   "cell_type": "markdown",
   "id": "9cb6d574-9037-461f-84ab-154a50b8a239",
   "metadata": {},
   "source": [
    "### Modifying messages in your inbox\n",
    "As mentioned above, you now have full control of your email (from Python!). You could read, draft, and send messages. For now, I will demonstrate how to change a message from \"Unread\" to \"Read\" and vice versa.\n",
    "\n",
    "#### Changing a Message to Unread"
   ]
  },
  {
   "cell_type": "markdown",
   "id": "5b0537bf",
   "metadata": {},
   "source": [
    "```\n",
    "# add an unread label to the message\n",
    "service.users().messages().modify(userId='me', id=first_message['id'],\n",
    "                                    body={'addLabelIds': ['UNREAD']}).execute()\n",
    "```"
   ]
  },
  {
   "cell_type": "markdown",
   "id": "61121ae2",
   "metadata": {},
   "source": [
    "#### Changing a Message to Read"
   ]
  },
  {
   "cell_type": "markdown",
   "id": "3a83b06f",
   "metadata": {},
   "source": [
    "```\n",
    "# change the message back to read\n",
    "service.users().messages().modify(userId='me', id=first_message['id'],\n",
    "                                    body={'removeLabelIds': ['UNREAD']}).execute();\n",
    "```"
   ]
  },
  {
   "cell_type": "markdown",
   "id": "9e286048-17b3-4067-a4a8-1b604a5a83e0",
   "metadata": {},
   "source": [
    "## A Gmail API Pipedream\n",
    "Feeling inspired? Consider this pipedream project I have to save myself time answering emails:"
   ]
  },
  {
   "cell_type": "markdown",
   "id": "27472ee3-b7f8-404a-935f-6972d0d53d8d",
   "metadata": {},
   "source": [
    "Create a Python program to do the following:\n",
    "1. Use the Google API to check for new emails.\n",
    "2. Download the contents of the emails to my local computer\n",
    "3. Use ChatGPT via the ChatGPT API to automatically draft a response to the emails in my inbox.\n",
    "4. Use the Google API to stage my ChatGPT-drafted emails in my Drafts folder\n",
    "5. When I have time for emails, I review the drafts before hitting send"
   ]
  }
 ],
 "metadata": {
  "kernelspec": {
   "display_name": "cs122",
   "language": "python",
   "name": "cs122"
  },
  "language_info": {
   "codemirror_mode": {
    "name": "ipython",
    "version": 3
   },
   "file_extension": ".py",
   "mimetype": "text/x-python",
   "name": "python",
   "nbconvert_exporter": "python",
   "pygments_lexer": "ipython3",
   "version": "3.10.12"
  }
 },
 "nbformat": 4,
 "nbformat_minor": 5
}
