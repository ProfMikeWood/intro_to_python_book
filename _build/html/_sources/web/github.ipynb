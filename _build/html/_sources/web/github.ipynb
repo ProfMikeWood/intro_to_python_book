{
 "cells": [
  {
   "cell_type": "markdown",
   "id": "73ef0815",
   "metadata": {},
   "source": [
    "# Working with Github"
   ]
  },
  {
   "cell_type": "markdown",
   "id": "9c7c86bd-3fdf-4a44-9a4e-1ca9e83966db",
   "metadata": {},
   "source": [
    "Author: Mike Wood\n",
    "\n",
    "Learning Objectives: By the end of this notebook, you should be able to:\n",
    "1. Set up a Github repository\n",
    "2. Pull remote changes to a local repository\n",
    "3. Push remote changes to a remote repository\n",
    "4. Merge changes made locally and remotely\n",
    "\n",
    "Github is a platform used to store, manage, and share code online. It has a variety of uses across many different coding languages and projects - as you've likely noticed, these course notes are stored on Github.\n",
    "\n",
    "To get started, create a Github account at [github.com](https://github.com/), if you haven't already done so.\n"
   ]
  },
  {
   "cell_type": "markdown",
   "id": "9178e470-cf3b-408c-b367-c8d9c7162889",
   "metadata": {},
   "source": [
    "## Setting up a Github repository\n",
    "A repository (or \"repo\" for short) is used to store a certain selection of code and documentation, such as for a project or a course. To set up a Github repository, log in to your Github account click on the green New Repository button on the homepage. \n",
    "\n",
    "### Repository Name\n",
    "Begin by selecting a name for your repository. The name should be descriptive of the contents of the repository. Note that the repository name does not need to include your name or username as your account will be associated with your repository.\n",
    "\n",
    "### Public vs Private\n",
    "Next, select whether you would like your repository to public or private. Some people like to keep all of their repositories public for a variety of reasons - for example, to maintain open-source code or to attract potential collaborators working on similar topics. Other prefer to keep their repositories private, sharing coding only with approved collaborators. Often, developers will work on a private repository until they are ready to release a version of their code in the wild. \n",
    "\n",
    "### Adding a README\n",
    "Up next, choose the option to add a README.md file to the repository. A README.md is a document formatted with markdown (md) to describe the contents of the repository.\n",
    "\n",
    "### Adding a .gitignore\n",
    "Next, add a .gitignore file. Since these note are for Python, choose the template for Python. This file will ensure that extraneous files necessary for running code on our machine will not end up on Github.\n",
    "\n",
    "### Choosing a License\n",
    "Finally, choose a license. There are lots of different licenses available, each outlining different permissions for other users who may want to use your code. One common option is the BSD-3-Clause. This license allows others users to use your code for whatever they see fit. The key stipulations are that they must attribute your work to you and that you don't endorse whatever they may do with your code. You're enouraged to peruse the available licenses and choose the one you find fits your work the best.\n",
    "\n",
    "### Finalize the Repository\n",
    "After choosing your configuration options, click Create Repository. Woohoo! We're ready to start using our repository. \n",
    "\n",
    "\n",
    "<img src=\"repo_setup.png\" alt=\"Summary of options to create a Github repository\" width=\"500\"/>\n"
   ]
  },
  {
   "cell_type": "markdown",
   "id": "a9d225b6",
   "metadata": {},
   "source": [
    "```{note}\n",
    "If you are on MacOS it is highly recommended that you add the `.DS_Store` file to your .gitignore file. This will avoid adding this unnecessary file to your Github repo.\n",
    "```"
   ]
  },
  {
   "cell_type": "markdown",
   "id": "211b8c59",
   "metadata": {},
   "source": [
    "## Setting up git locally\n",
    "When working with Github, we will often two version of our code -- the version stored on our local machines and the version stored on the remote machine (i.e. \"on Github\"). On our local machine, we can interface with our remote repositories on Github using the `git` command line tools. Activate your conda environment and make sure you have `git` installed:\n",
    "\n",
    "```\n",
    "conda install git\n",
    "```\n",
    "\n",
    "Next, set up the configuration fields for your Github account:\n",
    "\n",
    "```\n",
    "git config --global user.name “first last”\n",
    "git config --global user.email “email”\n",
    "```\n",
    "\n",
    "This only needs to be done once when first working with `git`."
   ]
  },
  {
   "cell_type": "markdown",
   "id": "fb4728a1",
   "metadata": {},
   "source": [
    "### Setting up SSH Keys\n",
    "There are a few ways to set up connections with Github - SSH keys are one straight-forward way to get this done.\n",
    "\n",
    "#### Create an SSH key on your machine\n",
    "\n",
    "First, we will create an SSH key on our local machine. Once we have this key, we will be able to put information on Github so that it recognizes commands from our local machine.\n",
    "\n",
    "Begin by opening up a terminal and moving into your home directory\n",
    "\n",
    "```\n",
    "cd ~\n",
    "```\n",
    "\n",
    "Next, see if you have a directory called `.ssh` by typing \n",
    "\n",
    "```\n",
    "ls .ssh\n",
    "```\n",
    "\n",
    "If you get a message saying `ls: .ssh: No such file or directory`, then make a directory with the following command:\n",
    "\n",
    "```\n",
    "mkdir .ssh\n",
    "```\n",
    "\n",
    "Once you have this directory, move into it with \n",
    "\n",
    "```\n",
    "cd .ssh\n",
    "```"
   ]
  },
  {
   "cell_type": "markdown",
   "id": "b8a539fc",
   "metadata": {},
   "source": [
    "Now, inside this directory, we will make new ssh key pair\n",
    "\n",
    "```\n",
    "ssh-keygen -t ed25519 -C \"your_github_email@example.edu\"\n",
    "```\n",
    "\n",
    "This command will generate a new pair and ask you where you how you want to save your file. You can keep it simple and use the default file by pressing Enter.\n",
    "\n",
    "Then, you will be prompted to enter a passphrase - this is a password for your SSH key. Add one if you'd like.\n",
    "\n",
    "Once your key is generated, you will get a randomart image as follows:\n",
    "\n",
    "```\n",
    "The key's randomart image is:\n",
    "+--[ED25519 256]--+\n",
    "|Q=C&=+.          |\n",
    "|*BO+Y..          |\n",
    "|.*oA.=o          |\n",
    "|o * A. + .       |\n",
    "| o B .  W        |\n",
    "|  x o  . .       |\n",
    "|   o .           |\n",
    "|    .            |\n",
    "|                 |\n",
    "+----[SHA256]-----+\n",
    "```"
   ]
  },
  {
   "cell_type": "markdown",
   "id": "511e2007",
   "metadata": {},
   "source": [
    "Next, we will add our ssh key to the ssh-agent. Begin by starting the ssh-agent:\n",
    "\n",
    "```\n",
    "eval \"$(ssh-agent -s)\"\n",
    "```\n",
    "\n",
    "Then, we will modify the file named `config`. Check that you have one using `ls config`. If you don't, then use `touch config` to make it. To modify this file, open it with your favorite text editor and add the following to the file:\n",
    "\n",
    "```\n",
    "Host github.com\n",
    "  AddKeysToAgent yes\n",
    "  UseKeychain yes\n",
    "  IdentityFile ~/.ssh/id_ed25519\n",
    "```\n",
    "\n",
    "Finally, add your ssh key with the following:\n",
    "\n",
    "```\n",
    "ssh-add id_ed25519\n",
    "```\n",
    "\n",
    "After being prompted for your passphrase, you should get note as follows:\n",
    "\n",
    "```\n",
    "Identity added: id_ed25519 (mike.wood@sjsu.edu)\n",
    "```"
   ]
  },
  {
   "cell_type": "markdown",
   "id": "d82cc7e7",
   "metadata": {},
   "source": [
    "#### Add your SSH key to Github\n",
    "\n",
    "First, begin by copying the contents of your public key file - this is the file with the `pub` extension you created above (mine is `id_ed25519.pub`).\n",
    "\n",
    "You can print the contents of this file to your screen with the `cat` command:\n",
    "\n",
    "```\n",
    "cat id_ed25519.pub\n",
    "```\n",
    "\n",
    "The output should look something like:\n",
    "\n",
    "```\n",
    "ssh-ed25519 BBBBBC3NzaC1lZDI1NTE5ZZZZIPbA34wLVTj0IZMNiEYQ9g+HiibBHrWGra1vECZbiW+X mike.wood@sjsu.edu\n",
    "```\n",
    "\n",
    "Next, navigate to your Github account and, from the dropdown on the right, click on **Settings**. From this page, choose **SSH and GPG keys** and then **Add new SSH key**. On this page, you can give your SSH key a name (e.g. for your machine) and in the key section, past the contents of your public SSH key:\n",
    "\n",
    "<img src=\"new_ssh_key.png\" alt=\"Screenshot of SSH key generation\" width=\"400\"/>\n",
    "\n",
    "Click on **Add key** to save the changes. Now, we should be ready to go!"
   ]
  },
  {
   "cell_type": "markdown",
   "id": "7aa67780",
   "metadata": {},
   "source": [
    "## Cloning Repositories\n",
    "Once you've set up your Github repository, now we'd like to add our code and start making changes. To begin, open a terminal and navigate to a location where you would like to store your files. Then, \"clone\" your reponsitory to this location with the following command:"
   ]
  },
  {
   "cell_type": "markdown",
   "id": "d5ee938a",
   "metadata": {},
   "source": [
    "```\n",
    "git clone git@github.com:ProfMikeWood/test_repo.git\n",
    "```"
   ]
  },
  {
   "cell_type": "markdown",
   "id": "2c417f72",
   "metadata": {},
   "source": [
    "Note that this path is accessed on the landing page for your repository by clicking on the green `<> Code` button and choosing the options under SSH:\n",
    "\n",
    "<img src=\"ssh_path.png\" alt=\"A screenshot showing where the SSH path is located.\" width=\"300\"/>"
   ]
  },
  {
   "cell_type": "markdown",
   "id": "0b69164c",
   "metadata": {},
   "source": [
    "Great! Now we have a local copy of your repository. But we also have to be careful here. We now have two versions of our repository - one is online and one is on our local machines. How do we make sure they are \"sync'd\". First, let's take a look at how changes made remotely can be updated in your local version."
   ]
  },
  {
   "cell_type": "markdown",
   "id": "3addb021",
   "metadata": {},
   "source": [
    "## Pulling Remote Changes\n",
    "\n",
    "Let's say we wanted to make a change to one of our files on the remote version of our repository by using the online editor. For example, what if we wanted to update the README of our repository? Let's open the editor and add a new note for ourself. \n",
    "\n",
    "Click on the **README.md** file and click the pencil icon in the upper-right corner to edit the file. Then, add a new line to the file as follows:\n",
    "\n",
    "```\n",
    "## Github notes\n",
    "Changes made on remote repositorys should be \"pulled\" to local repositories to reflect recent changes\n",
    "```\n",
    "\n",
    "After making the changes, click on **Commit Changes**"
   ]
  },
  {
   "cell_type": "markdown",
   "id": "bcf9a6c7",
   "metadata": {},
   "source": [
    "Now, back in your terminal, move into your repository"
   ]
  },
  {
   "cell_type": "markdown",
   "id": "bd3239cf",
   "metadata": {},
   "source": [
    "```\n",
    "cd test_repo\n",
    "```"
   ]
  },
  {
   "cell_type": "markdown",
   "id": "98d4bd46",
   "metadata": {},
   "source": [
    "and \"pull\" the changes using the following line:"
   ]
  },
  {
   "cell_type": "markdown",
   "id": "30459ae7",
   "metadata": {},
   "source": [
    "```\n",
    "git pull\n",
    "```"
   ]
  },
  {
   "cell_type": "markdown",
   "id": "6d52d11c",
   "metadata": {},
   "source": [
    "Now, we should see the following message indicating the README file has been updated:"
   ]
  },
  {
   "cell_type": "markdown",
   "id": "f203e83a",
   "metadata": {},
   "source": [
    "```\n",
    "Fast-forward\n",
    " README.md | 3 +++\n",
    " 1 file changed, 3 insertions(+)\n",
    "```"
   ]
  },
  {
   "cell_type": "markdown",
   "id": "9790c16b",
   "metadata": {},
   "source": [
    "Further, if you open the README.md file on your local machine, you should see the new lines reflected in the local version of your repository!"
   ]
  },
  {
   "cell_type": "markdown",
   "id": "6cd1fea3",
   "metadata": {},
   "source": [
    "## Committing and Pushing Local Changes\n",
    "\n",
    "Most often, we are working on code on our local machine that we want to incorporate into our repository. \n",
    "\n",
    "Say, for example, we created a python file called `test.py` in a `code` directory and a `example.ipynb` Jupyter notebook in a directory called `notebook`. Go ahead and create those on your local machine now inside your repository (i.e. in the same directory as your `README` file). After completing these steps your repository should have the following structure: "
   ]
  },
  {
   "cell_type": "markdown",
   "id": "22c1a516",
   "metadata": {},
   "source": [
    "```\n",
    "test_repo\n",
    " |- LICENSE\n",
    " |- README.md\n",
    " |- code\n",
    "     |- test.py\n",
    " |-notebooks\n",
    "     |- example.ipynb\n",
    "```"
   ]
  },
  {
   "cell_type": "markdown",
   "id": "05f7350f",
   "metadata": {},
   "source": [
    "Now, we are ready to sync our remote repository with our local one. In your repository folder, we first need to \"stage\" our changes. To accomplish this, we use the `git add` command. We can individual files one at a time, e.g.\n",
    "\n",
    "```\n",
    "git add code/test.py\n",
    "```\n",
    "\n",
    "Alternatively, we can use wildcards to add many files (or all of them), i.e.\n",
    "\n",
    "```\n",
    "git add *\n",
    "```\n",
    "\n",
    "Once we've staged all of the files we would like reflected in our remote repository, we are ready to \"commit\" our changes, similar to how we updated our README file in the remote repository above. On the command line, we can accomplish this along with a short (<50 character) message about what is being updated:\n",
    "\n",
    "```\n",
    "git commit -m \"message about recent changes\"\n",
    "```\n",
    "\n",
    "When this is successful, we will get a nice message about our updates:\n",
    "\n",
    "```\n",
    " 2 files changed, 0 insertions(+), 0 deletions(-)\n",
    " create mode 100644 code/test.py\n",
    " create mode 100644 notebooks/example.ipynb\n",
    "```"
   ]
  },
  {
   "cell_type": "markdown",
   "id": "9e40655b",
   "metadata": {},
   "source": [
    "Now, we're ready to get these files online using a \"push\" command:\n",
    "\n",
    "```\n",
    "git push\n",
    "```\n",
    "\n",
    "Finally, if you check you repository on Github, you will see your code and your notebook online. Woo!"
   ]
  },
  {
   "cell_type": "markdown",
   "id": "04429405",
   "metadata": {},
   "source": [
    "### Ignoring Files in a Push\n",
    "\n",
    "When we are working with files on our local machine, our code will often produce data for our projects. However, we don't want to put our data on Github - after all, Github is a code repository, not a data repository.\n",
    "\n",
    "```{warning}\n",
    "Don't put data on Github - only code.\n",
    "```\n",
    "\n",
    "While we shouldn't put data on Github, we may want to work with our data next to our code. In this case, we can make a reference to our data in out `.gitignore` file so that our data will never inadvertently end up in our repository.\n",
    "\n",
    "Let's see an example - make a directory called data and make a couple of example data files:\n",
    "\n",
    "```\n",
    "mkdir data\n",
    "cd data\n",
    "touch data_file_1.txt\n",
    "touch data_file_2.txt\n",
    "```\n",
    "\n",
    "Now, let's add a line to our `.gitignore` file to make sure these data files aren't included in any push. Edit your `.gitignore` file with your favorite text editor with a line for `data/*`.\n",
    "\n",
    "To best showcase the behavior of this command, let's also add a new code file we may want to push:\n",
    "\n",
    "```\n",
    "cd ../code\n",
    "touch test2.py\n",
    "cd ..\n",
    "```\n",
    "\n",
    "Ok, now let's try our lines for adding files to our remote repo:\n",
    "\n",
    "```\n",
    "git pull\n",
    "git add *\n",
    "git commit -m \"adding a new code file\"\n",
    "git push\n",
    "```\n",
    "\n",
    "Now let's check our repo online - we do see our new code file but we don't see our data files. These were ignored by our `.gitignore` file!"
   ]
  },
  {
   "cell_type": "markdown",
   "id": "81eeff66",
   "metadata": {},
   "source": [
    "## Reconciling Changes Made Locally and Remotely\n",
    "\n",
    "All of the code above - the pushing of local changes to the remote repo and the pulling of remote changes to your local repo - works just fine when you are just changing your files in one place at a time. But what happens if your local repo and your remote repo both have new but different changes? This is very common when working collaboratively with other programmers. In this case, we will need to **merge** our branches to reflect both changes.\n",
    "\n",
    "Let's see how this works by deliberately make changes in two locations. In your local directory, let's make yet another new coding file\n",
    "\n",
    "```\n",
    "cd code\n",
    "touch test3.py\n",
    "cd ..\n",
    "```\n",
    "\n",
    "At the same time, let's add another new note to our README file on the remote repository as follows:\n",
    "\n",
    "```\n",
    "When changes are made both locally and remotely, the changes must be \"merged\"\n",
    "```\n",
    "\n",
    "Ok, with our example set up, let's see what happens locally when we try to add and commit changes:\n",
    "\n",
    "```\n",
    "git add *\n",
    "git commit -m \"adding yet another coding file\"\n",
    "```\n",
    "\n",
    "Shoot, we got an error:\n",
    "```\n",
    " ! [rejected]        main -> main (fetch first)\n",
    "error: failed to push some refs to 'github.com:ProfMikeWood/test_repo.git'\n",
    "hint: Updates were rejected because the remote contains work that you do\n",
    "hint: not have locally. This is usually caused by another repository pushing\n",
    "hint: to the same ref. You may want to first integrate the remote changes\n",
    "hint: (e.g., 'git pull ...') before pushing again.\n",
    "hint: See the 'Note about fast-forwards' in 'git push --help' for details.\n",
    "```\n",
    "\n",
    "We get a note that perhaps we should try to pull first - let's try that.\n",
    "\n",
    "```\n",
    "git pull\n",
    "```\n",
    "\n",
    "Agh, even more warnings:\n",
    "\n",
    "```\n",
    "hint: You have divergent branches and need to specify how to reconcile them.\n",
    "hint: You can do so by running one of the following commands sometime before\n",
    "hint: your next pull:\n",
    "hint:\n",
    "hint:   git config pull.rebase false  # merge\n",
    "hint:   git config pull.rebase true   # rebase\n",
    "hint:   git config pull.ff only       # fast-forward only\n",
    "hint:\n",
    "hint: You can replace \"git config\" with \"git config --global\" to set a default\n",
    "hint: preference for all repositories. You can also pass --rebase, --no-rebase,\n",
    "hint: or --ff-only on the command line to override the configured default per\n",
    "hint: invocation.\n",
    "```\n",
    "\n",
    "Ok, at this point, we need to merge our changes:\n",
    "\n",
    "```\n",
    "git merge\n",
    "```\n",
    "\n",
    "This command will take you into `vim`-like text editor. Here, you can edit this file by pressing the `i` key. Then, after the commented lines, you can add a note about the merge, i.e.\n",
    "\n",
    "<img src=\"merge_text.png\" alt=\"A screenshot showing merge text editor.\" width=\"400\"/>\n",
    "\n",
    "Now, you can save your changes by hitting the `esc` key, and then typing `:wq` and then `Enter`.\n",
    "\n",
    "Great, now we're in business and ready to push:\n",
    "\n",
    "```\n",
    "git push\n",
    "```"
   ]
  }
 ],
 "metadata": {
  "kernelspec": {
   "display_name": "teaching",
   "language": "python",
   "name": "teaching"
  },
  "language_info": {
   "codemirror_mode": {
    "name": "ipython",
    "version": 3
   },
   "file_extension": ".py",
   "mimetype": "text/x-python",
   "name": "python",
   "nbconvert_exporter": "python",
   "pygments_lexer": "ipython3",
   "version": "3.11.3"
  }
 },
 "nbformat": 4,
 "nbformat_minor": 5
}
