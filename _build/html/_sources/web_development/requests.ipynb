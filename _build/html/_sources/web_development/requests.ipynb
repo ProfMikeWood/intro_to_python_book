{
 "cells": [
  {
   "cell_type": "markdown",
   "id": "73ef0815",
   "metadata": {},
   "source": [
    "# Get and Post Requests"
   ]
  },
  {
   "cell_type": "markdown",
   "id": "9c7c86bd-3fdf-4a44-9a4e-1ca9e83966db",
   "metadata": {},
   "source": [
    "Author: Mike Wood\n",
    "\n",
    "Learning Objectives: By the end of this notebook, you should be able to:\n",
    "1. Request"
   ]
  },
  {
   "cell_type": "markdown",
   "id": "2fd2473b-77ae-4607-9c6f-de9a60eb394f",
   "metadata": {},
   "source": [
    "## Gets vs Post Requests\n",
    "Description"
   ]
  },
  {
   "cell_type": "markdown",
   "id": "37779e13-01b4-4d5b-ace1-da82bb2b6a6a",
   "metadata": {},
   "source": [
    "## Get Requests\n",
    "In this first example, let's consider a typical example of a user enters their name into a registration form, as shown on the page [HERE](https://profmikewood.github.io/intro_to_python_book/web_development/html_examples/simple_form.html):"
   ]
  },
  {
   "cell_type": "markdown",
   "id": "d3cdb459-4e08-45fa-b6f2-559cecb1f9dd",
   "metadata": {},
   "source": [
    "```\n",
    "# import the Flask class from the flask module\n",
    "from flask import Flask\n",
    "\n",
    "# import the render_template function\n",
    "from flask import render_template\n",
    "\n",
    "# import the request function\n",
    "from flask import request\n",
    "\n",
    "# create a Flask object called app\n",
    "app = Flask(__name__)\n",
    "\n",
    "# define a route to the home page\n",
    "# create a fillable_get_form function\n",
    "@app.route(\"/\")\n",
    "@app.route(\"/home\")\n",
    "def fillable_get_form():\n",
    "    return render_template('simple_form.html')\n",
    "\n",
    "# define a route to the person page\n",
    "# add 'GET' to the methods\n",
    "# create a person function\n",
    "@app.route(\"/person\", methods=['GET'])\n",
    "def person():\n",
    "    # retrieve the fname and lname from the requests\n",
    "    fname = request.args['fname']\n",
    "    lname = request.args['lname']\n",
    "\n",
    "    # pass the fname and lname args to the render template\n",
    "    # for the person_form.html script\n",
    "    return render_template('person_form.html', fname = fname, lname=lname)\n",
    "```"
   ]
  },
  {
   "cell_type": "markdown",
   "id": "d5e90098-74a1-495b-868e-1d1038b0d527",
   "metadata": {},
   "source": [
    "This code should make a submittable form. You can try it for yourself on your machine. When entering a name on your page, you should get a page similar to the one shown\n",
    "[HERE](https://profmikewood.github.io/intro_to_python_book/web_development/html_examples/person_form.html)."
   ]
  },
  {
   "cell_type": "code",
   "execution_count": null,
   "id": "95d9ce8a-d873-4951-af05-7b30c40ef04a",
   "metadata": {},
   "outputs": [],
   "source": []
  }
 ],
 "metadata": {
  "kernelspec": {
   "display_name": "teaching",
   "language": "python",
   "name": "teaching"
  },
  "language_info": {
   "codemirror_mode": {
    "name": "ipython",
    "version": 3
   },
   "file_extension": ".py",
   "mimetype": "text/x-python",
   "name": "python",
   "nbconvert_exporter": "python",
   "pygments_lexer": "ipython3",
   "version": "3.11.3"
  }
 },
 "nbformat": 4,
 "nbformat_minor": 5
}
