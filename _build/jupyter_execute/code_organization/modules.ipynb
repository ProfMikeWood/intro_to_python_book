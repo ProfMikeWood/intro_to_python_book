{
 "cells": [
  {
   "cell_type": "markdown",
   "id": "49e61e1c",
   "metadata": {},
   "source": [
    "# Modules"
   ]
  },
  {
   "cell_type": "markdown",
   "id": "0c3a7daa-0a0a-481c-974f-6acd970606db",
   "metadata": {},
   "source": [
    "Author: Mike Wood\n",
    "\n",
    "Learning objectives: By the end of this notebook, you should be able to:\n",
    "1. Import common built-in Python modules\n",
    "2. Write your own module with functions designed for a particular task\n",
    "3. Import custom modules into a Jupyter Notebook"
   ]
  },
  {
   "cell_type": "markdown",
   "id": "0d4b0f71",
   "metadata": {},
   "source": [
    "## Common Built-In Python Modules"
   ]
  },
  {
   "cell_type": "markdown",
   "id": "acf1e5a8",
   "metadata": {},
   "source": [
    "Python has many built-in modules that can be utilized in any program - no installation necessary!\n",
    "\n",
    "To import a built-in module, use the the `import` statement at the top of your script (or Jupyter notebook)"
   ]
  },
  {
   "cell_type": "markdown",
   "id": "476a2589-3af4-429d-840e-e38752604ac6",
   "metadata": {},
   "source": [
    "### The `time` module\n",
    "The time module provides the functionality to access your machine's timing. For example, it is often used to keep track of how long a particular piece of code takes to run."
   ]
  },
  {
   "cell_type": "code",
   "execution_count": 1,
   "id": "58d5c54f",
   "metadata": {},
   "outputs": [
    {
     "name": "stdout",
     "output_type": "stream",
     "text": [
      "Elapsed time: 0.0014920234680175781 seconds\n"
     ]
    }
   ],
   "source": [
    "# import the time module\n",
    "import time\n",
    "\n",
    "# use the time module to see how long it takes to count the numbers between 1 and N\n",
    "# start be defining N\n",
    "N = 10000\n",
    "\n",
    "# store the time at the beginning of the function using the time module\n",
    "start = time.time()\n",
    "\n",
    "# run the counting loop\n",
    "sum = 0\n",
    "for i in range(N):\n",
    "    sum += i\n",
    "    \n",
    "# store the time at the end of the function using the time module\n",
    "end = time.time()\n",
    "\n",
    "# print the elapsed time\n",
    "print('Elapsed time: '+str(end - start)+' seconds')"
   ]
  },
  {
   "cell_type": "markdown",
   "id": "38e1b533-8e2c-478e-8c54-376b53baf333",
   "metadata": {},
   "source": [
    "### The `datetime` module\n",
    "\n",
    "The `datetime` module provides functionality to track calendar dates and differences therein."
   ]
  },
  {
   "cell_type": "code",
   "execution_count": 2,
   "id": "949ea389-c917-4559-9bf1-df5cf1e3ac0c",
   "metadata": {},
   "outputs": [
    {
     "name": "stdout",
     "output_type": "stream",
     "text": [
      "614 days, 0:00:00\n"
     ]
    }
   ],
   "source": [
    "# import the datetime module\n",
    "import datetime\n",
    "\n",
    "# determine how long its been since you started your first semester in college\n",
    "\n",
    "# define a datimetime object for your first semester\n",
    "start_date = datetime.date(2023,8,26)\n",
    "\n",
    "# define a datetime object for today\n",
    "todays_date = datetime.date.today()\n",
    "\n",
    "# find the time since you started\n",
    "difference = todays_date - start_date\n",
    "\n",
    "# print the number of days\n",
    "print(difference)"
   ]
  },
  {
   "cell_type": "markdown",
   "id": "80e84f24-a292-4dfe-802d-ab8c18afe236",
   "metadata": {},
   "source": [
    "### The `math` and `cmath` modules\n",
    "The `math` module provides functions to calculate standard mathematical functions. For example, it can be used to calculate exponentials and trignometric functions:"
   ]
  },
  {
   "cell_type": "code",
   "execution_count": 3,
   "id": "0ede7951-10be-4ca8-aa4f-c7b4ba2838cb",
   "metadata": {},
   "outputs": [
    {
     "name": "stdout",
     "output_type": "stream",
     "text": [
      "sin(π/4) = 0.7071067811865475\n",
      "exp(π/4) = 2.1932800507380152\n",
      "ln(3) = 1.0986122886681098\n"
     ]
    }
   ],
   "source": [
    "# import the math module\n",
    "import math\n",
    "\n",
    "# calculate the sine of pi/4\n",
    "print('sin(\\u03C0/4) =', math.sin(math.pi/4))\n",
    "\n",
    "# calculate the expnential of pi/4\n",
    "print('exp(\\u03C0/4) =', math.exp(math.pi/4))\n",
    "\n",
    "# calculate the natural logarithm of 3\n",
    "print('ln(3) =', math.log(3))"
   ]
  },
  {
   "cell_type": "markdown",
   "id": "47a6eccd-9f2e-4e6e-88df-658de64a713c",
   "metadata": {},
   "source": [
    "The `cmath` functions can be used to calculate complex-values functions. To define a complex number, use the `complex` genertor function as follows:\n",
    "```\n",
    "z = complex(<real part>,<complex part>)\n",
    "```\n",
    "In other words,\n",
    "\n",
    "$ z = x + iy $\n",
    "\n",
    "For example, we can test out one of the coolest identities in all of math:\n",
    "\n",
    "$ e^{-ix} = cos(x) + isin(x)$"
   ]
  },
  {
   "cell_type": "code",
   "execution_count": 4,
   "id": "714afb87-3d63-42c4-ae8a-d96835350b26",
   "metadata": {},
   "outputs": [
    {
     "name": "stdout",
     "output_type": "stream",
     "text": [
      "True (!)\n"
     ]
    }
   ],
   "source": [
    "# import the complex math module\n",
    "import cmath\n",
    "\n",
    "## define a value for x at pi/4\n",
    "z = math.pi\n",
    "i = complex(0,1)\n",
    "\n",
    "## compute the left-hand side of the equation\n",
    "LHS = cmath.exp(i*z)\n",
    "\n",
    "## compute the right-hand side of the equation\n",
    "RHS = cmath.cos(z) + i*cmath.sin(z)\n",
    "\n",
    "# check whether the two numbers are equivalent\n",
    "print(LHS==RHS,'(!)')"
   ]
  },
  {
   "cell_type": "markdown",
   "id": "0fe74102-fd63-40be-a3bc-3c9853c7bfff",
   "metadata": {},
   "source": [
    "### The `random` module\n",
    "The `random` module provides functionality to generate (pseudo) random numbers:"
   ]
  },
  {
   "cell_type": "code",
   "execution_count": 5,
   "id": "eca49aa4-cf4b-441e-9740-bd7b8398beaf",
   "metadata": {},
   "outputs": [
    {
     "name": "stdout",
     "output_type": "stream",
     "text": [
      "Random integer between 1 and 10: 6\n",
      "Random float between 1 and 10: 5.16456819567339\n",
      "Random sample from a Gaussian distribution: 2.756885464194921\n"
     ]
    }
   ],
   "source": [
    "# import the random module\n",
    "import random as rn\n",
    "\n",
    "# create a random integer between 1 and 10\n",
    "print('Random integer between 1 and 10:',rn.randint(1,10))\n",
    "\n",
    "# create a random float between 1 and 10\n",
    "print('Random float between 1 and 10:',rn.uniform(1,10))\n",
    "\n",
    "# sample the gaussian (aka normal) distribution\n",
    "# the default values for the mean (mu) and the stardard deviation (sigma) are 0 and 1\n",
    "print('Random sample from a Gaussian distribution:',rn.gauss(mu=0, sigma=1))"
   ]
  },
  {
   "cell_type": "markdown",
   "id": "97a2087c-db73-4bde-b739-bc9759c2d1b8",
   "metadata": {},
   "source": [
    "### Modules for the file system (see next notebook)\n",
    "- os: basic operating system functions\n",
    "- shutil: functions for copying, etc"
   ]
  },
  {
   "cell_type": "markdown",
   "id": "1f2be37d-6825-40d7-9e5d-c63eae683aa6",
   "metadata": {},
   "source": [
    "### List of all built-in modules\n",
    "A list of all built-in modules can be accessed in the Python documentation at https://docs.python.org/3/py-modindex.html"
   ]
  },
  {
   "cell_type": "markdown",
   "id": "a0e14d68",
   "metadata": {},
   "source": [
    "### &#x1F914; Mini-Exercise\n",
    "Goal: Create an approximation to the sine function using polynomials. Calculate the root mean square error of the calculation for 100 random (float) values between -2 and 2.\n",
    "\n",
    "The sine of a number can be estimated with the first four terms of its Taylor expansion as:\n",
    "\n",
    "$sin(x) \\approx x - \\frac{x^3}{6} + \\frac{x^5}{120} - \\frac{x^7}{5040}$\n",
    "\n",
    "The root mean square error (RMSE) is calculated as\n",
    "\n",
    "$RMSE = \\sqrt{\\frac{1}{N} \\sum_{i=1}^{N} (e_i - t_i)^2}$\n",
    "\n",
    "where $N$ is the number of points, $e_i$ is the $i$th estimated value, and $t_i$ is the $i$th true value."
   ]
  },
  {
   "cell_type": "code",
   "execution_count": 6,
   "id": "80694920-030e-4247-82a9-bd77bb0a8c5c",
   "metadata": {},
   "outputs": [
    {
     "name": "stdout",
     "output_type": "stream",
     "text": [
      "RMSE of approximation: 0.0002820620965953877\n"
     ]
    }
   ],
   "source": [
    "# import the math and random modules\n",
    "import math\n",
    "import random\n",
    "\n",
    "# define your approximate to sin in a function called sine_poly\n",
    "def sine_poly(x):\n",
    "    value = x - x**3/6 + x**5/120 - x**7/5040\n",
    "    return value\n",
    "\n",
    "# write a loop to calculate the root mean square error for 100 values\n",
    "sum_of_squares = 0\n",
    "N = 100\n",
    "for i in range(N):\n",
    "    x = random.uniform(-2,2)\n",
    "    t_i = math.sin(x)\n",
    "    e_i = sine_poly(x)\n",
    "    sum_of_squares += (t_i - e_i)**2\n",
    "RMSE = math.sqrt(sum_of_squares/N)\n",
    "\n",
    "# print the RMSE value\n",
    "print('RMSE of approximation:',RMSE)"
   ]
  },
  {
   "cell_type": "markdown",
   "id": "600fe472-e0ae-402c-89a7-9391553192de",
   "metadata": {},
   "source": [
    "## Generating a custom module\n",
    "Python has a lot of very useful modules that are built-in with its standard distribution. However, as you begin to develop code and work on your own projects, you will want to start generating modules that can be used for your particular purpose.\n",
    "\n",
    "For this example, it is recommend that you shift over to an Integrated Development Environment (IDE). Two common IDEs used by Python developers are:\n",
    "- [PyCharm (Community Edition)](https://www.jetbrains.com/pycharm/)\n",
    "- [Visual Studio Code](https://code.visualstudio.com/download)\n",
    "\n",
    "In the IDE, create a new file called `test_module.py` in the same location as this notebook and write two new functions for your first and last name as follows:"
   ]
  },
  {
   "cell_type": "code",
   "execution_count": 7,
   "id": "9283f8de",
   "metadata": {},
   "outputs": [],
   "source": [
    "def first_name():\n",
    "    print('Mike')\n",
    "\n",
    "def last_name():\n",
    "    print('Wood')"
   ]
  },
  {
   "cell_type": "markdown",
   "id": "4508dac0-b983-4246-b228-fddfc75e99a0",
   "metadata": {},
   "source": [
    "To import a custom module into a Jupyter notebook, use the same syntax as above - use the import statment. The module name is given by the file name (without the py extension). For example, we can import the `test_module` module we created below:"
   ]
  },
  {
   "cell_type": "code",
   "execution_count": 8,
   "id": "d241c132-eb2e-4a7c-8ee9-0b2a9c89128b",
   "metadata": {},
   "outputs": [
    {
     "name": "stdout",
     "output_type": "stream",
     "text": [
      "Mike\n",
      "Wood\n"
     ]
    }
   ],
   "source": [
    "# import the test module\n",
    "import test_module as tm\n",
    "\n",
    "# call the function from the test module\n",
    "tm.first_name()\n",
    "tm.last_name()"
   ]
  },
  {
   "cell_type": "markdown",
   "id": "e74a2be0",
   "metadata": {},
   "source": [
    "Note that the functions in the cell block above are not the functions in the previous cell block - they are imported from the module and are preceded by the `tm` alias."
   ]
  },
  {
   "cell_type": "markdown",
   "id": "5f6b598e-2133-489e-80e5-0a705256fd91",
   "metadata": {},
   "source": [
    "### &#x1F914; Check your understanding\n",
    "How can you edit the `test_module` to create a new function for `middle_name()`?"
   ]
  },
  {
   "cell_type": "markdown",
   "id": "5a57cdf2-39b7-4981-9912-73a3ae9ea270",
   "metadata": {},
   "source": [
    "```{note}\n",
    "When you change a module outside of a Jupyter Notebook, you need to do one of two things to implement the changes: 1) restart your kernel or 2) use the importlib package by importing the package (`import importlib`) and reloading your package (`tm = importlib.reload(tm)`). \n",
    "```"
   ]
  },
  {
   "cell_type": "markdown",
   "id": "9137110a-0918-45dd-8609-bda44856ff7b",
   "metadata": {},
   "source": [
    "### &#x1F914; Try it for yourself\n",
    "Goal: Complete the `astrology` module provided with this notebook [HERE](https://github.com/ProfMikeWood/intro_to_python_book/blob/main/code_organization/astrology.py) by filling in the remainging functions in the `astrology.py` file."
   ]
  },
  {
   "cell_type": "markdown",
   "id": "9f2e3c01-69b5-40e6-b3b5-b759004db56f",
   "metadata": {},
   "source": [
    "The `astrology` module has two functions:\n",
    "1. birthday_to_sign(month, day) - a function to return the astrological sign corresponding to a given birthday\n",
    "2. sign_to_birthday_range(sign) - a function to return the birthday range for a given sign\n",
    "   \n",
    "The instructions for generating the module are provided in the comments of the separate file `astrology.py`. Be sure to edit this file and test it for a range of birthdays and signs. The following code shows how the two functions should operate:"
   ]
  },
  {
   "cell_type": "code",
   "execution_count": 9,
   "id": "91085d01-26e9-4626-ab5e-4751bbe91671",
   "metadata": {},
   "outputs": [],
   "source": [
    "# import the astrology module - give it an alias if you'd like\n",
    "import astrology as astro"
   ]
  },
  {
   "cell_type": "code",
   "execution_count": 10,
   "id": "ae78d8dd-0b5a-41fd-af4c-fdf3a20e8f38",
   "metadata": {},
   "outputs": [
    {
     "name": "stdout",
     "output_type": "stream",
     "text": [
      "The sign for a person born on September 1st is Virgo\n"
     ]
    }
   ],
   "source": [
    "# test the birthday_to_sign function\n",
    "sign = astro.birthday_to_sign(month=9, day=1)\n",
    "print('The sign for a person born on September 1st is '+sign)"
   ]
  },
  {
   "cell_type": "code",
   "execution_count": 11,
   "id": "571fccea-947c-4319-a97d-6ef95857431d",
   "metadata": {},
   "outputs": [
    {
     "name": "stdout",
     "output_type": "stream",
     "text": [
      "The Gemini sign corresonds to birthdays in the range 5/21 to 6/21\n"
     ]
    }
   ],
   "source": [
    "# test the sign_to_birthday_range function\n",
    "date_range = astro.sign_to_birthday_range(sign='Gemini')\n",
    "print('The Gemini sign corresonds to birthdays in the range '+\n",
    "      str(date_range[0])+'/'+str(date_range[1])+' to '+str(date_range[2])+'/'+str(date_range[3]))"
   ]
  }
 ],
 "metadata": {
  "kernelspec": {
   "display_name": "teaching",
   "language": "python",
   "name": "teaching"
  },
  "language_info": {
   "codemirror_mode": {
    "name": "ipython",
    "version": 3
   },
   "file_extension": ".py",
   "mimetype": "text/x-python",
   "name": "python",
   "nbconvert_exporter": "python",
   "pygments_lexer": "ipython3",
   "version": "3.11.3"
  }
 },
 "nbformat": 4,
 "nbformat_minor": 5
}