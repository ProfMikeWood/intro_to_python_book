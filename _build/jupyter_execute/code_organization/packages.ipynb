{
 "cells": [
  {
   "cell_type": "markdown",
   "id": "73ef0815",
   "metadata": {},
   "source": [
    "# Packages and Libraries"
   ]
  },
  {
   "cell_type": "markdown",
   "id": "9c7c86bd-3fdf-4a44-9a4e-1ca9e83966db",
   "metadata": {},
   "source": [
    "Author: Mike Wood\n",
    "\n",
    "Learning Objectives: By the end of this notebook, you should be able to:\n",
    "1. Install a new conda library on your machine\n",
    "2. Generate a list of all modules available in your conda environment\n",
    "3. Develop your own Python library\n",
    "4. Implement a custom Python library in your conda environment"
   ]
  },
  {
   "cell_type": "markdown",
   "id": "1c0bbd8a-33dd-48ba-9296-58591e42d189",
   "metadata": {},
   "source": [
    "## Installing Conda Packages\n",
    "In this course, we are using **miniconda** to manage our installation of Python as well as the packages we installed for this course. You may remember from our first lecture that we installed a package so that we can use this Jupyter notebook with the following command in our terminal:\n",
    "`conda install jupyter`\n",
    "\n",
    "To remind ourselves of this process we will install two more packages which will be used later on in this class: `pandas` and `scipy`\n",
    "\n",
    "The `pandas` library will provide a convenient way to work with numeric data. The `scipy` library will give us a wide range of computational tools."
   ]
  },
  {
   "cell_type": "markdown",
   "id": "687daa54-60e6-4a8f-a9d9-29f86afe0676",
   "metadata": {},
   "source": [
    "If you'd like to get a list of all the modules available in your conda installation, you can use the `help('modules')` feature. Note that may have received some `UserWarnings` in the when using this function - this results from Python checking the import of each individual module. Developers will place a `UserWarning` in a module when they suspect it will be depricated later. If you'd like to disable these statements, fear not! There is a module for that:"
   ]
  },
  {
   "cell_type": "code",
   "execution_count": 1,
   "id": "da6b3fdd",
   "metadata": {},
   "outputs": [],
   "source": [
    "# import the warnings module \n",
    "import warnings\n",
    "\n",
    "# use the warnings module to filer out the UserWarnings\n",
    "warnings.simplefilter(\"ignore\", UserWarning)"
   ]
  },
  {
   "cell_type": "code",
   "execution_count": 2,
   "id": "afecf239-6583-40ac-b344-2c05e37cb720",
   "metadata": {
    "tags": [
     "hide-output"
    ]
   },
   "outputs": [
    {
     "name": "stdout",
     "output_type": "stream",
     "text": [
      "\n",
      "Please wait a moment while I gather a list of all available modules...\n",
      "\n"
     ]
    },
    {
     "ename": "KeyboardInterrupt",
     "evalue": "",
     "output_type": "error",
     "traceback": [
      "\u001b[0;31m---------------------------------------------------------------------------\u001b[0m",
      "\u001b[0;31mUnannotatedAttributeError\u001b[0m                 Traceback (most recent call last)",
      "File \u001b[0;32m~/opt/anaconda3/envs/cs122/lib/python3.10/site-packages/attr/_next_gen.py:146\u001b[0m, in \u001b[0;36mdefine.<locals>.wrap\u001b[0;34m(cls)\u001b[0m\n\u001b[1;32m    145\u001b[0m \u001b[38;5;28;01mtry\u001b[39;00m:\n\u001b[0;32m--> 146\u001b[0m     \u001b[38;5;28;01mreturn\u001b[39;00m \u001b[43mdo_it\u001b[49m\u001b[43m(\u001b[49m\u001b[38;5;28;43mcls\u001b[39;49m\u001b[43m,\u001b[49m\u001b[43m \u001b[49m\u001b[38;5;28;43;01mTrue\u001b[39;49;00m\u001b[43m)\u001b[49m\n\u001b[1;32m    147\u001b[0m \u001b[38;5;28;01mexcept\u001b[39;00m UnannotatedAttributeError:\n",
      "File \u001b[0;32m~/opt/anaconda3/envs/cs122/lib/python3.10/site-packages/attr/_next_gen.py:90\u001b[0m, in \u001b[0;36mdefine.<locals>.do_it\u001b[0;34m(cls, auto_attribs)\u001b[0m\n\u001b[1;32m     89\u001b[0m \u001b[38;5;28;01mdef\u001b[39;00m \u001b[38;5;21mdo_it\u001b[39m(\u001b[38;5;28mcls\u001b[39m, auto_attribs):\n\u001b[0;32m---> 90\u001b[0m     \u001b[38;5;28;01mreturn\u001b[39;00m \u001b[43mattrs\u001b[49m\u001b[43m(\u001b[49m\n\u001b[1;32m     91\u001b[0m \u001b[43m        \u001b[49m\u001b[43mmaybe_cls\u001b[49m\u001b[38;5;241;43m=\u001b[39;49m\u001b[38;5;28;43mcls\u001b[39;49m\u001b[43m,\u001b[49m\n\u001b[1;32m     92\u001b[0m \u001b[43m        \u001b[49m\u001b[43mthese\u001b[49m\u001b[38;5;241;43m=\u001b[39;49m\u001b[43mthese\u001b[49m\u001b[43m,\u001b[49m\n\u001b[1;32m     93\u001b[0m \u001b[43m        \u001b[49m\u001b[38;5;28;43mrepr\u001b[39;49m\u001b[38;5;241;43m=\u001b[39;49m\u001b[38;5;28;43mrepr\u001b[39;49m\u001b[43m,\u001b[49m\n\u001b[1;32m     94\u001b[0m \u001b[43m        \u001b[49m\u001b[38;5;28;43mhash\u001b[39;49m\u001b[38;5;241;43m=\u001b[39;49m\u001b[38;5;28;43mhash\u001b[39;49m\u001b[43m,\u001b[49m\n\u001b[1;32m     95\u001b[0m \u001b[43m        \u001b[49m\u001b[43munsafe_hash\u001b[49m\u001b[38;5;241;43m=\u001b[39;49m\u001b[43munsafe_hash\u001b[49m\u001b[43m,\u001b[49m\n\u001b[1;32m     96\u001b[0m \u001b[43m        \u001b[49m\u001b[43minit\u001b[49m\u001b[38;5;241;43m=\u001b[39;49m\u001b[43minit\u001b[49m\u001b[43m,\u001b[49m\n\u001b[1;32m     97\u001b[0m \u001b[43m        \u001b[49m\u001b[43mslots\u001b[49m\u001b[38;5;241;43m=\u001b[39;49m\u001b[43mslots\u001b[49m\u001b[43m,\u001b[49m\n\u001b[1;32m     98\u001b[0m \u001b[43m        \u001b[49m\u001b[43mfrozen\u001b[49m\u001b[38;5;241;43m=\u001b[39;49m\u001b[43mfrozen\u001b[49m\u001b[43m,\u001b[49m\n\u001b[1;32m     99\u001b[0m \u001b[43m        \u001b[49m\u001b[43mweakref_slot\u001b[49m\u001b[38;5;241;43m=\u001b[39;49m\u001b[43mweakref_slot\u001b[49m\u001b[43m,\u001b[49m\n\u001b[1;32m    100\u001b[0m \u001b[43m        \u001b[49m\u001b[38;5;28;43mstr\u001b[39;49m\u001b[38;5;241;43m=\u001b[39;49m\u001b[38;5;28;43mstr\u001b[39;49m\u001b[43m,\u001b[49m\n\u001b[1;32m    101\u001b[0m \u001b[43m        \u001b[49m\u001b[43mauto_attribs\u001b[49m\u001b[38;5;241;43m=\u001b[39;49m\u001b[43mauto_attribs\u001b[49m\u001b[43m,\u001b[49m\n\u001b[1;32m    102\u001b[0m \u001b[43m        \u001b[49m\u001b[43mkw_only\u001b[49m\u001b[38;5;241;43m=\u001b[39;49m\u001b[43mkw_only\u001b[49m\u001b[43m,\u001b[49m\n\u001b[1;32m    103\u001b[0m \u001b[43m        \u001b[49m\u001b[43mcache_hash\u001b[49m\u001b[38;5;241;43m=\u001b[39;49m\u001b[43mcache_hash\u001b[49m\u001b[43m,\u001b[49m\n\u001b[1;32m    104\u001b[0m \u001b[43m        \u001b[49m\u001b[43mauto_exc\u001b[49m\u001b[38;5;241;43m=\u001b[39;49m\u001b[43mauto_exc\u001b[49m\u001b[43m,\u001b[49m\n\u001b[1;32m    105\u001b[0m \u001b[43m        \u001b[49m\u001b[43meq\u001b[49m\u001b[38;5;241;43m=\u001b[39;49m\u001b[43meq\u001b[49m\u001b[43m,\u001b[49m\n\u001b[1;32m    106\u001b[0m \u001b[43m        \u001b[49m\u001b[43morder\u001b[49m\u001b[38;5;241;43m=\u001b[39;49m\u001b[43morder\u001b[49m\u001b[43m,\u001b[49m\n\u001b[1;32m    107\u001b[0m \u001b[43m        \u001b[49m\u001b[43mauto_detect\u001b[49m\u001b[38;5;241;43m=\u001b[39;49m\u001b[43mauto_detect\u001b[49m\u001b[43m,\u001b[49m\n\u001b[1;32m    108\u001b[0m \u001b[43m        \u001b[49m\u001b[43mcollect_by_mro\u001b[49m\u001b[38;5;241;43m=\u001b[39;49m\u001b[38;5;28;43;01mTrue\u001b[39;49;00m\u001b[43m,\u001b[49m\n\u001b[1;32m    109\u001b[0m \u001b[43m        \u001b[49m\u001b[43mgetstate_setstate\u001b[49m\u001b[38;5;241;43m=\u001b[39;49m\u001b[43mgetstate_setstate\u001b[49m\u001b[43m,\u001b[49m\n\u001b[1;32m    110\u001b[0m \u001b[43m        \u001b[49m\u001b[43mon_setattr\u001b[49m\u001b[38;5;241;43m=\u001b[39;49m\u001b[43mon_setattr\u001b[49m\u001b[43m,\u001b[49m\n\u001b[1;32m    111\u001b[0m \u001b[43m        \u001b[49m\u001b[43mfield_transformer\u001b[49m\u001b[38;5;241;43m=\u001b[39;49m\u001b[43mfield_transformer\u001b[49m\u001b[43m,\u001b[49m\n\u001b[1;32m    112\u001b[0m \u001b[43m        \u001b[49m\u001b[43mmatch_args\u001b[49m\u001b[38;5;241;43m=\u001b[39;49m\u001b[43mmatch_args\u001b[49m\u001b[43m,\u001b[49m\n\u001b[1;32m    113\u001b[0m \u001b[43m    \u001b[49m\u001b[43m)\u001b[49m\n",
      "File \u001b[0;32m~/opt/anaconda3/envs/cs122/lib/python3.10/site-packages/attr/_make.py:1603\u001b[0m, in \u001b[0;36mattrs\u001b[0;34m(maybe_cls, these, repr_ns, repr, cmp, hash, init, slots, frozen, weakref_slot, str, auto_attribs, kw_only, cache_hash, auto_exc, eq, order, auto_detect, collect_by_mro, getstate_setstate, on_setattr, field_transformer, match_args, unsafe_hash)\u001b[0m\n\u001b[1;32m   1602\u001b[0m \u001b[38;5;28;01melse\u001b[39;00m:\n\u001b[0;32m-> 1603\u001b[0m     \u001b[38;5;28;01mreturn\u001b[39;00m \u001b[43mwrap\u001b[49m\u001b[43m(\u001b[49m\u001b[43mmaybe_cls\u001b[49m\u001b[43m)\u001b[49m\n",
      "File \u001b[0;32m~/opt/anaconda3/envs/cs122/lib/python3.10/site-packages/attr/_make.py:1499\u001b[0m, in \u001b[0;36mattrs.<locals>.wrap\u001b[0;34m(cls)\u001b[0m\n\u001b[1;32m   1497\u001b[0m     \u001b[38;5;28;01mraise\u001b[39;00m \u001b[38;5;167;01mValueError\u001b[39;00m(\u001b[38;5;124m\"\u001b[39m\u001b[38;5;124mCan\u001b[39m\u001b[38;5;124m'\u001b[39m\u001b[38;5;124mt freeze a class with a custom __setattr__.\u001b[39m\u001b[38;5;124m\"\u001b[39m)\n\u001b[0;32m-> 1499\u001b[0m builder \u001b[38;5;241m=\u001b[39m \u001b[43m_ClassBuilder\u001b[49m\u001b[43m(\u001b[49m\n\u001b[1;32m   1500\u001b[0m \u001b[43m    \u001b[49m\u001b[38;5;28;43mcls\u001b[39;49m\u001b[43m,\u001b[49m\n\u001b[1;32m   1501\u001b[0m \u001b[43m    \u001b[49m\u001b[43mthese\u001b[49m\u001b[43m,\u001b[49m\n\u001b[1;32m   1502\u001b[0m \u001b[43m    \u001b[49m\u001b[43mslots\u001b[49m\u001b[43m,\u001b[49m\n\u001b[1;32m   1503\u001b[0m \u001b[43m    \u001b[49m\u001b[43mis_frozen\u001b[49m\u001b[43m,\u001b[49m\n\u001b[1;32m   1504\u001b[0m \u001b[43m    \u001b[49m\u001b[43mweakref_slot\u001b[49m\u001b[43m,\u001b[49m\n\u001b[1;32m   1505\u001b[0m \u001b[43m    \u001b[49m\u001b[43m_determine_whether_to_implement\u001b[49m\u001b[43m(\u001b[49m\n\u001b[1;32m   1506\u001b[0m \u001b[43m        \u001b[49m\u001b[38;5;28;43mcls\u001b[39;49m\u001b[43m,\u001b[49m\n\u001b[1;32m   1507\u001b[0m \u001b[43m        \u001b[49m\u001b[43mgetstate_setstate\u001b[49m\u001b[43m,\u001b[49m\n\u001b[1;32m   1508\u001b[0m \u001b[43m        \u001b[49m\u001b[43mauto_detect\u001b[49m\u001b[43m,\u001b[49m\n\u001b[1;32m   1509\u001b[0m \u001b[43m        \u001b[49m\u001b[43m(\u001b[49m\u001b[38;5;124;43m\"\u001b[39;49m\u001b[38;5;124;43m__getstate__\u001b[39;49m\u001b[38;5;124;43m\"\u001b[39;49m\u001b[43m,\u001b[49m\u001b[43m \u001b[49m\u001b[38;5;124;43m\"\u001b[39;49m\u001b[38;5;124;43m__setstate__\u001b[39;49m\u001b[38;5;124;43m\"\u001b[39;49m\u001b[43m)\u001b[49m\u001b[43m,\u001b[49m\n\u001b[1;32m   1510\u001b[0m \u001b[43m        \u001b[49m\u001b[43mdefault\u001b[49m\u001b[38;5;241;43m=\u001b[39;49m\u001b[43mslots\u001b[49m\u001b[43m,\u001b[49m\n\u001b[1;32m   1511\u001b[0m \u001b[43m    \u001b[49m\u001b[43m)\u001b[49m\u001b[43m,\u001b[49m\n\u001b[1;32m   1512\u001b[0m \u001b[43m    \u001b[49m\u001b[43mauto_attribs\u001b[49m\u001b[43m,\u001b[49m\n\u001b[1;32m   1513\u001b[0m \u001b[43m    \u001b[49m\u001b[43mkw_only\u001b[49m\u001b[43m,\u001b[49m\n\u001b[1;32m   1514\u001b[0m \u001b[43m    \u001b[49m\u001b[43mcache_hash\u001b[49m\u001b[43m,\u001b[49m\n\u001b[1;32m   1515\u001b[0m \u001b[43m    \u001b[49m\u001b[43mis_exc\u001b[49m\u001b[43m,\u001b[49m\n\u001b[1;32m   1516\u001b[0m \u001b[43m    \u001b[49m\u001b[43mcollect_by_mro\u001b[49m\u001b[43m,\u001b[49m\n\u001b[1;32m   1517\u001b[0m \u001b[43m    \u001b[49m\u001b[43mon_setattr\u001b[49m\u001b[43m,\u001b[49m\n\u001b[1;32m   1518\u001b[0m \u001b[43m    \u001b[49m\u001b[43mhas_own_setattr\u001b[49m\u001b[43m,\u001b[49m\n\u001b[1;32m   1519\u001b[0m \u001b[43m    \u001b[49m\u001b[43mfield_transformer\u001b[49m\u001b[43m,\u001b[49m\n\u001b[1;32m   1520\u001b[0m \u001b[43m\u001b[49m\u001b[43m)\u001b[49m\n\u001b[1;32m   1521\u001b[0m \u001b[38;5;28;01mif\u001b[39;00m _determine_whether_to_implement(\n\u001b[1;32m   1522\u001b[0m     \u001b[38;5;28mcls\u001b[39m, \u001b[38;5;28mrepr\u001b[39m, auto_detect, (\u001b[38;5;124m\"\u001b[39m\u001b[38;5;124m__repr__\u001b[39m\u001b[38;5;124m\"\u001b[39m,)\n\u001b[1;32m   1523\u001b[0m ):\n",
      "File \u001b[0;32m~/opt/anaconda3/envs/cs122/lib/python3.10/site-packages/attr/_make.py:657\u001b[0m, in \u001b[0;36m_ClassBuilder.__init__\u001b[0;34m(self, cls, these, slots, frozen, weakref_slot, getstate_setstate, auto_attribs, kw_only, cache_hash, is_exc, collect_by_mro, on_setattr, has_custom_setattr, field_transformer)\u001b[0m\n\u001b[1;32m    640\u001b[0m \u001b[38;5;28;01mdef\u001b[39;00m \u001b[38;5;21m__init__\u001b[39m(\n\u001b[1;32m    641\u001b[0m     \u001b[38;5;28mself\u001b[39m,\n\u001b[1;32m    642\u001b[0m     \u001b[38;5;28mcls\u001b[39m,\n\u001b[0;32m   (...)\u001b[0m\n\u001b[1;32m    655\u001b[0m     field_transformer,\n\u001b[1;32m    656\u001b[0m ):\n\u001b[0;32m--> 657\u001b[0m     attrs, base_attrs, base_map \u001b[38;5;241m=\u001b[39m \u001b[43m_transform_attrs\u001b[49m\u001b[43m(\u001b[49m\n\u001b[1;32m    658\u001b[0m \u001b[43m        \u001b[49m\u001b[38;5;28;43mcls\u001b[39;49m\u001b[43m,\u001b[49m\n\u001b[1;32m    659\u001b[0m \u001b[43m        \u001b[49m\u001b[43mthese\u001b[49m\u001b[43m,\u001b[49m\n\u001b[1;32m    660\u001b[0m \u001b[43m        \u001b[49m\u001b[43mauto_attribs\u001b[49m\u001b[43m,\u001b[49m\n\u001b[1;32m    661\u001b[0m \u001b[43m        \u001b[49m\u001b[43mkw_only\u001b[49m\u001b[43m,\u001b[49m\n\u001b[1;32m    662\u001b[0m \u001b[43m        \u001b[49m\u001b[43mcollect_by_mro\u001b[49m\u001b[43m,\u001b[49m\n\u001b[1;32m    663\u001b[0m \u001b[43m        \u001b[49m\u001b[43mfield_transformer\u001b[49m\u001b[43m,\u001b[49m\n\u001b[1;32m    664\u001b[0m \u001b[43m    \u001b[49m\u001b[43m)\u001b[49m\n\u001b[1;32m    666\u001b[0m     \u001b[38;5;28mself\u001b[39m\u001b[38;5;241m.\u001b[39m_cls \u001b[38;5;241m=\u001b[39m \u001b[38;5;28mcls\u001b[39m\n",
      "File \u001b[0;32m~/opt/anaconda3/envs/cs122/lib/python3.10/site-packages/attr/_make.py:520\u001b[0m, in \u001b[0;36m_transform_attrs\u001b[0;34m(cls, these, auto_attribs, kw_only, collect_by_mro, field_transformer)\u001b[0m\n\u001b[1;32m    519\u001b[0m     \u001b[38;5;28;01mif\u001b[39;00m \u001b[38;5;28mlen\u001b[39m(unannotated) \u001b[38;5;241m>\u001b[39m \u001b[38;5;241m0\u001b[39m:\n\u001b[0;32m--> 520\u001b[0m         \u001b[38;5;28;01mraise\u001b[39;00m UnannotatedAttributeError(\n\u001b[1;32m    521\u001b[0m             \u001b[38;5;124m\"\u001b[39m\u001b[38;5;124mThe following `attr.ib`s lack a type annotation: \u001b[39m\u001b[38;5;124m\"\u001b[39m\n\u001b[1;32m    522\u001b[0m             \u001b[38;5;241m+\u001b[39m \u001b[38;5;124m\"\u001b[39m\u001b[38;5;124m, \u001b[39m\u001b[38;5;124m\"\u001b[39m\u001b[38;5;241m.\u001b[39mjoin(\n\u001b[1;32m    523\u001b[0m                 \u001b[38;5;28msorted\u001b[39m(unannotated, key\u001b[38;5;241m=\u001b[39m\u001b[38;5;28;01mlambda\u001b[39;00m n: cd\u001b[38;5;241m.\u001b[39mget(n)\u001b[38;5;241m.\u001b[39mcounter)\n\u001b[1;32m    524\u001b[0m             )\n\u001b[1;32m    525\u001b[0m             \u001b[38;5;241m+\u001b[39m \u001b[38;5;124m\"\u001b[39m\u001b[38;5;124m.\u001b[39m\u001b[38;5;124m\"\u001b[39m\n\u001b[1;32m    526\u001b[0m         )\n\u001b[1;32m    527\u001b[0m \u001b[38;5;28;01melse\u001b[39;00m:\n",
      "\u001b[0;31mUnannotatedAttributeError\u001b[0m: The following `attr.ib`s lack a type annotation: _ref_resolver, _resolver.",
      "\nDuring handling of the above exception, another exception occurred:\n",
      "\u001b[0;31mKeyboardInterrupt\u001b[0m                         Traceback (most recent call last)",
      "Cell \u001b[0;32mIn[2], line 2\u001b[0m\n\u001b[1;32m      1\u001b[0m \u001b[38;5;66;03m# use the help method to generate a list of all modules\u001b[39;00m\n\u001b[0;32m----> 2\u001b[0m \u001b[43mhelp\u001b[49m\u001b[43m(\u001b[49m\u001b[38;5;124;43m'\u001b[39;49m\u001b[38;5;124;43mmodules\u001b[39;49m\u001b[38;5;124;43m'\u001b[39;49m\u001b[43m)\u001b[49m\n",
      "File \u001b[0;32m~/opt/anaconda3/envs/cs122/lib/python3.10/_sitebuiltins.py:103\u001b[0m, in \u001b[0;36m_Helper.__call__\u001b[0;34m(self, *args, **kwds)\u001b[0m\n\u001b[1;32m    101\u001b[0m \u001b[38;5;28;01mdef\u001b[39;00m \u001b[38;5;21m__call__\u001b[39m(\u001b[38;5;28mself\u001b[39m, \u001b[38;5;241m*\u001b[39margs, \u001b[38;5;241m*\u001b[39m\u001b[38;5;241m*\u001b[39mkwds):\n\u001b[1;32m    102\u001b[0m     \u001b[38;5;28;01mimport\u001b[39;00m \u001b[38;5;21;01mpydoc\u001b[39;00m\n\u001b[0;32m--> 103\u001b[0m     \u001b[38;5;28;01mreturn\u001b[39;00m \u001b[43mpydoc\u001b[49m\u001b[38;5;241;43m.\u001b[39;49m\u001b[43mhelp\u001b[49m\u001b[43m(\u001b[49m\u001b[38;5;241;43m*\u001b[39;49m\u001b[43margs\u001b[49m\u001b[43m,\u001b[49m\u001b[43m \u001b[49m\u001b[38;5;241;43m*\u001b[39;49m\u001b[38;5;241;43m*\u001b[39;49m\u001b[43mkwds\u001b[49m\u001b[43m)\u001b[49m\n",
      "File \u001b[0;32m~/opt/anaconda3/envs/cs122/lib/python3.10/pydoc.py:2006\u001b[0m, in \u001b[0;36mHelper.__call__\u001b[0;34m(self, request)\u001b[0m\n\u001b[1;32m   2004\u001b[0m \u001b[38;5;28;01mdef\u001b[39;00m \u001b[38;5;21m__call__\u001b[39m(\u001b[38;5;28mself\u001b[39m, request\u001b[38;5;241m=\u001b[39m_GoInteractive):\n\u001b[1;32m   2005\u001b[0m     \u001b[38;5;28;01mif\u001b[39;00m request \u001b[38;5;129;01mis\u001b[39;00m \u001b[38;5;129;01mnot\u001b[39;00m \u001b[38;5;28mself\u001b[39m\u001b[38;5;241m.\u001b[39m_GoInteractive:\n\u001b[0;32m-> 2006\u001b[0m         \u001b[38;5;28;43mself\u001b[39;49m\u001b[38;5;241;43m.\u001b[39;49m\u001b[43mhelp\u001b[49m\u001b[43m(\u001b[49m\u001b[43mrequest\u001b[49m\u001b[43m)\u001b[49m\n\u001b[1;32m   2007\u001b[0m     \u001b[38;5;28;01melse\u001b[39;00m:\n\u001b[1;32m   2008\u001b[0m         \u001b[38;5;28mself\u001b[39m\u001b[38;5;241m.\u001b[39mintro()\n",
      "File \u001b[0;32m~/opt/anaconda3/envs/cs122/lib/python3.10/pydoc.py:2053\u001b[0m, in \u001b[0;36mHelper.help\u001b[0;34m(self, request)\u001b[0m\n\u001b[1;32m   2051\u001b[0m \u001b[38;5;28;01melif\u001b[39;00m request \u001b[38;5;241m==\u001b[39m \u001b[38;5;124m'\u001b[39m\u001b[38;5;124msymbols\u001b[39m\u001b[38;5;124m'\u001b[39m: \u001b[38;5;28mself\u001b[39m\u001b[38;5;241m.\u001b[39mlistsymbols()\n\u001b[1;32m   2052\u001b[0m \u001b[38;5;28;01melif\u001b[39;00m request \u001b[38;5;241m==\u001b[39m \u001b[38;5;124m'\u001b[39m\u001b[38;5;124mtopics\u001b[39m\u001b[38;5;124m'\u001b[39m: \u001b[38;5;28mself\u001b[39m\u001b[38;5;241m.\u001b[39mlisttopics()\n\u001b[0;32m-> 2053\u001b[0m \u001b[38;5;28;01melif\u001b[39;00m request \u001b[38;5;241m==\u001b[39m \u001b[38;5;124m'\u001b[39m\u001b[38;5;124mmodules\u001b[39m\u001b[38;5;124m'\u001b[39m: \u001b[38;5;28;43mself\u001b[39;49m\u001b[38;5;241;43m.\u001b[39;49m\u001b[43mlistmodules\u001b[49m\u001b[43m(\u001b[49m\u001b[43m)\u001b[49m\n\u001b[1;32m   2054\u001b[0m \u001b[38;5;28;01melif\u001b[39;00m request[:\u001b[38;5;241m8\u001b[39m] \u001b[38;5;241m==\u001b[39m \u001b[38;5;124m'\u001b[39m\u001b[38;5;124mmodules \u001b[39m\u001b[38;5;124m'\u001b[39m:\n\u001b[1;32m   2055\u001b[0m     \u001b[38;5;28mself\u001b[39m\u001b[38;5;241m.\u001b[39mlistmodules(request\u001b[38;5;241m.\u001b[39msplit()[\u001b[38;5;241m1\u001b[39m])\n",
      "File \u001b[0;32m~/opt/anaconda3/envs/cs122/lib/python3.10/pydoc.py:2205\u001b[0m, in \u001b[0;36mHelper.listmodules\u001b[0;34m(self, key)\u001b[0m\n\u001b[1;32m   2203\u001b[0m             \u001b[38;5;28;01mdef\u001b[39;00m \u001b[38;5;21monerror\u001b[39m(modname):\n\u001b[1;32m   2204\u001b[0m                 callback(\u001b[38;5;28;01mNone\u001b[39;00m, modname, \u001b[38;5;28;01mNone\u001b[39;00m)\n\u001b[0;32m-> 2205\u001b[0m             \u001b[43mModuleScanner\u001b[49m\u001b[43m(\u001b[49m\u001b[43m)\u001b[49m\u001b[38;5;241;43m.\u001b[39;49m\u001b[43mrun\u001b[49m\u001b[43m(\u001b[49m\u001b[43mcallback\u001b[49m\u001b[43m,\u001b[49m\u001b[43m \u001b[49m\u001b[43monerror\u001b[49m\u001b[38;5;241;43m=\u001b[39;49m\u001b[43monerror\u001b[49m\u001b[43m)\u001b[49m\n\u001b[1;32m   2206\u001b[0m             \u001b[38;5;28mself\u001b[39m\u001b[38;5;241m.\u001b[39mlist(modules\u001b[38;5;241m.\u001b[39mkeys())\n\u001b[1;32m   2207\u001b[0m             \u001b[38;5;28mself\u001b[39m\u001b[38;5;241m.\u001b[39moutput\u001b[38;5;241m.\u001b[39mwrite(\u001b[38;5;124m'''\u001b[39m\n\u001b[1;32m   2208\u001b[0m \u001b[38;5;124mEnter any module name to get more help.  Or, type \u001b[39m\u001b[38;5;124m\"\u001b[39m\u001b[38;5;124mmodules spam\u001b[39m\u001b[38;5;124m\"\u001b[39m\u001b[38;5;124m to search\u001b[39m\n\u001b[1;32m   2209\u001b[0m \u001b[38;5;124mfor modules whose name or summary contain the string \u001b[39m\u001b[38;5;124m\"\u001b[39m\u001b[38;5;124mspam\u001b[39m\u001b[38;5;124m\"\u001b[39m\u001b[38;5;124m.\u001b[39m\n\u001b[1;32m   2210\u001b[0m \u001b[38;5;124m'''\u001b[39m)\n",
      "File \u001b[0;32m~/opt/anaconda3/envs/cs122/lib/python3.10/pydoc.py:2234\u001b[0m, in \u001b[0;36mModuleScanner.run\u001b[0;34m(self, callback, key, completer, onerror)\u001b[0m\n\u001b[1;32m   2231\u001b[0m             \u001b[38;5;28;01mif\u001b[39;00m name\u001b[38;5;241m.\u001b[39mlower()\u001b[38;5;241m.\u001b[39mfind(key) \u001b[38;5;241m>\u001b[39m\u001b[38;5;241m=\u001b[39m \u001b[38;5;241m0\u001b[39m:\n\u001b[1;32m   2232\u001b[0m                 callback(\u001b[38;5;28;01mNone\u001b[39;00m, modname, desc)\n\u001b[0;32m-> 2234\u001b[0m \u001b[38;5;28;01mfor\u001b[39;00m importer, modname, ispkg \u001b[38;5;129;01min\u001b[39;00m pkgutil\u001b[38;5;241m.\u001b[39mwalk_packages(onerror\u001b[38;5;241m=\u001b[39monerror):\n\u001b[1;32m   2235\u001b[0m     \u001b[38;5;28;01mif\u001b[39;00m \u001b[38;5;28mself\u001b[39m\u001b[38;5;241m.\u001b[39mquit:\n\u001b[1;32m   2236\u001b[0m         \u001b[38;5;28;01mbreak\u001b[39;00m\n",
      "File \u001b[0;32m~/opt/anaconda3/envs/cs122/lib/python3.10/pkgutil.py:92\u001b[0m, in \u001b[0;36mwalk_packages\u001b[0;34m(path, prefix, onerror)\u001b[0m\n\u001b[1;32m     90\u001b[0m \u001b[38;5;28;01mif\u001b[39;00m info\u001b[38;5;241m.\u001b[39mispkg:\n\u001b[1;32m     91\u001b[0m     \u001b[38;5;28;01mtry\u001b[39;00m:\n\u001b[0;32m---> 92\u001b[0m         \u001b[38;5;28;43m__import__\u001b[39;49m\u001b[43m(\u001b[49m\u001b[43minfo\u001b[49m\u001b[38;5;241;43m.\u001b[39;49m\u001b[43mname\u001b[49m\u001b[43m)\u001b[49m\n\u001b[1;32m     93\u001b[0m     \u001b[38;5;28;01mexcept\u001b[39;00m \u001b[38;5;167;01mImportError\u001b[39;00m:\n\u001b[1;32m     94\u001b[0m         \u001b[38;5;28;01mif\u001b[39;00m onerror \u001b[38;5;129;01mis\u001b[39;00m \u001b[38;5;129;01mnot\u001b[39;00m \u001b[38;5;28;01mNone\u001b[39;00m:\n",
      "File \u001b[0;32m~/opt/anaconda3/envs/cs122/lib/python3.10/site-packages/jsonschema/__init__.py:16\u001b[0m\n\u001b[1;32m     14\u001b[0m \u001b[38;5;28;01mfrom\u001b[39;00m \u001b[38;5;21;01mjsonschema\u001b[39;00m\u001b[38;5;21;01m.\u001b[39;00m\u001b[38;5;21;01m_types\u001b[39;00m \u001b[38;5;28;01mimport\u001b[39;00m TypeChecker\n\u001b[1;32m     15\u001b[0m \u001b[38;5;28;01mfrom\u001b[39;00m \u001b[38;5;21;01mjsonschema\u001b[39;00m\u001b[38;5;21;01m.\u001b[39;00m\u001b[38;5;21;01mexceptions\u001b[39;00m \u001b[38;5;28;01mimport\u001b[39;00m SchemaError, ValidationError\n\u001b[0;32m---> 16\u001b[0m \u001b[38;5;28;01mfrom\u001b[39;00m \u001b[38;5;21;01mjsonschema\u001b[39;00m\u001b[38;5;21;01m.\u001b[39;00m\u001b[38;5;21;01mvalidators\u001b[39;00m \u001b[38;5;28;01mimport\u001b[39;00m (\n\u001b[1;32m     17\u001b[0m     Draft3Validator,\n\u001b[1;32m     18\u001b[0m     Draft4Validator,\n\u001b[1;32m     19\u001b[0m     Draft6Validator,\n\u001b[1;32m     20\u001b[0m     Draft7Validator,\n\u001b[1;32m     21\u001b[0m     Draft201909Validator,\n\u001b[1;32m     22\u001b[0m     Draft202012Validator,\n\u001b[1;32m     23\u001b[0m     validate,\n\u001b[1;32m     24\u001b[0m )\n\u001b[1;32m     27\u001b[0m \u001b[38;5;28;01mdef\u001b[39;00m \u001b[38;5;21m__getattr__\u001b[39m(name):\n\u001b[1;32m     28\u001b[0m     \u001b[38;5;28;01mif\u001b[39;00m name \u001b[38;5;241m==\u001b[39m \u001b[38;5;124m\"\u001b[39m\u001b[38;5;124m__version__\u001b[39m\u001b[38;5;124m\"\u001b[39m:\n",
      "File \u001b[0;32m~/opt/anaconda3/envs/cs122/lib/python3.10/site-packages/jsonschema/validators.py:746\u001b[0m\n\u001b[1;32m    657\u001b[0m Draft6Validator \u001b[38;5;241m=\u001b[39m create(\n\u001b[1;32m    658\u001b[0m     meta_schema\u001b[38;5;241m=\u001b[39mSPECIFICATIONS\u001b[38;5;241m.\u001b[39mcontents(\n\u001b[1;32m    659\u001b[0m         \u001b[38;5;124m\"\u001b[39m\u001b[38;5;124mhttp://json-schema.org/draft-06/schema#\u001b[39m\u001b[38;5;124m\"\u001b[39m,\n\u001b[0;32m   (...)\u001b[0m\n\u001b[1;32m    698\u001b[0m     applicable_validators\u001b[38;5;241m=\u001b[39m_legacy_keywords\u001b[38;5;241m.\u001b[39mignore_ref_siblings,\n\u001b[1;32m    699\u001b[0m )\n\u001b[1;32m    701\u001b[0m Draft7Validator \u001b[38;5;241m=\u001b[39m create(\n\u001b[1;32m    702\u001b[0m     meta_schema\u001b[38;5;241m=\u001b[39mSPECIFICATIONS\u001b[38;5;241m.\u001b[39mcontents(\n\u001b[1;32m    703\u001b[0m         \u001b[38;5;124m\"\u001b[39m\u001b[38;5;124mhttp://json-schema.org/draft-07/schema#\u001b[39m\u001b[38;5;124m\"\u001b[39m,\n\u001b[0;32m   (...)\u001b[0m\n\u001b[1;32m    743\u001b[0m     applicable_validators\u001b[38;5;241m=\u001b[39m_legacy_keywords\u001b[38;5;241m.\u001b[39mignore_ref_siblings,\n\u001b[1;32m    744\u001b[0m )\n\u001b[0;32m--> 746\u001b[0m Draft201909Validator \u001b[38;5;241m=\u001b[39m \u001b[43mcreate\u001b[49m\u001b[43m(\u001b[49m\n\u001b[1;32m    747\u001b[0m \u001b[43m    \u001b[49m\u001b[43mmeta_schema\u001b[49m\u001b[38;5;241;43m=\u001b[39;49m\u001b[43mSPECIFICATIONS\u001b[49m\u001b[38;5;241;43m.\u001b[39;49m\u001b[43mcontents\u001b[49m\u001b[43m(\u001b[49m\n\u001b[1;32m    748\u001b[0m \u001b[43m        \u001b[49m\u001b[38;5;124;43m\"\u001b[39;49m\u001b[38;5;124;43mhttps://json-schema.org/draft/2019-09/schema\u001b[39;49m\u001b[38;5;124;43m\"\u001b[39;49m\u001b[43m,\u001b[49m\n\u001b[1;32m    749\u001b[0m \u001b[43m    \u001b[49m\u001b[43m)\u001b[49m\u001b[43m,\u001b[49m\n\u001b[1;32m    750\u001b[0m \u001b[43m    \u001b[49m\u001b[43mvalidators\u001b[49m\u001b[38;5;241;43m=\u001b[39;49m\u001b[43m{\u001b[49m\n\u001b[1;32m    751\u001b[0m \u001b[43m        \u001b[49m\u001b[38;5;124;43m\"\u001b[39;49m\u001b[38;5;124;43m$recursiveRef\u001b[39;49m\u001b[38;5;124;43m\"\u001b[39;49m\u001b[43m:\u001b[49m\u001b[43m \u001b[49m\u001b[43m_legacy_keywords\u001b[49m\u001b[38;5;241;43m.\u001b[39;49m\u001b[43mrecursiveRef\u001b[49m\u001b[43m,\u001b[49m\n\u001b[1;32m    752\u001b[0m \u001b[43m        \u001b[49m\u001b[38;5;124;43m\"\u001b[39;49m\u001b[38;5;124;43m$ref\u001b[39;49m\u001b[38;5;124;43m\"\u001b[39;49m\u001b[43m:\u001b[49m\u001b[43m \u001b[49m\u001b[43m_keywords\u001b[49m\u001b[38;5;241;43m.\u001b[39;49m\u001b[43mref\u001b[49m\u001b[43m,\u001b[49m\n\u001b[1;32m    753\u001b[0m \u001b[43m        \u001b[49m\u001b[38;5;124;43m\"\u001b[39;49m\u001b[38;5;124;43madditionalItems\u001b[39;49m\u001b[38;5;124;43m\"\u001b[39;49m\u001b[43m:\u001b[49m\u001b[43m \u001b[49m\u001b[43m_keywords\u001b[49m\u001b[38;5;241;43m.\u001b[39;49m\u001b[43madditionalItems\u001b[49m\u001b[43m,\u001b[49m\n\u001b[1;32m    754\u001b[0m \u001b[43m        \u001b[49m\u001b[38;5;124;43m\"\u001b[39;49m\u001b[38;5;124;43madditionalProperties\u001b[39;49m\u001b[38;5;124;43m\"\u001b[39;49m\u001b[43m:\u001b[49m\u001b[43m \u001b[49m\u001b[43m_keywords\u001b[49m\u001b[38;5;241;43m.\u001b[39;49m\u001b[43madditionalProperties\u001b[49m\u001b[43m,\u001b[49m\n\u001b[1;32m    755\u001b[0m \u001b[43m        \u001b[49m\u001b[38;5;124;43m\"\u001b[39;49m\u001b[38;5;124;43mallOf\u001b[39;49m\u001b[38;5;124;43m\"\u001b[39;49m\u001b[43m:\u001b[49m\u001b[43m \u001b[49m\u001b[43m_keywords\u001b[49m\u001b[38;5;241;43m.\u001b[39;49m\u001b[43mallOf\u001b[49m\u001b[43m,\u001b[49m\n\u001b[1;32m    756\u001b[0m \u001b[43m        \u001b[49m\u001b[38;5;124;43m\"\u001b[39;49m\u001b[38;5;124;43manyOf\u001b[39;49m\u001b[38;5;124;43m\"\u001b[39;49m\u001b[43m:\u001b[49m\u001b[43m \u001b[49m\u001b[43m_keywords\u001b[49m\u001b[38;5;241;43m.\u001b[39;49m\u001b[43manyOf\u001b[49m\u001b[43m,\u001b[49m\n\u001b[1;32m    757\u001b[0m \u001b[43m        \u001b[49m\u001b[38;5;124;43m\"\u001b[39;49m\u001b[38;5;124;43mconst\u001b[39;49m\u001b[38;5;124;43m\"\u001b[39;49m\u001b[43m:\u001b[49m\u001b[43m \u001b[49m\u001b[43m_keywords\u001b[49m\u001b[38;5;241;43m.\u001b[39;49m\u001b[43mconst\u001b[49m\u001b[43m,\u001b[49m\n\u001b[1;32m    758\u001b[0m \u001b[43m        \u001b[49m\u001b[38;5;124;43m\"\u001b[39;49m\u001b[38;5;124;43mcontains\u001b[39;49m\u001b[38;5;124;43m\"\u001b[39;49m\u001b[43m:\u001b[49m\u001b[43m \u001b[49m\u001b[43m_keywords\u001b[49m\u001b[38;5;241;43m.\u001b[39;49m\u001b[43mcontains\u001b[49m\u001b[43m,\u001b[49m\n\u001b[1;32m    759\u001b[0m \u001b[43m        \u001b[49m\u001b[38;5;124;43m\"\u001b[39;49m\u001b[38;5;124;43mdependentRequired\u001b[39;49m\u001b[38;5;124;43m\"\u001b[39;49m\u001b[43m:\u001b[49m\u001b[43m \u001b[49m\u001b[43m_keywords\u001b[49m\u001b[38;5;241;43m.\u001b[39;49m\u001b[43mdependentRequired\u001b[49m\u001b[43m,\u001b[49m\n\u001b[1;32m    760\u001b[0m \u001b[43m        \u001b[49m\u001b[38;5;124;43m\"\u001b[39;49m\u001b[38;5;124;43mdependentSchemas\u001b[39;49m\u001b[38;5;124;43m\"\u001b[39;49m\u001b[43m:\u001b[49m\u001b[43m \u001b[49m\u001b[43m_keywords\u001b[49m\u001b[38;5;241;43m.\u001b[39;49m\u001b[43mdependentSchemas\u001b[49m\u001b[43m,\u001b[49m\n\u001b[1;32m    761\u001b[0m \u001b[43m        \u001b[49m\u001b[38;5;124;43m\"\u001b[39;49m\u001b[38;5;124;43menum\u001b[39;49m\u001b[38;5;124;43m\"\u001b[39;49m\u001b[43m:\u001b[49m\u001b[43m \u001b[49m\u001b[43m_keywords\u001b[49m\u001b[38;5;241;43m.\u001b[39;49m\u001b[43menum\u001b[49m\u001b[43m,\u001b[49m\n\u001b[1;32m    762\u001b[0m \u001b[43m        \u001b[49m\u001b[38;5;124;43m\"\u001b[39;49m\u001b[38;5;124;43mexclusiveMaximum\u001b[39;49m\u001b[38;5;124;43m\"\u001b[39;49m\u001b[43m:\u001b[49m\u001b[43m \u001b[49m\u001b[43m_keywords\u001b[49m\u001b[38;5;241;43m.\u001b[39;49m\u001b[43mexclusiveMaximum\u001b[49m\u001b[43m,\u001b[49m\n\u001b[1;32m    763\u001b[0m \u001b[43m        \u001b[49m\u001b[38;5;124;43m\"\u001b[39;49m\u001b[38;5;124;43mexclusiveMinimum\u001b[39;49m\u001b[38;5;124;43m\"\u001b[39;49m\u001b[43m:\u001b[49m\u001b[43m \u001b[49m\u001b[43m_keywords\u001b[49m\u001b[38;5;241;43m.\u001b[39;49m\u001b[43mexclusiveMinimum\u001b[49m\u001b[43m,\u001b[49m\n\u001b[1;32m    764\u001b[0m \u001b[43m        \u001b[49m\u001b[38;5;124;43m\"\u001b[39;49m\u001b[38;5;124;43mformat\u001b[39;49m\u001b[38;5;124;43m\"\u001b[39;49m\u001b[43m:\u001b[49m\u001b[43m \u001b[49m\u001b[43m_keywords\u001b[49m\u001b[38;5;241;43m.\u001b[39;49m\u001b[43mformat\u001b[49m\u001b[43m,\u001b[49m\n\u001b[1;32m    765\u001b[0m \u001b[43m        \u001b[49m\u001b[38;5;124;43m\"\u001b[39;49m\u001b[38;5;124;43mif\u001b[39;49m\u001b[38;5;124;43m\"\u001b[39;49m\u001b[43m:\u001b[49m\u001b[43m \u001b[49m\u001b[43m_keywords\u001b[49m\u001b[38;5;241;43m.\u001b[39;49m\u001b[43mif_\u001b[49m\u001b[43m,\u001b[49m\n\u001b[1;32m    766\u001b[0m \u001b[43m        \u001b[49m\u001b[38;5;124;43m\"\u001b[39;49m\u001b[38;5;124;43mitems\u001b[39;49m\u001b[38;5;124;43m\"\u001b[39;49m\u001b[43m:\u001b[49m\u001b[43m \u001b[49m\u001b[43m_legacy_keywords\u001b[49m\u001b[38;5;241;43m.\u001b[39;49m\u001b[43mitems_draft6_draft7_draft201909\u001b[49m\u001b[43m,\u001b[49m\n\u001b[1;32m    767\u001b[0m \u001b[43m        \u001b[49m\u001b[38;5;124;43m\"\u001b[39;49m\u001b[38;5;124;43mmaxItems\u001b[39;49m\u001b[38;5;124;43m\"\u001b[39;49m\u001b[43m:\u001b[49m\u001b[43m \u001b[49m\u001b[43m_keywords\u001b[49m\u001b[38;5;241;43m.\u001b[39;49m\u001b[43mmaxItems\u001b[49m\u001b[43m,\u001b[49m\n\u001b[1;32m    768\u001b[0m \u001b[43m        \u001b[49m\u001b[38;5;124;43m\"\u001b[39;49m\u001b[38;5;124;43mmaxLength\u001b[39;49m\u001b[38;5;124;43m\"\u001b[39;49m\u001b[43m:\u001b[49m\u001b[43m \u001b[49m\u001b[43m_keywords\u001b[49m\u001b[38;5;241;43m.\u001b[39;49m\u001b[43mmaxLength\u001b[49m\u001b[43m,\u001b[49m\n\u001b[1;32m    769\u001b[0m \u001b[43m        \u001b[49m\u001b[38;5;124;43m\"\u001b[39;49m\u001b[38;5;124;43mmaxProperties\u001b[39;49m\u001b[38;5;124;43m\"\u001b[39;49m\u001b[43m:\u001b[49m\u001b[43m \u001b[49m\u001b[43m_keywords\u001b[49m\u001b[38;5;241;43m.\u001b[39;49m\u001b[43mmaxProperties\u001b[49m\u001b[43m,\u001b[49m\n\u001b[1;32m    770\u001b[0m \u001b[43m        \u001b[49m\u001b[38;5;124;43m\"\u001b[39;49m\u001b[38;5;124;43mmaximum\u001b[39;49m\u001b[38;5;124;43m\"\u001b[39;49m\u001b[43m:\u001b[49m\u001b[43m \u001b[49m\u001b[43m_keywords\u001b[49m\u001b[38;5;241;43m.\u001b[39;49m\u001b[43mmaximum\u001b[49m\u001b[43m,\u001b[49m\n\u001b[1;32m    771\u001b[0m \u001b[43m        \u001b[49m\u001b[38;5;124;43m\"\u001b[39;49m\u001b[38;5;124;43mminItems\u001b[39;49m\u001b[38;5;124;43m\"\u001b[39;49m\u001b[43m:\u001b[49m\u001b[43m \u001b[49m\u001b[43m_keywords\u001b[49m\u001b[38;5;241;43m.\u001b[39;49m\u001b[43mminItems\u001b[49m\u001b[43m,\u001b[49m\n\u001b[1;32m    772\u001b[0m \u001b[43m        \u001b[49m\u001b[38;5;124;43m\"\u001b[39;49m\u001b[38;5;124;43mminLength\u001b[39;49m\u001b[38;5;124;43m\"\u001b[39;49m\u001b[43m:\u001b[49m\u001b[43m \u001b[49m\u001b[43m_keywords\u001b[49m\u001b[38;5;241;43m.\u001b[39;49m\u001b[43mminLength\u001b[49m\u001b[43m,\u001b[49m\n\u001b[1;32m    773\u001b[0m \u001b[43m        \u001b[49m\u001b[38;5;124;43m\"\u001b[39;49m\u001b[38;5;124;43mminProperties\u001b[39;49m\u001b[38;5;124;43m\"\u001b[39;49m\u001b[43m:\u001b[49m\u001b[43m \u001b[49m\u001b[43m_keywords\u001b[49m\u001b[38;5;241;43m.\u001b[39;49m\u001b[43mminProperties\u001b[49m\u001b[43m,\u001b[49m\n\u001b[1;32m    774\u001b[0m \u001b[43m        \u001b[49m\u001b[38;5;124;43m\"\u001b[39;49m\u001b[38;5;124;43mminimum\u001b[39;49m\u001b[38;5;124;43m\"\u001b[39;49m\u001b[43m:\u001b[49m\u001b[43m \u001b[49m\u001b[43m_keywords\u001b[49m\u001b[38;5;241;43m.\u001b[39;49m\u001b[43mminimum\u001b[49m\u001b[43m,\u001b[49m\n\u001b[1;32m    775\u001b[0m \u001b[43m        \u001b[49m\u001b[38;5;124;43m\"\u001b[39;49m\u001b[38;5;124;43mmultipleOf\u001b[39;49m\u001b[38;5;124;43m\"\u001b[39;49m\u001b[43m:\u001b[49m\u001b[43m \u001b[49m\u001b[43m_keywords\u001b[49m\u001b[38;5;241;43m.\u001b[39;49m\u001b[43mmultipleOf\u001b[49m\u001b[43m,\u001b[49m\n\u001b[1;32m    776\u001b[0m \u001b[43m        \u001b[49m\u001b[38;5;124;43m\"\u001b[39;49m\u001b[38;5;124;43mnot\u001b[39;49m\u001b[38;5;124;43m\"\u001b[39;49m\u001b[43m:\u001b[49m\u001b[43m \u001b[49m\u001b[43m_keywords\u001b[49m\u001b[38;5;241;43m.\u001b[39;49m\u001b[43mnot_\u001b[49m\u001b[43m,\u001b[49m\n\u001b[1;32m    777\u001b[0m \u001b[43m        \u001b[49m\u001b[38;5;124;43m\"\u001b[39;49m\u001b[38;5;124;43moneOf\u001b[39;49m\u001b[38;5;124;43m\"\u001b[39;49m\u001b[43m:\u001b[49m\u001b[43m \u001b[49m\u001b[43m_keywords\u001b[49m\u001b[38;5;241;43m.\u001b[39;49m\u001b[43moneOf\u001b[49m\u001b[43m,\u001b[49m\n\u001b[1;32m    778\u001b[0m \u001b[43m        \u001b[49m\u001b[38;5;124;43m\"\u001b[39;49m\u001b[38;5;124;43mpattern\u001b[39;49m\u001b[38;5;124;43m\"\u001b[39;49m\u001b[43m:\u001b[49m\u001b[43m \u001b[49m\u001b[43m_keywords\u001b[49m\u001b[38;5;241;43m.\u001b[39;49m\u001b[43mpattern\u001b[49m\u001b[43m,\u001b[49m\n\u001b[1;32m    779\u001b[0m \u001b[43m        \u001b[49m\u001b[38;5;124;43m\"\u001b[39;49m\u001b[38;5;124;43mpatternProperties\u001b[39;49m\u001b[38;5;124;43m\"\u001b[39;49m\u001b[43m:\u001b[49m\u001b[43m \u001b[49m\u001b[43m_keywords\u001b[49m\u001b[38;5;241;43m.\u001b[39;49m\u001b[43mpatternProperties\u001b[49m\u001b[43m,\u001b[49m\n\u001b[1;32m    780\u001b[0m \u001b[43m        \u001b[49m\u001b[38;5;124;43m\"\u001b[39;49m\u001b[38;5;124;43mproperties\u001b[39;49m\u001b[38;5;124;43m\"\u001b[39;49m\u001b[43m:\u001b[49m\u001b[43m \u001b[49m\u001b[43m_keywords\u001b[49m\u001b[38;5;241;43m.\u001b[39;49m\u001b[43mproperties\u001b[49m\u001b[43m,\u001b[49m\n\u001b[1;32m    781\u001b[0m \u001b[43m        \u001b[49m\u001b[38;5;124;43m\"\u001b[39;49m\u001b[38;5;124;43mpropertyNames\u001b[39;49m\u001b[38;5;124;43m\"\u001b[39;49m\u001b[43m:\u001b[49m\u001b[43m \u001b[49m\u001b[43m_keywords\u001b[49m\u001b[38;5;241;43m.\u001b[39;49m\u001b[43mpropertyNames\u001b[49m\u001b[43m,\u001b[49m\n\u001b[1;32m    782\u001b[0m \u001b[43m        \u001b[49m\u001b[38;5;124;43m\"\u001b[39;49m\u001b[38;5;124;43mrequired\u001b[39;49m\u001b[38;5;124;43m\"\u001b[39;49m\u001b[43m:\u001b[49m\u001b[43m \u001b[49m\u001b[43m_keywords\u001b[49m\u001b[38;5;241;43m.\u001b[39;49m\u001b[43mrequired\u001b[49m\u001b[43m,\u001b[49m\n\u001b[1;32m    783\u001b[0m \u001b[43m        \u001b[49m\u001b[38;5;124;43m\"\u001b[39;49m\u001b[38;5;124;43mtype\u001b[39;49m\u001b[38;5;124;43m\"\u001b[39;49m\u001b[43m:\u001b[49m\u001b[43m \u001b[49m\u001b[43m_keywords\u001b[49m\u001b[38;5;241;43m.\u001b[39;49m\u001b[43mtype\u001b[49m\u001b[43m,\u001b[49m\n\u001b[1;32m    784\u001b[0m \u001b[43m        \u001b[49m\u001b[38;5;124;43m\"\u001b[39;49m\u001b[38;5;124;43munevaluatedItems\u001b[39;49m\u001b[38;5;124;43m\"\u001b[39;49m\u001b[43m:\u001b[49m\u001b[43m \u001b[49m\u001b[43m_legacy_keywords\u001b[49m\u001b[38;5;241;43m.\u001b[39;49m\u001b[43munevaluatedItems_draft2019\u001b[49m\u001b[43m,\u001b[49m\n\u001b[1;32m    785\u001b[0m \u001b[43m        \u001b[49m\u001b[38;5;124;43m\"\u001b[39;49m\u001b[38;5;124;43munevaluatedProperties\u001b[39;49m\u001b[38;5;124;43m\"\u001b[39;49m\u001b[43m:\u001b[49m\u001b[43m \u001b[49m\u001b[43m_keywords\u001b[49m\u001b[38;5;241;43m.\u001b[39;49m\u001b[43munevaluatedProperties\u001b[49m\u001b[43m,\u001b[49m\n\u001b[1;32m    786\u001b[0m \u001b[43m        \u001b[49m\u001b[38;5;124;43m\"\u001b[39;49m\u001b[38;5;124;43muniqueItems\u001b[39;49m\u001b[38;5;124;43m\"\u001b[39;49m\u001b[43m:\u001b[49m\u001b[43m \u001b[49m\u001b[43m_keywords\u001b[49m\u001b[38;5;241;43m.\u001b[39;49m\u001b[43muniqueItems\u001b[49m\u001b[43m,\u001b[49m\n\u001b[1;32m    787\u001b[0m \u001b[43m    \u001b[49m\u001b[43m}\u001b[49m\u001b[43m,\u001b[49m\n\u001b[1;32m    788\u001b[0m \u001b[43m    \u001b[49m\u001b[43mtype_checker\u001b[49m\u001b[38;5;241;43m=\u001b[39;49m\u001b[43m_types\u001b[49m\u001b[38;5;241;43m.\u001b[39;49m\u001b[43mdraft201909_type_checker\u001b[49m\u001b[43m,\u001b[49m\n\u001b[1;32m    789\u001b[0m \u001b[43m    \u001b[49m\u001b[43mformat_checker\u001b[49m\u001b[38;5;241;43m=\u001b[39;49m\u001b[43m_format\u001b[49m\u001b[38;5;241;43m.\u001b[39;49m\u001b[43mdraft201909_format_checker\u001b[49m\u001b[43m,\u001b[49m\n\u001b[1;32m    790\u001b[0m \u001b[43m    \u001b[49m\u001b[43mversion\u001b[49m\u001b[38;5;241;43m=\u001b[39;49m\u001b[38;5;124;43m\"\u001b[39;49m\u001b[38;5;124;43mdraft2019-09\u001b[39;49m\u001b[38;5;124;43m\"\u001b[39;49m\u001b[43m,\u001b[49m\n\u001b[1;32m    791\u001b[0m \u001b[43m)\u001b[49m\n\u001b[1;32m    793\u001b[0m Draft202012Validator \u001b[38;5;241m=\u001b[39m create(\n\u001b[1;32m    794\u001b[0m     meta_schema\u001b[38;5;241m=\u001b[39mSPECIFICATIONS\u001b[38;5;241m.\u001b[39mcontents(\n\u001b[1;32m    795\u001b[0m         \u001b[38;5;124m\"\u001b[39m\u001b[38;5;124mhttps://json-schema.org/draft/2020-12/schema\u001b[39m\u001b[38;5;124m\"\u001b[39m,\n\u001b[0;32m   (...)\u001b[0m\n\u001b[1;32m    838\u001b[0m     version\u001b[38;5;241m=\u001b[39m\u001b[38;5;124m\"\u001b[39m\u001b[38;5;124mdraft2020-12\u001b[39m\u001b[38;5;124m\"\u001b[39m,\n\u001b[1;32m    839\u001b[0m )\n\u001b[1;32m    841\u001b[0m _LATEST_VERSION \u001b[38;5;241m=\u001b[39m Draft202012Validator\n",
      "File \u001b[0;32m~/opt/anaconda3/envs/cs122/lib/python3.10/site-packages/jsonschema/validators.py:219\u001b[0m, in \u001b[0;36mcreate\u001b[0;34m(meta_schema, validators, version, type_checker, format_checker, id_of, applicable_validators)\u001b[0m\n\u001b[1;32m    211\u001b[0m format_checker_arg \u001b[38;5;241m=\u001b[39m format_checker\n\u001b[1;32m    213\u001b[0m specification \u001b[38;5;241m=\u001b[39m referencing\u001b[38;5;241m.\u001b[39mjsonschema\u001b[38;5;241m.\u001b[39mspecification_with(\n\u001b[1;32m    214\u001b[0m     dialect_id\u001b[38;5;241m=\u001b[39mid_of(meta_schema) \u001b[38;5;129;01mor\u001b[39;00m \u001b[38;5;124m\"\u001b[39m\u001b[38;5;124murn:unknown-dialect\u001b[39m\u001b[38;5;124m\"\u001b[39m,\n\u001b[1;32m    215\u001b[0m     default\u001b[38;5;241m=\u001b[39mreferencing\u001b[38;5;241m.\u001b[39mSpecification\u001b[38;5;241m.\u001b[39mOPAQUE,\n\u001b[1;32m    216\u001b[0m )\n\u001b[1;32m    218\u001b[0m \u001b[43m\u001b[49m\u001b[38;5;129;43m@define\u001b[39;49m\n\u001b[0;32m--> 219\u001b[0m \u001b[43m\u001b[49m\u001b[38;5;28;43;01mclass\u001b[39;49;00m\u001b[43m \u001b[49m\u001b[38;5;21;43;01mValidator\u001b[39;49;00m\u001b[43m:\u001b[49m\n\u001b[1;32m    221\u001b[0m \u001b[43m    \u001b[49m\u001b[43mVALIDATORS\u001b[49m\u001b[43m \u001b[49m\u001b[38;5;241;43m=\u001b[39;49m\u001b[43m \u001b[49m\u001b[38;5;28;43mdict\u001b[39;49m\u001b[43m(\u001b[49m\u001b[43mvalidators\u001b[49m\u001b[43m)\u001b[49m\u001b[43m  \u001b[49m\u001b[38;5;66;43;03m# noqa: RUF012\u001b[39;49;00m\n\u001b[1;32m    222\u001b[0m \u001b[43m    \u001b[49m\u001b[43mMETA_SCHEMA\u001b[49m\u001b[43m \u001b[49m\u001b[38;5;241;43m=\u001b[39;49m\u001b[43m \u001b[49m\u001b[38;5;28;43mdict\u001b[39;49m\u001b[43m(\u001b[49m\u001b[43mmeta_schema\u001b[49m\u001b[43m)\u001b[49m\u001b[43m  \u001b[49m\u001b[38;5;66;43;03m# noqa: RUF012\u001b[39;49;00m\n",
      "File \u001b[0;32m~/opt/anaconda3/envs/cs122/lib/python3.10/site-packages/attr/_next_gen.py:155\u001b[0m, in \u001b[0;36mdefine\u001b[0;34m(maybe_cls, these, repr, unsafe_hash, hash, init, slots, frozen, weakref_slot, str, auto_attribs, kw_only, cache_hash, auto_exc, eq, order, auto_detect, getstate_setstate, on_setattr, field_transformer, match_args)\u001b[0m\n\u001b[1;32m    153\u001b[0m     \u001b[38;5;28;01mreturn\u001b[39;00m wrap\n\u001b[1;32m    154\u001b[0m \u001b[38;5;28;01melse\u001b[39;00m:\n\u001b[0;32m--> 155\u001b[0m     \u001b[38;5;28;01mreturn\u001b[39;00m \u001b[43mwrap\u001b[49m\u001b[43m(\u001b[49m\u001b[43mmaybe_cls\u001b[49m\u001b[43m)\u001b[49m\n",
      "File \u001b[0;32m~/opt/anaconda3/envs/cs122/lib/python3.10/site-packages/attr/_next_gen.py:148\u001b[0m, in \u001b[0;36mdefine.<locals>.wrap\u001b[0;34m(cls)\u001b[0m\n\u001b[1;32m    146\u001b[0m     \u001b[38;5;28;01mreturn\u001b[39;00m do_it(\u001b[38;5;28mcls\u001b[39m, \u001b[38;5;28;01mTrue\u001b[39;00m)\n\u001b[1;32m    147\u001b[0m \u001b[38;5;28;01mexcept\u001b[39;00m UnannotatedAttributeError:\n\u001b[0;32m--> 148\u001b[0m     \u001b[38;5;28;01mreturn\u001b[39;00m \u001b[43mdo_it\u001b[49m\u001b[43m(\u001b[49m\u001b[38;5;28;43mcls\u001b[39;49m\u001b[43m,\u001b[49m\u001b[43m \u001b[49m\u001b[38;5;28;43;01mFalse\u001b[39;49;00m\u001b[43m)\u001b[49m\n",
      "File \u001b[0;32m~/opt/anaconda3/envs/cs122/lib/python3.10/site-packages/attr/_next_gen.py:90\u001b[0m, in \u001b[0;36mdefine.<locals>.do_it\u001b[0;34m(cls, auto_attribs)\u001b[0m\n\u001b[1;32m     89\u001b[0m \u001b[38;5;28;01mdef\u001b[39;00m \u001b[38;5;21mdo_it\u001b[39m(\u001b[38;5;28mcls\u001b[39m, auto_attribs):\n\u001b[0;32m---> 90\u001b[0m     \u001b[38;5;28;01mreturn\u001b[39;00m \u001b[43mattrs\u001b[49m\u001b[43m(\u001b[49m\n\u001b[1;32m     91\u001b[0m \u001b[43m        \u001b[49m\u001b[43mmaybe_cls\u001b[49m\u001b[38;5;241;43m=\u001b[39;49m\u001b[38;5;28;43mcls\u001b[39;49m\u001b[43m,\u001b[49m\n\u001b[1;32m     92\u001b[0m \u001b[43m        \u001b[49m\u001b[43mthese\u001b[49m\u001b[38;5;241;43m=\u001b[39;49m\u001b[43mthese\u001b[49m\u001b[43m,\u001b[49m\n\u001b[1;32m     93\u001b[0m \u001b[43m        \u001b[49m\u001b[38;5;28;43mrepr\u001b[39;49m\u001b[38;5;241;43m=\u001b[39;49m\u001b[38;5;28;43mrepr\u001b[39;49m\u001b[43m,\u001b[49m\n\u001b[1;32m     94\u001b[0m \u001b[43m        \u001b[49m\u001b[38;5;28;43mhash\u001b[39;49m\u001b[38;5;241;43m=\u001b[39;49m\u001b[38;5;28;43mhash\u001b[39;49m\u001b[43m,\u001b[49m\n\u001b[1;32m     95\u001b[0m \u001b[43m        \u001b[49m\u001b[43munsafe_hash\u001b[49m\u001b[38;5;241;43m=\u001b[39;49m\u001b[43munsafe_hash\u001b[49m\u001b[43m,\u001b[49m\n\u001b[1;32m     96\u001b[0m \u001b[43m        \u001b[49m\u001b[43minit\u001b[49m\u001b[38;5;241;43m=\u001b[39;49m\u001b[43minit\u001b[49m\u001b[43m,\u001b[49m\n\u001b[1;32m     97\u001b[0m \u001b[43m        \u001b[49m\u001b[43mslots\u001b[49m\u001b[38;5;241;43m=\u001b[39;49m\u001b[43mslots\u001b[49m\u001b[43m,\u001b[49m\n\u001b[1;32m     98\u001b[0m \u001b[43m        \u001b[49m\u001b[43mfrozen\u001b[49m\u001b[38;5;241;43m=\u001b[39;49m\u001b[43mfrozen\u001b[49m\u001b[43m,\u001b[49m\n\u001b[1;32m     99\u001b[0m \u001b[43m        \u001b[49m\u001b[43mweakref_slot\u001b[49m\u001b[38;5;241;43m=\u001b[39;49m\u001b[43mweakref_slot\u001b[49m\u001b[43m,\u001b[49m\n\u001b[1;32m    100\u001b[0m \u001b[43m        \u001b[49m\u001b[38;5;28;43mstr\u001b[39;49m\u001b[38;5;241;43m=\u001b[39;49m\u001b[38;5;28;43mstr\u001b[39;49m\u001b[43m,\u001b[49m\n\u001b[1;32m    101\u001b[0m \u001b[43m        \u001b[49m\u001b[43mauto_attribs\u001b[49m\u001b[38;5;241;43m=\u001b[39;49m\u001b[43mauto_attribs\u001b[49m\u001b[43m,\u001b[49m\n\u001b[1;32m    102\u001b[0m \u001b[43m        \u001b[49m\u001b[43mkw_only\u001b[49m\u001b[38;5;241;43m=\u001b[39;49m\u001b[43mkw_only\u001b[49m\u001b[43m,\u001b[49m\n\u001b[1;32m    103\u001b[0m \u001b[43m        \u001b[49m\u001b[43mcache_hash\u001b[49m\u001b[38;5;241;43m=\u001b[39;49m\u001b[43mcache_hash\u001b[49m\u001b[43m,\u001b[49m\n\u001b[1;32m    104\u001b[0m \u001b[43m        \u001b[49m\u001b[43mauto_exc\u001b[49m\u001b[38;5;241;43m=\u001b[39;49m\u001b[43mauto_exc\u001b[49m\u001b[43m,\u001b[49m\n\u001b[1;32m    105\u001b[0m \u001b[43m        \u001b[49m\u001b[43meq\u001b[49m\u001b[38;5;241;43m=\u001b[39;49m\u001b[43meq\u001b[49m\u001b[43m,\u001b[49m\n\u001b[1;32m    106\u001b[0m \u001b[43m        \u001b[49m\u001b[43morder\u001b[49m\u001b[38;5;241;43m=\u001b[39;49m\u001b[43morder\u001b[49m\u001b[43m,\u001b[49m\n\u001b[1;32m    107\u001b[0m \u001b[43m        \u001b[49m\u001b[43mauto_detect\u001b[49m\u001b[38;5;241;43m=\u001b[39;49m\u001b[43mauto_detect\u001b[49m\u001b[43m,\u001b[49m\n\u001b[1;32m    108\u001b[0m \u001b[43m        \u001b[49m\u001b[43mcollect_by_mro\u001b[49m\u001b[38;5;241;43m=\u001b[39;49m\u001b[38;5;28;43;01mTrue\u001b[39;49;00m\u001b[43m,\u001b[49m\n\u001b[1;32m    109\u001b[0m \u001b[43m        \u001b[49m\u001b[43mgetstate_setstate\u001b[49m\u001b[38;5;241;43m=\u001b[39;49m\u001b[43mgetstate_setstate\u001b[49m\u001b[43m,\u001b[49m\n\u001b[1;32m    110\u001b[0m \u001b[43m        \u001b[49m\u001b[43mon_setattr\u001b[49m\u001b[38;5;241;43m=\u001b[39;49m\u001b[43mon_setattr\u001b[49m\u001b[43m,\u001b[49m\n\u001b[1;32m    111\u001b[0m \u001b[43m        \u001b[49m\u001b[43mfield_transformer\u001b[49m\u001b[38;5;241;43m=\u001b[39;49m\u001b[43mfield_transformer\u001b[49m\u001b[43m,\u001b[49m\n\u001b[1;32m    112\u001b[0m \u001b[43m        \u001b[49m\u001b[43mmatch_args\u001b[49m\u001b[38;5;241;43m=\u001b[39;49m\u001b[43mmatch_args\u001b[49m\u001b[43m,\u001b[49m\n\u001b[1;32m    113\u001b[0m \u001b[43m    \u001b[49m\u001b[43m)\u001b[49m\n",
      "File \u001b[0;32m~/opt/anaconda3/envs/cs122/lib/python3.10/site-packages/attr/_make.py:1603\u001b[0m, in \u001b[0;36mattrs\u001b[0;34m(maybe_cls, these, repr_ns, repr, cmp, hash, init, slots, frozen, weakref_slot, str, auto_attribs, kw_only, cache_hash, auto_exc, eq, order, auto_detect, collect_by_mro, getstate_setstate, on_setattr, field_transformer, match_args, unsafe_hash)\u001b[0m\n\u001b[1;32m   1601\u001b[0m     \u001b[38;5;28;01mreturn\u001b[39;00m wrap\n\u001b[1;32m   1602\u001b[0m \u001b[38;5;28;01melse\u001b[39;00m:\n\u001b[0;32m-> 1603\u001b[0m     \u001b[38;5;28;01mreturn\u001b[39;00m \u001b[43mwrap\u001b[49m\u001b[43m(\u001b[49m\u001b[43mmaybe_cls\u001b[49m\u001b[43m)\u001b[49m\n",
      "File \u001b[0;32m~/opt/anaconda3/envs/cs122/lib/python3.10/site-packages/attr/_make.py:1532\u001b[0m, in \u001b[0;36mattrs.<locals>.wrap\u001b[0;34m(cls)\u001b[0m\n\u001b[1;32m   1528\u001b[0m eq \u001b[38;5;241m=\u001b[39m _determine_whether_to_implement(\n\u001b[1;32m   1529\u001b[0m     \u001b[38;5;28mcls\u001b[39m, eq_, auto_detect, (\u001b[38;5;124m\"\u001b[39m\u001b[38;5;124m__eq__\u001b[39m\u001b[38;5;124m\"\u001b[39m, \u001b[38;5;124m\"\u001b[39m\u001b[38;5;124m__ne__\u001b[39m\u001b[38;5;124m\"\u001b[39m)\n\u001b[1;32m   1530\u001b[0m )\n\u001b[1;32m   1531\u001b[0m \u001b[38;5;28;01mif\u001b[39;00m \u001b[38;5;129;01mnot\u001b[39;00m is_exc \u001b[38;5;129;01mand\u001b[39;00m eq \u001b[38;5;129;01mis\u001b[39;00m \u001b[38;5;28;01mTrue\u001b[39;00m:\n\u001b[0;32m-> 1532\u001b[0m     \u001b[43mbuilder\u001b[49m\u001b[38;5;241;43m.\u001b[39;49m\u001b[43madd_eq\u001b[49m\u001b[43m(\u001b[49m\u001b[43m)\u001b[49m\n\u001b[1;32m   1533\u001b[0m \u001b[38;5;28;01mif\u001b[39;00m \u001b[38;5;129;01mnot\u001b[39;00m is_exc \u001b[38;5;129;01mand\u001b[39;00m _determine_whether_to_implement(\n\u001b[1;32m   1534\u001b[0m     \u001b[38;5;28mcls\u001b[39m, order_, auto_detect, (\u001b[38;5;124m\"\u001b[39m\u001b[38;5;124m__lt__\u001b[39m\u001b[38;5;124m\"\u001b[39m, \u001b[38;5;124m\"\u001b[39m\u001b[38;5;124m__le__\u001b[39m\u001b[38;5;124m\"\u001b[39m, \u001b[38;5;124m\"\u001b[39m\u001b[38;5;124m__gt__\u001b[39m\u001b[38;5;124m\"\u001b[39m, \u001b[38;5;124m\"\u001b[39m\u001b[38;5;124m__ge__\u001b[39m\u001b[38;5;124m\"\u001b[39m)\n\u001b[1;32m   1535\u001b[0m ):\n\u001b[1;32m   1536\u001b[0m     builder\u001b[38;5;241m.\u001b[39madd_order()\n",
      "File \u001b[0;32m~/opt/anaconda3/envs/cs122/lib/python3.10/site-packages/attr/_make.py:1026\u001b[0m, in \u001b[0;36m_ClassBuilder.add_eq\u001b[0;34m(self)\u001b[0m\n\u001b[1;32m   1022\u001b[0m \u001b[38;5;28;01mdef\u001b[39;00m \u001b[38;5;21madd_eq\u001b[39m(\u001b[38;5;28mself\u001b[39m):\n\u001b[1;32m   1023\u001b[0m     cd \u001b[38;5;241m=\u001b[39m \u001b[38;5;28mself\u001b[39m\u001b[38;5;241m.\u001b[39m_cls_dict\n\u001b[1;32m   1025\u001b[0m     cd[\u001b[38;5;124m\"\u001b[39m\u001b[38;5;124m__eq__\u001b[39m\u001b[38;5;124m\"\u001b[39m] \u001b[38;5;241m=\u001b[39m \u001b[38;5;28mself\u001b[39m\u001b[38;5;241m.\u001b[39m_add_method_dunders(\n\u001b[0;32m-> 1026\u001b[0m         \u001b[43m_make_eq\u001b[49m\u001b[43m(\u001b[49m\u001b[38;5;28;43mself\u001b[39;49m\u001b[38;5;241;43m.\u001b[39;49m\u001b[43m_cls\u001b[49m\u001b[43m,\u001b[49m\u001b[43m \u001b[49m\u001b[38;5;28;43mself\u001b[39;49m\u001b[38;5;241;43m.\u001b[39;49m\u001b[43m_attrs\u001b[49m\u001b[43m)\u001b[49m\n\u001b[1;32m   1027\u001b[0m     )\n\u001b[1;32m   1028\u001b[0m     cd[\u001b[38;5;124m\"\u001b[39m\u001b[38;5;124m__ne__\u001b[39m\u001b[38;5;124m\"\u001b[39m] \u001b[38;5;241m=\u001b[39m \u001b[38;5;28mself\u001b[39m\u001b[38;5;241m.\u001b[39m_add_method_dunders(_make_ne())\n\u001b[1;32m   1030\u001b[0m     \u001b[38;5;28;01mreturn\u001b[39;00m \u001b[38;5;28mself\u001b[39m\n",
      "File \u001b[0;32m~/opt/anaconda3/envs/cs122/lib/python3.10/site-packages/attr/_make.py:1769\u001b[0m, in \u001b[0;36m_make_eq\u001b[0;34m(cls, attrs)\u001b[0m\n\u001b[1;32m   1765\u001b[0m     lines\u001b[38;5;241m.\u001b[39mappend(\u001b[38;5;124m\"\u001b[39m\u001b[38;5;124m    return True\u001b[39m\u001b[38;5;124m\"\u001b[39m)\n\u001b[1;32m   1767\u001b[0m script \u001b[38;5;241m=\u001b[39m \u001b[38;5;124m\"\u001b[39m\u001b[38;5;130;01m\\n\u001b[39;00m\u001b[38;5;124m\"\u001b[39m\u001b[38;5;241m.\u001b[39mjoin(lines)\n\u001b[0;32m-> 1769\u001b[0m \u001b[38;5;28;01mreturn\u001b[39;00m \u001b[43m_make_method\u001b[49m\u001b[43m(\u001b[49m\u001b[38;5;124;43m\"\u001b[39;49m\u001b[38;5;124;43m__eq__\u001b[39;49m\u001b[38;5;124;43m\"\u001b[39;49m\u001b[43m,\u001b[49m\u001b[43m \u001b[49m\u001b[43mscript\u001b[49m\u001b[43m,\u001b[49m\u001b[43m \u001b[49m\u001b[43munique_filename\u001b[49m\u001b[43m,\u001b[49m\u001b[43m \u001b[49m\u001b[43mglobs\u001b[49m\u001b[43m)\u001b[49m\n",
      "File \u001b[0;32m~/opt/anaconda3/envs/cs122/lib/python3.10/site-packages/attr/_make.py:330\u001b[0m, in \u001b[0;36m_make_method\u001b[0;34m(name, script, filename, globs)\u001b[0m\n\u001b[1;32m    327\u001b[0m         filename \u001b[38;5;241m=\u001b[39m \u001b[38;5;124mf\u001b[39m\u001b[38;5;124m\"\u001b[39m\u001b[38;5;132;01m{\u001b[39;00mbase_filename[:\u001b[38;5;241m-\u001b[39m\u001b[38;5;241m1\u001b[39m]\u001b[38;5;132;01m}\u001b[39;00m\u001b[38;5;124m-\u001b[39m\u001b[38;5;132;01m{\u001b[39;00mcount\u001b[38;5;132;01m}\u001b[39;00m\u001b[38;5;124m>\u001b[39m\u001b[38;5;124m\"\u001b[39m\n\u001b[1;32m    328\u001b[0m         count \u001b[38;5;241m+\u001b[39m\u001b[38;5;241m=\u001b[39m \u001b[38;5;241m1\u001b[39m\n\u001b[0;32m--> 330\u001b[0m \u001b[43m_compile_and_eval\u001b[49m\u001b[43m(\u001b[49m\u001b[43mscript\u001b[49m\u001b[43m,\u001b[49m\u001b[43m \u001b[49m\u001b[43mglobs\u001b[49m\u001b[43m,\u001b[49m\u001b[43m \u001b[49m\u001b[43mlocs\u001b[49m\u001b[43m,\u001b[49m\u001b[43m \u001b[49m\u001b[43mfilename\u001b[49m\u001b[43m)\u001b[49m\n\u001b[1;32m    332\u001b[0m \u001b[38;5;28;01mreturn\u001b[39;00m locs[name]\n",
      "File \u001b[0;32m~/opt/anaconda3/envs/cs122/lib/python3.10/site-packages/attr/_make.py:302\u001b[0m, in \u001b[0;36m_compile_and_eval\u001b[0;34m(script, globs, locs, filename)\u001b[0m\n\u001b[1;32m    298\u001b[0m \u001b[38;5;28;01mdef\u001b[39;00m \u001b[38;5;21m_compile_and_eval\u001b[39m(script, globs, locs\u001b[38;5;241m=\u001b[39m\u001b[38;5;28;01mNone\u001b[39;00m, filename\u001b[38;5;241m=\u001b[39m\u001b[38;5;124m\"\u001b[39m\u001b[38;5;124m\"\u001b[39m):\n\u001b[1;32m    299\u001b[0m \u001b[38;5;250m    \u001b[39m\u001b[38;5;124;03m\"\"\"\u001b[39;00m\n\u001b[1;32m    300\u001b[0m \u001b[38;5;124;03m    \"Exec\" the script with the given global (globs) and local (locs) variables.\u001b[39;00m\n\u001b[1;32m    301\u001b[0m \u001b[38;5;124;03m    \"\"\"\u001b[39;00m\n\u001b[0;32m--> 302\u001b[0m     bytecode \u001b[38;5;241m=\u001b[39m \u001b[38;5;28;43mcompile\u001b[39;49m\u001b[43m(\u001b[49m\u001b[43mscript\u001b[49m\u001b[43m,\u001b[49m\u001b[43m \u001b[49m\u001b[43mfilename\u001b[49m\u001b[43m,\u001b[49m\u001b[43m \u001b[49m\u001b[38;5;124;43m\"\u001b[39;49m\u001b[38;5;124;43mexec\u001b[39;49m\u001b[38;5;124;43m\"\u001b[39;49m\u001b[43m)\u001b[49m\n\u001b[1;32m    303\u001b[0m     \u001b[38;5;28meval\u001b[39m(bytecode, globs, locs)\n",
      "\u001b[0;31mKeyboardInterrupt\u001b[0m: "
     ]
    }
   ],
   "source": [
    "# use the help method to generate a list of all modules\n",
    "help('modules')"
   ]
  },
  {
   "cell_type": "markdown",
   "id": "16be5746-6358-470c-8e70-81e662f3d413",
   "metadata": {},
   "source": [
    "We can see in the above block that we have modules from the standard installation (e.g. `abc`) and we also have modules which we installed previously (e.g. `jupyter`)."
   ]
  },
  {
   "cell_type": "markdown",
   "id": "8e2abf89-9772-4421-8923-59d29802a068",
   "metadata": {},
   "source": [
    "## Creating a Package\n",
    "So far, we have created modules that contain functions that used within Jupyter notebooks. Today, we'll create several modules and group them together into a *package*. \n",
    "\n",
    "Let's begin by creating a module called `general_notes` that contains a simple function `module_import_note` with a print statement that reminds us about importing modules. When complete, run the following code block to ensure your package works as expected:"
   ]
  },
  {
   "cell_type": "code",
   "execution_count": 3,
   "id": "c807fc6a-3d1c-4707-9120-dcbc05fdc5a8",
   "metadata": {},
   "outputs": [
    {
     "name": "stdout",
     "output_type": "stream",
     "text": [
      "A module can be imported in a Jupyter notebook\n",
      "if it is in the same directory as the notebook\n"
     ]
    }
   ],
   "source": [
    "# import the general_notes module\n",
    "import general_notes as gn\n",
    "\n",
    "# test the module_import_note function\n",
    "gn.module_import_note()"
   ]
  },
  {
   "cell_type": "markdown",
   "id": "284ea789-9849-428c-89fc-2be89f107bfb",
   "metadata": {},
   "source": [
    "Next, let's create a separate module called `conda_notes` that specifically stores notes about `conda`. Build a function with a simple function called "
   ]
  },
  {
   "cell_type": "code",
   "execution_count": 4,
   "id": "dd9d21ad-502c-4610-9764-32237c058473",
   "metadata": {},
   "outputs": [
    {
     "name": "stdout",
     "output_type": "stream",
     "text": [
      "The command to make a new conda environment is conda create --name my_env\n"
     ]
    }
   ],
   "source": [
    "# import the conda_notes module\n",
    "import conda_notes as cn\n",
    "\n",
    "# test the conda_environment_setup function\n",
    "cn.conda_environment_setup()"
   ]
  },
  {
   "cell_type": "markdown",
   "id": "ba848b17-4115-4775-b9aa-0e97d271487e",
   "metadata": {},
   "source": [
    "Now, consider if we could bundle these scripts into a *package* that we could import together.\n",
    "\n",
    "To create a package, first create a directory structure for your package and move everything into the directories. For this example, we will create a directory called `python_notes` with a subdirectory called `conda`. Put the `general_notes` module into the top level directory and the `conda_notes` modules into the subdirectory.\n",
    "\n",
    "To give your directories a package structure, we need to add an `__init__.py` module to each subdirectory. The `__init__.py` module doesn't need to contain any code - but you can add code if you like. This is typically where developers will add `UserWarnings` as we saw above. Add the `__init__.py` modules and try import your modules from the package and running the functions we defined above:"
   ]
  },
  {
   "cell_type": "code",
   "execution_count": 5,
   "id": "2e1039f5-d7b6-48b3-b78b-00780e9d0577",
   "metadata": {},
   "outputs": [
    {
     "name": "stdout",
     "output_type": "stream",
     "text": [
      "A module can be imported in a Jupyter notebook\n",
      "if it is in the same directory as the notebook\n"
     ]
    }
   ],
   "source": [
    "# import the python_notes package\n",
    "import python_notes.general_notes as gn\n",
    "\n",
    "# run the module_import_note function from the general_notes modules\n",
    "gn.module_import_note()"
   ]
  },
  {
   "cell_type": "markdown",
   "id": "841569e8-0855-40b6-ab6d-5056c9e0424a",
   "metadata": {},
   "source": [
    "### Using your package from a different directory\n",
    "If you want to use your package from a different directory, then one option you have is to tell Python where you want it to look. One way to do this is to use the `sys` module to modify your system path:"
   ]
  },
  {
   "cell_type": "code",
   "execution_count": 6,
   "id": "87536bd8-4bd1-4515-bf85-93a0172f9482",
   "metadata": {},
   "outputs": [],
   "source": [
    "# import the sys module\n",
    "import sys\n",
    "\n",
    "# insert the path to the directory of the module in another directory\n",
    "sys.path.insert(1,'/Users/mike/Documents/Python/')"
   ]
  },
  {
   "cell_type": "markdown",
   "id": "e06e1f02-54e7-4e83-80e0-e18f1686662f",
   "metadata": {},
   "source": [
    "Now, the module can be accessed, imported, and utilized:"
   ]
  },
  {
   "cell_type": "code",
   "execution_count": 7,
   "id": "a70899ba-8152-4712-9962-227fcc723052",
   "metadata": {},
   "outputs": [
    {
     "name": "stdout",
     "output_type": "stream",
     "text": [
      "The command to make a new conda environment is conda create --name my_env\n"
     ]
    }
   ],
   "source": [
    "# import the python_notes package\n",
    "import python_notes.conda.conda_notes as cn\n",
    "\n",
    "# test the conda_environment_setup function\n",
    "cn.conda_environment_setup()"
   ]
  },
  {
   "cell_type": "markdown",
   "id": "45401da3-fe29-4ade-9c1a-a004a7993d02",
   "metadata": {},
   "source": [
    "## Installing Your Package in Your Conda Environment"
   ]
  },
  {
   "cell_type": "markdown",
   "id": "495f6a2b-1d7a-4572-bd9d-7c76b792c62f",
   "metadata": {},
   "source": [
    "After you've created a package, you may be interested in having your package available in other contexts. We can see above how to explicitly provide a path to a package. How can we *install* our package into our conda environment? The first thing we will need is a new file called `setup.py` and fill it with the following contents:"
   ]
  },
  {
   "cell_type": "raw",
   "id": "0c637462",
   "metadata": {},
   "source": [
    "from setuptools import setup\n",
    "\n",
    "setup(\n",
    "    name='python_notes',\n",
    "    version='0.1',\n",
    "    author='Mike Wood',\n",
    "    author_email='mike.wood@sjsu.edu',\n",
    "    platforms=[\"any\"],\n",
    "    description='This package stores notes about python packages',\n",
    "    license=\"BSD\",\n",
    ")"
   ]
  },
  {
   "cell_type": "markdown",
   "id": "eebdd5c7-ecc8-495c-99f5-fc942e45c932",
   "metadata": {},
   "source": [
    "Now, using your terminal, run the command from the directory where your `setup.py` file is located (be sure your conda environment is activated):\n",
    "\n",
    "`pip install .`\n",
    "\n",
    "If the installation is successful, your should receive a nice note about it was successfully installed. Let's check that we now see it in our list:"
   ]
  },
  {
   "cell_type": "code",
   "execution_count": 8,
   "id": "22314e57-f803-4ef4-bc7f-5488e744a4d6",
   "metadata": {
    "tags": [
     "hide-output"
    ]
   },
   "outputs": [
    {
     "name": "stdout",
     "output_type": "stream",
     "text": [
      "\n",
      "Please wait a moment while I gather a list of all available modules...\n",
      "\n",
      "AppKit              babel               ipykernel           random\n",
      "Cocoa               backcall            ipykernel_launcher  ratelim\n",
      "CoreFoundation      backports           ipython_genutils    re\n",
      "Foundation          base64              ipywidgets          readline\n",
      "IPython             bdb                 isoduration         referencing\n",
      "OpenSSL             binascii            itertools           reprlib\n",
      "PIL                 binhex              itsdangerous        requests\n",
      "__future__          bisect              jedi                requests_oauthlib\n",
      "_abc                bleach              jinja2              resource\n",
      "_aix_support        blinker             joblib              retrying\n",
      "_argon2_cffi_bindings branca              json                rfc3339_validator\n",
      "_ast                brotli              json5               rfc3986_validator\n",
      "_asyncio            bs4                 jsonpointer         rlcompleter\n",
      "_bisect             builtins            jsonschema          rpds\n",
      "_blake2             bz2                 jsonschema_specifications rsa\n",
      "_bootsubprocess     cProfile            jupyter             runpy\n",
      "_brotli             cached_property     jupyter_client      sched\n",
      "_bz2                cachetools          jupyter_console     scipy\n",
      "_cffi_backend       calendar            jupyter_core        secrets\n",
      "_codecs             certifi             jupyter_events      select\n",
      "_codecs_cn          cffi                jupyter_lsp         selectors\n",
      "_codecs_hk          cgi                 jupyter_server      send2trash\n",
      "_codecs_iso2022     cgitb               jupyter_server_terminals setuptools\n",
      "_codecs_jp          charset_normalizer  jupyterlab          shelve\n",
      "_codecs_kr          chunk               jupyterlab_plotly   shlex\n",
      "_codecs_tw          click               jupyterlab_pygments shutil\n",
      "_collections        cmath               jupyterlab_server   signal\n",
      "_collections_abc    cmd                 jupyterlab_widgets  site\n",
      "_compat_pickle      code                jwt                 six\n",
      "_compression        codecs              keyword             sklearn\n",
      "_contextvars        codeop              kiwisolver          smtpd\n",
      "_crypt              collections         lib2to3             smtplib\n",
      "_csv                colorama            libfuturize         sndhdr\n",
      "_ctypes             colorsys            libpasteurize       sniffio\n",
      "_ctypes_test        colour              linecache           socket\n",
      "_curses             comm                locale              socketserver\n",
      "_curses_panel       compileall          logging             socks\n",
      "_datetime           concurrent          lxml                sockshandler\n",
      "_dbm                conda_notes         lzma                soupsieve\n",
      "_decimal            configparser        mailbox             sqlite3\n",
      "_distutils_hack     contextlib          mailcap             sqlparse\n",
      "_elementtree        contextvars         markupsafe          sre_compile\n",
      "_functools          contourpy           marshal             sre_constants\n",
      "_hashlib            copy                math                sre_parse\n",
      "_heapq              copyreg             matplotlib          ssl\n",
      "_imp                crypt               matplotlib_inline   stack_data\n",
      "_io                 cryptography        mimetypes           stat\n",
      "_json               cs122notes          mistune             statistics\n",
      "_locale             csv                 mmap                string\n",
      "_lsprof             ctypes              modulefinder        stringprep\n",
      "_lzma               curses              moviepy             struct\n",
      "_markupbase         cycler              multidict           subprocess\n",
      "_md5                dash                multiprocessing     sunau\n",
      "_multibytecodec     dash_core_components multitasking        symtable\n",
      "_multiprocessing    dash_html_components munkres             sys\n",
      "_opcode             dash_table          nbclient            sysconfig\n",
      "_operator           dataclasses         nbconvert           syslog\n",
      "_osx_support        datetime            nbformat            tabnanny\n",
      "_pickle             dateutil            nest_asyncio        tarfile\n",
      "_plotly_future_     dbm                 netrc               telnetlib\n",
      "_plotly_utils       debugpy             nis                 tempfile\n",
      "_posixshmem         decimal             nntplib             tenacity\n",
      "_posixsubprocess    decorator           notebook            terminado\n",
      "_py_abc             defusedxml          notebook_shim       termios\n",
      "_pydecimal          difflib             ntpath              test\n",
      "_pyio               dis                 nturl2path          test_module\n",
      "_queue              distutils           numbers             textwrap\n",
      "_random             django              numpy               this\n",
      "_scproxy            doctest             oauthlib            threading\n",
      "_sha1               email               objc                threadpoolctl\n",
      "_sha256             encodings           opcode              time\n",
      "_sha3               ensurepip           openpyxl            timeit\n",
      "_sha512             entrypoints         operator            timezonefinder\n",
      "_signal             enum                optparse            tinycss2\n",
      "_sitebuiltins       errno               os                  tkinter\n",
      "_socket             et_xmlfile          overrides           tkmacosx\n",
      "_sqlite3            exceptiongroup      packaging           token\n",
      "_sre                executing           pandas              tokenize\n",
      "_ssl                fastjsonschema      pandocfilters       tomli\n",
      "_stat               faulthandler        parso               tornado\n",
      "_statistics         fcntl               past                tqdm\n",
      "_string             filecmp             pathlib             trace\n",
      "_strptime           fileinput           pdb                 traceback\n",
      "_struct             flask               peewee              tracemalloc\n",
      "_symtable           flask_cors          pexpect             traitlets\n",
      "_sysconfigdata__darwin_darwin fnmatch             pickle              tty\n",
      "_sysconfigdata_x86_64_apple_darwin13_4_0 folium              pickleshare         turtle\n",
      "_testbuffer         fontTools           pickletools         turtledemo\n",
      "_testcapi           fqdn                pip                 types\n",
      "_testclinic         fractions           pipes               typing\n",
      "_testimportmultiple frozendict          pkg_resources       typing_extensions\n",
      "_testinternalcapi   frozenlist          pkgutil             typing_utils\n",
      "_testmultiphase     ftplib              pkgutil_resolve_name tzdata\n",
      "_thread             functools           platform            unicodedata\n",
      "_threading_local    future              platformdirs        unicodedata2\n",
      "_tkinter            gc                  playhouse           unittest\n",
      "_tracemalloc        general_notes       plistlib            uri_template\n",
      "_uuid               genericpath         plotly              uritemplate\n",
      "_warnings           geocoder            poplib              urllib\n",
      "_weakref            geographiclib       posix               urllib3\n",
      "_weakrefset         geopy               posixpath           uu\n",
      "_xxsubinterpreters  getopt              pprint              uuid\n",
      "_xxtestfuzz         getpass             profile             venv\n",
      "_yaml               gettext             proglog             warnings\n",
      "_zoneinfo           glob                prometheus_client   wave\n",
      "abc                 google_auth_httplib2 prompt_toolkit      wcwidth\n",
      "aifc                google_auth_oauthlib pstats              weakref\n",
      "aiohttp             googleapiclient     psutil              webbrowser\n",
      "aiosignal           graphlib            pty                 webcolors\n",
      "ansi2html           grp                 ptyprocess          webencodings\n",
      "antigravity         gzip                pure_eval           websocket\n",
      "anyio               h3                  pwd                 werkzeug\n",
      "apiclient           hashlib             pwiz                wheel\n",
      "appdirs             heapq               py_compile          widgetsnbextension\n",
      "appnope             hmac                pyasn1              wsgiref\n",
      "argon2              html                pyasn1_modules      xdrlib\n",
      "argparse            html5lib            pyclbr              xml\n",
      "array               http                pycparser           xmlrpc\n",
      "arrow               httplib2            pydoc               xxlimited\n",
      "asgiref             idlelib             pydoc_data          xxlimited_35\n",
      "ast                 idna                pyexpat             xxsubtype\n",
      "astrology           imageio             pygments            xyzservices\n",
      "asttokens           imageio_ffmpeg      pylab               yaml\n",
      "async_lru           imaplib             pyparsing           yarl\n",
      "async_timeout       imghdr              python_notes        yfinance\n",
      "asynchat            imp                 pythonjsonlogger    zipapp\n",
      "asyncio             importlib           pytz                zipfile\n",
      "asyncore            importlib_metadata  pyu2f               zipimport\n",
      "atexit              importlib_resources qtconsole           zipp\n",
      "attr                inspect             qtpy                zlib\n",
      "attrs               io                  queue               zmq\n",
      "audioop             ipaddress           quopri              zoneinfo\n",
      "\n",
      "Enter any module name to get more help.  Or, type \"modules spam\" to search\n",
      "for modules whose name or summary contain the string \"spam\".\n",
      "\n"
     ]
    }
   ],
   "source": [
    "# use the help method to generate a list of all modules\n",
    "help('modules')"
   ]
  },
  {
   "cell_type": "markdown",
   "id": "dbe013ae",
   "metadata": {},
   "source": [
    "Now that our module is installed in our environment, we can check that the module can be imported, even if we move it out of directory:"
   ]
  },
  {
   "cell_type": "code",
   "execution_count": 9,
   "id": "3e44036a-3c7b-4e69-9fcd-6a8b76b2ab7a",
   "metadata": {},
   "outputs": [
    {
     "name": "stdout",
     "output_type": "stream",
     "text": [
      "The command to make a new conda environment is conda create --name my_env\n"
     ]
    }
   ],
   "source": [
    "# import the python_notes package\n",
    "import python_notes.conda.conda_notes as cn\n",
    "\n",
    "# test the conda_environment_setup function\n",
    "cn.conda_environment_setup()"
   ]
  },
  {
   "cell_type": "markdown",
   "id": "662bf153-86cd-4eca-81c8-c2eacf45b98e",
   "metadata": {},
   "source": [
    "### Modifying an installed package\n",
    "After creating an installing your package, its likely that you would like to add more contends to your module. \n",
    "\n",
    "Add a new function to your `python_notes` modules. Try running your new function:"
   ]
  },
  {
   "cell_type": "code",
   "execution_count": 10,
   "id": "1237888b-85fe-49fe-831d-fbd7b495be66",
   "metadata": {},
   "outputs": [
    {
     "name": "stdout",
     "output_type": "stream",
     "text": [
      "To install a package using pip and a setup file, use the pip install . command\n"
     ]
    }
   ],
   "source": [
    "# run the module_import_note function from the general_notes modules\n",
    "gn.package_installation()"
   ]
  }
 ],
 "metadata": {
  "kernelspec": {
   "display_name": "cs122",
   "language": "python",
   "name": "cs122"
  },
  "language_info": {
   "codemirror_mode": {
    "name": "ipython",
    "version": 3
   },
   "file_extension": ".py",
   "mimetype": "text/x-python",
   "name": "python",
   "nbconvert_exporter": "python",
   "pygments_lexer": "ipython3",
   "version": "3.10.12"
  }
 },
 "nbformat": 4,
 "nbformat_minor": 5
}