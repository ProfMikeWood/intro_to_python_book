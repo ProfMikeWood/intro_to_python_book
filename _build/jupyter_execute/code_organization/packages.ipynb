{
 "cells": [
  {
   "cell_type": "markdown",
   "id": "73ef0815",
   "metadata": {},
   "source": [
    "# Packages and Libraries"
   ]
  },
  {
   "cell_type": "markdown",
   "id": "9c7c86bd-3fdf-4a44-9a4e-1ca9e83966db",
   "metadata": {},
   "source": [
    "Author: Mike Wood\n",
    "\n",
    "Learning Objectives: By the end of this notebook, you should be able to:\n",
    "1. Install a new conda library on your machine\n",
    "2. Generate a list of all modules available in your conda environment\n",
    "3. Develop your own Python library\n",
    "4. Implement a custom Python library in your conda environment"
   ]
  },
  {
   "cell_type": "markdown",
   "id": "1c0bbd8a-33dd-48ba-9296-58591e42d189",
   "metadata": {},
   "source": [
    "## Installing Conda Packages\n",
    "In this course, we are using **miniconda** to manage our installation of Python as well as the packages we installed for this course. You may remember from our first lecture that we installed a package so that we can use this Jupyter notebook with the following command in our terminal:\n",
    "`conda install jupyter`\n",
    "\n",
    "To remind ourselves of this process we will install two more packages which will be used later on in this class: `pandas` and `scipy`\n",
    "\n",
    "The `pandas` library will provide a convenient way to work with numeric data. The `scipy` library will give us a wide range of computational tools."
   ]
  },
  {
   "cell_type": "markdown",
   "id": "687daa54-60e6-4a8f-a9d9-29f86afe0676",
   "metadata": {},
   "source": [
    "If you'd like to get a list of all the modules available in your conda installation, you can use the `help('modules')` feature. Note that may have received some `UserWarnings` in the when using this function - this results from Python checking the import of each individual module. Developers will place a `UserWarning` in a module when they suspect it will be depricated later. If you'd like to disable these statements, fear not! There is a module for that:"
   ]
  },
  {
   "cell_type": "code",
   "execution_count": 1,
   "id": "da6b3fdd",
   "metadata": {},
   "outputs": [],
   "source": [
    "# import the warnings module \n",
    "import warnings\n",
    "\n",
    "# use the warnings module to filer out the UserWarnings\n",
    "warnings.simplefilter(\"ignore\", UserWarning)"
   ]
  },
  {
   "cell_type": "code",
   "execution_count": 2,
   "id": "afecf239-6583-40ac-b344-2c05e37cb720",
   "metadata": {
    "tags": [
     "hide-output"
    ]
   },
   "outputs": [
    {
     "name": "stdout",
     "output_type": "stream",
     "text": [
      "\n",
      "Please wait a moment while I gather a list of all available modules...\n",
      "\n"
     ]
    },
    {
     "ename": "KeyboardInterrupt",
     "evalue": "",
     "output_type": "error",
     "traceback": [
      "\u001b[0;31m---------------------------------------------------------------------------\u001b[0m",
      "\u001b[0;31mKeyboardInterrupt\u001b[0m                         Traceback (most recent call last)",
      "Cell \u001b[0;32mIn[2], line 2\u001b[0m\n\u001b[1;32m      1\u001b[0m \u001b[38;5;66;03m# use the help method to generate a list of all modules\u001b[39;00m\n\u001b[0;32m----> 2\u001b[0m \u001b[43mhelp\u001b[49m\u001b[43m(\u001b[49m\u001b[38;5;124;43m'\u001b[39;49m\u001b[38;5;124;43mmodules\u001b[39;49m\u001b[38;5;124;43m'\u001b[39;49m\u001b[43m)\u001b[49m\n",
      "File \u001b[0;32m~/opt/anaconda3/envs/cs122/lib/python3.10/_sitebuiltins.py:103\u001b[0m, in \u001b[0;36m_Helper.__call__\u001b[0;34m(self, *args, **kwds)\u001b[0m\n\u001b[1;32m    101\u001b[0m \u001b[38;5;28;01mdef\u001b[39;00m \u001b[38;5;21m__call__\u001b[39m(\u001b[38;5;28mself\u001b[39m, \u001b[38;5;241m*\u001b[39margs, \u001b[38;5;241m*\u001b[39m\u001b[38;5;241m*\u001b[39mkwds):\n\u001b[1;32m    102\u001b[0m     \u001b[38;5;28;01mimport\u001b[39;00m \u001b[38;5;21;01mpydoc\u001b[39;00m\n\u001b[0;32m--> 103\u001b[0m     \u001b[38;5;28;01mreturn\u001b[39;00m \u001b[43mpydoc\u001b[49m\u001b[38;5;241;43m.\u001b[39;49m\u001b[43mhelp\u001b[49m\u001b[43m(\u001b[49m\u001b[38;5;241;43m*\u001b[39;49m\u001b[43margs\u001b[49m\u001b[43m,\u001b[49m\u001b[43m \u001b[49m\u001b[38;5;241;43m*\u001b[39;49m\u001b[38;5;241;43m*\u001b[39;49m\u001b[43mkwds\u001b[49m\u001b[43m)\u001b[49m\n",
      "File \u001b[0;32m~/opt/anaconda3/envs/cs122/lib/python3.10/pydoc.py:2006\u001b[0m, in \u001b[0;36mHelper.__call__\u001b[0;34m(self, request)\u001b[0m\n\u001b[1;32m   2004\u001b[0m \u001b[38;5;28;01mdef\u001b[39;00m \u001b[38;5;21m__call__\u001b[39m(\u001b[38;5;28mself\u001b[39m, request\u001b[38;5;241m=\u001b[39m_GoInteractive):\n\u001b[1;32m   2005\u001b[0m     \u001b[38;5;28;01mif\u001b[39;00m request \u001b[38;5;129;01mis\u001b[39;00m \u001b[38;5;129;01mnot\u001b[39;00m \u001b[38;5;28mself\u001b[39m\u001b[38;5;241m.\u001b[39m_GoInteractive:\n\u001b[0;32m-> 2006\u001b[0m         \u001b[38;5;28;43mself\u001b[39;49m\u001b[38;5;241;43m.\u001b[39;49m\u001b[43mhelp\u001b[49m\u001b[43m(\u001b[49m\u001b[43mrequest\u001b[49m\u001b[43m)\u001b[49m\n\u001b[1;32m   2007\u001b[0m     \u001b[38;5;28;01melse\u001b[39;00m:\n\u001b[1;32m   2008\u001b[0m         \u001b[38;5;28mself\u001b[39m\u001b[38;5;241m.\u001b[39mintro()\n",
      "File \u001b[0;32m~/opt/anaconda3/envs/cs122/lib/python3.10/pydoc.py:2053\u001b[0m, in \u001b[0;36mHelper.help\u001b[0;34m(self, request)\u001b[0m\n\u001b[1;32m   2051\u001b[0m \u001b[38;5;28;01melif\u001b[39;00m request \u001b[38;5;241m==\u001b[39m \u001b[38;5;124m'\u001b[39m\u001b[38;5;124msymbols\u001b[39m\u001b[38;5;124m'\u001b[39m: \u001b[38;5;28mself\u001b[39m\u001b[38;5;241m.\u001b[39mlistsymbols()\n\u001b[1;32m   2052\u001b[0m \u001b[38;5;28;01melif\u001b[39;00m request \u001b[38;5;241m==\u001b[39m \u001b[38;5;124m'\u001b[39m\u001b[38;5;124mtopics\u001b[39m\u001b[38;5;124m'\u001b[39m: \u001b[38;5;28mself\u001b[39m\u001b[38;5;241m.\u001b[39mlisttopics()\n\u001b[0;32m-> 2053\u001b[0m \u001b[38;5;28;01melif\u001b[39;00m request \u001b[38;5;241m==\u001b[39m \u001b[38;5;124m'\u001b[39m\u001b[38;5;124mmodules\u001b[39m\u001b[38;5;124m'\u001b[39m: \u001b[38;5;28;43mself\u001b[39;49m\u001b[38;5;241;43m.\u001b[39;49m\u001b[43mlistmodules\u001b[49m\u001b[43m(\u001b[49m\u001b[43m)\u001b[49m\n\u001b[1;32m   2054\u001b[0m \u001b[38;5;28;01melif\u001b[39;00m request[:\u001b[38;5;241m8\u001b[39m] \u001b[38;5;241m==\u001b[39m \u001b[38;5;124m'\u001b[39m\u001b[38;5;124mmodules \u001b[39m\u001b[38;5;124m'\u001b[39m:\n\u001b[1;32m   2055\u001b[0m     \u001b[38;5;28mself\u001b[39m\u001b[38;5;241m.\u001b[39mlistmodules(request\u001b[38;5;241m.\u001b[39msplit()[\u001b[38;5;241m1\u001b[39m])\n",
      "File \u001b[0;32m~/opt/anaconda3/envs/cs122/lib/python3.10/pydoc.py:2205\u001b[0m, in \u001b[0;36mHelper.listmodules\u001b[0;34m(self, key)\u001b[0m\n\u001b[1;32m   2203\u001b[0m             \u001b[38;5;28;01mdef\u001b[39;00m \u001b[38;5;21monerror\u001b[39m(modname):\n\u001b[1;32m   2204\u001b[0m                 callback(\u001b[38;5;28;01mNone\u001b[39;00m, modname, \u001b[38;5;28;01mNone\u001b[39;00m)\n\u001b[0;32m-> 2205\u001b[0m             \u001b[43mModuleScanner\u001b[49m\u001b[43m(\u001b[49m\u001b[43m)\u001b[49m\u001b[38;5;241;43m.\u001b[39;49m\u001b[43mrun\u001b[49m\u001b[43m(\u001b[49m\u001b[43mcallback\u001b[49m\u001b[43m,\u001b[49m\u001b[43m \u001b[49m\u001b[43monerror\u001b[49m\u001b[38;5;241;43m=\u001b[39;49m\u001b[43monerror\u001b[49m\u001b[43m)\u001b[49m\n\u001b[1;32m   2206\u001b[0m             \u001b[38;5;28mself\u001b[39m\u001b[38;5;241m.\u001b[39mlist(modules\u001b[38;5;241m.\u001b[39mkeys())\n\u001b[1;32m   2207\u001b[0m             \u001b[38;5;28mself\u001b[39m\u001b[38;5;241m.\u001b[39moutput\u001b[38;5;241m.\u001b[39mwrite(\u001b[38;5;124m'''\u001b[39m\n\u001b[1;32m   2208\u001b[0m \u001b[38;5;124mEnter any module name to get more help.  Or, type \u001b[39m\u001b[38;5;124m\"\u001b[39m\u001b[38;5;124mmodules spam\u001b[39m\u001b[38;5;124m\"\u001b[39m\u001b[38;5;124m to search\u001b[39m\n\u001b[1;32m   2209\u001b[0m \u001b[38;5;124mfor modules whose name or summary contain the string \u001b[39m\u001b[38;5;124m\"\u001b[39m\u001b[38;5;124mspam\u001b[39m\u001b[38;5;124m\"\u001b[39m\u001b[38;5;124m.\u001b[39m\n\u001b[1;32m   2210\u001b[0m \u001b[38;5;124m'''\u001b[39m)\n",
      "File \u001b[0;32m~/opt/anaconda3/envs/cs122/lib/python3.10/pydoc.py:2234\u001b[0m, in \u001b[0;36mModuleScanner.run\u001b[0;34m(self, callback, key, completer, onerror)\u001b[0m\n\u001b[1;32m   2231\u001b[0m             \u001b[38;5;28;01mif\u001b[39;00m name\u001b[38;5;241m.\u001b[39mlower()\u001b[38;5;241m.\u001b[39mfind(key) \u001b[38;5;241m>\u001b[39m\u001b[38;5;241m=\u001b[39m \u001b[38;5;241m0\u001b[39m:\n\u001b[1;32m   2232\u001b[0m                 callback(\u001b[38;5;28;01mNone\u001b[39;00m, modname, desc)\n\u001b[0;32m-> 2234\u001b[0m \u001b[38;5;28;01mfor\u001b[39;00m importer, modname, ispkg \u001b[38;5;129;01min\u001b[39;00m pkgutil\u001b[38;5;241m.\u001b[39mwalk_packages(onerror\u001b[38;5;241m=\u001b[39monerror):\n\u001b[1;32m   2235\u001b[0m     \u001b[38;5;28;01mif\u001b[39;00m \u001b[38;5;28mself\u001b[39m\u001b[38;5;241m.\u001b[39mquit:\n\u001b[1;32m   2236\u001b[0m         \u001b[38;5;28;01mbreak\u001b[39;00m\n",
      "File \u001b[0;32m~/opt/anaconda3/envs/cs122/lib/python3.10/pkgutil.py:107\u001b[0m, in \u001b[0;36mwalk_packages\u001b[0;34m(path, prefix, onerror)\u001b[0m\n\u001b[1;32m    104\u001b[0m \u001b[38;5;66;03m# don't traverse path items we've seen before\u001b[39;00m\n\u001b[1;32m    105\u001b[0m path \u001b[38;5;241m=\u001b[39m [p \u001b[38;5;28;01mfor\u001b[39;00m p \u001b[38;5;129;01min\u001b[39;00m path \u001b[38;5;28;01mif\u001b[39;00m \u001b[38;5;129;01mnot\u001b[39;00m seen(p)]\n\u001b[0;32m--> 107\u001b[0m \u001b[38;5;28;01myield from\u001b[39;00m walk_packages(path, info\u001b[38;5;241m.\u001b[39mname\u001b[38;5;241m+\u001b[39m\u001b[38;5;124m'\u001b[39m\u001b[38;5;124m.\u001b[39m\u001b[38;5;124m'\u001b[39m, onerror)\n",
      "File \u001b[0;32m~/opt/anaconda3/envs/cs122/lib/python3.10/pkgutil.py:92\u001b[0m, in \u001b[0;36mwalk_packages\u001b[0;34m(path, prefix, onerror)\u001b[0m\n\u001b[1;32m     90\u001b[0m \u001b[38;5;28;01mif\u001b[39;00m info\u001b[38;5;241m.\u001b[39mispkg:\n\u001b[1;32m     91\u001b[0m     \u001b[38;5;28;01mtry\u001b[39;00m:\n\u001b[0;32m---> 92\u001b[0m         \u001b[38;5;28;43m__import__\u001b[39;49m\u001b[43m(\u001b[49m\u001b[43minfo\u001b[49m\u001b[38;5;241;43m.\u001b[39;49m\u001b[43mname\u001b[49m\u001b[43m)\u001b[49m\n\u001b[1;32m     93\u001b[0m     \u001b[38;5;28;01mexcept\u001b[39;00m \u001b[38;5;167;01mImportError\u001b[39;00m:\n\u001b[1;32m     94\u001b[0m         \u001b[38;5;28;01mif\u001b[39;00m onerror \u001b[38;5;129;01mis\u001b[39;00m \u001b[38;5;129;01mnot\u001b[39;00m \u001b[38;5;28;01mNone\u001b[39;00m:\n",
      "File \u001b[0;32m~/opt/anaconda3/envs/cs122/lib/python3.10/site-packages/plotly/figure_factory/__init__.py:17\u001b[0m\n\u001b[1;32m     15\u001b[0m \u001b[38;5;28;01mfrom\u001b[39;00m \u001b[38;5;21;01mplotly\u001b[39;00m\u001b[38;5;21;01m.\u001b[39;00m\u001b[38;5;21;01mfigure_factory\u001b[39;00m\u001b[38;5;21;01m.\u001b[39;00m\u001b[38;5;21;01m_candlestick\u001b[39;00m \u001b[38;5;28;01mimport\u001b[39;00m create_candlestick\n\u001b[1;32m     16\u001b[0m \u001b[38;5;28;01mfrom\u001b[39;00m \u001b[38;5;21;01mplotly\u001b[39;00m\u001b[38;5;21;01m.\u001b[39;00m\u001b[38;5;21;01mfigure_factory\u001b[39;00m\u001b[38;5;21;01m.\u001b[39;00m\u001b[38;5;21;01m_dendrogram\u001b[39;00m \u001b[38;5;28;01mimport\u001b[39;00m create_dendrogram\n\u001b[0;32m---> 17\u001b[0m \u001b[38;5;28;01mfrom\u001b[39;00m \u001b[38;5;21;01mplotly\u001b[39;00m\u001b[38;5;21;01m.\u001b[39;00m\u001b[38;5;21;01mfigure_factory\u001b[39;00m\u001b[38;5;21;01m.\u001b[39;00m\u001b[38;5;21;01m_distplot\u001b[39;00m \u001b[38;5;28;01mimport\u001b[39;00m create_distplot\n\u001b[1;32m     18\u001b[0m \u001b[38;5;28;01mfrom\u001b[39;00m \u001b[38;5;21;01mplotly\u001b[39;00m\u001b[38;5;21;01m.\u001b[39;00m\u001b[38;5;21;01mfigure_factory\u001b[39;00m\u001b[38;5;21;01m.\u001b[39;00m\u001b[38;5;21;01m_facet_grid\u001b[39;00m \u001b[38;5;28;01mimport\u001b[39;00m create_facet_grid\n\u001b[1;32m     19\u001b[0m \u001b[38;5;28;01mfrom\u001b[39;00m \u001b[38;5;21;01mplotly\u001b[39;00m\u001b[38;5;21;01m.\u001b[39;00m\u001b[38;5;21;01mfigure_factory\u001b[39;00m\u001b[38;5;21;01m.\u001b[39;00m\u001b[38;5;21;01m_gantt\u001b[39;00m \u001b[38;5;28;01mimport\u001b[39;00m create_gantt\n",
      "File \u001b[0;32m~/opt/anaconda3/envs/cs122/lib/python3.10/site-packages/plotly/figure_factory/_distplot.py:9\u001b[0m\n\u001b[1;32m      7\u001b[0m pd \u001b[38;5;241m=\u001b[39m optional_imports\u001b[38;5;241m.\u001b[39mget_module(\u001b[38;5;124m\"\u001b[39m\u001b[38;5;124mpandas\u001b[39m\u001b[38;5;124m\"\u001b[39m)\n\u001b[1;32m      8\u001b[0m scipy \u001b[38;5;241m=\u001b[39m optional_imports\u001b[38;5;241m.\u001b[39mget_module(\u001b[38;5;124m\"\u001b[39m\u001b[38;5;124mscipy\u001b[39m\u001b[38;5;124m\"\u001b[39m)\n\u001b[0;32m----> 9\u001b[0m scipy_stats \u001b[38;5;241m=\u001b[39m \u001b[43moptional_imports\u001b[49m\u001b[38;5;241;43m.\u001b[39;49m\u001b[43mget_module\u001b[49m\u001b[43m(\u001b[49m\u001b[38;5;124;43m\"\u001b[39;49m\u001b[38;5;124;43mscipy.stats\u001b[39;49m\u001b[38;5;124;43m\"\u001b[39;49m\u001b[43m)\u001b[49m\n\u001b[1;32m     12\u001b[0m DEFAULT_HISTNORM \u001b[38;5;241m=\u001b[39m \u001b[38;5;124m\"\u001b[39m\u001b[38;5;124mprobability density\u001b[39m\u001b[38;5;124m\"\u001b[39m\n\u001b[1;32m     13\u001b[0m ALTERNATIVE_HISTNORM \u001b[38;5;241m=\u001b[39m \u001b[38;5;124m\"\u001b[39m\u001b[38;5;124mprobability\u001b[39m\u001b[38;5;124m\"\u001b[39m\n",
      "File \u001b[0;32m~/opt/anaconda3/envs/cs122/lib/python3.10/site-packages/_plotly_utils/optional_imports.py:28\u001b[0m, in \u001b[0;36mget_module\u001b[0;34m(name, should_load)\u001b[0m\n\u001b[1;32m     26\u001b[0m \u001b[38;5;28;01mif\u001b[39;00m name \u001b[38;5;129;01mnot\u001b[39;00m \u001b[38;5;129;01min\u001b[39;00m _not_importable:\n\u001b[1;32m     27\u001b[0m     \u001b[38;5;28;01mtry\u001b[39;00m:\n\u001b[0;32m---> 28\u001b[0m         \u001b[38;5;28;01mreturn\u001b[39;00m \u001b[43mimport_module\u001b[49m\u001b[43m(\u001b[49m\u001b[43mname\u001b[49m\u001b[43m)\u001b[49m\n\u001b[1;32m     29\u001b[0m     \u001b[38;5;28;01mexcept\u001b[39;00m \u001b[38;5;167;01mImportError\u001b[39;00m:\n\u001b[1;32m     30\u001b[0m         _not_importable\u001b[38;5;241m.\u001b[39madd(name)\n",
      "File \u001b[0;32m~/opt/anaconda3/envs/cs122/lib/python3.10/importlib/__init__.py:126\u001b[0m, in \u001b[0;36mimport_module\u001b[0;34m(name, package)\u001b[0m\n\u001b[1;32m    124\u001b[0m             \u001b[38;5;28;01mbreak\u001b[39;00m\n\u001b[1;32m    125\u001b[0m         level \u001b[38;5;241m+\u001b[39m\u001b[38;5;241m=\u001b[39m \u001b[38;5;241m1\u001b[39m\n\u001b[0;32m--> 126\u001b[0m \u001b[38;5;28;01mreturn\u001b[39;00m \u001b[43m_bootstrap\u001b[49m\u001b[38;5;241;43m.\u001b[39;49m\u001b[43m_gcd_import\u001b[49m\u001b[43m(\u001b[49m\u001b[43mname\u001b[49m\u001b[43m[\u001b[49m\u001b[43mlevel\u001b[49m\u001b[43m:\u001b[49m\u001b[43m]\u001b[49m\u001b[43m,\u001b[49m\u001b[43m \u001b[49m\u001b[43mpackage\u001b[49m\u001b[43m,\u001b[49m\u001b[43m \u001b[49m\u001b[43mlevel\u001b[49m\u001b[43m)\u001b[49m\n",
      "File \u001b[0;32m~/opt/anaconda3/envs/cs122/lib/python3.10/site-packages/scipy/stats/__init__.py:608\u001b[0m\n\u001b[1;32m      1\u001b[0m \u001b[38;5;124;03m\"\"\"\u001b[39;00m\n\u001b[1;32m      2\u001b[0m \u001b[38;5;124;03m.. _statsrefmanual:\u001b[39;00m\n\u001b[1;32m      3\u001b[0m \n\u001b[0;32m   (...)\u001b[0m\n\u001b[1;32m    603\u001b[0m \n\u001b[1;32m    604\u001b[0m \u001b[38;5;124;03m\"\"\"\u001b[39;00m\n\u001b[1;32m    606\u001b[0m \u001b[38;5;28;01mfrom\u001b[39;00m \u001b[38;5;21;01m.\u001b[39;00m\u001b[38;5;21;01m_warnings_errors\u001b[39;00m \u001b[38;5;28;01mimport\u001b[39;00m (ConstantInputWarning, NearConstantInputWarning,\n\u001b[1;32m    607\u001b[0m                                DegenerateDataWarning, FitError)\n\u001b[0;32m--> 608\u001b[0m \u001b[38;5;28;01mfrom\u001b[39;00m \u001b[38;5;21;01m.\u001b[39;00m\u001b[38;5;21;01m_stats_py\u001b[39;00m \u001b[38;5;28;01mimport\u001b[39;00m \u001b[38;5;241m*\u001b[39m\n\u001b[1;32m    609\u001b[0m \u001b[38;5;28;01mfrom\u001b[39;00m \u001b[38;5;21;01m.\u001b[39;00m\u001b[38;5;21;01m_variation\u001b[39;00m \u001b[38;5;28;01mimport\u001b[39;00m variation\n\u001b[1;32m    610\u001b[0m \u001b[38;5;28;01mfrom\u001b[39;00m \u001b[38;5;21;01m.\u001b[39;00m\u001b[38;5;21;01mdistributions\u001b[39;00m \u001b[38;5;28;01mimport\u001b[39;00m \u001b[38;5;241m*\u001b[39m\n",
      "File \u001b[0;32m~/opt/anaconda3/envs/cs122/lib/python3.10/site-packages/scipy/stats/_stats_py.py:46\u001b[0m\n\u001b[1;32m     44\u001b[0m \u001b[38;5;28;01mimport\u001b[39;00m \u001b[38;5;21;01mscipy\u001b[39;00m\u001b[38;5;21;01m.\u001b[39;00m\u001b[38;5;21;01mspecial\u001b[39;00m \u001b[38;5;28;01mas\u001b[39;00m \u001b[38;5;21;01mspecial\u001b[39;00m\n\u001b[1;32m     45\u001b[0m \u001b[38;5;28;01mfrom\u001b[39;00m \u001b[38;5;21;01mscipy\u001b[39;00m \u001b[38;5;28;01mimport\u001b[39;00m linalg\n\u001b[0;32m---> 46\u001b[0m \u001b[38;5;28;01mfrom\u001b[39;00m \u001b[38;5;21;01m.\u001b[39;00m \u001b[38;5;28;01mimport\u001b[39;00m distributions\n\u001b[1;32m     47\u001b[0m \u001b[38;5;28;01mfrom\u001b[39;00m \u001b[38;5;21;01m.\u001b[39;00m \u001b[38;5;28;01mimport\u001b[39;00m _mstats_basic \u001b[38;5;28;01mas\u001b[39;00m mstats_basic\n\u001b[1;32m     48\u001b[0m \u001b[38;5;28;01mfrom\u001b[39;00m \u001b[38;5;21;01m.\u001b[39;00m\u001b[38;5;21;01m_stats_mstats_common\u001b[39;00m \u001b[38;5;28;01mimport\u001b[39;00m (_find_repeats, linregress, theilslopes,\n\u001b[1;32m     49\u001b[0m                                    siegelslopes)\n",
      "File \u001b[0;32m~/opt/anaconda3/envs/cs122/lib/python3.10/site-packages/scipy/stats/distributions.py:11\u001b[0m\n\u001b[1;32m      8\u001b[0m \u001b[38;5;28;01mfrom\u001b[39;00m \u001b[38;5;21;01m.\u001b[39;00m\u001b[38;5;21;01m_distn_infrastructure\u001b[39;00m \u001b[38;5;28;01mimport\u001b[39;00m (rv_discrete, rv_continuous, rv_frozen)  \u001b[38;5;66;03m# noqa: F401\u001b[39;00m\n\u001b[1;32m     10\u001b[0m \u001b[38;5;28;01mfrom\u001b[39;00m \u001b[38;5;21;01m.\u001b[39;00m \u001b[38;5;28;01mimport\u001b[39;00m _continuous_distns\n\u001b[0;32m---> 11\u001b[0m \u001b[38;5;28;01mfrom\u001b[39;00m \u001b[38;5;21;01m.\u001b[39;00m \u001b[38;5;28;01mimport\u001b[39;00m _discrete_distns\n\u001b[1;32m     13\u001b[0m \u001b[38;5;28;01mfrom\u001b[39;00m \u001b[38;5;21;01m.\u001b[39;00m\u001b[38;5;21;01m_continuous_distns\u001b[39;00m \u001b[38;5;28;01mimport\u001b[39;00m \u001b[38;5;241m*\u001b[39m\n\u001b[1;32m     14\u001b[0m \u001b[38;5;28;01mfrom\u001b[39;00m \u001b[38;5;21;01m.\u001b[39;00m\u001b[38;5;21;01m_levy_stable\u001b[39;00m \u001b[38;5;28;01mimport\u001b[39;00m levy_stable\n",
      "File \u001b[0;32m~/opt/anaconda3/envs/cs122/lib/python3.10/site-packages/scipy/stats/_discrete_distns.py:10\u001b[0m\n\u001b[1;32m      8\u001b[0m \u001b[38;5;28;01mfrom\u001b[39;00m \u001b[38;5;21;01mscipy\u001b[39;00m\u001b[38;5;21;01m.\u001b[39;00m\u001b[38;5;21;01mspecial\u001b[39;00m \u001b[38;5;28;01mimport\u001b[39;00m entr, logsumexp, betaln, gammaln \u001b[38;5;28;01mas\u001b[39;00m gamln, zeta\n\u001b[1;32m      9\u001b[0m \u001b[38;5;28;01mfrom\u001b[39;00m \u001b[38;5;21;01mscipy\u001b[39;00m\u001b[38;5;21;01m.\u001b[39;00m\u001b[38;5;21;01m_lib\u001b[39;00m\u001b[38;5;21;01m.\u001b[39;00m\u001b[38;5;21;01m_util\u001b[39;00m \u001b[38;5;28;01mimport\u001b[39;00m _lazywhere, rng_integers\n\u001b[0;32m---> 10\u001b[0m \u001b[38;5;28;01mfrom\u001b[39;00m \u001b[38;5;21;01mscipy\u001b[39;00m\u001b[38;5;21;01m.\u001b[39;00m\u001b[38;5;21;01minterpolate\u001b[39;00m \u001b[38;5;28;01mimport\u001b[39;00m interp1d\n\u001b[1;32m     12\u001b[0m \u001b[38;5;28;01mfrom\u001b[39;00m \u001b[38;5;21;01mnumpy\u001b[39;00m \u001b[38;5;28;01mimport\u001b[39;00m floor, ceil, log, exp, sqrt, log1p, expm1, tanh, cosh, sinh\n\u001b[1;32m     14\u001b[0m \u001b[38;5;28;01mimport\u001b[39;00m \u001b[38;5;21;01mnumpy\u001b[39;00m \u001b[38;5;28;01mas\u001b[39;00m \u001b[38;5;21;01mnp\u001b[39;00m\n",
      "File \u001b[0;32m~/opt/anaconda3/envs/cs122/lib/python3.10/site-packages/scipy/interpolate/__init__.py:167\u001b[0m\n\u001b[1;32m      1\u001b[0m \u001b[38;5;124;03m\"\"\"\u001b[39;00m\n\u001b[1;32m      2\u001b[0m \u001b[38;5;124;03m========================================\u001b[39;00m\n\u001b[1;32m      3\u001b[0m \u001b[38;5;124;03mInterpolation (:mod:`scipy.interpolate`)\u001b[39;00m\n\u001b[0;32m   (...)\u001b[0m\n\u001b[1;32m    165\u001b[0m \u001b[38;5;124;03m(should not be used in new code).\u001b[39;00m\n\u001b[1;32m    166\u001b[0m \u001b[38;5;124;03m\"\"\"\u001b[39;00m\n\u001b[0;32m--> 167\u001b[0m \u001b[38;5;28;01mfrom\u001b[39;00m \u001b[38;5;21;01m.\u001b[39;00m\u001b[38;5;21;01m_interpolate\u001b[39;00m \u001b[38;5;28;01mimport\u001b[39;00m \u001b[38;5;241m*\u001b[39m\n\u001b[1;32m    168\u001b[0m \u001b[38;5;28;01mfrom\u001b[39;00m \u001b[38;5;21;01m.\u001b[39;00m\u001b[38;5;21;01m_fitpack_py\u001b[39;00m \u001b[38;5;28;01mimport\u001b[39;00m \u001b[38;5;241m*\u001b[39m\n\u001b[1;32m    170\u001b[0m \u001b[38;5;66;03m# New interface to fitpack library:\u001b[39;00m\n",
      "File \u001b[0;32m~/opt/anaconda3/envs/cs122/lib/python3.10/site-packages/scipy/interpolate/_interpolate.py:16\u001b[0m\n\u001b[1;32m     14\u001b[0m \u001b[38;5;28;01mfrom\u001b[39;00m \u001b[38;5;21;01m.\u001b[39;00m\u001b[38;5;21;01m_polyint\u001b[39;00m \u001b[38;5;28;01mimport\u001b[39;00m _Interpolator1D\n\u001b[1;32m     15\u001b[0m \u001b[38;5;28;01mfrom\u001b[39;00m \u001b[38;5;21;01m.\u001b[39;00m \u001b[38;5;28;01mimport\u001b[39;00m _ppoly\n\u001b[0;32m---> 16\u001b[0m \u001b[38;5;28;01mfrom\u001b[39;00m \u001b[38;5;21;01m.\u001b[39;00m\u001b[38;5;21;01minterpnd\u001b[39;00m \u001b[38;5;28;01mimport\u001b[39;00m _ndim_coords_from_arrays\n\u001b[1;32m     17\u001b[0m \u001b[38;5;28;01mfrom\u001b[39;00m \u001b[38;5;21;01m.\u001b[39;00m\u001b[38;5;21;01m_bsplines\u001b[39;00m \u001b[38;5;28;01mimport\u001b[39;00m make_interp_spline, BSpline\n\u001b[1;32m     20\u001b[0m \u001b[38;5;28;01mdef\u001b[39;00m \u001b[38;5;21mlagrange\u001b[39m(x, w):\n",
      "\u001b[0;31mKeyboardInterrupt\u001b[0m: "
     ]
    }
   ],
   "source": [
    "# use the help method to generate a list of all modules\n",
    "help('modules')"
   ]
  },
  {
   "cell_type": "markdown",
   "id": "16be5746-6358-470c-8e70-81e662f3d413",
   "metadata": {},
   "source": [
    "We can see in the above block that we have modules from the standard installation (e.g. `abc`) and we also have modules which we installed previously (e.g. `jupyter`)."
   ]
  },
  {
   "cell_type": "markdown",
   "id": "8e2abf89-9772-4421-8923-59d29802a068",
   "metadata": {},
   "source": [
    "## Creating a Package\n",
    "So far, we have created modules that contain functions that used within Jupyter notebooks. Today, we'll create several modules and group them together into a *package*. \n",
    "\n",
    "Let's begin by creating a module called `general_notes` that contains a simple function `module_import_note` with a print statement that reminds us about importing modules. When complete, run the following code block to ensure your package works as expected:"
   ]
  },
  {
   "cell_type": "code",
   "execution_count": 3,
   "id": "c807fc6a-3d1c-4707-9120-dcbc05fdc5a8",
   "metadata": {},
   "outputs": [
    {
     "name": "stdout",
     "output_type": "stream",
     "text": [
      "A module can be imported in a Jupyter notebook\n",
      "if it is in the same directory as the notebook\n"
     ]
    }
   ],
   "source": [
    "# import the general_notes module\n",
    "import general_notes as gn\n",
    "\n",
    "# test the module_import_note function\n",
    "gn.module_import_note()"
   ]
  },
  {
   "cell_type": "markdown",
   "id": "284ea789-9849-428c-89fc-2be89f107bfb",
   "metadata": {},
   "source": [
    "Next, let's create a separate module called `conda_notes` that specifically stores notes about `conda`. Build a function with a simple function called "
   ]
  },
  {
   "cell_type": "code",
   "execution_count": 4,
   "id": "dd9d21ad-502c-4610-9764-32237c058473",
   "metadata": {},
   "outputs": [
    {
     "name": "stdout",
     "output_type": "stream",
     "text": [
      "The command to make a new conda environment is conda create --name my_env\n"
     ]
    }
   ],
   "source": [
    "# import the conda_notes module\n",
    "import conda_notes as cn\n",
    "\n",
    "# test the conda_environment_setup function\n",
    "cn.conda_environment_setup()"
   ]
  },
  {
   "cell_type": "markdown",
   "id": "ba848b17-4115-4775-b9aa-0e97d271487e",
   "metadata": {},
   "source": [
    "Now, consider if we could bundle these scripts into a *package* that we could import together.\n",
    "\n",
    "To create a package, first create a directory structure for your package and move everything into the directories. For this example, we will create a directory called `python_notes` with a subdirectory called `conda`. Put the `general_notes` module into the top level directory and the `conda_notes` modules into the subdirectory.\n",
    "\n",
    "To give your directories a package structure, we need to add an `__init__.py` module to each subdirectory. The `__init__.py` module doesn't need to contain any code - but you can add code if you like. This is typically where developers will add `UserWarnings` as we saw above. Add the `__init__.py` modules and try import your modules from the package and running the functions we defined above:"
   ]
  },
  {
   "cell_type": "code",
   "execution_count": 5,
   "id": "2e1039f5-d7b6-48b3-b78b-00780e9d0577",
   "metadata": {},
   "outputs": [
    {
     "name": "stdout",
     "output_type": "stream",
     "text": [
      "A module can be imported in a Jupyter notebook\n",
      "if it is in the same directory as the notebook\n"
     ]
    }
   ],
   "source": [
    "# import the python_notes package\n",
    "import python_notes.general_notes as gn\n",
    "\n",
    "# run the module_import_note function from the general_notes modules\n",
    "gn.module_import_note()"
   ]
  },
  {
   "cell_type": "markdown",
   "id": "841569e8-0855-40b6-ab6d-5056c9e0424a",
   "metadata": {},
   "source": [
    "### Using your package from a different directory\n",
    "If you want to use your package from a different directory, then one option you have is to tell Python where you want it to look. One way to do this is to use the `sys` module to modify your system path:"
   ]
  },
  {
   "cell_type": "code",
   "execution_count": 6,
   "id": "87536bd8-4bd1-4515-bf85-93a0172f9482",
   "metadata": {},
   "outputs": [],
   "source": [
    "# import the sys module\n",
    "import sys\n",
    "\n",
    "# insert the path to the directory of the module in another directory\n",
    "sys.path.insert(1,'/Users/mike/Documents/Python/')"
   ]
  },
  {
   "cell_type": "markdown",
   "id": "e06e1f02-54e7-4e83-80e0-e18f1686662f",
   "metadata": {},
   "source": [
    "Now, the module can be accessed, imported, and utilized:"
   ]
  },
  {
   "cell_type": "code",
   "execution_count": 7,
   "id": "a70899ba-8152-4712-9962-227fcc723052",
   "metadata": {},
   "outputs": [
    {
     "name": "stdout",
     "output_type": "stream",
     "text": [
      "The command to make a new conda environment is conda create --name my_env\n"
     ]
    }
   ],
   "source": [
    "# import the python_notes package\n",
    "import python_notes.conda.conda_notes as cn\n",
    "\n",
    "# test the conda_environment_setup function\n",
    "cn.conda_environment_setup()"
   ]
  },
  {
   "cell_type": "markdown",
   "id": "45401da3-fe29-4ade-9c1a-a004a7993d02",
   "metadata": {},
   "source": [
    "## Installing Your Package in Your Conda Environment"
   ]
  },
  {
   "cell_type": "markdown",
   "id": "495f6a2b-1d7a-4572-bd9d-7c76b792c62f",
   "metadata": {},
   "source": [
    "After you've created a package, you may be interested in having your package available in other contexts. We can see above how to explicitly provide a path to a package. How can we *install* our package into our conda environment? The first thing we will need is a new file called `setup.py` and fill it with the following contents:"
   ]
  },
  {
   "cell_type": "raw",
   "id": "0c637462",
   "metadata": {},
   "source": [
    "from setuptools import setup\n",
    "\n",
    "setup(\n",
    "    name='python_notes',\n",
    "    version='0.1',\n",
    "    author='Mike Wood',\n",
    "    author_email='mike.wood@sjsu.edu',\n",
    "    platforms=[\"any\"],\n",
    "    description='This package stores notes about python packages',\n",
    "    license=\"BSD\",\n",
    ")"
   ]
  },
  {
   "cell_type": "markdown",
   "id": "eebdd5c7-ecc8-495c-99f5-fc942e45c932",
   "metadata": {},
   "source": [
    "Now, using your terminal, run the command from the directory where your `setup.py` file is located (be sure your conda environment is activated):\n",
    "\n",
    "`pip install .`\n",
    "\n",
    "If the installation is successful, your should receive a nice note about it was successfully installed. Let's check that we now see it in our list:"
   ]
  },
  {
   "cell_type": "code",
   "execution_count": 8,
   "id": "22314e57-f803-4ef4-bc7f-5488e744a4d6",
   "metadata": {
    "tags": [
     "hide-output"
    ]
   },
   "outputs": [
    {
     "name": "stdout",
     "output_type": "stream",
     "text": [
      "\n",
      "Please wait a moment while I gather a list of all available modules...\n",
      "\n",
      "AppKit              babel               ipykernel           random\n",
      "Cocoa               backcall            ipykernel_launcher  ratelim\n",
      "CoreFoundation      backports           ipython_genutils    re\n",
      "Foundation          base64              ipywidgets          readline\n",
      "IPython             bdb                 isoduration         referencing\n",
      "OpenSSL             binascii            itertools           reprlib\n",
      "PIL                 binhex              itsdangerous        requests\n",
      "__future__          bisect              jedi                requests_oauthlib\n",
      "_abc                bleach              jinja2              resource\n",
      "_aix_support        blinker             joblib              retrying\n",
      "_argon2_cffi_bindings branca              json                rfc3339_validator\n",
      "_ast                brotli              json5               rfc3986_validator\n",
      "_asyncio            bs4                 jsonpointer         rlcompleter\n",
      "_bisect             builtins            jsonschema          rpds\n",
      "_blake2             bz2                 jsonschema_specifications rsa\n",
      "_bootsubprocess     cProfile            jupyter             runpy\n",
      "_brotli             cached_property     jupyter_client      sched\n",
      "_bz2                cachetools          jupyter_console     scipy\n",
      "_cffi_backend       calendar            jupyter_core        secrets\n",
      "_codecs             certifi             jupyter_events      select\n",
      "_codecs_cn          cffi                jupyter_lsp         selectors\n",
      "_codecs_hk          cgi                 jupyter_server      send2trash\n",
      "_codecs_iso2022     cgitb               jupyter_server_terminals setuptools\n",
      "_codecs_jp          charset_normalizer  jupyterlab          shelve\n",
      "_codecs_kr          chunk               jupyterlab_plotly   shlex\n",
      "_codecs_tw          click               jupyterlab_pygments shutil\n",
      "_collections        cmath               jupyterlab_server   signal\n",
      "_collections_abc    cmd                 jupyterlab_widgets  site\n",
      "_compat_pickle      code                jwt                 six\n",
      "_compression        codecs              keyword             sklearn\n",
      "_contextvars        codeop              kiwisolver          smtpd\n",
      "_crypt              collections         lib2to3             smtplib\n",
      "_csv                colorama            libfuturize         sndhdr\n",
      "_ctypes             colorsys            libpasteurize       sniffio\n",
      "_ctypes_test        colour              linecache           socket\n",
      "_curses             comm                locale              socketserver\n",
      "_curses_panel       compileall          logging             socks\n",
      "_datetime           concurrent          lxml                sockshandler\n",
      "_dbm                conda_notes         lzma                soupsieve\n",
      "_decimal            configparser        mailbox             sqlite3\n",
      "_distutils_hack     contextlib          mailcap             sqlparse\n",
      "_elementtree        contextvars         markupsafe          sre_compile\n",
      "_functools          contourpy           marshal             sre_constants\n",
      "_hashlib            copy                math                sre_parse\n",
      "_heapq              copyreg             matplotlib          ssl\n",
      "_imp                crypt               matplotlib_inline   stack_data\n",
      "_io                 cryptography        mimetypes           stat\n",
      "_json               cs122notes          mistune             statistics\n",
      "_locale             csv                 mmap                string\n",
      "_lsprof             ctypes              modulefinder        stringprep\n",
      "_lzma               curses              moviepy             struct\n",
      "_markupbase         cycler              multidict           subprocess\n",
      "_md5                dash                multiprocessing     sunau\n",
      "_multibytecodec     dash_core_components multitasking        symtable\n",
      "_multiprocessing    dash_html_components munkres             sys\n",
      "_opcode             dash_table          nbclient            sysconfig\n",
      "_operator           dataclasses         nbconvert           syslog\n",
      "_osx_support        datetime            nbformat            tabnanny\n",
      "_pickle             dateutil            nest_asyncio        tarfile\n",
      "_plotly_future_     dbm                 netrc               telnetlib\n",
      "_plotly_utils       debugpy             nis                 tempfile\n",
      "_posixshmem         decimal             nntplib             tenacity\n",
      "_posixsubprocess    decorator           notebook            terminado\n",
      "_py_abc             defusedxml          notebook_shim       termios\n",
      "_pydecimal          difflib             ntpath              test\n",
      "_pyio               dis                 nturl2path          test_module\n",
      "_queue              distutils           numbers             textwrap\n",
      "_random             django              numpy               this\n",
      "_scproxy            doctest             oauthlib            threading\n",
      "_sha1               email               objc                threadpoolctl\n",
      "_sha256             encodings           opcode              time\n",
      "_sha3               ensurepip           openpyxl            timeit\n",
      "_sha512             entrypoints         operator            timezonefinder\n",
      "_signal             enum                optparse            tinycss2\n",
      "_sitebuiltins       errno               os                  tkinter\n",
      "_socket             et_xmlfile          overrides           tkmacosx\n",
      "_sqlite3            exceptiongroup      packaging           token\n",
      "_sre                executing           pandas              tokenize\n",
      "_ssl                fastjsonschema      pandocfilters       tomli\n",
      "_stat               faulthandler        parso               tornado\n",
      "_statistics         fcntl               past                tqdm\n",
      "_string             filecmp             pathlib             trace\n",
      "_strptime           fileinput           pdb                 traceback\n",
      "_struct             flask               peewee              tracemalloc\n",
      "_symtable           flask_cors          pexpect             traitlets\n",
      "_sysconfigdata__darwin_darwin fnmatch             pickle              tty\n",
      "_sysconfigdata_x86_64_apple_darwin13_4_0 folium              pickleshare         turtle\n",
      "_testbuffer         fontTools           pickletools         turtledemo\n",
      "_testcapi           fqdn                pip                 types\n",
      "_testclinic         fractions           pipes               typing\n",
      "_testimportmultiple frozendict          pkg_resources       typing_extensions\n",
      "_testinternalcapi   frozenlist          pkgutil             typing_utils\n",
      "_testmultiphase     ftplib              pkgutil_resolve_name tzdata\n",
      "_thread             functools           platform            unicodedata\n",
      "_threading_local    future              platformdirs        unicodedata2\n",
      "_tkinter            gc                  playhouse           unittest\n",
      "_tracemalloc        general_notes       plistlib            uri_template\n",
      "_uuid               genericpath         plotly              uritemplate\n",
      "_warnings           geocoder            poplib              urllib\n",
      "_weakref            geographiclib       posix               urllib3\n",
      "_weakrefset         geopy               posixpath           uu\n",
      "_xxsubinterpreters  getopt              pprint              uuid\n",
      "_xxtestfuzz         getpass             profile             venv\n",
      "_yaml               gettext             proglog             warnings\n",
      "_zoneinfo           glob                prometheus_client   wave\n",
      "abc                 google_auth_httplib2 prompt_toolkit      wcwidth\n",
      "aifc                google_auth_oauthlib pstats              weakref\n",
      "aiohttp             googleapiclient     psutil              webbrowser\n",
      "aiosignal           graphlib            pty                 webcolors\n",
      "ansi2html           grp                 ptyprocess          webencodings\n",
      "antigravity         gzip                pure_eval           websocket\n",
      "anyio               h3                  pwd                 werkzeug\n",
      "apiclient           hashlib             pwiz                wheel\n",
      "appdirs             heapq               py_compile          widgetsnbextension\n",
      "appnope             hmac                pyasn1              wsgiref\n",
      "argon2              html                pyasn1_modules      xdrlib\n",
      "argparse            html5lib            pyclbr              xml\n",
      "array               http                pycparser           xmlrpc\n",
      "arrow               httplib2            pydoc               xxlimited\n",
      "asgiref             idlelib             pydoc_data          xxlimited_35\n",
      "ast                 idna                pyexpat             xxsubtype\n",
      "astrology           imageio             pygments            xyzservices\n",
      "asttokens           imageio_ffmpeg      pylab               yaml\n",
      "async_lru           imaplib             pyparsing           yarl\n",
      "async_timeout       imghdr              python_notes        yfinance\n",
      "asynchat            imp                 pythonjsonlogger    zipapp\n",
      "asyncio             importlib           pytz                zipfile\n",
      "asyncore            importlib_metadata  pyu2f               zipimport\n",
      "atexit              importlib_resources qtconsole           zipp\n",
      "attr                inspect             qtpy                zlib\n",
      "attrs               io                  queue               zmq\n",
      "audioop             ipaddress           quopri              zoneinfo\n",
      "\n",
      "Enter any module name to get more help.  Or, type \"modules spam\" to search\n",
      "for modules whose name or summary contain the string \"spam\".\n",
      "\n"
     ]
    }
   ],
   "source": [
    "# use the help method to generate a list of all modules\n",
    "help('modules')"
   ]
  },
  {
   "cell_type": "markdown",
   "id": "dbe013ae",
   "metadata": {},
   "source": [
    "Now that our module is installed in our environment, we can check that the module can be imported, even if we move it out of directory:"
   ]
  },
  {
   "cell_type": "code",
   "execution_count": 9,
   "id": "3e44036a-3c7b-4e69-9fcd-6a8b76b2ab7a",
   "metadata": {},
   "outputs": [
    {
     "name": "stdout",
     "output_type": "stream",
     "text": [
      "The command to make a new conda environment is conda create --name my_env\n"
     ]
    }
   ],
   "source": [
    "# import the python_notes package\n",
    "import python_notes.conda.conda_notes as cn\n",
    "\n",
    "# test the conda_environment_setup function\n",
    "cn.conda_environment_setup()"
   ]
  },
  {
   "cell_type": "markdown",
   "id": "662bf153-86cd-4eca-81c8-c2eacf45b98e",
   "metadata": {},
   "source": [
    "### Modifying an installed package\n",
    "After creating an installing your package, its likely that you would like to add more contends to your module. \n",
    "\n",
    "Add a new function to your `python_notes` modules. Try running your new function:"
   ]
  },
  {
   "cell_type": "code",
   "execution_count": 10,
   "id": "1237888b-85fe-49fe-831d-fbd7b495be66",
   "metadata": {},
   "outputs": [
    {
     "name": "stdout",
     "output_type": "stream",
     "text": [
      "To install a package using pip and a setup file, use the pip install . command\n"
     ]
    }
   ],
   "source": [
    "# run the module_import_note function from the general_notes modules\n",
    "gn.package_installation()"
   ]
  }
 ],
 "metadata": {
  "kernelspec": {
   "display_name": "cs122",
   "language": "python",
   "name": "cs122"
  },
  "language_info": {
   "codemirror_mode": {
    "name": "ipython",
    "version": 3
   },
   "file_extension": ".py",
   "mimetype": "text/x-python",
   "name": "python",
   "nbconvert_exporter": "python",
   "pygments_lexer": "ipython3",
   "version": "3.10.12"
  }
 },
 "nbformat": 4,
 "nbformat_minor": 5
}