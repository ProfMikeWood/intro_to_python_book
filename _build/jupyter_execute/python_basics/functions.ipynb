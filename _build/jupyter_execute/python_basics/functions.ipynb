{
 "cells": [
  {
   "cell_type": "markdown",
   "id": "49e61e1c",
   "metadata": {},
   "source": [
    "# Functions"
   ]
  },
  {
   "cell_type": "markdown",
   "id": "0c3a7daa-0a0a-481c-974f-6acd970606db",
   "metadata": {},
   "source": [
    "Learning Objectives:\n",
    "By the end of this lesson, you should be able to:\n",
    "1. Define a Python function with one or more arguments that returns one or more objects.\n",
    "2. Differentiate between local and global variables, and when they can be modified\n",
    "3. Implement the lambda keyword to create short in-line functions"
   ]
  },
  {
   "cell_type": "markdown",
   "id": "0d4b0f71",
   "metadata": {},
   "source": [
    "## Part 1: Defining Functions"
   ]
  },
  {
   "cell_type": "markdown",
   "id": "acf1e5a8",
   "metadata": {},
   "source": [
    "Functions in Python start with the keyword `def` and follow a similar syntax to other code blocks we have seen in Python so far - they use the typical colon and indentation formatting."
   ]
  },
  {
   "cell_type": "code",
   "execution_count": 1,
   "id": "58d5c54f",
   "metadata": {},
   "outputs": [],
   "source": [
    "# write a simple function to describe the weather\n",
    "def weather_report():\n",
    "    print('Its hot!')"
   ]
  },
  {
   "cell_type": "markdown",
   "id": "7a31ef7e-2b8c-4a88-8f81-f94d47158bb2",
   "metadata": {},
   "source": [
    "From the above code block, we can observe 3 things:\n",
    "- Functions do not need to be defined with input arguments\n",
    "- Functions do not need to have to return objects\n",
    "- Functions are not run when they are defined - they must be called to be run"
   ]
  },
  {
   "cell_type": "code",
   "execution_count": 2,
   "id": "328de8a3-4bb9-4da2-9fdb-64f4ec8489dc",
   "metadata": {},
   "outputs": [
    {
     "name": "stdout",
     "output_type": "stream",
     "text": [
      "Its hot!\n"
     ]
    }
   ],
   "source": [
    "# call the weather report function\n",
    "weather_report()"
   ]
  },
  {
   "cell_type": "markdown",
   "id": "bf25d05e-ba6c-44c3-8301-e6ab30303c1f",
   "metadata": {},
   "source": [
    "There is a lot of flexibility in how function in Python can be defined. For example, we may choose to define input arguments and implement code blocks within our function:"
   ]
  },
  {
   "cell_type": "code",
   "execution_count": 3,
   "id": "5723662f-10c2-4913-becf-70ba70ed34a8",
   "metadata": {},
   "outputs": [
    {
     "name": "stdout",
     "output_type": "stream",
     "text": [
      "The temperature is 81 F - its hot!\n",
      "The temperature is 70 F - its not hot.\n"
     ]
    }
   ],
   "source": [
    "# update the weather report function to include an input argument for temperature\n",
    "def weather_report(temperature):\n",
    "    if temperature>75:\n",
    "        print('The temperature is '+str(temperature)+' F - its hot!')\n",
    "    else:\n",
    "        print('The temperature is '+str(temperature)+' F - its not hot.')\n",
    "\n",
    "# call the function to view its output\n",
    "weather_report(81)\n",
    "\n",
    "# call the function again by explicitly calling the input parameter\n",
    "weather_report(temperature = 70)"
   ]
  },
  {
   "cell_type": "markdown",
   "id": "59f122fc-da09-426a-8153-5d5c8f831c99",
   "metadata": {},
   "source": [
    "We can also define optional arguments that are given a default value. These default values may be changed by the function user, if desired."
   ]
  },
  {
   "cell_type": "code",
   "execution_count": 4,
   "id": "0287736e-c410-40ed-8a59-c4202dacce7c",
   "metadata": {},
   "outputs": [
    {
     "name": "stdout",
     "output_type": "stream",
     "text": [
      "The temperature is 81 F - its hot!\n",
      "The temperature is 27.222222222222225 C - its hot!\n"
     ]
    }
   ],
   "source": [
    "# update the weather report function to include an optional input argument\n",
    "# to convert the temperature to celsius\n",
    "def weather_report(temperature, convert_to_celsius=False):\n",
    "\n",
    "    # add a code block to allow for conversion into celsius\n",
    "    units = 'F'\n",
    "    hot_temperature = 75\n",
    "    if convert_to_celsius:\n",
    "        temperature = (5/9)*(temperature-32)\n",
    "        units = 'C'\n",
    "        hot_temperature = (5/9)*(hot_temperature-32)\n",
    "    \n",
    "    if temperature>hot_temperature:\n",
    "        print('The temperature is '+str(temperature)+' '+units+' - its hot!')\n",
    "    else:\n",
    "        print('The temperature is '+str(temperature)+' '+units+' - its not hot.')\n",
    "\n",
    "# call the function to view its output\n",
    "weather_report(81)\n",
    "\n",
    "# call the function again, this time converting to celsius\n",
    "weather_report(81, convert_to_celsius=True)"
   ]
  },
  {
   "cell_type": "markdown",
   "id": "5abcea6d-e87d-4f99-980d-f95a5884899d",
   "metadata": {},
   "source": [
    "All functions in Python have an output object. If its not defined, then the value is None. For example: "
   ]
  },
  {
   "cell_type": "code",
   "execution_count": 5,
   "id": "e0b481bb-ec7b-4e92-b492-7bbaa8fd9a0e",
   "metadata": {},
   "outputs": [
    {
     "name": "stdout",
     "output_type": "stream",
     "text": [
      "The temperature is 81 F - its hot!\n",
      "None\n"
     ]
    }
   ],
   "source": [
    "# assign the output of the weather report function to a variable\n",
    "output_test = weather_report(81)\n",
    "\n",
    "# print the variable\n",
    "print(output_test)"
   ]
  },
  {
   "cell_type": "markdown",
   "id": "e7b69599-a87d-42a2-bad5-96156832bb4d",
   "metadata": {},
   "source": [
    "Often, we would like our functions to return a given statement or other output rather than just printing something to the screen. In this case, we can use the `return` keyword."
   ]
  },
  {
   "cell_type": "code",
   "execution_count": 6,
   "id": "6a2b6022-4b1c-45ff-a8f4-8b4720a1ca2a",
   "metadata": {},
   "outputs": [],
   "source": [
    "# update the weather report function to output the statement\n",
    "# instead of printing it\n",
    "def weather_report(temperature, convert_to_celsius=False):\n",
    "\n",
    "    # add a code block to allow for conversion into celsius\n",
    "    units = 'F'\n",
    "    hot_temperature = 75\n",
    "    if convert_to_celsius:\n",
    "        temperature = (5/9)*(temperature-32)\n",
    "        units = 'C'\n",
    "        hot_temperature = (5/9)*(hot_temperature-32)\n",
    "    \n",
    "    if temperature>hot_temperature:\n",
    "        output_statement = 'The temperature is '+str(temperature)+' '+units+' - its hot!'\n",
    "    else:\n",
    "        output_statement = 'The temperature is '+str(temperature)+' '+units+' - its not hot.'\n",
    "\n",
    "    return(output_statement)\n",
    "\n",
    "# store the output of weather_report into a variable called report\n",
    "report = weather_report(81, convert_to_celsius=False)"
   ]
  },
  {
   "cell_type": "markdown",
   "id": "d540ddeb-6fa9-47b0-a35f-b72da7b7fa89",
   "metadata": {},
   "source": [
    "When defined with an output, we can print the statement when desired:"
   ]
  },
  {
   "cell_type": "code",
   "execution_count": 7,
   "id": "571d425e-1e7d-424b-8b6c-8f203f79d028",
   "metadata": {},
   "outputs": [
    {
     "name": "stdout",
     "output_type": "stream",
     "text": [
      "The temperature is 81 F - its hot!\n"
     ]
    }
   ],
   "source": [
    "# now print the report variable\n",
    "print(report)"
   ]
  },
  {
   "cell_type": "markdown",
   "id": "a0e14d68",
   "metadata": {},
   "source": [
    "### &#x1F914; Mini-Exercise\n",
    "Goal: Define a function called `convert_miles` to convert miles to kilometers. Provide an optional keyword that allows the user to convert to meters instead of kilometers. There are 6.2 miles in 10 kilometers and 1000 meters in 1 kilometer."
   ]
  },
  {
   "cell_type": "code",
   "execution_count": 8,
   "id": "1e4d0d96-784a-4b66-89c0-fb2b76178dc5",
   "metadata": {},
   "outputs": [
    {
     "name": "stdout",
     "output_type": "stream",
     "text": [
      "5.0\n",
      "15000.0\n"
     ]
    }
   ],
   "source": [
    "# define the convert_miles function\n",
    "def convert_miles(miles, convert_to_meters = False):\n",
    "    output = miles*10/6.2\n",
    "\n",
    "    if convert_to_meters:\n",
    "        output = output*1000\n",
    "\n",
    "    return(output)\n",
    "\n",
    "# test your function with 3.1 miles (should return 5)\n",
    "print(convert_miles(3.1))\n",
    "\n",
    "# test your function with 9.3 miles and the optional parameter to return meters (should return 15000)\n",
    "print(convert_miles(9.3, convert_to_meters = True))"
   ]
  },
  {
   "cell_type": "markdown",
   "id": "74ddc66b-a56d-4a0e-bff5-1ead5c999e36",
   "metadata": {},
   "source": [
    "### Functions with an indefinite number of arguments\n",
    "It is often handy to define functions that have an open ended number of arguments. There are two primary ways that this type of feature can be implemented.\n",
    "\n",
    "First, a function can allow for an open number of arguments to be read in as a tuple. To store the arguments as a tuple, use the single astericks syntax:"
   ]
  },
  {
   "cell_type": "code",
   "execution_count": 9,
   "id": "3c092721-4773-4340-8db8-54a35cb00a8e",
   "metadata": {},
   "outputs": [
    {
     "name": "stdout",
     "output_type": "stream",
     "text": [
      "<class 'tuple'>\n",
      "2.0\n"
     ]
    }
   ],
   "source": [
    "# define a function that calculates the average of an indefinite set of numbers\n",
    "def average(*numbers):\n",
    "\n",
    "    # print the type of numbers\n",
    "    print(type(numbers))\n",
    "\n",
    "    # write code to compute the average\n",
    "    sum = 0\n",
    "    counter = 0\n",
    "    for number in numbers:\n",
    "        sum += number\n",
    "        counter += 1\n",
    "    return(sum/counter)\n",
    "\n",
    "# test your function with a set of numbers\n",
    "print(average(1,2,3))"
   ]
  },
  {
   "cell_type": "markdown",
   "id": "21837cd5-6f34-41d3-bdb7-4a0807e35bd1",
   "metadata": {},
   "source": [
    "Alternatively, a function can be used to take in a set of arguments and store them in a dictionary. The syntax is similar except that two astericks symbols are used:"
   ]
  },
  {
   "cell_type": "code",
   "execution_count": 10,
   "id": "0240e349-5f01-469b-a277-1f838f95081d",
   "metadata": {},
   "outputs": [
    {
     "name": "stdout",
     "output_type": "stream",
     "text": [
      "{'C': 1, 'O': 2}\n",
      "<class 'dict'>\n",
      "43.99\n"
     ]
    }
   ],
   "source": [
    "# define a function that will calulate the molecular mass of one mole of a given molecule\n",
    "# the function should take in a dictionary of the number of each atom in the molecule\n",
    "# for example, for molecule propane (C3H8), the function would be called as\n",
    "# molecule_mass(C=3, H=8) which would be read into the dictionary {'C':3, 'H':8}\n",
    "def molecule_mass(**atoms):\n",
    "\n",
    "    # define some atomic masses in a dictionary\n",
    "    masses = {'H':1.008,\n",
    "               'C':12.01,\n",
    "               'O':15.99}\n",
    "    \n",
    "    # print atoms and the type\n",
    "    print(atoms)\n",
    "    print(type(atoms))\n",
    "\n",
    "    # add the masses of each atom to the total mass\n",
    "    total_mass = 0\n",
    "    for atom in ['H','C','O']:\n",
    "        if atom in atoms:\n",
    "            total_mass += masses[atom]*atoms[atom]\n",
    "\n",
    "    return(total_mass)\n",
    "\n",
    "# calculate the mass of carbon dioxide (CO2)\n",
    "print(molecule_mass(C=1, O=2))"
   ]
  },
  {
   "cell_type": "markdown",
   "id": "b279a61c-4336-44b4-80a9-b28af99e8738",
   "metadata": {},
   "source": [
    "## Part 2: Local vs Global Variables\n",
    "Local variables are those which are defined inside of a function while global variables are those stored outside of a function. But when does the global variable space know about the local variables, and vice versa? Even more importantly, when can a function modify a global variable?"
   ]
  },
  {
   "cell_type": "markdown",
   "id": "2bc8d6e1-0322-4ad7-a14e-a627fa27c992",
   "metadata": {},
   "source": [
    "### Local Variables"
   ]
  },
  {
   "cell_type": "code",
   "execution_count": 11,
   "id": "e9fec74b-0544-44aa-9041-4269e64d845f",
   "metadata": {},
   "outputs": [
    {
     "name": "stdout",
     "output_type": "stream",
     "text": [
      "78.53750000000001\n"
     ]
    }
   ],
   "source": [
    "# write a function to calculate the area of a circle given its radius\n",
    "def circle_area(radius):\n",
    "    pi = 3.1415\n",
    "    area = pi*radius**2\n",
    "    return(area)\n",
    "\n",
    "# print the circle area\n",
    "print(circle_area(5))\n",
    "\n",
    "# print the variable pi - what happens?\n",
    "# print(pi)"
   ]
  },
  {
   "cell_type": "markdown",
   "id": "8b759bcf-4e62-45c9-8c83-f848d86ceda8",
   "metadata": {},
   "source": [
    "A local variable can be made accessible in the global namespace using the keyword `global`. Try this in the code above."
   ]
  },
  {
   "cell_type": "markdown",
   "id": "38a4ba40-98ab-4dc4-820e-f5181bd0e2b0",
   "metadata": {},
   "source": [
    "### Global Variables\n",
    "The code on the interior of functions knows about global variables.\n"
   ]
  },
  {
   "cell_type": "code",
   "execution_count": 12,
   "id": "6920ff0e-2ada-4c5c-9e8b-2b5fd15df8c7",
   "metadata": {},
   "outputs": [
    {
     "name": "stdout",
     "output_type": "stream",
     "text": [
      "78.53750000000001\n",
      "3.1415\n"
     ]
    }
   ],
   "source": [
    "# define the number pi with 4 decimal places\n",
    "pi = 3.1415\n",
    "\n",
    "# write a function to calculate the area of a circle given its radius\n",
    "def circle_area(radius):\n",
    "    area = pi*radius**2\n",
    "    return(area)\n",
    "\n",
    "# print the circle area\n",
    "print(circle_area(5))\n",
    "\n",
    "# print the variable pi - what happens?\n",
    "print(pi)"
   ]
  },
  {
   "cell_type": "markdown",
   "id": "866ab8ac-174e-47d5-99c1-d856d83b5a7c",
   "metadata": {},
   "source": [
    "However, a function cannot modify a global variable - try to change the value of pi inside the function above. What happens?"
   ]
  },
  {
   "cell_type": "code",
   "execution_count": 13,
   "id": "b68b4de8-4ffe-451a-95eb-7323961c31a9",
   "metadata": {},
   "outputs": [
    {
     "name": "stdout",
     "output_type": "stream",
     "text": [
      "CS ['122', '123', '146']\n",
      "CS ['122', '123', '101']\n"
     ]
    }
   ],
   "source": [
    "# define a string for department and a list of strings for classes\n",
    "department = 'CS'\n",
    "classes = ['122','123','146']\n",
    "\n",
    "# print the deparment and classes\n",
    "print(department, classes)\n",
    "\n",
    "# define a function to change the department and classes\n",
    "def change_schedule(dept, class_list):\n",
    "    dept = 'Math'\n",
    "    class_list.pop(-1)\n",
    "    class_list.append('101')\n",
    "\n",
    "# call the function\n",
    "change_schedule(department, classes)\n",
    "\n",
    "# print the deparment and classes again - how do they differ?\n",
    "print(department, classes)"
   ]
  },
  {
   "cell_type": "markdown",
   "id": "946fbbb0-75bf-4910-a2c1-ad6e6b3e6da3",
   "metadata": {},
   "source": [
    "&#x2757; Caution! Be careful about the naming of variables inside and outside your functions. If you do not intend for your function to change your global variables, be sure to make copies or otherwise ensure you are not operating on the global object."
   ]
  },
  {
   "cell_type": "markdown",
   "id": "eb8b3c32-1590-4a7f-a2c7-ec00cad661a5",
   "metadata": {},
   "source": [
    "## Part 3: Doc Strings\n",
    "\n",
    "It is good practice to document your functions with \"doc strings\". Doc strings are encapsulated with triple quotes at the top of the function body. When formatted correctly the `help` method can print the description. In addition, the doc strings can be used to automatically format a ReadTheDocs page when code is published online."
   ]
  },
  {
   "cell_type": "code",
   "execution_count": 14,
   "id": "26a14078-5dbc-466f-96f1-93f00b980064",
   "metadata": {},
   "outputs": [],
   "source": [
    "# write a function to calculate the area of a circle given its radius\n",
    "# add a doc string note to the function\n",
    "def circle_area(radius):\n",
    "    \"\"\"\n",
    "    Function to calculate the area of a circle given its radius\n",
    "    \"\"\"\n",
    "    area = pi*radius**2\n",
    "    return(area)"
   ]
  },
  {
   "cell_type": "code",
   "execution_count": 15,
   "id": "f7702991-fa55-4e44-ad9a-8fe652c38704",
   "metadata": {},
   "outputs": [
    {
     "name": "stdout",
     "output_type": "stream",
     "text": [
      "Help on function circle_area in module __main__:\n",
      "\n",
      "circle_area(radius)\n",
      "    Function to calculate the area of a circle given its radius\n",
      "\n"
     ]
    }
   ],
   "source": [
    "help(circle_area)"
   ]
  },
  {
   "cell_type": "markdown",
   "id": "6fe9b3e1-a082-41b1-a5a5-19e0bb5db33b",
   "metadata": {},
   "source": [
    "## Part 4: Lambda Functions\n",
    "The main way to define a function in Python uses the `def` keyword as shown above. However, if the function is a 1-line function designed to be used on the fly, it can be declared as a `lambda` function."
   ]
  },
  {
   "cell_type": "code",
   "execution_count": 16,
   "id": "faa195a9-4edf-4272-80b1-4b6c8b8cc658",
   "metadata": {},
   "outputs": [
    {
     "name": "stdout",
     "output_type": "stream",
     "text": [
      "3.0\n"
     ]
    }
   ],
   "source": [
    "# define a function called sqrt that returns the square root of x\n",
    "def sqrt(x):\n",
    "    return x**0.5\n",
    "\n",
    "# use the function to print the square root of 9\n",
    "print(sqrt(9))"
   ]
  },
  {
   "cell_type": "code",
   "execution_count": 17,
   "id": "6d6f5afa-b07b-41e7-bbb3-2d64310721cb",
   "metadata": {},
   "outputs": [
    {
     "name": "stdout",
     "output_type": "stream",
     "text": [
      "3.0\n"
     ]
    }
   ],
   "source": [
    "# define a function called sqrt_lambda that defines the square root function\n",
    "# using the lambda notation\n",
    "sqrt_lambda = lambda x : x**0.5\n",
    "\n",
    "# use the function to print the square root of 9\n",
    "print(sqrt_lambda(9))"
   ]
  },
  {
   "cell_type": "markdown",
   "id": "37d922fb-371b-4a9e-a6b4-06a73ee24c16",
   "metadata": {},
   "source": [
    "Lambda functions are get their name from \"Lambda Calculus\" - a system of mathematical logic based on function abstraction."
   ]
  },
  {
   "cell_type": "markdown",
   "id": "2d048f6f-73c8-4c3a-a757-59802878bbff",
   "metadata": {},
   "source": [
    "### `lambda` Example: Indices of a sorted list\n",
    "\n",
    "One way that `lambda` functions are useful is when providing a sorting key. First, explore the `sorted` function with an intuitive example"
   ]
  },
  {
   "cell_type": "code",
   "execution_count": 18,
   "id": "a82103c8-c4e5-412d-b5e4-ab96dc5720ab",
   "metadata": {},
   "outputs": [
    {
     "name": "stdout",
     "output_type": "stream",
     "text": [
      "[-7, -3, 1, 2, 8]\n",
      "[1, 2, -3, -7, 8]\n"
     ]
    }
   ],
   "source": [
    "# define a list with 5 numbers\n",
    "my_list = [8,-3,-7,1,2]\n",
    "\n",
    "# sort the list with the values given\n",
    "print(sorted(my_list))\n",
    "\n",
    "# define a function to calculate the absolute value\n",
    "def abs_val(number):\n",
    "    if number<0:\n",
    "        number*=-1\n",
    "    return(number)\n",
    "\n",
    "# sort the list passing the key for the absolute value\n",
    "print(sorted(my_list, key = abs_val))"
   ]
  },
  {
   "cell_type": "markdown",
   "id": "8a8760ff-805f-4df0-9e4c-ef5a62cac7d8",
   "metadata": {},
   "source": [
    "A function can also be used to provide the indices of a sorted list."
   ]
  },
  {
   "cell_type": "code",
   "execution_count": 19,
   "id": "8c583126-d185-4954-a21e-6fe15466b492",
   "metadata": {},
   "outputs": [
    {
     "name": "stdout",
     "output_type": "stream",
     "text": [
      "Indices of sorted list:\n",
      "[2, 1, 3, 4, 0]\n",
      "The list:\n",
      "[8, -3, -7, 1, 2]\n"
     ]
    }
   ],
   "source": [
    "# define a function to return the \n",
    "def list_val(index):\n",
    "    return(my_list[index])\n",
    "\n",
    "# define a list of the indices\n",
    "indices = range(len(my_list))\n",
    "\n",
    "# print the indices of a sorted list\n",
    "print('Indices of sorted list:')\n",
    "print(sorted(indices, key = list_val))\n",
    "\n",
    "# print the list as a reminder\n",
    "print('The list:')\n",
    "print(my_list)"
   ]
  },
  {
   "cell_type": "markdown",
   "id": "f8e9f456-6961-407d-9a3e-105ee31fb09f",
   "metadata": {},
   "source": [
    "Alternatively, this function can be written with a `lambda` function as a one-liner as follows:"
   ]
  },
  {
   "cell_type": "code",
   "execution_count": 20,
   "id": "5668fc3b-1021-43e9-a2a5-f4cd9696ae7f",
   "metadata": {},
   "outputs": [
    {
     "name": "stdout",
     "output_type": "stream",
     "text": [
      "[2, 1, 3, 4, 0]\n"
     ]
    }
   ],
   "source": [
    "# calculate the indices with the lambda function\n",
    "indices = sorted(range(len(my_list)), key=lambda k: my_list[k])\n",
    "print(indices)"
   ]
  },
  {
   "cell_type": "markdown",
   "id": "b3d24d21-dd28-4ccd-92a0-2947822096e5",
   "metadata": {},
   "source": [
    "### &#x1F914; Mini-Exercise\n",
    "Goal: Use a `lambda` function inside Python's `map` function to quickly calculate the **sine** of a list of numbers.\n",
    "\n",
    "Python has a built-in function called `map` to quickly apply a function to a list of numbers. For example, consider the following code to calculate the square of a list of numbers:"
   ]
  },
  {
   "cell_type": "code",
   "execution_count": 21,
   "id": "3ca8ec47-670c-48d8-a08a-ca617ca20193",
   "metadata": {},
   "outputs": [
    {
     "name": "stdout",
     "output_type": "stream",
     "text": [
      "[1, 4, 9]\n"
     ]
    }
   ],
   "source": [
    "# define a squared function\n",
    "def squared(x):\n",
    "    return x**2\n",
    "\n",
    "# define a list of numbers\n",
    "numbers = [1,2,3]\n",
    "\n",
    "# calculate the square of the numbers\n",
    "print(list(map(squared, numbers)))"
   ]
  },
  {
   "cell_type": "markdown",
   "id": "4efbffca-aa2e-43b0-860a-994225aa423c",
   "metadata": {},
   "source": [
    "In the following code block, calculate the `sin` of the numbers -&pi;/2, 0, and &pi;/2. The sine of a number can be estimated with the first four terms of its Taylor expansion as:\n",
    "\n",
    "$$ sin(x) \\approx x - \\frac{x^3}{6} + \\frac{x^5}{120} - \\frac{x^7}{5040} $$\n",
    "\n",
    "You can estimate &pi; as 3.1415."
   ]
  },
  {
   "cell_type": "code",
   "execution_count": 22,
   "id": "7beab30a-17f3-44c9-ad9f-00bfe63737a4",
   "metadata": {},
   "outputs": [
    {
     "name": "stdout",
     "output_type": "stream",
     "text": [
      "[-0.9998431417619411, 0.0, 0.9998431417619411]\n"
     ]
    }
   ],
   "source": [
    "# create the list of values\n",
    "values = [-3.1415/2,0,3.1415/2]\n",
    "\n",
    "# calculate the sin of the values as described above\n",
    "print(list(map(lambda x: x - x**3/6 + x**5/120 - x**7/5040, values)))"
   ]
  }
 ],
 "metadata": {
  "kernelspec": {
   "display_name": "cs122",
   "language": "python",
   "name": "cs122"
  },
  "language_info": {
   "codemirror_mode": {
    "name": "ipython",
    "version": 3
   },
   "file_extension": ".py",
   "mimetype": "text/x-python",
   "name": "python",
   "nbconvert_exporter": "python",
   "pygments_lexer": "ipython3",
   "version": "3.10.12"
  }
 },
 "nbformat": 4,
 "nbformat_minor": 5
}