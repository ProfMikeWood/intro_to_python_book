{
 "cells": [
  {
   "cell_type": "markdown",
   "id": "49e61e1c",
   "metadata": {},
   "source": [
    "# Dictionaries"
   ]
  },
  {
   "cell_type": "markdown",
   "id": "0c3a7daa-0a0a-481c-974f-6acd970606db",
   "metadata": {},
   "source": [
    "Author: Mike Wood\n",
    "\n",
    "Learning Objectives:\n",
    "By the end of this notebook, you should be able to:\n",
    "1. Create and edit Python dictionaries\n",
    "2. Describe the types of items that can used as keys in a dictionary\n",
    "3. Call simple dictionary methods to modify dictionary contents"
   ]
  },
  {
   "cell_type": "markdown",
   "id": "0d4b0f71",
   "metadata": {},
   "source": [
    "## Creating and Editing Dictionaries"
   ]
  },
  {
   "cell_type": "markdown",
   "id": "acf1e5a8",
   "metadata": {},
   "source": [
    "Dictionaries are used as a \"look-up table\" that associate two sets of objects. The items or \"keys\" in a dictionary must be unique but the correspondence does not need to be one-to-one."
   ]
  },
  {
   "cell_type": "code",
   "execution_count": 1,
   "id": "58d5c54f",
   "metadata": {},
   "outputs": [],
   "source": [
    "# make a dictionary to reference integers to their string representations\n",
    "string_numbers = {1:\"one\", 2:\"two\", 3:\"three\"}"
   ]
  },
  {
   "cell_type": "markdown",
   "id": "df75076a",
   "metadata": {},
   "source": [
    "To access the value corresponding to a key in the dictionary, pass the key: "
   ]
  },
  {
   "cell_type": "code",
   "execution_count": 2,
   "id": "10231524",
   "metadata": {},
   "outputs": [
    {
     "data": {
      "text/plain": [
       "'two'"
      ]
     },
     "execution_count": 2,
     "metadata": {},
     "output_type": "execute_result"
    }
   ],
   "source": [
    "# get the string representation of the integer 2\n",
    "string_numbers[2]"
   ]
  },
  {
   "cell_type": "markdown",
   "id": "8546d5a5",
   "metadata": {},
   "source": [
    "We can access all of the look-up values with the `.keys()` method:"
   ]
  },
  {
   "cell_type": "code",
   "execution_count": 3,
   "id": "7db476bf",
   "metadata": {},
   "outputs": [
    {
     "data": {
      "text/plain": [
       "dict_keys([1, 2, 3])"
      ]
     },
     "execution_count": 3,
     "metadata": {},
     "output_type": "execute_result"
    }
   ],
   "source": [
    "# use the keys() method to access the dictionary keys\n",
    "string_numbers.keys()"
   ]
  },
  {
   "cell_type": "markdown",
   "id": "cb8096f9-7aa9-4245-88bd-0a3eec091f61",
   "metadata": {},
   "source": [
    "It's important to note that the keys aren't a list:"
   ]
  },
  {
   "cell_type": "code",
   "execution_count": 4,
   "id": "aae95910-ce40-4e29-9734-8cb4d3ea68b6",
   "metadata": {},
   "outputs": [
    {
     "name": "stdout",
     "output_type": "stream",
     "text": [
      "<class 'dict_keys'>\n"
     ]
    }
   ],
   "source": [
    "# check the type of the dict keys\n",
    "print(type(string_numbers.keys()))\n",
    "\n",
    "# try to access one of the keys using an index - what happens?\n",
    "# uncomment the following line to test this out\n",
    "# string_numbers.keys()[1]"
   ]
  },
  {
   "cell_type": "markdown",
   "id": "7b20e52f",
   "metadata": {},
   "source": [
    "Dictionaries are flexible and can be resized as needed. Editing a dictionary is similar to lists: dictionaries have a `pop` method for removing keys and keys can be (re-)assigned in a dictionary using the index notation:"
   ]
  },
  {
   "cell_type": "code",
   "execution_count": 5,
   "id": "a0b2f9ca",
   "metadata": {},
   "outputs": [
    {
     "name": "stdout",
     "output_type": "stream",
     "text": [
      "{1: 'one', 3: 'three', 4: 'four'}\n"
     ]
    }
   ],
   "source": [
    "# remove the 2:\"two\" key value pair using the pop method:\n",
    "string_numbers.pop(2)\n",
    "\n",
    "# add a 4:\"four\" key-value pair using index notation:\n",
    "string_numbers[4] = \"four\"\n",
    "\n",
    "# print my_dict\n",
    "print(string_numbers)"
   ]
  },
  {
   "cell_type": "markdown",
   "id": "b55f32f1-1522-4466-8c09-c7ddeb3235fe",
   "metadata": {},
   "source": [
    "### &#x1F914; Mini-Exercise\n",
    "Make a dictionary for the following names of classes:\n",
    "\n",
    "| Department Code | Course Number | Course Name       |\n",
    "| --------------- | ------------- | ----------------- |\n",
    "| MATH            | 123           | Advanced Calculus | \n",
    "| MATH            | 133           | Partial Differential Equations | \n",
    "| CS              | 123           | Bioinformatics    | \n",
    "| CS              | 133           | Introduction to Data Visualization | \n",
    "\n",
    "You should be able to pass a pair of values corresponding to the department code (str) and the course number (int) and the dictionary should return the course name."
   ]
  },
  {
   "cell_type": "markdown",
   "id": "75bc99ae",
   "metadata": {},
   "source": [
    "#### &#x1F4A1; Solution"
   ]
  },
  {
   "cell_type": "markdown",
   "id": "33c84ffb",
   "metadata": {},
   "source": [
    "One possible solution to this scenario is to use a [tuple](https://profmikewood.github.io/intro_to_python_book/python_basics/sequence-data.html#tuples) that contains a string for the department and an integer for the course number. Note that you cannot use a list for a dictionary key because lists are mutable and not hashable."
   ]
  },
  {
   "cell_type": "code",
   "execution_count": 6,
   "id": "5de2d9e5-8bd7-4af8-b17f-919f83394515",
   "metadata": {},
   "outputs": [
    {
     "data": {
      "text/plain": [
       "'Advanced Calculus'"
      ]
     },
     "execution_count": 6,
     "metadata": {},
     "output_type": "execute_result"
    }
   ],
   "source": [
    "# create your dictionary here\n",
    "course_dictionary = {('MATH',123): 'Advanced Calculus',\n",
    "                    ('MATH',133): 'Partial Differential Equations',\n",
    "                    ('CS',123): 'Bioinformatics',\n",
    "                    ('CS',133): 'Introduction to Data Visualization'}\n",
    "\n",
    "# test that your dictionary works\n",
    "course_dictionary[('MATH',123)]"
   ]
  },
  {
   "cell_type": "markdown",
   "id": "e8ef61db-70d6-4a4e-8c2e-3ec5d25bedff",
   "metadata": {},
   "source": [
    "## Common Dictionary Methods\n",
    "\n",
    "The following table lists some common dictionary methods:\n",
    "\n",
    "| Method\t| Description                                                            |\n",
    "| --------- | ---------------------------------------------------------------------- |\n",
    "| keys()    | Views all the keys in the dictionary                                   |\n",
    "| values()  | Views all the values in the dictionary                                 |\n",
    "| get()    \t| Returns the value of a key if it exists, otherwise returns a default   |\n",
    "| copy()    | Makes a copy of the dictionary                                         |\n",
    "| update()  | Updates the entries of a dictionary given those in a second dictionary |"
   ]
  },
  {
   "cell_type": "markdown",
   "id": "3d122a06-53d5-43e5-8f3f-744c702b49bd",
   "metadata": {},
   "source": [
    "### Using `get` rather than a key explicitly\n",
    "The `get` method provides us a little bit of flexibility in retrieving values from a dictionary. Let's take a look at an example:"
   ]
  },
  {
   "cell_type": "code",
   "execution_count": 7,
   "id": "346f6bcd-abe9-4876-9e2a-22317d9deae4",
   "metadata": {},
   "outputs": [
    {
     "name": "stdout",
     "output_type": "stream",
     "text": [
      "Mike\n",
      "Mike\n",
      "\n"
     ]
    }
   ],
   "source": [
    "# define a dictionary with two entries\n",
    "name_dict = {'first name':'Mike', 'last name':'Wood'}\n",
    "\n",
    "# the get method works the same as acessing with a key as long\n",
    "# as the entry is in the dict\n",
    "print(name_dict['first name'])\n",
    "print(name_dict.get('first name', ''))\n",
    "\n",
    "# but it is beneficial to use in case the entry cannot be found\n",
    "print(name_dict.get('middle name', ''))\n",
    "# uncomment the following line to see what happens when\n",
    "# a key is not in the dictionary\n",
    "# print(name_dict['middle name'])"
   ]
  },
  {
   "cell_type": "markdown",
   "id": "a84b4bc8-a0bc-4ac2-a2ed-fe4d77de3992",
   "metadata": {},
   "source": [
    "## Combining Dictionaries\n",
    "Dictionaries can be combined using a union (with the pipe symbol `|`) or in place."
   ]
  },
  {
   "cell_type": "code",
   "execution_count": 8,
   "id": "18430f61-dcb0-4133-825a-4928221c96c0",
   "metadata": {},
   "outputs": [
    {
     "name": "stdout",
     "output_type": "stream",
     "text": [
      "{'a': 'A', 'b': 'B'}\n",
      "{'a': 'A'}\n",
      "{'a': 'A', 'b': 'B'}\n"
     ]
    }
   ],
   "source": [
    "# As of Python 3.9, the union operator can be used to join two dictionaries\n",
    "dict_A = {'a': 'A'}\n",
    "dict_B = {'b': 'B'}\n",
    "dict_C = dict_A | dict_B\n",
    "print(dict_C)\n",
    "\n",
    "# However, this does not change the dictionary contents\n",
    "print(dict_A)\n",
    "\n",
    "# If you want to join in place, use the update method\n",
    "dict_A.update(dict_B)\n",
    "print(dict_A)"
   ]
  },
  {
   "cell_type": "markdown",
   "id": "7f966cba",
   "metadata": {},
   "source": [
    "### &#x2757; Syntax Warning\n",
    "Python uses the same syntax for sets and dictionaries -- the curly braces `{}`. The only difference is that dictionary entries are included in pairs separated by colons while sets have entries like a list.\n",
    "\n",
    "For example, suppose you intended to make a dictionary of numbers but accidentally forgot the colons i.e."
   ]
  },
  {
   "cell_type": "code",
   "execution_count": 9,
   "id": "a9c3e149",
   "metadata": {},
   "outputs": [],
   "source": [
    "# example of an error in creating a dictionary - it's actually a set!\n",
    "my_dict = {1, 'one', 2, 'two'}"
   ]
  },
  {
   "cell_type": "markdown",
   "id": "8fb267bb",
   "metadata": {},
   "source": [
    "Then, later in your code, you try to access a key-value pair, i.e."
   ]
  },
  {
   "cell_type": "code",
   "execution_count": 10,
   "id": "782ab40a",
   "metadata": {},
   "outputs": [
    {
     "ename": "AttributeError",
     "evalue": "'set' object has no attribute 'get'",
     "output_type": "error",
     "traceback": [
      "\u001b[0;31m---------------------------------------------------------------------------\u001b[0m",
      "\u001b[0;31mAttributeError\u001b[0m                            Traceback (most recent call last)",
      "Cell \u001b[0;32mIn[10], line 2\u001b[0m\n\u001b[1;32m      1\u001b[0m \u001b[38;5;66;03m# get the value corresponding to 1\u001b[39;00m\n\u001b[0;32m----> 2\u001b[0m \u001b[43mmy_dict\u001b[49m\u001b[38;5;241;43m.\u001b[39;49m\u001b[43mget\u001b[49m(\u001b[38;5;241m1\u001b[39m)\n",
      "\u001b[0;31mAttributeError\u001b[0m: 'set' object has no attribute 'get'"
     ]
    }
   ],
   "source": [
    "# get the value corresponding to 1\n",
    "my_dict.get(1)"
   ]
  },
  {
   "cell_type": "markdown",
   "id": "b643e704",
   "metadata": {},
   "source": [
    "In this example, we might be confused about the error because we intended to create a dictionary and clearly 1 is included in `my_dict`. However, we actually made a [set](https://profmikewood.github.io/intro_to_python_book/python_basics/sequence-data.html#sets)! Hopefully this small example helps in interpreting and/or avoiding this code in your work."
   ]
  }
 ],
 "metadata": {
  "kernelspec": {
   "display_name": "teaching",
   "language": "python",
   "name": "teaching"
  },
  "language_info": {
   "codemirror_mode": {
    "name": "ipython",
    "version": 3
   },
   "file_extension": ".py",
   "mimetype": "text/x-python",
   "name": "python",
   "nbconvert_exporter": "python",
   "pygments_lexer": "ipython3",
   "version": "3.11.3"
  }
 },
 "nbformat": 4,
 "nbformat_minor": 5
}