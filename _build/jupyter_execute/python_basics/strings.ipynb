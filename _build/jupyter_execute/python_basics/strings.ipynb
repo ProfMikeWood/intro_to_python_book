{
 "cells": [
  {
   "cell_type": "markdown",
   "id": "49e61e1c",
   "metadata": {},
   "source": [
    "# Strings\n",
    "\n",
    "Author: Mike Wood\n",
    "\n",
    "Learning Outcomes:\n",
    "By the end of this notebook, you should be able to:\n",
    "1. Declare strings and access string chracters by their indices\n",
    "2. Maniputate strings with built-in string methods\n",
    "3. Format numbers as strings with specified round-off and/or padding"
   ]
  },
  {
   "cell_type": "markdown",
   "id": "04e2c288",
   "metadata": {},
   "source": [
    "## Declaring Strings\n",
    "Strings are declared in Python using either double quotes or single quotes - and it doesn't matter which! All that matters is that they are opened and closed with the same quote type."
   ]
  },
  {
   "cell_type": "code",
   "execution_count": 1,
   "id": "38f5e3b6",
   "metadata": {},
   "outputs": [
    {
     "name": "stdout",
     "output_type": "stream",
     "text": [
      "Mike Wood\n"
     ]
    }
   ],
   "source": [
    "# create a string enclosed in single quotes\n",
    "first_name = 'Mike'\n",
    "\n",
    "# create a string enclosed in double quotes\n",
    "last_name = \"Wood\"\n",
    "\n",
    "print(first_name, last_name)"
   ]
  },
  {
   "cell_type": "markdown",
   "id": "79fe7db1",
   "metadata": {},
   "source": [
    "Strings can be concatenated using the `+` operator:"
   ]
  },
  {
   "cell_type": "code",
   "execution_count": 2,
   "id": "6f3813dc",
   "metadata": {},
   "outputs": [
    {
     "name": "stdout",
     "output_type": "stream",
     "text": [
      "Mike Wood\n"
     ]
    }
   ],
   "source": [
    "# concatenate the two strings above along with a space in between\n",
    "print(first_name + ' ' + last_name)"
   ]
  },
  {
   "cell_type": "markdown",
   "id": "df80d155",
   "metadata": {},
   "source": [
    "Unlike some other programming languages, Python data elements do not have an implicit toString() method. In other words, you must convert an object of a different type to a string before concatenation. Try it for your self:"
   ]
  },
  {
   "cell_type": "code",
   "execution_count": 3,
   "id": "a496c037",
   "metadata": {},
   "outputs": [],
   "source": [
    "# try to concatenate an integer to one of the strings defined above\n",
    "# print(first_name + 1)\n",
    "# what happens? how can you alleviate this error?"
   ]
  },
  {
   "cell_type": "markdown",
   "id": "cc019f0c",
   "metadata": {},
   "source": [
    "We can convert other objects to strings simply by wrapping them in `str`:"
   ]
  },
  {
   "cell_type": "code",
   "execution_count": 4,
   "id": "e89fb349",
   "metadata": {},
   "outputs": [
    {
     "name": "stdout",
     "output_type": "stream",
     "text": [
      "Mike1\n"
     ]
    }
   ],
   "source": [
    "print(first_name + str(1))"
   ]
  },
  {
   "cell_type": "markdown",
   "id": "87985de8",
   "metadata": {},
   "source": [
    "Just like lists, tuples, and sets, the character(s) at a given location(s) in a string can be accessed using square brackets:"
   ]
  },
  {
   "cell_type": "code",
   "execution_count": 5,
   "id": "e47f67f6",
   "metadata": {},
   "outputs": [
    {
     "name": "stdout",
     "output_type": "stream",
     "text": [
      "The first letter of Mike is M.\n"
     ]
    }
   ],
   "source": [
    "# print the first letter of one of the words above\n",
    "print('The first letter of ' + first_name +' is '+first_name[0]+'.')"
   ]
  },
  {
   "cell_type": "markdown",
   "id": "e36c4f5b",
   "metadata": {},
   "source": [
    "Similarly, a subset of a string can be accessed in a similar way as for lists:"
   ]
  },
  {
   "cell_type": "code",
   "execution_count": 6,
   "id": "153e208d",
   "metadata": {},
   "outputs": [
    {
     "name": "stdout",
     "output_type": "stream",
     "text": [
      "The second and third letters of Mike are ik.\n"
     ]
    }
   ],
   "source": [
    "# print the second and third letters of one of the words aboe\n",
    "print('The second and third letters of '+first_name+' are '+first_name[1:3]+'.')"
   ]
  },
  {
   "cell_type": "markdown",
   "id": "52d71573",
   "metadata": {},
   "source": [
    "## Manipulating Strings\n",
    "Beyond concatenation and accessing elements in a string, Python has many built-in methods for manipulating strings. The following table lists some of the common methods:\n",
    "| Method\t| Description                                                     |\n",
    "| --------- | --------------------------------------------------------------- |\n",
    "| split()   | Divides a string into a list of substrings with a given string  |\n",
    "| join()    | Concatenates a list of strings into a single string using a specified character            |\n",
    "| strip()\t| Removes the whitespace on the left and right of a string        |\n",
    "| count()   | Returns the number of substrings with the given value           |\n",
    "| find()    | Rturns the index of the first occurances of the given substring |\n",
    "| replace() | Replaces each instance of a substring with a given substring    |\n",
    "| upper()   | Converts lowercase characters to uppercase characters           |\n",
    "| lower()   | Converts uppercase characters to lowercase characters           |"
   ]
  },
  {
   "cell_type": "markdown",
   "id": "70aa6205",
   "metadata": {},
   "source": [
    "### Splitting and joining\n",
    "Often, it is helpful to split a string into a list, make some edits and then rejoin the string. The `split` and `join` methods have different approaches to syntax. The split method operates on the string and takes a substring as an argument as:\n",
    "```\n",
    "string.split(<substring>)\n",
    "```\n",
    "Conversely, the join method operates on the substring and takes a list of strings as an argument:\n",
    "```\n",
    "<substring>.join(list)\n",
    "```\n",
    "For example, consider a string divided across three lines that you would like to join into a single line:"
   ]
  },
  {
   "cell_type": "code",
   "execution_count": 7,
   "id": "7b532209",
   "metadata": {},
   "outputs": [
    {
     "name": "stdout",
     "output_type": "stream",
     "text": [
      "This string is\n",
      "split across three\n",
      "different lines.\n",
      " \n",
      "['This string is', 'split across three', 'different lines.']\n",
      " \n",
      "This string is split across three different lines.\n",
      " \n"
     ]
    }
   ],
   "source": [
    "# define a string written across three lines\n",
    "three_line_str = 'This string is\\nsplit across three\\ndifferent lines.'\n",
    "print(three_line_str)\n",
    "print(' ')\n",
    "\n",
    "# split the string at the line breaks\n",
    "three_line_str = three_line_str.split('\\n')\n",
    "\n",
    "# print the resultant list from the previous command with an extra space\n",
    "print(three_line_str)\n",
    "print(' ')\n",
    "\n",
    "# rejoin the string with spaces\n",
    "three_line_str = ' '.join(three_line_str)\n",
    "\n",
    "# print the resultant list from the previous command with an extra space\n",
    "print(three_line_str)\n",
    "print(' ')"
   ]
  },
  {
   "cell_type": "markdown",
   "id": "1963b188",
   "metadata": {},
   "source": [
    "Most other string methods operate on the string itself (like the split command). For example:"
   ]
  },
  {
   "cell_type": "code",
   "execution_count": 8,
   "id": "0bce81a9",
   "metadata": {},
   "outputs": [
    {
     "name": "stdout",
     "output_type": "stream",
     "text": [
      "This string is no longer split across three different lines.\n"
     ]
    }
   ],
   "source": [
    "# replace the string 'split' with 'no longer split' in the\n",
    "# string resaulting from the previous cell\n",
    "one_line_str = three_line_str.replace('split','no longer split')\n",
    "print(one_line_str)"
   ]
  },
  {
   "cell_type": "markdown",
   "id": "a3244e57",
   "metadata": {},
   "source": [
    "#### &#x1F914; Mini-Exercise\n",
    "Goal: Convert the tab-delimited line to a comma-delimited line that could be opened in Excel. For example, consider the following tab-delimited string:"
   ]
  },
  {
   "cell_type": "code",
   "execution_count": 9,
   "id": "56caa371",
   "metadata": {},
   "outputs": [
    {
     "name": "stdout",
     "output_type": "stream",
     "text": [
      "City, State\tPopulation\n",
      "Manhatten, NY\t1,000,000\n",
      "San Jose, CA\t1,000,000\n"
     ]
    }
   ],
   "source": [
    "tab_line = 'City, State\\tPopulation\\nManhatten, NY\\t1,000,000\\nSan Jose, CA\\t1,000,000'\n",
    "print(tab_line)"
   ]
  },
  {
   "cell_type": "markdown",
   "id": "97e9d223",
   "metadata": {},
   "source": [
    "As we can see above, the `\\t` characters are tabs that organized the data in columns. In a csv file, columns are separated by columns - and this creates an issue with the values in the columns also have commas. To distinguish each column, we can split the line at the tabs, \"wrap\" each item in double quotes, and then join back to a single string. The double quotes will ensure proper formatting in Excel. Edit the tab line above so your output looks as follows:\n",
    "```\n",
    "\"City, State\",\"Population\"\n",
    "\"Manhatten, NY\",\"1,000,000\"\n",
    "\"San Jose, CA\",\"1,000,000\"\n",
    "```"
   ]
  },
  {
   "cell_type": "code",
   "execution_count": 10,
   "id": "b38c8e48",
   "metadata": {},
   "outputs": [
    {
     "name": "stdout",
     "output_type": "stream",
     "text": [
      "City, State\tPopulation\n",
      "Manhatten, NY\t1,000,000\n",
      "San Jose, CA\t1,000,000\n",
      " \n",
      "['City, State', 'Population\\nManhatten, NY', '1,000,000\\nSan Jose, CA', '1,000,000']\n",
      "['\"City, State\"', '\"Population\\nManhatten, NY\"', '\"1,000,000\\nSan Jose, CA\"', '\"1,000,000\"']\n",
      " \n",
      "\"City, State\",\"Population\n",
      "Manhatten, NY\",\"1,000,000\n",
      "San Jose, CA\",\"1,000,000\"\n",
      " \n",
      "\"City, State\",\"Population\"\n",
      "\"Manhatten, NY\",\"1,000,000\"\n",
      "\"San Jose, CA\",\"1,000,000\"\n"
     ]
    }
   ],
   "source": [
    "# a tab delimited file is separated by tabs (\\t)\n",
    "tab_line = 'City, State\\tPopulation\\nManhatten, NY\\t1,000,000\\nSan Jose, CA\\t1,000,000'\n",
    "print(tab_line)\n",
    "print(' ')\n",
    "\n",
    "# split the string by tabs\n",
    "tab_line = tab_line.split('\\t')\n",
    "print(tab_line)\n",
    "\n",
    "# for each substring, add double quotes to the string on each end\n",
    "# you can access each of the 4 substrings individually\n",
    "tab_line[0] = '\"'+tab_line[0]+'\"'\n",
    "tab_line[1] = '\"'+tab_line[1]+'\"'\n",
    "tab_line[2] = '\"'+tab_line[2]+'\"'\n",
    "tab_line[3] = '\"'+tab_line[3]+'\"'\n",
    "print(tab_line)\n",
    "print(' ')\n",
    "\n",
    "# join the substring using commas\n",
    "tab_line = ','.join(tab_line)\n",
    "print(tab_line)\n",
    "print(' ')\n",
    "\n",
    "# wrap the next line escape characters with double quotes so each\n",
    "# line starts and ends with a double quote\n",
    "tab_line = tab_line.replace('\\n','\"\\n\"')\n",
    "print(tab_line)\n"
   ]
  },
  {
   "cell_type": "markdown",
   "id": "5d72f56d",
   "metadata": {},
   "source": [
    "## Formatting Numbers as Strings\n",
    "### Floats with decimal places"
   ]
  },
  {
   "cell_type": "markdown",
   "id": "f2334d7a",
   "metadata": {},
   "source": [
    "Often, it is desireable to format numbers with strings. For example, Python, like all programming languages, is susceptible to round off errors:"
   ]
  },
  {
   "cell_type": "code",
   "execution_count": 11,
   "id": "fa9a4d57",
   "metadata": {},
   "outputs": [
    {
     "name": "stdout",
     "output_type": "stream",
     "text": [
      "2.9999999999999996\n"
     ]
    }
   ],
   "source": [
    "squared_square_root = (3**0.5)**2\n",
    "print(squared_square_root)"
   ]
  },
  {
   "cell_type": "markdown",
   "id": "4f9f3f43",
   "metadata": {},
   "source": [
    "To format float-type numbers with a prescribed number of decimal points, we can use a formatting notation similar to that in other C-type languages:\n",
    "```\n",
    "'{:.Xf}'.format(number)\n",
    "```\n",
    "In this approach, the X indicates the desired number of decimal points. For example:"
   ]
  },
  {
   "cell_type": "code",
   "execution_count": 12,
   "id": "89a38f7b",
   "metadata": {},
   "outputs": [
    {
     "name": "stdout",
     "output_type": "stream",
     "text": [
      "If we take the square root of 3 and then square it, we get 3.0\n"
     ]
    }
   ],
   "source": [
    "# format the result above with 1 decimal place\n",
    "print('If we take the square root of 3 and then square it, we get '+\n",
    "      '{:.1f}'.format(squared_square_root))"
   ]
  },
  {
   "cell_type": "markdown",
   "id": "4b1e9b34",
   "metadata": {},
   "source": [
    "### Padding Integers\n",
    "When formatting integers as text, its often desireable to align numbers to easily compare values.\n",
    "\n",
    "For example, conside the following numbers:"
   ]
  },
  {
   "cell_type": "code",
   "execution_count": 13,
   "id": "af04f8cd",
   "metadata": {},
   "outputs": [
    {
     "name": "stdout",
     "output_type": "stream",
     "text": [
      "5\n",
      "1754\n",
      "20\n",
      "5467890\n",
      "90724\n"
     ]
    }
   ],
   "source": [
    "print(5)\n",
    "print(1754)\n",
    "print(20)\n",
    "print(5467890)\n",
    "print(90724)"
   ]
  },
  {
   "cell_type": "markdown",
   "id": "e1933fe3",
   "metadata": {},
   "source": [
    "It is easier to compare the magnitude of each values when they are padded with spaces. Here, let's pad each number with 7 spaces:"
   ]
  },
  {
   "cell_type": "code",
   "execution_count": 14,
   "id": "96c40f0b",
   "metadata": {},
   "outputs": [
    {
     "name": "stdout",
     "output_type": "stream",
     "text": [
      "      5\n",
      "   1754\n",
      "     20\n",
      "5467890\n",
      "  90724\n"
     ]
    }
   ],
   "source": [
    "# pad the integers above with 7 decimal places\n",
    "print('{:7d}'.format(5))\n",
    "print('{:7d}'.format(1754))\n",
    "print('{:7d}'.format(20))\n",
    "print('{:7d}'.format(5467890))\n",
    "print('{:7d}'.format(90724))"
   ]
  },
  {
   "cell_type": "markdown",
   "id": "d8ed77c6",
   "metadata": {},
   "source": [
    "#### &#x1F914; Mini-Exercise\n",
    "Goal: Use the format method to write the following list of numbers padded with room for 20 total digits and 5 digits after the decimal place.\n",
    "```\n",
    "5.2\n",
    "1754.567\n",
    "20.43\n",
    "5467890.121\n",
    "90724.6\n",
    "```\n",
    "\n",
    "To format float values, we use the syntax `'{:N.Mf}'.format(float_value)` where `N` is the total number of digits and `M` is the total number of decimal places. You output should show the numbers above aligned at their decimal places."
   ]
  },
  {
   "cell_type": "code",
   "execution_count": 15,
   "id": "f213ac1e",
   "metadata": {},
   "outputs": [
    {
     "name": "stdout",
     "output_type": "stream",
     "text": [
      "              5.2000\n",
      "           1754.5670\n",
      "             20.4300\n",
      "        5467890.1210\n",
      "          90724.6000\n"
     ]
    }
   ],
   "source": [
    "# enter code here\n",
    "print('{:20.4f}'.format(5.2))\n",
    "print('{:20.4f}'.format(1754.567))\n",
    "print('{:20.4f}'.format(20.43))\n",
    "print('{:20.4f}'.format(5467890.121))\n",
    "print('{:20.4f}'.format(90724.6))"
   ]
  }
 ],
 "metadata": {
  "kernelspec": {
   "display_name": "cs122",
   "language": "python",
   "name": "python3"
  },
  "language_info": {
   "codemirror_mode": {
    "name": "ipython",
    "version": 3
   },
   "file_extension": ".py",
   "mimetype": "text/x-python",
   "name": "python",
   "nbconvert_exporter": "python",
   "pygments_lexer": "ipython3",
   "version": "3.11.3"
  }
 },
 "nbformat": 4,
 "nbformat_minor": 5
}