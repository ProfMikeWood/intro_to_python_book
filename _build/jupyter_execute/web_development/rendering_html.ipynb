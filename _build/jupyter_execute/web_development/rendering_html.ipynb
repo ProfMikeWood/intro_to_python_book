{
 "cells": [
  {
   "cell_type": "markdown",
   "id": "73ef0815",
   "metadata": {},
   "source": [
    "# Rendering HTML"
   ]
  },
  {
   "cell_type": "markdown",
   "id": "9c7c86bd-3fdf-4a44-9a4e-1ca9e83966db",
   "metadata": {},
   "source": [
    "Author: Mike Wood\n",
    "\n",
    "Learning Objectives: By the end of this notebook, you should be able to:\n",
    "1. Render"
   ]
  },
  {
   "attachments": {},
   "cell_type": "markdown",
   "id": "9a17b761-4e84-495e-a2a0-078566ca0671",
   "metadata": {},
   "source": [
    "The appearance of webpages is controlled using HTML. Using flask, we can render HTML pages directly using the `render_template` function. HTML pages need to be stored in a directory called “templates”. Similarly, files to be used for the web page, such as images, need to be stored in a “static” directory"
   ]
  },
  {
   "cell_type": "markdown",
   "id": "737842a2-2424-470d-9353-530ffaa0312d",
   "metadata": {},
   "source": [
    "## Rendering HTML\n",
    "\n",
    "Let's look at a simple example:\n",
    "\n",
    "```\n",
    "# import the Flask class from the flask module\n",
    "from flask import Flask\n",
    "\n",
    "# import the render_template function\n",
    "from flask import render_template\n",
    "\n",
    "# create a Flask object called app\n",
    "app = Flask(__name__)\n",
    "\n",
    "# define a route to the home page\n",
    "# create a template_display function\n",
    "@app.route(\"/\")\n",
    "@app.route(\"/home\")\n",
    "def template_display():\n",
    "    # render the template_example.html script\n",
    "    return render_template('template_example.html')\n",
    "```\n",
    "\n",
    "As we can see, the `render_template` function is called to show the page as described in the `template_example.html` file. It's important to note that the this script is organized with subdirectories for `static` and `template` as follows:\n",
    "\n",
    "```\n",
    "template_display\n",
    "|-static\n",
    "    |-cool_python_image.png\n",
    "|-template_display.py\n",
    "|-templates\n",
    "    |-template_example.html\n",
    "```"
   ]
  },
  {
   "cell_type": "markdown",
   "id": "f64f2097-6715-4cb8-9f05-0c793499b0c8",
   "metadata": {},
   "source": [
    "To run this app, we be sure to update your environment variables and then run the application:\n",
    "\n",
    "```\n",
    "export FLASK_APP=hey_there.py\n",
    "set FLASK_APP=hey_there.py\n",
    "flask run\n",
    "```"
   ]
  },
  {
   "cell_type": "markdown",
   "id": "bf9375b9-de70-4224-8854-7ff2da163cf2",
   "metadata": {},
   "source": [
    "If successful, your page should show the `cool_python_image.png` image with a header according to the `template_example.html` as shown here:\n",
    "\n",
    "```\n",
    "<!doctype html>\n",
    "<html>\n",
    "\n",
    "<!--This is the header of the html script-->\n",
    "<head>\n",
    "\n",
    "<!--Add a title to this html script-->\n",
    "<title>Template Example</title>\n",
    "\n",
    "<!--Add a description to this html script-->\n",
    "<meta name=\"description\" content=\"A page to display an HTML template\">\n",
    "\n",
    "</head>\n",
    "\n",
    "\n",
    "<!--This is the body of the html script-->\n",
    "<body>\n",
    "\n",
    "<!--Add text for a title on the image-->\n",
    "Here is a cool Python logo:<br>\n",
    "\n",
    "<!--Add an image-->\n",
    "<img src=\"/static/cool_python_logo.png\" alt=\"A Cool Python Logo\">\n",
    "</body>\n",
    "\n",
    "\n",
    "</html>\n",
    "```"
   ]
  },
  {
   "cell_type": "markdown",
   "id": "4850f53e-be0c-4641-890f-6f516240f873",
   "metadata": {},
   "source": [
    "An example output of this page is shown [HERE](https://profmikewood.github.io/intro_to_python_book/web_development/html_examples/template_example.html)"
   ]
  },
  {
   "cell_type": "markdown",
   "id": "02f9cad2-2e77-435f-95c2-54397cd34ea6",
   "metadata": {},
   "source": [
    "## Using External Sources"
   ]
  },
  {
   "cell_type": "markdown",
   "id": "b76e0dda-3461-4ceb-9a5a-27b5c4b84ea4",
   "metadata": {},
   "source": [
    "Checkout an example [HERE](https://profmikewood.github.io/intro_to_python_book/web_development/html_examples/map_esri.html)"
   ]
  },
  {
   "cell_type": "code",
   "execution_count": null,
   "id": "51109e6d-3886-41b9-9147-37692027c561",
   "metadata": {},
   "outputs": [],
   "source": []
  }
 ],
 "metadata": {
  "kernelspec": {
   "display_name": "teaching",
   "language": "python",
   "name": "teaching"
  },
  "language_info": {
   "codemirror_mode": {
    "name": "ipython",
    "version": 3
   },
   "file_extension": ".py",
   "mimetype": "text/x-python",
   "name": "python",
   "nbconvert_exporter": "python",
   "pygments_lexer": "ipython3",
   "version": "3.11.3"
  }
 },
 "nbformat": 4,
 "nbformat_minor": 5
}