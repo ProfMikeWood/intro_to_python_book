{
 "cells": [
  {
   "cell_type": "markdown",
   "id": "73ef0815",
   "metadata": {},
   "source": [
    "# Introduction to Flask"
   ]
  },
  {
   "cell_type": "markdown",
   "id": "9c7c86bd-3fdf-4a44-9a4e-1ca9e83966db",
   "metadata": {},
   "source": [
    "Author: Mike Wood\n",
    "\n",
    "Learning Objectives: By the end of this notebook, you should be able to:\n",
    "1. Write a simple flask script to create a web page\n",
    "2. Set Flask environment variables and host a local web serve"
   ]
  },
  {
   "cell_type": "markdown",
   "id": "9178e470-cf3b-408c-b367-c8d9c7162889",
   "metadata": {},
   "source": [
    "## What is Flask?\n",
    "\n",
    "Flask is a Python-based web framework designed to developing web applications. It is lightweight but has tools for building web applications such as templating and requests. We will take a look at some of these features in the following pages."
   ]
  },
  {
   "cell_type": "markdown",
   "id": "a9414e91-4ba3-4326-8d81-d664c3995ecd",
   "metadata": {},
   "source": [
    "## Installing Flask\n",
    "\n",
    "To install flask in your conda environment, you can use the standard `conda` installation:\n",
    "\n",
    "```\n",
    "conda install flask\n",
    "```"
   ]
  },
  {
   "cell_type": "markdown",
   "id": "024fce44-7a59-4e85-b2ba-fca2a135d02e",
   "metadata": {},
   "source": [
    "## A First Example\n",
    "\n",
    "Let's take a look at first example of a Flask application. The following application will generate a simple page with a little bit of text, akin to a \"Hello World\" application:\n",
    "\n",
    "```\n",
    "# import the Flask class from the flask module\n",
    "from flask import Flask\n",
    "\n",
    "# create a Flask object called app\n",
    "app = Flask(__name__)\n",
    "\n",
    "# define a route to the home page\n",
    "# create a hey_there function\n",
    "@app.route(\"/\")\n",
    "def hey_there():\n",
    "    return \"What's Up\"\n",
    "```"
   ]
  },
  {
   "cell_type": "markdown",
   "id": "21457acd-9cf4-4350-8e0b-64aa0a575a9e",
   "metadata": {},
   "source": [
    "As we can see in the code block above, we first make an app object with the `Flask` class:\n",
    "\n",
    "```\n",
    "app = Flask(__name__)\n",
    "```\n",
    "\n",
    "Next, we add pages to our app with a decorator for the route and a function for the functionality of the page:\n",
    "\n",
    "```\n",
    "@app.route(\"/\")\n",
    "def hey_there():\n",
    "    return \"What's Up\"\n",
    "```\n",
    "\n",
    "In this case, the string \"What's Up\" will just be added to the page."
   ]
  },
  {
   "cell_type": "markdown",
   "id": "c93df363-7bfc-4ae8-b997-f6798c775b2e",
   "metadata": {},
   "source": [
    "To run this application, we need to set up our application for use in a development environment. In a command line (with your conda environment activated), run the following lines:"
   ]
  },
  {
   "cell_type": "markdown",
   "id": "9e457f4c-ac33-4f7d-a4ea-b42285d8787c",
   "metadata": {},
   "source": [
    "```\n",
    "export FLASK_APP=hey_there.py\n",
    "set FLASK_APP=hey_there.py\n",
    "export FLASK_ENV=development\n",
    "set FLASK_DEBUG=True\n",
    "```"
   ]
  },
  {
   "attachments": {},
   "cell_type": "markdown",
   "id": "d583e9dd",
   "metadata": {},
   "source": [
    "If you are on Windows and using Powershell, you can set environment variables as follows:\n",
    "\n",
    "```\n",
    "$env:FLASK_APP = \"hey_there.py\"\n",
    "```"
   ]
  },
  {
   "cell_type": "markdown",
   "id": "7176bd82-8200-4d39-98a6-7374ec6802e0",
   "metadata": {},
   "source": [
    "As you can see, the `hey_there.py` script is explicitly linked in the environmental variables.\n",
    "\n",
    "Once you've set up these lines, the app is ready to run! From the command line, run\n",
    "\n",
    "```\n",
    "flask run\n",
    "```\n",
    "\n",
    "This will set up a local IP address like 127.0.0.1:5000 or something similar. You can navigate to the page in your favorite web browser to view your work. Your page will look like the example page [HERE](https://profmikewood.github.io/intro_to_python_book/web_development/html_examples/hey_there.html)"
   ]
  },
  {
   "cell_type": "markdown",
   "id": "361cb0a1-528a-4821-9c40-aed8d4e1f6c9",
   "metadata": {},
   "source": [
    "The steps above reflect the basic structure of a simple Flask app. Now that we've got the basic structure down, let's add some more functionality to our app."
   ]
  }
 ],
 "metadata": {
  "kernelspec": {
   "display_name": "teaching",
   "language": "python",
   "name": "teaching"
  },
  "language_info": {
   "codemirror_mode": {
    "name": "ipython",
    "version": 3
   },
   "file_extension": ".py",
   "mimetype": "text/x-python",
   "name": "python",
   "nbconvert_exporter": "python",
   "pygments_lexer": "ipython3",
   "version": "3.11.3"
  }
 },
 "nbformat": 4,
 "nbformat_minor": 5
}