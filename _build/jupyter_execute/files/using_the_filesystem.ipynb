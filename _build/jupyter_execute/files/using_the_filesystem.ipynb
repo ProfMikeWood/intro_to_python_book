{
 "cells": [
  {
   "cell_type": "markdown",
   "id": "49e61e1c",
   "metadata": {},
   "source": [
    "# Using the file system"
   ]
  },
  {
   "cell_type": "markdown",
   "id": "0c3a7daa-0a0a-481c-974f-6acd970606db",
   "metadata": {},
   "source": [
    "Learning Objectives:\n",
    "By the end of this notebook, you should be able to:\n",
    "1. Use the `os` module to write platform-independent scripts to access information about the file system\n",
    "2. Copy files using the `shutil` module\n",
    "3. Use the `glob` module to write Unix-type file search commands\n",
    "4. Use the `subprocess` module to run shell-script code from python"
   ]
  },
  {
   "cell_type": "markdown",
   "id": "f404e03e-ec21-4b42-a826-7e395d6e6c47",
   "metadata": {},
   "source": [
    "**Import Modules for this Notebook**\n",
    "\n",
    "In the notebook introducing [modules](https://profmikewood.github.io/intro_to_python_book/code_organization/modules.html), we imported modules as we needed them. However, it is good style to import all of the modules you need in your notebook (or other scripts) in one import block near the top of the file. For this notebook, we will use 4 modules:"
   ]
  },
  {
   "cell_type": "code",
   "execution_count": 1,
   "id": "eeff5eb6-80dc-4a7e-9f72-79f30aac49a3",
   "metadata": {},
   "outputs": [],
   "source": [
    "# import the os, shutil, glob, and subprocess modules\n",
    "import os\n",
    "import shutil\n",
    "import glob\n",
    "import subprocess"
   ]
  },
  {
   "cell_type": "markdown",
   "id": "0d4b0f71",
   "metadata": {},
   "source": [
    "## The `os` module and paths"
   ]
  },
  {
   "cell_type": "markdown",
   "id": "acf1e5a8",
   "metadata": {},
   "source": [
    "Python's built-in `os` module is a useful too to acccess information about the file system. Many of the `os` functions mimic common shell scripting commands but return python objects that can be used in Python code. Let's take a look at few examples:"
   ]
  },
  {
   "cell_type": "markdown",
   "id": "fd301475-5482-4912-ab71-73746f9450db",
   "metadata": {},
   "source": [
    "### The Current Working Directory"
   ]
  },
  {
   "cell_type": "code",
   "execution_count": 2,
   "id": "58d5c54f",
   "metadata": {},
   "outputs": [
    {
     "name": "stdout",
     "output_type": "stream",
     "text": [
      "/Users/mike/Documents/Teaching/Github/intro_to_python_book/files\n"
     ]
    }
   ],
   "source": [
    "# check your current working directory\n",
    "print(os.getcwd())"
   ]
  },
  {
   "cell_type": "markdown",
   "id": "ae447a9f-8f9e-4752-8662-16ab3a9d1c00",
   "metadata": {},
   "source": [
    "Questions:\n",
    "1. What kind of path is this (absolute or relative)?\n",
    "2. What is the equivalent command in your terminal?"
   ]
  },
  {
   "cell_type": "markdown",
   "id": "0e695386-5f42-4efe-af1f-6e5c90afc603",
   "metadata": {},
   "source": [
    "#### Contents of the Current Working Directory"
   ]
  },
  {
   "cell_type": "code",
   "execution_count": 3,
   "id": "e723ec62-082e-4110-85e7-4a3df89fe162",
   "metadata": {},
   "outputs": [
    {
     "name": "stdout",
     "output_type": "stream",
     "text": [
      "['float.bin', 'Monterey Bay Buoy Data.txt', '.DS_Store', 'date_data.pickle', '2023_0101.txt', 'data_file', 'number_list.bin', 'date_dict.pickle', 'year_data.csv', 'using_the_filesystem.ipynb', 'organized_data', 'Monterey Bay Biggest Wave 2022.csv', 'readme.txt', '.ipynb_checkpoints', 'data', 'file-io.ipynb']\n"
     ]
    }
   ],
   "source": [
    "# check the contents of your current working directory\n",
    "print(os.listdir())"
   ]
  },
  {
   "cell_type": "markdown",
   "id": "326292da-3b5e-453f-b250-8bc57c64e0aa",
   "metadata": {},
   "source": [
    "Questions:\n",
    "1. What files are visible in your file system?\n",
    "2. What is the equivalent command in your terminal?"
   ]
  },
  {
   "cell_type": "markdown",
   "id": "70ec2990-874e-4758-8aeb-dffa6b30844a",
   "metadata": {},
   "source": [
    "### Paths on your machine\n",
    "Paths on your machine provide the address where certain data is stored. For example, the above list, we find that there is a directory called `data` in our present working directory. If we would like to provide a path in this folder, we just need to append `data` to our current path. However, different operating systems use different formats for the string representation of paths. The `os` module gives us a convenient way to write platform-independent paths."
   ]
  },
  {
   "cell_type": "code",
   "execution_count": 4,
   "id": "cee5335f-d08d-4089-b745-9c7c6deb0ff9",
   "metadata": {},
   "outputs": [
    {
     "name": "stdout",
     "output_type": "stream",
     "text": [
      "/Users/mike/Documents/Teaching/Github/intro_to_python_book/files/data\n",
      "3\n"
     ]
    }
   ],
   "source": [
    "# create an absolute path to the data folder\n",
    "data_folder = os.path.join(os.getcwd(),'data')\n",
    "\n",
    "# print out the data folder path\n",
    "print(data_folder)\n",
    "\n",
    "# print the number of files in the data folder\n",
    "print(len(os.listdir(data_folder)))"
   ]
  },
  {
   "cell_type": "markdown",
   "id": "a0e14d68",
   "metadata": {},
   "source": [
    "### &#x1F914; Mini-Exercise\n",
    "Goal: Get a list of all Jupyter Notebooks we've written in CS 122 so far using the `os` module."
   ]
  },
  {
   "cell_type": "code",
   "execution_count": 5,
   "id": "c45e6c44",
   "metadata": {},
   "outputs": [
    {
     "name": "stdout",
     "output_type": "stream",
     "text": [
      "CS 122 Lecture 5-1.ipynb\n",
      "CS 122 Lecture 2-1.ipynb\n",
      "CS 122 Lecture 1 Notebook.ipynb\n",
      "CS 122 Lecture 4-2.ipynb\n",
      "CS 122 Lecture 3-1b.ipynb\n",
      "CS 122 Lecture 3-1a.ipynb\n",
      "CS 122 Lecture 2-2b.ipynb\n",
      "CS 122 Lecture 2-2a.ipynb\n",
      "CS 122 Lecture 4-1.ipynb\n"
     ]
    }
   ],
   "source": [
    "# set an absolute path to your CS 122 directory\n",
    "full_path = '/Users/mike/Documents/SJSU/CS_122'\n",
    "\n",
    "# loop through the contents of your Lecture directory to get a list\n",
    "# of directories corresponding to each of the lectures we've had so far\n",
    "lectures = []\n",
    "for lecture in  os.listdir(os.path.join(full_path,'Lecture')):\n",
    "    if 'Lecture' in lecture:\n",
    "        lectures.append(lecture)\n",
    "\n",
    "# for each lecture directory, loop through the contents and see \n",
    "# if any of the files have the extension 'ipynb'. Note also that\n",
    "# there may be hidden file for ipynb checkpoints, so be careful\n",
    "# about how your file comparison is checked\n",
    "notebooks = []\n",
    "for lecture in lectures:\n",
    "    for file_name in os.listdir(os.path.join(full_path,'Lecture',lecture)):\n",
    "        if file_name[-6:]=='.ipynb':\n",
    "            notebooks.append(file_name)\n",
    "\n",
    "# print out the list of notebooks, one per line\n",
    "for notebook in notebooks:\n",
    "    print(notebook)"
   ]
  },
  {
   "cell_type": "markdown",
   "id": "17c033b8-2e22-4fb9-b6e7-6de2029aea18",
   "metadata": {},
   "source": [
    "### Making new directories\n",
    "The `os` module gives us the functionality to modify our file system. For example, we can make a new directory given an absolute (or relative) path."
   ]
  },
  {
   "cell_type": "code",
   "execution_count": 6,
   "id": "64b06b54-9217-440c-88f7-fc69e9a1851b",
   "metadata": {},
   "outputs": [],
   "source": [
    "# define a path for a new organized_data directory\n",
    "organized_data = os.path.join(os.getcwd(),'organized_data')\n",
    "\n",
    "# make a new directory called organized_data in the present working directory\n",
    "if not os.path.exists(organized_data):\n",
    "    os.mkdir(organized_data)\n",
    "\n",
    "# revise the above line to provide a check to determine whether the data exists - only make it if it does not exist"
   ]
  },
  {
   "cell_type": "markdown",
   "id": "ae0d5097-df00-4688-a8ad-e361a8e60f45",
   "metadata": {},
   "source": [
    "Question: What is the equivalent command in the terminal?"
   ]
  },
  {
   "cell_type": "markdown",
   "id": "93ad1075-c79e-4ea0-a97b-0d3e98ae5a61",
   "metadata": {},
   "source": [
    "### Moving files to new directories\n",
    "The `os` module also provides a means to move files from one location on your machine to another: the `rename` method.\n",
    "\n",
    "In the following code block, we will practice creating directories and moving files using the 2022 data in the `data` folder. Begin by looping through the `data` directory and generating a folder in the `organized_data` directory for each month (e.g. 2022_01, 2022_02, etc). Then, move each 2022 file from the `data` directory into its corresponding month file in the `organized_data` directory"
   ]
  },
  {
   "cell_type": "code",
   "execution_count": 7,
   "id": "00f313d7-8c81-4351-ab81-3a0c62716da1",
   "metadata": {},
   "outputs": [],
   "source": [
    "# make a new folder in the organized_data folder for each month in 2022\n",
    "for file_name in os.listdir(data_folder):\n",
    "\n",
    "    # check that the file is from 2022\n",
    "    if file_name[:4]=='2022':\n",
    "\n",
    "        # define the name of a new folder in the format YYYY_MM\n",
    "        year_month = file_name[:7]\n",
    "\n",
    "        # if this year_month is not yet in the organized_data directory, then make it\n",
    "        if year_month not in os.listdir(organized_data):\n",
    "            os.mkdir(os.path.join(organized_data, year_month))\n",
    "\n",
    "        # move the file into the year_month folder\n",
    "        # define the src_path and the dest_path\n",
    "        # then, move the file\n",
    "        src_path = os.path.join(data_folder, file_name)\n",
    "        dest_path = os.path.join(organized_data, year_month, file_name)\n",
    "        os.rename(src_path, dest_path)"
   ]
  },
  {
   "cell_type": "markdown",
   "id": "600fe472-e0ae-402c-89a7-9391553192de",
   "metadata": {},
   "source": [
    "## The `shutil` module\n",
    "The `shutil` mode provides the utility to make copies of files on your file system. There are three main functions used for copying files, as follows:\n",
    "\n",
    "|  | copyfile | copy | copy2 |\n",
    "| -- | -------- | ---- | ----- |\n",
    "| Destination can be a directory | N | Y | Y |\n",
    "| Copies metadata | N | N | Y |\n",
    "| Copies permissions | N | Y | Y |"
   ]
  },
  {
   "cell_type": "code",
   "execution_count": 8,
   "id": "4628fe08-92ea-41a5-ae14-b188ff751081",
   "metadata": {},
   "outputs": [
    {
     "data": {
      "text/plain": [
       "'/Users/mike/Documents/Teaching/Github/intro_to_python_book/files/2023_0101.txt'"
      ]
     },
     "execution_count": 8,
     "metadata": {},
     "output_type": "execute_result"
    }
   ],
   "source": [
    "# define a path to the source data file 2023_0101.txt in data\n",
    "src_path = os.path.join(data_folder, '2023_0101.txt')\n",
    "\n",
    "# define a destination path to the current directory with the file name\n",
    "dst_path = os.path.join(os.getcwd(),'2023_0101.txt')\n",
    "\n",
    "# try the copyfile method with the dst path\n",
    "# what happens if you just provide the current directory?\n",
    "shutil.copyfile(src_path,dst_path)\n",
    "\n",
    "# try the copy method with the dst path\n",
    "shutil.copy(src_path,dst_path)\n",
    "\n",
    "# try the copy2 method with the dst path\n",
    "shutil.copy2(src_path,dst_path)"
   ]
  },
  {
   "cell_type": "markdown",
   "id": "d9d5eb2d",
   "metadata": {},
   "source": [
    "### &#x1F914; Mini-Exercise\n",
    "Modify the code above to make copies of the 2023 data in monthly directories in the `organized_data` directory"
   ]
  },
  {
   "cell_type": "code",
   "execution_count": 9,
   "id": "3622d726-217d-4653-b24f-60752f455aef",
   "metadata": {},
   "outputs": [],
   "source": [
    "# make a new folder in the organized_data folder for each month in 2022\n",
    "for file_name in os.listdir(data_folder):\n",
    "\n",
    "    # check that the file is from 2023\n",
    "    if file_name[:4]=='2023':\n",
    "\n",
    "        # define the name of a new folder in the format YYYY_MM\n",
    "        year_month = file_name[:7]\n",
    "\n",
    "        # if this year_month is not yet in the organized_data directory, then make it\n",
    "        if year_month not in os.listdir(organized_data):\n",
    "            os.mkdir(os.path.join(organized_data, year_month))\n",
    "\n",
    "        # make a copy of the file in the year_month folder\n",
    "        # define the src_path and the dest_path\n",
    "        # then, copy the file using one of the shutil functions\n",
    "        src_path = os.path.join(data_folder, file_name)\n",
    "        dest_path = os.path.join(organized_data, year_month, file_name)\n",
    "        shutil.copyfile(src_path, dest_path)"
   ]
  },
  {
   "cell_type": "markdown",
   "id": "0c4a5b92",
   "metadata": {},
   "source": [
    "## Overview: Python Commands vs Unix Shell Commands\n",
    "\n",
    "| Python | Unix | Purpose |\n",
    "| ------ | ---- | ------- |\n",
    "| os.getcwd() | pwd | Determine the current/present working directory |\n",
    "| os.chdir() | cd | Change directory |\n",
    "| os.mkdir() | mkdir | Make a directory |\n",
    "| os.rename() | mv | Rename a file or move to a new location |\n",
    "| os.listdir() | ls | List the files and folders in a directory |\n",
    "| shutil.copy() | cp | Copy a file to a new location |"
   ]
  },
  {
   "cell_type": "markdown",
   "id": "9137110a-0918-45dd-8609-bda44856ff7b",
   "metadata": {},
   "source": [
    "## The `glob` module\n",
    "When using Unix-type shell commands, wildcard symbols are extremely useful for finding and accessing subsets of files. There are 2 main wildcard symbols:\n",
    "\n",
    "| symbol | use |\n",
    "| ------ | --- |\n",
    "| `?`    | Wildcard for a single symbol |\n",
    "| `*`    | Wildcard symbol for any number of symbols |\n",
    "\n",
    "Try these in the `data` directory in your shelf:\n",
    "1. How would you determine the names of files that correspond to the first day of each month in 2023?\n",
    "2. How would you determine the name of all files that correspond to December of 2023?\n",
    "\n",
    "The `glob` module provides functionality to provide Unix-style searches of your file system."
   ]
  },
  {
   "cell_type": "code",
   "execution_count": 10,
   "id": "e7343af5-6a81-485e-a5b8-454445ec7ac2",
   "metadata": {
    "scrolled": true
   },
   "outputs": [
    {
     "data": {
      "text/plain": [
       "[]"
      ]
     },
     "execution_count": 10,
     "metadata": {},
     "output_type": "execute_result"
    }
   ],
   "source": [
    "# find all files names that correspond to the first day of each month in 2023\n",
    "search_path = os.path.join(data_folder,'2023_??01.txt')\n",
    "glob.glob(search_path)\n",
    "\n",
    "# find all files in December 2023\n",
    "search_path = os.path.join(data_folder,'2023_1*.txt')\n",
    "glob.glob(search_path)\n"
   ]
  },
  {
   "cell_type": "markdown",
   "id": "15935e3a",
   "metadata": {},
   "source": [
    "### &#x1F914; Mini-Exercise\n",
    "Goal: Get a list of all Jupyter Notebooks we've written in CS 122 so far using the `glob` module."
   ]
  },
  {
   "cell_type": "code",
   "execution_count": 11,
   "id": "a16f689e",
   "metadata": {},
   "outputs": [
    {
     "name": "stdout",
     "output_type": "stream",
     "text": [
      "CS 122 Lecture 5-1.ipynb\n",
      "CS 122 Lecture 2-1.ipynb\n",
      "CS 122 Lecture 1 Notebook.ipynb\n",
      "CS 122 Lecture 4-2.ipynb\n",
      "CS 122 Lecture 3-1b.ipynb\n",
      "CS 122 Lecture 3-1a.ipynb\n",
      "CS 122 Lecture 2-2b.ipynb\n",
      "CS 122 Lecture 2-2a.ipynb\n",
      "CS 122 Lecture 4-1.ipynb\n"
     ]
    }
   ],
   "source": [
    "# define a search path\n",
    "test_path = '/Users/mike/Documents/SJSU/CS_122/Lecture/Lecture*/*.ipynb'\n",
    "\n",
    "# use the glob module to get the list of paths for the notebooks\n",
    "matching_paths = glob.glob(test_path)\n",
    "\n",
    "# make a loop to just get the file name (not the whole path)\n",
    "notebooks = []\n",
    "for file_path in matching_paths:\n",
    "    notebooks.append(os.path.basename(file_path))\n",
    "\n",
    "# print the notebook files, line by line\n",
    "for notebook in notebooks:\n",
    "    print(notebook)"
   ]
  },
  {
   "cell_type": "markdown",
   "id": "8517515f-e82e-46bb-9ecd-50e42020168b",
   "metadata": {},
   "source": [
    "## The `subprocess` module\n",
    "The final module we will investigate in this notebook is the `subprocess` module. It's not necessarily related to using the file system, but its related to accessing the terminal and running shell scripts from Python, so it fits within the theme of this notebook.\n",
    "\n",
    "The most useful method of the `subprocess` module if Popen."
   ]
  },
  {
   "cell_type": "code",
   "execution_count": 12,
   "id": "789d9be6-e44b-4c25-81a5-7e13319ab104",
   "metadata": {},
   "outputs": [
    {
     "name": "stdout",
     "output_type": "stream",
     "text": [
      "total 2784\n",
      "-rw-r--r--  1 mike  staff       23 Sep 18  2023 2023_0101.txt\n",
      "-rw-r--r--@ 1 mike  staff      230 Feb 20 10:25 Monterey Bay Biggest Wave 2022.csv\n",
      "-rw-r--r--@ 1 mike  staff  1341408 Sep 19  2023 Monterey Bay Buoy Data.txt\n",
      "drwxr-xr-x  5 mike  staff      160 Feb 18 14:35 \u001b[1m\u001b[34mdata\u001b[m\u001b[m\n",
      "-rw-r--r--@ 1 mike  staff     1904 Sep 20  2023 data_file\n",
      "-rw-r--r--  1 mike  staff      311 Feb 20 10:25 date_data.pickle\n",
      "-rw-r--r--  1 mike  staff      112 Feb 20 10:25 date_dict.pickle\n",
      "-rw-r--r--@ 1 mike  staff    22414 Feb 20 10:25 file-io.ipynb\n",
      "-rw-r--r--  1 mike  staff       32 Feb 20 10:25 float.bin\n",
      "-rw-r--r--@ 1 mike  staff        6 Feb 20 10:25 number_list.bin\n",
      "drwxr-xr-x  3 mike  staff       96 Feb 18 14:37 \u001b[1m\u001b[34morganized_data\u001b[m\u001b[m\n",
      "-rw-r--r--  1 mike  staff       45 Feb 20 10:25 readme.txt\n",
      "-rw-r--r--@ 1 mike  staff    19095 Feb 18 14:37 using_the_filesystem.ipynb\n",
      "-rw-r--r--  1 mike  staff       33 Feb 20 10:25 year_data.csv\n",
      "<class 'bytes'>\n",
      "<class 'str'>\n",
      "total 2784\n",
      "-rw-r--r--  1 mike  staff       23 Sep 18  2023 2023_0101.txt\n",
      "-rw-r--r--@ 1 mike  staff      230 Feb 20 10:25 Monterey Bay Biggest Wave 2022.csv\n",
      "-rw-r--r--@ 1 mike  staff  1341408 Sep 19  2023 Monterey Bay Buoy Data.txt\n",
      "drwxr-xr-x  5 mike  staff      160 Feb 18 14:35 \u001b[1m\u001b[34mdata\u001b[m\u001b[m\n",
      "-rw-r--r--@ 1 mike  staff     1904 Sep 20  2023 data_file\n",
      "-rw-r--r--  1 mike  staff      311 Feb 20 10:25 date_data.pickle\n",
      "-rw-r--r--  1 mike  staff      112 Feb 20 10:25 date_dict.pickle\n",
      "-rw-r--r--@ 1 mike  staff    22414 Feb 20 10:25 file-io.ipynb\n",
      "-rw-r--r--  1 mike  staff       32 Feb 20 10:25 float.bin\n",
      "-rw-r--r--@ 1 mike  staff        6 Feb 20 10:25 number_list.bin\n",
      "drwxr-xr-x  3 mike  staff       96 Feb 18 14:37 \u001b[1m\u001b[34morganized_data\u001b[m\u001b[m\n",
      "-rw-r--r--  1 mike  staff       45 Feb 20 10:25 readme.txt\n",
      "-rw-r--r--@ 1 mike  staff    19095 Feb 18 14:37 using_the_filesystem.ipynb\n",
      "-rw-r--r--  1 mike  staff       33 Feb 20 10:25 year_data.csv\n",
      "\n"
     ]
    }
   ],
   "source": [
    "# write a function to list the files in the current directory\n",
    "p = subprocess.Popen(['ls','-l'])\n",
    "# p.communicate()\n",
    "\n",
    "# the first and second arguments from Popen are the standard output and standard error\n",
    "# if a string is desired, then \"pipe\" the stdout\n",
    "p = subprocess.Popen(['ls','-l'], stdout=subprocess.PIPE)\n",
    "output, error = p.communicate()\n",
    "\n",
    "# print the type of output\n",
    "print(type(output))\n",
    "\n",
    "# convert the type of the output to a string\n",
    "output = output.decode()\n",
    "print(type(output))\n",
    "\n",
    "# split the output and print line by line\n",
    "for line in output.split('\\n'):\n",
    "    print(line)"
   ]
  }
 ],
 "metadata": {
  "kernelspec": {
   "display_name": "Python 3 (ipykernel)",
   "language": "python",
   "name": "python3"
  },
  "language_info": {
   "codemirror_mode": {
    "name": "ipython",
    "version": 3
   },
   "file_extension": ".py",
   "mimetype": "text/x-python",
   "name": "python",
   "nbconvert_exporter": "python",
   "pygments_lexer": "ipython3",
   "version": "3.11.3"
  }
 },
 "nbformat": 4,
 "nbformat_minor": 5
}