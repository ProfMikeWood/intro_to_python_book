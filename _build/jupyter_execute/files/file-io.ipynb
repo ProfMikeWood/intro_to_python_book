{
 "cells": [
  {
   "cell_type": "markdown",
   "id": "49e61e1c",
   "metadata": {},
   "source": [
    "# File Inputs and Outputs (I/O)"
   ]
  },
  {
   "cell_type": "markdown",
   "id": "0c3a7daa-0a0a-481c-974f-6acd970606db",
   "metadata": {},
   "source": [
    "Learning Objectives: By the end of this notebook, you should be able to:\n",
    "1. Read data from a text file and write data to a text file\n",
    "2. Access numerical data inside of a binary-encoded file\n",
    "3. Describe how data is written to and accessed from \"pickle\" files "
   ]
  },
  {
   "cell_type": "markdown",
   "id": "60a67c86-ddd3-453a-97d4-84e9a7cdd8c7",
   "metadata": {},
   "source": [
    "**Import modules required for this notebook**"
   ]
  },
  {
   "cell_type": "code",
   "execution_count": 1,
   "id": "893c03a8-9316-47f4-9788-227b2b5741b1",
   "metadata": {},
   "outputs": [],
   "source": [
    "# import the struct and pickle modules\n",
    "import struct\n",
    "import pickle"
   ]
  },
  {
   "cell_type": "markdown",
   "id": "0d4b0f71",
   "metadata": {},
   "source": [
    "## Reading and Writing Text Files"
   ]
  },
  {
   "cell_type": "markdown",
   "id": "acf1e5a8",
   "metadata": {},
   "source": [
    "Reading and writing data from a text file are both done with the built-in `open` method."
   ]
  },
  {
   "cell_type": "markdown",
   "id": "4f0c8527-377e-4082-960d-bbd8bbcca9c6",
   "metadata": {},
   "source": [
    "### Reading Text Files\n",
    "The `open` method takes in a path to a file and an optional argument describing how the file will be opened. By default, the `open` method will open files in reading mode (`mode='r'`). Try this on some [buoy data](https://github.com/ProfMikeWood/intro_to_python_book/blob/main/files/Monterey Bay Buoy Data.txt) obtained from the [National Buoy Data Center](https://www.ndbc.noaa.gov/station_page.php?station=46269) for a site in Monterey Bay:"
   ]
  },
  {
   "cell_type": "code",
   "execution_count": 2,
   "id": "723bb973-1683-4ce5-833c-3a0b1edaba6f",
   "metadata": {},
   "outputs": [
    {
     "name": "stdout",
     "output_type": "stream",
     "text": [
      "File Length: 1341408\n",
      "Number of Lines: 15073\n",
      "First Five Lines:\n",
      "#YY  MM DD hh mm WDIR WSPD GST  WVHT   DPD   APD MWD   PRES  ATMP  WTMP  DEWP  VIS  TIDE\n",
      "#yr  mo dy hr mn degT m/s  m/s     m   sec   sec degT   hPa  degC  degC  degC   mi    ft\n",
      "2022 01 01 00 00 999 99.0 99.0  1.32  7.41  5.74 263 9999.0  11.9  12.0 999.0 99.0 99.00\n",
      "2022 01 01 00 30 999 99.0 99.0  1.28  8.00  5.80 261 9999.0  11.6  12.0 999.0 99.0 99.00\n",
      "2022 01 01 01 00 999 99.0 99.0  1.26  8.33  5.88 258 9999.0  11.2  12.0 999.0 99.0 99.00\n"
     ]
    }
   ],
   "source": [
    "# open the buoy data file\n",
    "file_object = open('Monterey Bay Buoy Data.txt')\n",
    "\n",
    "# read all of the lines of the file\n",
    "lines = file_object.read()\n",
    "\n",
    "# close the file\n",
    "file_object.close()\n",
    "\n",
    "# see how long the file is (how many characters are in the file)\n",
    "print('File Length:',len(lines))\n",
    "\n",
    "# split the lines by the new line character to\n",
    "# see how many lines there are\n",
    "lines = lines.split('\\n')\n",
    "print('Number of Lines:',len(lines))\n",
    "\n",
    "# print the first five lines\n",
    "print('First Five Lines:')\n",
    "for i in range(5):\n",
    "    print(lines[i])"
   ]
  },
  {
   "cell_type": "markdown",
   "id": "7a8d1a52-7c7d-4cbc-9ff0-f7853767e959",
   "metadata": {},
   "source": [
    "As can be seen above, the `file_object` must be opened, read, and then closed when finished. When a file is open, it is stored in memory so it is generally not recommended to have many files opened at the same time. Instead, the `with` keyword allows us to bundle the `open` and `close` methods together, running a subset of commands on the file while it is open. In other words:"
   ]
  },
  {
   "cell_type": "code",
   "execution_count": 3,
   "id": "54c78fa7-54bb-4504-9ac0-81adca60ab80",
   "metadata": {},
   "outputs": [
    {
     "name": "stdout",
     "output_type": "stream",
     "text": [
      "File Length: 1341408\n",
      "Number of Lines: 15073\n",
      "First Five Lines:\n",
      "#YY  MM DD hh mm WDIR WSPD GST  WVHT   DPD   APD MWD   PRES  ATMP  WTMP  DEWP  VIS  TIDE\n",
      "#yr  mo dy hr mn degT m/s  m/s     m   sec   sec degT   hPa  degC  degC  degC   mi    ft\n",
      "2022 01 01 00 00 999 99.0 99.0  1.32  7.41  5.74 263 9999.0  11.9  12.0 999.0 99.0 99.00\n",
      "2022 01 01 00 30 999 99.0 99.0  1.28  8.00  5.80 261 9999.0  11.6  12.0 999.0 99.0 99.00\n",
      "2022 01 01 01 00 999 99.0 99.0  1.26  8.33  5.88 258 9999.0  11.2  12.0 999.0 99.0 99.00\n"
     ]
    }
   ],
   "source": [
    "# open the buoy data file using the with keyword\n",
    "with open('Monterey Bay Buoy Data.txt') as file_object:\n",
    "    lines = file_object.read()\n",
    "# the 'with' block automatically closes the file\n",
    "\n",
    "# see how long the file is (how many characters are in the file)\n",
    "print('File Length:',len(lines))\n",
    "\n",
    "# split the lines by the new line character to\n",
    "# see how many lines there are\n",
    "lines = lines.split('\\n')\n",
    "print('Number of Lines:',len(lines))\n",
    "\n",
    "# print the first five lines\n",
    "print('First Five Lines:')\n",
    "for i in range(5):\n",
    "    print(lines[i])"
   ]
  },
  {
   "cell_type": "markdown",
   "id": "e9f1e9ba-b0fe-4f40-a363-967f95ea44e5",
   "metadata": {},
   "source": [
    "### Writing Text Files\n",
    "Writing text files is just as easy as reading them - just change the mode! For example, we may want to generate a quick readme note to include in our directory. We can do this as follows:"
   ]
  },
  {
   "cell_type": "code",
   "execution_count": 4,
   "id": "28c06052-2fdc-43d7-a9d6-55b1f9cd0e47",
   "metadata": {},
   "outputs": [],
   "source": [
    "# define a string with a readme note\n",
    "note = \"To write a text file, change the mode to 'w' \"\n",
    "\n",
    "# output your note as a readme file\n",
    "f = open('readme.txt','w')\n",
    "f.write(note)\n",
    "f.close()"
   ]
  },
  {
   "cell_type": "markdown",
   "id": "e4aa94c3-18fd-42b5-93f1-071fcc16e758",
   "metadata": {},
   "source": [
    "When writing text to a text file, we can format our text and name our files in such a way that other programs can interpret the data. One of the clearest examples of this functionality is seen with data stored in a comma separated value format. These types of files can be read by Excel and many other programs. Let's try this ourself:"
   ]
  },
  {
   "cell_type": "code",
   "execution_count": 5,
   "id": "792f93bd-72e6-43bf-bdb0-47005ba271a7",
   "metadata": {},
   "outputs": [],
   "source": [
    "# make a header line that has columns for\n",
    "# year, month and day, separated by commas\n",
    "header = 'year,month,day'\n",
    "\n",
    "# make two data lines with days of the year\n",
    "data_line_1 = '2023,1,17'\n",
    "data_line_2 = '2023,4,8'\n",
    "\n",
    "# combine the header and the data lines,\n",
    "# separated by a newline character\n",
    "output = header + '\\n' + data_line_1 + '\\n' + data_line_2\n",
    "\n",
    "# write the output to a file\n",
    "with open('year_data.csv','w') as file_obj:\n",
    "    file_obj.write(output)\n",
    "\n",
    "# open the file in a spreadsheet program - what does it look like?"
   ]
  },
  {
   "cell_type": "markdown",
   "id": "de66a7c7-974b-4d79-875c-d5225dae0a71",
   "metadata": {},
   "source": [
    "### &#x1F914; Mini-Exercise\n",
    "Goal: Write a text file that describes the ocean conditions when the waves in Monterey Bay were biggest during the year 2022. \n",
    "\n",
    "Read in the wave data and do a search through each line for the line with the biggest waves (`WVHT`, column 9 i.e. index 8). Then, write out a text file that includes the two header lines and the line with biggest wave. Store your lines with each component separated by commas a file called \"Monterey Bay Biggest Wave 2022.csv\""
   ]
  },
  {
   "cell_type": "code",
   "execution_count": 6,
   "id": "3f1a2140-6296-4403-8b96-af7f9748f7b6",
   "metadata": {},
   "outputs": [],
   "source": [
    "# open the buoy file and read the lines\n",
    "with open('Monterey Bay Buoy Data.txt') as file_object:\n",
    "    lines = file_object.read()\n",
    "\n",
    "# split the lines at the new line indicator\n",
    "lines = lines.split('\\n')\n",
    "\n",
    "# store the first two lines in variables \"header\" and \"units\"\n",
    "header = lines[0]\n",
    "units = lines[1]\n",
    "\n",
    "# loop through the remainder of the lines and\n",
    "# find the one with the biggest wave\n",
    "biggest_wave_value = 0\n",
    "biggest_line = ''\n",
    "for line in lines[2:]:\n",
    "    line = line.split()\n",
    "    if len(line)>8:\n",
    "        if float(line[8])>biggest_wave_value:\n",
    "            biggest_wave_value = float(line[8])\n",
    "            biggest_line = line\n",
    "\n",
    "# make an output string combining the lines\n",
    "# for header, units, and the biggest wave day\n",
    "output_line = ','.join(header.split()) +'\\n'+ \\\n",
    "              ','.join(units.split()) +'\\n'+ ','.join(biggest_line)\n",
    "\n",
    "# save as a csv with the file name Monterey Bay Biggest Waves 2022.csv\n",
    "f = open('Monterey Bay Biggest Wave 2022.csv','w')\n",
    "f.write(output_line)\n",
    "f.close()"
   ]
  },
  {
   "cell_type": "markdown",
   "id": "600fe472-e0ae-402c-89a7-9391553192de",
   "metadata": {},
   "source": [
    "## Working with binary data\n",
    "In many older programs, data is often stored in binary files. While this practice is waning, its still a good idea to be able to read and write data in binary format."
   ]
  },
  {
   "cell_type": "markdown",
   "id": "ffb0508a-1706-45e9-8fa1-b48ba8541ef8",
   "metadata": {},
   "source": [
    "### Writing integer data to binary\n",
    "To write a list of integers in binary format, use the `bytearray` method to convert a list of numbers of bytes, and use the `wb` mode to write in binary:"
   ]
  },
  {
   "cell_type": "code",
   "execution_count": 7,
   "id": "a6c493de-ece9-4237-904a-87e7b9b19459",
   "metadata": {},
   "outputs": [],
   "source": [
    "# declare a list of integer values\n",
    "numbers = [10, 20, 30, 40, 50, 60]\n",
    "\n",
    "# convert the list to array\n",
    "barray = bytearray(numbers)\n",
    "\n",
    "# open a file_object to write as a binary file\n",
    "file_obj = open(\"number_list.bin\",\"wb\")\n",
    "\n",
    "# write array into the file\n",
    "file_obj.write(barray)\n",
    "\n",
    "# close the file\n",
    "file_obj.close()"
   ]
  },
  {
   "cell_type": "markdown",
   "id": "429803de-88ed-45f3-9968-031837cb2665",
   "metadata": {},
   "source": [
    "### Reading integer data from a binary file\n",
    "When reading from a binary file, be sure to use the 'rb' mode"
   ]
  },
  {
   "cell_type": "code",
   "execution_count": 8,
   "id": "3aa3a49d-2abc-4577-8744-fdf97c1a96f3",
   "metadata": {},
   "outputs": [
    {
     "name": "stdout",
     "output_type": "stream",
     "text": [
      "b'\\n\\x14\\x1e(2<'\n",
      "[10, 20, 30, 40, 50, 60]\n"
     ]
    }
   ],
   "source": [
    "# open the binary file for reading using a with block\n",
    "with open(\"number_list.bin\", \"rb\") as file_obj:\n",
    "\n",
    "    # read in the line from tjhe file\n",
    "    lines = file_obj.read()\n",
    "\n",
    "# print the lines\n",
    "print(lines)\n",
    "\n",
    "# the list command will return back the list,\n",
    "# converting from a binary array\n",
    "print(list(lines))"
   ]
  },
  {
   "cell_type": "markdown",
   "id": "ac3c97a3-df05-4c7b-ac14-6fb5805df8b1",
   "metadata": {},
   "source": [
    "### Writing float data to a binary file\n",
    "The `struct` module provides a mechanism by which various types of data can be encoded in binary and packed into a file. It's very uncommon to write out data in this format in Python, but it's common to receive binary-encoded files from other programs. Here, we'll write a binary file with float values and then examine how we can read back the data"
   ]
  },
  {
   "cell_type": "code",
   "execution_count": 9,
   "id": "ecac2024-ae77-4bdc-81b6-dd1fd2560f65",
   "metadata": {},
   "outputs": [],
   "source": [
    "# make up a list of 4 float values for testing\n",
    "grid = [1.1, 2.2, 3.3, 4.4]\n",
    "\n",
    "# define the format for output - either f or d (for float or double)\n",
    "record_format = 'd'\n",
    "\n",
    "# define the output using the struct.pack method.\n",
    "# the first character is the number of elements,\n",
    "# the second is the format type\n",
    "output = struct.pack('4d', *grid)\n",
    "\n",
    "# write the binary data to a file called float.bin\n",
    "with open(\"float.bin\",\"wb\") as f:\n",
    "    f.write(output)"
   ]
  },
  {
   "cell_type": "markdown",
   "id": "ed81ae15-1550-4980-a9d6-4f4fffccc53e",
   "metadata": {},
   "source": [
    "As you can see, when packing data into the binary file, the format must be specified. For a full list of different format types, see the [struct documentation page](https://docs.python.org/3/library/struct.html)."
   ]
  },
  {
   "cell_type": "markdown",
   "id": "b2784637-d362-4b13-bb97-c29936ae16f4",
   "metadata": {},
   "source": [
    "### Reading float data from a binary file\n",
    "Reading structured data from a binary file is similar to writing - you need to know the record format as well as the number of items in the file."
   ]
  },
  {
   "cell_type": "code",
   "execution_count": 10,
   "id": "37f2e4a4-2023-4ca1-831c-263b09069fab",
   "metadata": {},
   "outputs": [
    {
     "name": "stdout",
     "output_type": "stream",
     "text": [
      "[1.1, 2.2, 3.3, 4.4]\n"
     ]
    }
   ],
   "source": [
    "# define the record format, identical to the code block above\n",
    "record_format = 'd'\n",
    "\n",
    "# use the struct.calcsize method to determine\n",
    "# the size of this format, in binary\n",
    "record_size = struct.calcsize(record_format)\n",
    "\n",
    "# make an empty list of values to keep track of during the file reading\n",
    "values = []\n",
    "\n",
    "# open the float.bin file and read in the 4 values we wrote previously\n",
    "with open(\"float.bin\",\"rb\") as f:\n",
    "    # loop through the 4 values, reading a portion of size record_size\n",
    "    for i in range(4):\n",
    "\n",
    "        # store the binary value into a variable\n",
    "        binary_value = f.read(record_size)\n",
    "\n",
    "        # use the struct.unpack method to convert\n",
    "        # the binary representation to a float\n",
    "        # then, add the value to the list\n",
    "        values.append(struct.unpack(record_format,binary_value)[0])\n",
    "\n",
    "# print out the values\n",
    "print(values)"
   ]
  },
  {
   "cell_type": "markdown",
   "id": "5f6b598e-2133-489e-80e5-0a705256fd91",
   "metadata": {},
   "source": [
    "#### &#x1F914; Mini-Exercise\n",
    "Goal: Read in data from a binary file given information about its contents\n",
    "\n",
    "A scientist using an old and outdated coding language has passed you a data file. They mention to you that the file has two columns of double-precision data, and each column has 119 rows. Read the file contents into two lists. Then, print the first and last values from the each list (decoded from binary)."
   ]
  },
  {
   "cell_type": "code",
   "execution_count": 11,
   "id": "81bebf05-d5a1-47cb-b9ca-1b28a0f4b6ec",
   "metadata": {},
   "outputs": [
    {
     "name": "stdout",
     "output_type": "stream",
     "text": [
      "1900.0 2018.0\n",
      "0.0 0.056842864990234374\n"
     ]
    }
   ],
   "source": [
    "# define the record format, identical to the code block above\n",
    "record_format = 'd'\n",
    "\n",
    "# use the struct.calcsize method to determine\n",
    "# the size of this format, in binary\n",
    "record_size = struct.calcsize(record_format)\n",
    "\n",
    "# make two lists to store the data\n",
    "column_1 = []\n",
    "column_2 = []\n",
    "\n",
    "# open the data_file file and read in the values into the 2 lists\n",
    "with open(\"data_file\",\"rb\") as f:\n",
    "    \n",
    "    # loop through the 119 rows,\n",
    "    # reading two values from each row,\n",
    "    # with each value of size record_size \n",
    "    for i in range(119):\n",
    "\n",
    "        # read the first value, and store into a binary value\n",
    "        binary_value = f.read(record_size)\n",
    "\n",
    "        # use the struct.unpack method to convert\n",
    "        # the binary representation to a float\n",
    "        # and add to the first list\n",
    "        column_1.append(struct.unpack(record_format,binary_value)[0])\n",
    "\n",
    "        # read the second value, and store into a binary value\n",
    "        binary_value_2 = f.read(record_size)\n",
    "\n",
    "        # use the struct.unpack method to convert\n",
    "        # the binary representation to a float\n",
    "        # and add to the second list\n",
    "        column_2.append(struct.unpack(record_format,binary_value_2)[0])\n",
    "\n",
    "print(column_1[0], column_1[-1])\n",
    "print(column_2[0], column_2[-1])\n"
   ]
  },
  {
   "cell_type": "markdown",
   "id": "9137110a-0918-45dd-8609-bda44856ff7b",
   "metadata": {},
   "source": [
    "## Pickling Files"
   ]
  },
  {
   "cell_type": "markdown",
   "id": "9f2e3c01-69b5-40e6-b3b5-b759004db56f",
   "metadata": {},
   "source": [
    "Pickle files are an extremely flexible data storage type unique to Python. As the name suggests, you can treat a pickle file like a pickle jar - and it can hold *anything* (and if we'd like to continue the analogy, it preserves that data until the jar is opened). For example, you can create a dictionary and store it in a pickle file"
   ]
  },
  {
   "cell_type": "code",
   "execution_count": 12,
   "id": "9f6cf18c-2fdd-49a2-bbef-07ddd9a120ff",
   "metadata": {},
   "outputs": [],
   "source": [
    "# make a dictionary for the days in a month\n",
    "date_dict = {'Jan':31, 'Feb': 28, 'Mar':31, 'Apr': 30, 'May':31, 'Jun': 30,\n",
    "             'Jul':31, 'Aug': 31, 'Sep':30, 'Oct': 31, 'Nov':30, 'Dec': 31}\n",
    "\n",
    "# store the dictionary in a pickle file\n",
    "with open('date_dict.pickle', 'wb') as file_obj:\n",
    "    pickle.dump(date_dict, file_obj)"
   ]
  },
  {
   "cell_type": "markdown",
   "id": "41859ae2-7f1d-40b2-bef0-2682c27441fe",
   "metadata": {},
   "source": [
    "Then, reading from the pickle file is similar to writing:"
   ]
  },
  {
   "cell_type": "code",
   "execution_count": 13,
   "id": "c38e1a26-21fd-426a-9f61-34ccaa5479ee",
   "metadata": {},
   "outputs": [
    {
     "name": "stdout",
     "output_type": "stream",
     "text": [
      "{'Jan': 31, 'Feb': 28, 'Mar': 31, 'Apr': 30, 'May': 31, 'Jun': 30, 'Jul': 31, 'Aug': 31, 'Sep': 30, 'Oct': 31, 'Nov': 30, 'Dec': 31}\n"
     ]
    }
   ],
   "source": [
    "# load the dictionary back in from the pickle file\n",
    "with open('date_dict.pickle', 'rb') as file_obj:\n",
    "    dict_from_pickle = pickle.load(file_obj)\n",
    "\n",
    "# print the dictionary\n",
    "print(dict_from_pickle)"
   ]
  },
  {
   "cell_type": "markdown",
   "id": "990191d8-1e64-4262-b48e-e4256cf85191",
   "metadata": {},
   "source": [
    "However, if we can continue the analogy, pickles in your pickle jar do not need to just store cucumbers (err... dictionaries). In other words, you can put a mix of different types of objects in a single pickle file:"
   ]
  },
  {
   "cell_type": "code",
   "execution_count": 14,
   "id": "df5bf70b-21d8-4d65-a8d2-a9cd69933751",
   "metadata": {},
   "outputs": [],
   "source": [
    "# make a list of the years 2000 to 2020\n",
    "year = list(range(2000, 2021))\n",
    "\n",
    "# make a string to describe the contents\n",
    "string = 'This pickle file contains a list of years 2000-2020 '+\\\n",
    "         'and a dictionary for the number of days in each month'\n",
    "\n",
    "# write the string, year, and dict to the pickle file called date_data.pickle\n",
    "with open('date_data.pickle', 'wb') as file_obj:\n",
    "    pickle.dump(date_dict, file_obj)\n",
    "    pickle.dump(year, file_obj)\n",
    "    pickle.dump(string, file_obj)"
   ]
  },
  {
   "cell_type": "markdown",
   "id": "93ee2a03-2e44-4be2-98cc-491dc8e025ce",
   "metadata": {},
   "source": [
    "Then, you can read the objects back in the same order they're created:"
   ]
  },
  {
   "cell_type": "code",
   "execution_count": 15,
   "id": "ba220175-a648-4277-84a5-b3e96c96f908",
   "metadata": {},
   "outputs": [
    {
     "name": "stdout",
     "output_type": "stream",
     "text": [
      "{'Jan': 31, 'Feb': 28, 'Mar': 31, 'Apr': 30, 'May': 31, 'Jun': 30, 'Jul': 31, 'Aug': 31, 'Sep': 30, 'Oct': 31, 'Nov': 30, 'Dec': 31}\n",
      "[2000, 2001, 2002, 2003, 2004, 2005, 2006, 2007, 2008, 2009, 2010, 2011, 2012, 2013, 2014, 2015, 2016, 2017, 2018, 2019, 2020]\n",
      "This pickle file contains a list of years 2000-2020 and a dictionary for the number of days in each month\n"
     ]
    }
   ],
   "source": [
    "# load the objects back in from the pickle file\n",
    "with open('date_data.pickle', 'rb') as file_obj:\n",
    "    obj_1 = pickle.load(file_obj)\n",
    "    obj_2 = pickle.load(file_obj)\n",
    "    obj_3 = pickle.load(file_obj)\n",
    "\n",
    "print(obj_1)\n",
    "print(obj_2)\n",
    "print(obj_3)"
   ]
  },
  {
   "cell_type": "markdown",
   "id": "436de90d-e532-4acd-a02b-57b1044b184b",
   "metadata": {},
   "source": [
    "Weird!"
   ]
  }
 ],
 "metadata": {
  "kernelspec": {
   "display_name": "teaching",
   "language": "python",
   "name": "teaching"
  },
  "language_info": {
   "codemirror_mode": {
    "name": "ipython",
    "version": 3
   },
   "file_extension": ".py",
   "mimetype": "text/x-python",
   "name": "python",
   "nbconvert_exporter": "python",
   "pygments_lexer": "ipython3",
   "version": "3.11.3"
  }
 },
 "nbformat": 4,
 "nbformat_minor": 5
}