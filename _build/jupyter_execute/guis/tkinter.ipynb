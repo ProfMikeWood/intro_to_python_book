{
 "cells": [
  {
   "cell_type": "markdown",
   "id": "73ef0815",
   "metadata": {},
   "source": [
    "# Introduction to Tkinter"
   ]
  },
  {
   "cell_type": "markdown",
   "id": "9c7c86bd-3fdf-4a44-9a4e-1ca9e83966db",
   "metadata": {},
   "source": [
    "Author: Mike Wood\n",
    "\n",
    "Learning Objectives: By the end of this notebook, you should be able to:\n",
    "1. Explain the structure of a GUI contructed with Tkinter\n",
    "2. Construct a simple GUI with a Label"
   ]
  },
  {
   "cell_type": "markdown",
   "id": "9178e470-cf3b-408c-b367-c8d9c7162889",
   "metadata": {},
   "source": [
    "## The Tkinter Library\n",
    "To create graphic users interaces (GUIs) in Python, one option is to use the default tkinter package. Tkinter provides a python interface for the Tk - an open source widget toolkit for creating GUIs. Typically, tkinter is imported in the following manner:"
   ]
  },
  {
   "cell_type": "code",
   "execution_count": 1,
   "id": "b1fd96b6-fcc0-43c8-8f96-95a16d3704f3",
   "metadata": {},
   "outputs": [],
   "source": [
    "from tkinter import *\n",
    "from tkinter import ttk"
   ]
  },
  {
   "cell_type": "markdown",
   "id": "43248b26-022c-4659-a22a-f2df8a450a85",
   "metadata": {},
   "source": [
    "The import statement above implements the `ttk` widgets, overwriting those in the standard `tkinter` import."
   ]
  },
  {
   "cell_type": "markdown",
   "id": "6edacd65-6aba-48f4-885b-ca3eb423b257",
   "metadata": {},
   "source": [
    "## A Simple GUI\n",
    "To get a sense for how GUIs are constructed with `tkinter`, let's take a look at a simple example."
   ]
  },
  {
   "cell_type": "markdown",
   "id": "282847ee-3655-40fd-b7c2-abeac97c365e",
   "metadata": {},
   "source": [
    "```\n",
    "# this is a GUI to show a simple label\n",
    "\n",
    "# import tkinter\n",
    "from tkinter import *\n",
    "from tkinter import ttk\n",
    "\n",
    "# define a class called HeyThere\n",
    "class HeyThere:\n",
    "\n",
    "    # define an __init__ method with root as an argument\n",
    "    def __init__(self, root):\n",
    "\n",
    "        # add a title to the GUI\n",
    "        root.title(\"Greetings from Tkinter\")\n",
    "\n",
    "        # add a Label to the GUI\n",
    "        label = ttk.Label(root, text=\"What's Up\", width=30, justify='center')\n",
    "\n",
    "        # use the grid method to add the label to the GUI\n",
    "        label.grid(column=0, row=0)\n",
    "        \n",
    "\n",
    "# create a root Tk object\n",
    "root = Tk()\n",
    "\n",
    "# create a HeyThere object with the Tk root object as an argument\n",
    "HeyThere(root)\n",
    "\n",
    "# call the mainloop method on the Tk root object\n",
    "root.mainloop()\n",
    "```"
   ]
  },
  {
   "cell_type": "markdown",
   "id": "0a045895-765f-4678-9c5f-b6e2362d344c",
   "metadata": {},
   "source": [
    "The above script creates the following GUI:"
   ]
  },
  {
   "cell_type": "raw",
   "id": "96ad387b-e05d-4d4a-95a2-84c620eedc39",
   "metadata": {},
   "source": [
    "<img src=\"../images/hey_there.png\" alt=\"Screenshot of a GUI with a label that reads 'What's Up'\" width=\"200\"/>"
   ]
  },
  {
   "cell_type": "markdown",
   "id": "10d3704b-56df-44e3-a91c-1e58ebd338b6",
   "metadata": {},
   "source": [
    "```{image} ../images/hey_there.png\n",
    ":alt: Screenshot of a GUI with a label that reads 'What's Up'\n",
    ":align: center\n",
    "```"
   ]
  },
  {
   "cell_type": "markdown",
   "id": "2c444d6c-ca23-4a64-9688-a32073e15b0c",
   "metadata": {},
   "source": [
    "The `hey_there.py` script provides an outline to a simple GUI – a window with a title and a single page that displays some text. This is a very basic GUI but it provides a look at the main features of a GUI in Tkinter:\n",
    "\n",
    "- The `Tk` object is the main “window” of the GUI. In the above example, this is named `root` as is typically done in `tkinter` GUIs.\n",
    "- A class defines the functionality of the GUI including its appearance, organization, and actions. In the above example, the class is called `HeyThere` and is implemented with an  `__init__` method which is passed the `Tk` object as an argument.\n",
    "- The `__init__` method of the class defines the organization of the \"window\" and what's inside. In the above example, this method defines a title for the window and adds one *Label* with the text \"What's Up\".\n",
    "- A `mainloop` is implemented on the `Tk` object. This is an infinite loop that continues updating the application while it is active. When the user interacts with the GUI, a trip through this loop will trigger actions within the GUI. In this example, there are no actions available to the user except to close, expand, or minimize the window."
   ]
  },
  {
   "cell_type": "markdown",
   "id": "f1487585-b956-4800-938d-06fac48cd419",
   "metadata": {},
   "source": [
    "This example provides a quick look at the main elements of a `tkinter` GUI. We'll take a look at how to build in some functionality to our GUI in the next notebook."
   ]
  }
 ],
 "metadata": {
  "kernelspec": {
   "display_name": "teaching",
   "language": "python",
   "name": "teaching"
  },
  "language_info": {
   "codemirror_mode": {
    "name": "ipython",
    "version": 3
   },
   "file_extension": ".py",
   "mimetype": "text/x-python",
   "name": "python",
   "nbconvert_exporter": "python",
   "pygments_lexer": "ipython3",
   "version": "3.11.3"
  }
 },
 "nbformat": 4,
 "nbformat_minor": 5
}