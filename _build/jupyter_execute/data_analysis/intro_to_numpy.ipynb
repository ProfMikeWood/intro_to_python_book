{
 "cells": [
  {
   "cell_type": "markdown",
   "id": "49e61e1c",
   "metadata": {},
   "source": [
    "# Introduction to NumPy"
   ]
  },
  {
   "cell_type": "markdown",
   "id": "0c3a7daa-0a0a-481c-974f-6acd970606db",
   "metadata": {},
   "source": [
    "Author: Mike Wood\n",
    "\n",
    "Learning objectives: By the end of this notebook, you should be able to:\n",
    "1. Access standard mathemtical functions in the NumPy library\n",
    "2. Generate arrays and use methods to describe array shapes and sizes\n",
    "3. Run computations using arrays in Numpy"
   ]
  },
  {
   "cell_type": "markdown",
   "id": "059d3e86-c87d-411e-bd7e-63f26b727795",
   "metadata": {},
   "source": [
    "**Import the NumPy library**"
   ]
  },
  {
   "cell_type": "code",
   "execution_count": 1,
   "id": "cf1fd9a0-0e7b-48c2-af2f-4c76fc006348",
   "metadata": {},
   "outputs": [],
   "source": [
    "# import the numpy library using the np alias\n",
    "import numpy as np"
   ]
  },
  {
   "cell_type": "markdown",
   "id": "0d4b0f71",
   "metadata": {},
   "source": [
    "## Mathematical Functions in NumPy"
   ]
  },
  {
   "cell_type": "markdown",
   "id": "acf1e5a8",
   "metadata": {},
   "source": [
    "The numpy library provides all of the standard mathematical functions you might come across in your scientific calculations.\n",
    "\n",
    "For example, `numpy` has some simple algebraic functions:"
   ]
  },
  {
   "cell_type": "code",
   "execution_count": 2,
   "id": "792f93bd-72e6-43bf-bdb0-47005ba271a7",
   "metadata": {},
   "outputs": [
    {
     "name": "stdout",
     "output_type": "stream",
     "text": [
      "x^2 = 81\n",
      "sqrt(x) = 3.0\n",
      "10^x = 1000000000\n"
     ]
    }
   ],
   "source": [
    "# define a variable x\n",
    "x = 9\n",
    "\n",
    "# compute x^2\n",
    "x_squared = np.power(x,2)\n",
    "print('x^2 =', x_squared)\n",
    "\n",
    "# compute the square root of x\n",
    "square_root_x = np.sqrt(x)\n",
    "print('sqrt(x) =', square_root_x)\n",
    "\n",
    "# compute 10 to the xth power\n",
    "ten_raised_to_the_x = 10**x\n",
    "print('10^x =',ten_raised_to_the_x)"
   ]
  },
  {
   "cell_type": "markdown",
   "id": "13f37bc3",
   "metadata": {},
   "source": [
    "Numpy also has the standard trigonometric functions:"
   ]
  },
  {
   "cell_type": "code",
   "execution_count": 3,
   "id": "7203835d-827e-4d02-b519-e4712954cf88",
   "metadata": {},
   "outputs": [
    {
     "name": "stdout",
     "output_type": "stream",
     "text": [
      "sin(theta) =  0.49999999999999994\n",
      "cos(theta) =  0.8660254037844387\n",
      "tan(theta) =  0.5773502691896256\n"
     ]
    }
   ],
   "source": [
    "# define a variable theta\n",
    "theta = np.pi/6\n",
    "\n",
    "# compute the value of sin(theta)\n",
    "sin_theta = np.sin(theta)\n",
    "print('sin(theta) = ', sin_theta)\n",
    "\n",
    "# compute the value of cos(theta)\n",
    "cos_theta = np.cos(theta)\n",
    "print('cos(theta) = ', cos_theta)\n",
    "\n",
    "# compute the value of tan(theta)\n",
    "tan_theta = np.tan(theta)\n",
    "print('tan(theta) = ', tan_theta)"
   ]
  },
  {
   "cell_type": "markdown",
   "id": "e4686fbb",
   "metadata": {},
   "source": [
    "Finally, numpy has functions for exponentials and logarithms:"
   ]
  },
  {
   "cell_type": "code",
   "execution_count": 4,
   "id": "14fed448",
   "metadata": {},
   "outputs": [
    {
     "name": "stdout",
     "output_type": "stream",
     "text": [
      "2.718281828459045\n",
      "e^1 = 2.718281828459045\n",
      "e^2 = 7.38905609893065\n",
      "log(z) = 1.0\n",
      "log10(z) = 0.4342944819032518\n",
      "log10(10^3) = 3.0\n"
     ]
    }
   ],
   "source": [
    "# define a number with the value e\n",
    "z = np.e\n",
    "\n",
    "# print the value to check\n",
    "print(z)\n",
    "\n",
    "# compute the exponential of 1 and the exponential of 2\n",
    "# in otherwords, e^1 and e^2\n",
    "print('e^1 =',np.exp(1))\n",
    "print('e^2 =',np.exp(2))\n",
    "\n",
    "# compute the logarithm of e \n",
    "#   - what is the base of the logarithm?\n",
    "#   - what is the other name for this logarithm?\n",
    "print('log(z) =',np.log(z))\n",
    "\n",
    "# compute the logarithm with the base 10\n",
    "print('log10(z) =',np.log10(z))\n",
    "print('log10(10^3) =',np.log10(1e3))"
   ]
  },
  {
   "cell_type": "markdown",
   "id": "de66a7c7-974b-4d79-875c-d5225dae0a71",
   "metadata": {},
   "source": [
    "### &#x1F914; Mini-Exercise\n",
    "Goal: Estimate the value of `sin` using a polynomial. Then, compute the error from the true value of sin.\n",
    "\n",
    "The sine of a number can be estimated with the first four terms of its \"Taylor expansion\" as:\n",
    "$$ sin(x) \\approx x - \\frac{x^3}{6} + \\frac{x^5}{120} - \\frac{x^7}{5040} $$\n",
    "\n",
    "Compute sin for a given value of $x$ using this approximatation. Then, calculate the error from the true value of `sin`"
   ]
  },
  {
   "cell_type": "code",
   "execution_count": 5,
   "id": "3f1a2140-6296-4403-8b96-af7f9748f7b6",
   "metadata": {},
   "outputs": [
    {
     "name": "stdout",
     "output_type": "stream",
     "text": [
      "0.7071064695751781\n",
      "0.7071067811865475\n",
      "error: -3.116113693746314e-07\n"
     ]
    }
   ],
   "source": [
    "# declare a variable x and give it a value between -2 and 2\n",
    "x = np.pi/4\n",
    "\n",
    "# compute and print the sin approximation\n",
    "sin_approx = x - x**3/6 + x**5/120 - x**7/5040\n",
    "print(sin_approx)\n",
    "\n",
    "# compute the true value of sin\n",
    "sin_true = np.sin(x)\n",
    "print(sin_true)\n",
    "\n",
    "# compute the error between your approximated value and the true value\n",
    "print('error:',sin_approx-sin_true)\n"
   ]
  },
  {
   "cell_type": "markdown",
   "id": "600fe472-e0ae-402c-89a7-9391553192de",
   "metadata": {},
   "source": [
    "## Arrays in NumPy\n",
    "Calculations on individiual numbers is at the heart of the `numpy` package. However, NumPy is much more powerful than that. We can do rapid calculations on large collections of values in when we operate with *arrays*"
   ]
  },
  {
   "cell_type": "markdown",
   "id": "b6db7b1f",
   "metadata": {},
   "source": [
    "### Defining arrays\n",
    "Arrays can be defined in a variety of ways as follows:"
   ]
  },
  {
   "cell_type": "code",
   "execution_count": 6,
   "id": "307477a8-cbbc-40c9-9641-bae3d3387d30",
   "metadata": {},
   "outputs": [
    {
     "name": "stdout",
     "output_type": "stream",
     "text": [
      "x [ 1  2  3  4  5  6  7  8  9 10]\n",
      "y [10 11 12 13 14]\n",
      "A [[1 2]\n",
      " [3 4]]\n"
     ]
    }
   ],
   "source": [
    "# define an array using a range\n",
    "x = np.arange(1,11)\n",
    "print('x', x)\n",
    "\n",
    "# define an array by wrapping a list with the numpy array method\n",
    "y = np.array([10,11,12,13,14])\n",
    "print('y',y)\n",
    "\n",
    "# define an array as a list of lists of equal length\n",
    "A = np.array([[1, 2], [3, 4]])\n",
    "print('A',A)"
   ]
  },
  {
   "cell_type": "markdown",
   "id": "2c40ec15",
   "metadata": {},
   "source": [
    "Once arrays are created, its helpful to know their shapes and sizes::"
   ]
  },
  {
   "cell_type": "code",
   "execution_count": 7,
   "id": "a6c493de-ece9-4237-904a-87e7b9b19459",
   "metadata": {},
   "outputs": [
    {
     "name": "stdout",
     "output_type": "stream",
     "text": [
      "shape of x: (10,)\n",
      "size of x: 10\n",
      "shape of y: (5,)\n",
      "size of y: 5\n",
      "shape of A: (2, 2)\n",
      "size of A: 4\n"
     ]
    }
   ],
   "source": [
    "# print the shape of x\n",
    "print('shape of x:', np.shape(x))\n",
    "\n",
    "# print the size of x\n",
    "print('size of x:', np.size(x))\n",
    "\n",
    "# print the shape of y\n",
    "print('shape of y:', np.shape(y))\n",
    "\n",
    "# print the size of y\n",
    "print('size of y:', np.size(y))\n",
    "\n",
    "# print the shape of A\n",
    "print('shape of A:', np.shape(A))\n",
    "\n",
    "# print the size of A\n",
    "print('size of A:', np.size(A))"
   ]
  },
  {
   "cell_type": "markdown",
   "id": "8e40f4a0",
   "metadata": {},
   "source": [
    "### Calculations with One Array\n",
    "When working with arrays, calculations can be carried out *elementwise* using the same functions as above. Try the following functions using the array `x` defined in the previous cell:"
   ]
  },
  {
   "cell_type": "code",
   "execution_count": 8,
   "id": "0321dbba",
   "metadata": {},
   "outputs": [
    {
     "name": "stdout",
     "output_type": "stream",
     "text": [
      "x_squared [  1   4   9  16  25  36  49  64  81 100]\n",
      "sin(y) [-0.54402111 -0.99999021 -0.53657292  0.42016704  0.99060736]\n",
      "A^(x) [[ 2.71828183  7.3890561 ]\n",
      " [20.08553692 54.59815003]]\n",
      "mean of x: 5.5\n",
      "sum of y: 60\n"
     ]
    }
   ],
   "source": [
    "# compute the square of all elements in x\n",
    "x_squared = x**2\n",
    "print('x_squared', x_squared)\n",
    "\n",
    "# compute the sin of all elements in y\n",
    "sin_y = np.sin(y)\n",
    "print('sin(y)', sin_y)\n",
    "\n",
    "# compute the exponential of all elements in A\n",
    "A_x = np.exp(A)\n",
    "print('A^(x)', A_x)\n",
    "\n",
    "# compute the mean of all elements in x\n",
    "print('mean of x:',np.mean(x))\n",
    "\n",
    "# compute the sum of all elements in y\n",
    "print('sum of y:',np.sum(y))"
   ]
  },
  {
   "cell_type": "markdown",
   "id": "d6404ed5",
   "metadata": {},
   "source": [
    "### Calculations with multiple arrays\n",
    "When working with arrays, calculations can be carried out *elementwise*"
   ]
  },
  {
   "cell_type": "code",
   "execution_count": 9,
   "id": "e1dbcf85-b7f1-4400-9a42-6d9c6839068f",
   "metadata": {},
   "outputs": [
    {
     "name": "stdout",
     "output_type": "stream",
     "text": [
      "[11 16 16 20 23]\n",
      "[ 10  55  48  91 126]\n"
     ]
    }
   ],
   "source": [
    "# define a new array z that is the same length as the array y above\n",
    "z = np.array([1,5,4,7,9])\n",
    "\n",
    "# compute the sum of arrays y and z\n",
    "print(y+z)\n",
    "\n",
    "# compute the product of arrays y and z\n",
    "print(y*z)"
   ]
  },
  {
   "cell_type": "markdown",
   "id": "5f6b598e-2133-489e-80e5-0a705256fd91",
   "metadata": {},
   "source": [
    "### &#x1F914; Mini-Exercise\n",
    "Goal: Compute the root mean square error between a list of estimated and true values."
   ]
  },
  {
   "cell_type": "markdown",
   "id": "6b3a4e27",
   "metadata": {},
   "source": [
    "The root mean square error (RMSE) is calculated as\n",
    "\n",
    "$$ RMSE = \\sqrt{\\frac{1}{N} \\sum_{i=1}^{N} (e_i - t_i)^2} $$\n",
    "\n",
    "where $N$ is the number of points, $e_i$ is the $i$th estimated value, and $t_i$ is the $i$th true value.\n",
    "\n",
    "Repeat your calculation for the approximation to `sin(x)` now for 100 values between -1 and 1. Compute the RMSE between your approximation and the true value, calculated with `np.sin(x)`"
   ]
  },
  {
   "cell_type": "code",
   "execution_count": 10,
   "id": "dc8ff325-9da6-4e04-90b7-f3e951aaf910",
   "metadata": {},
   "outputs": [
    {
     "name": "stdout",
     "output_type": "stream",
     "text": [
      "6.843412938785241e-07\n"
     ]
    }
   ],
   "source": [
    "# define an array x with values between -1 and 1\n",
    "x = np.linspace(-1,1,100)\n",
    "\n",
    "# compute the estimate value of sin for each of these values\n",
    "# using functions on the array\n",
    "sin_approx = x - np.power(x,3)/6 + np.power(x,5)/120 - np.power(x,7)/5040\n",
    "\n",
    "# compute the true value of sin for each value in x\n",
    "sin_true = np.sin(x)\n",
    "\n",
    "# compute the root mean square error for the true vs estimate value\n",
    "RMSE = np.sqrt(np.mean((sin_true-sin_approx)**2))\n",
    "print(RMSE)"
   ]
  }
 ],
 "metadata": {
  "kernelspec": {
   "display_name": "cs122",
   "language": "python",
   "name": "python3"
  },
  "language_info": {
   "codemirror_mode": {
    "name": "ipython",
    "version": 3
   },
   "file_extension": ".py",
   "mimetype": "text/x-python",
   "name": "python",
   "nbconvert_exporter": "python",
   "pygments_lexer": "ipython3",
   "version": "3.11.3"
  }
 },
 "nbformat": 4,
 "nbformat_minor": 5
}